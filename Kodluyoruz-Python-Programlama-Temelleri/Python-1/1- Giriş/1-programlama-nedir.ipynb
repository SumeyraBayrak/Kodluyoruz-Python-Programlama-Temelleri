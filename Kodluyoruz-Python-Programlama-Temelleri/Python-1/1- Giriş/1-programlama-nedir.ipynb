{
 "cells": [
  {
   "cell_type": "markdown",
   "id": "dfd8c1de-7435-4c91-b725-71024a71b2d5",
   "metadata": {},
   "source": [
    "# Programlama Nedir ?"
   ]
  },
  {
   "cell_type": "markdown",
   "id": "6ccf1a44-c43e-4a1a-bd59-d2218dc260c6",
   "metadata": {},
   "source": [
    "<span style=\"font-family: 'Arial', sans-serif; font-size: 16px;\">Programlama, belirli girdileri alarak istenilen çıktıları üreten bir süreçtir. Bu süreç, bilgisayarın anlayabileceği bir dilde yazılan talimatlar aracılığıyla gerçekleştirilir. Bu talimatlar, verilen problemin çözümünü sağlar ve çeşitli endüstrilerde kullanılır.</span>"
   ]
  },
  {
   "cell_type": "markdown",
   "id": "e8521355-cc05-4ba5-b888-9e3602401428",
   "metadata": {},
   "source": [
    "<br>\n",
    "<img src=\"https://raw.githubusercontent.com/Kodluyoruz/taskforce/main/python-basics/programlama-nedir/figures/input_ouput.png\" alt=\"Programlama Nedir\" style=\"width:600px;height:300px; margin:auto;\">\n",
    "<br>"
   ]
  },
  {
   "cell_type": "markdown",
   "id": "92fa071d-0dbb-4f70-8c40-4ef0d6d8faf1",
   "metadata": {},
   "source": [
    "\n",
    "\n",
    "\n",
    "\n",
    "\n",
    "\n",
    "<span style=\"font-family: 'Arial', sans-serif; font-size: 16px;\">Programlamada yapacağımız şey yukarıdaki resimde gördüğünüz karenin içinde neler olacağını tanımlamak. Ne kadar komplike bir problem ile uğraşıyorsanız uğraşın yapacağımız şey hep aynı olacak. Girdileri almak ve bu girdileri işleyerek istenilen çıktıları üretmek için komutlar yazmaktır. Programlama, bu süreci tanımlayan ve yürüten bir araçtır.\n",
    "</span>"
   ]
  }
 ],
 "metadata": {
  "kernelspec": {
   "display_name": "Python 3 (ipykernel)",
   "language": "python",
   "name": "python3"
  },
  "language_info": {
   "codemirror_mode": {
    "name": "ipython",
    "version": 3
   },
   "file_extension": ".py",
   "mimetype": "text/x-python",
   "name": "python",
   "nbconvert_exporter": "python",
   "pygments_lexer": "ipython3",
   "version": "3.11.7"
  }
 },
 "nbformat": 4,
 "nbformat_minor": 5
}
