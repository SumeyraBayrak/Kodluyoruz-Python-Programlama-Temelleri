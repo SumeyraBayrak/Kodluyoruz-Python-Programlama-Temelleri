{
 "cells": [
  {
   "cell_type": "markdown",
   "id": "da91cab5-47df-4276-9e6e-7461d541e09c",
   "metadata": {},
   "source": [
    "# Temel Veri Tipleri (Basic Data Types)"
   ]
  },
  {
   "cell_type": "markdown",
   "id": "9b7873ca-5efc-4e5b-a14e-017539a5c85d",
   "metadata": {},
   "source": [
    "<span style=\"font-family: 'Arial', sans-serif; font-size: 16px;\">Bilgisayarlar belirli girdilerle işlem yapabilmek için bu girdileri anlayabilecekleri bir formatta ifade etmek ve saklamak zorundadırlar. Bu nedenle, programlamaya başlamadan önce, Python gibi bir programlama dilindeki temel veri tiplerini öğrenmek önemlidir. Temel veri tipleri, bilgisayarın farklı türdeki verileri temsil etmesine ve işlemesine olanak tanır.\n",
    "</span>"
   ]
  },
  {
   "cell_type": "markdown",
   "id": "9ca2c9c4-0c64-4c14-9fb2-6a92f61d4c6e",
   "metadata": {},
   "source": [
    "## 1-Integers (tam sayılar)"
   ]
  },
  {
   "cell_type": "markdown",
   "id": "9e1f7e78-0a7b-4f27-b74c-051bcfd3cefc",
   "metadata": {},
   "source": [
    "<span style=\"font-family: 'Arial', sans-serif; font-size: 16px;\">Integers (tam sayılar), küsuratı olmayan ve pozitif veya negatif bütün sayıları temsil eden veri tipleridir. Bu veri tipleri, matematikteki tam sayı kavramına karşılık gelir. Örneğin, 1, 2, 3, 4 gibi pozitif tam sayılar ve -1, -2, -3 gibi negatif tam sayılar integers veri tipine örnektir</span>"
   ]
  },
  {
   "cell_type": "code",
   "execution_count": 4,
   "id": "022bc2d1-43d2-4a9d-a782-aac3a2c1c0cc",
   "metadata": {},
   "outputs": [
    {
     "data": {
      "text/plain": [
       "3"
      ]
     },
     "execution_count": 4,
     "metadata": {},
     "output_type": "execute_result"
    }
   ],
   "source": [
    "3"
   ]
  },
  {
   "cell_type": "code",
   "execution_count": 5,
   "id": "abb5fd32-1e01-4c17-a15b-79a307e98702",
   "metadata": {},
   "outputs": [
    {
     "data": {
      "text/plain": [
       "-3"
      ]
     },
     "execution_count": 5,
     "metadata": {},
     "output_type": "execute_result"
    }
   ],
   "source": [
    "-3"
   ]
  },
  {
   "cell_type": "markdown",
   "id": "581d956f-3f20-475a-a516-5d7926ea1e76",
   "metadata": {},
   "source": [
    "<span style=\"font-family: 'Arial', sans-serif; font-size: 16px;\">Integers, genellikle matematiksel hesaplamalarda ve programlamada sıklıkla kullanılır. Temel aritmetik işlemleri gerçekleştirmek için idealdirler.</span>"
   ]
  },
  {
   "cell_type": "markdown",
   "id": "1313bd2a-306d-4e97-87e3-cb700e1af809",
   "metadata": {},
   "source": [
    "<span style=\"font-family: 'Arial', sans-serif; font-size: 16px;\">**Toplama İşlemi**</span>"
   ]
  },
  {
   "cell_type": "code",
   "execution_count": 6,
   "id": "a5d4b7b2-caac-4c04-aaa9-3d0fd764d2f7",
   "metadata": {},
   "outputs": [
    {
     "data": {
      "text/plain": [
       "10"
      ]
     },
     "execution_count": 6,
     "metadata": {},
     "output_type": "execute_result"
    }
   ],
   "source": [
    "2 + 8"
   ]
  },
  {
   "cell_type": "markdown",
   "id": "04f035a4-db90-49b7-a283-b58be806ce8e",
   "metadata": {},
   "source": [
    "<span style=\"font-family: 'Arial', sans-serif; font-size: 16px;\">**Çıkarma İşlemi**</span>"
   ]
  },
  {
   "cell_type": "code",
   "execution_count": 8,
   "id": "a93fa2cb-ed69-469d-b087-128ebaea7195",
   "metadata": {},
   "outputs": [
    {
     "data": {
      "text/plain": [
       "8"
      ]
     },
     "execution_count": 8,
     "metadata": {},
     "output_type": "execute_result"
    }
   ],
   "source": [
    "16 - 8"
   ]
  },
  {
   "cell_type": "markdown",
   "id": "0acf9665-9d64-477d-99d5-4b950f90ecac",
   "metadata": {},
   "source": [
    "<span style=\"font-family: 'Arial', sans-serif; font-size: 16px;\">**Çarpma İşlemi**</span>"
   ]
  },
  {
   "cell_type": "code",
   "execution_count": 10,
   "id": "cfbc8758-562d-4e84-acf8-d8a5f6881f2a",
   "metadata": {},
   "outputs": [
    {
     "data": {
      "text/plain": [
       "40"
      ]
     },
     "execution_count": 10,
     "metadata": {},
     "output_type": "execute_result"
    }
   ],
   "source": [
    "5 * 8"
   ]
  },
  {
   "cell_type": "markdown",
   "id": "70607a8d-9fc6-405e-8580-a6a0e0149ec0",
   "metadata": {},
   "source": [
    "## 2-Floats (Kesirli Sayırlar)"
   ]
  },
  {
   "cell_type": "markdown",
   "id": "c59514cd-17e2-4b05-87eb-62da4de34016",
   "metadata": {},
   "source": [
    "<span style=\"font-family: 'Arial', sans-serif; font-size: 16px;\">Float'lar, ondalık kısmı olan sayıları temsil eden veri tipleridir. Bu sayılar virgülle ayrılan kesirli sayıları ifade eder. Örneğin, 1.3, 2.4, 3.3, 4.6 gibi sayılar float veri tipine örnektir. Ayrıca, virgülden sonra 0 olan sayılar da float olarak kabul edilir. Örneğin, 2.0 gibi.</span>"
   ]
  },
  {
   "cell_type": "code",
   "execution_count": 11,
   "id": "082dcec3-baad-4ddb-bf7b-9c7bb48ead9c",
   "metadata": {},
   "outputs": [
    {
     "data": {
      "text/plain": [
       "2.5"
      ]
     },
     "execution_count": 11,
     "metadata": {},
     "output_type": "execute_result"
    }
   ],
   "source": [
    "2.5"
   ]
  },
  {
   "cell_type": "code",
   "execution_count": 12,
   "id": "3c614a3b-3350-4813-8080-e89213268d31",
   "metadata": {},
   "outputs": [
    {
     "data": {
      "text/plain": [
       "4.0"
      ]
     },
     "execution_count": 12,
     "metadata": {},
     "output_type": "execute_result"
    }
   ],
   "source": [
    "4.0"
   ]
  },
  {
   "cell_type": "code",
   "execution_count": 13,
   "id": "08a5290b-fe46-4740-b3c9-3a699d84847b",
   "metadata": {},
   "outputs": [
    {
     "data": {
      "text/plain": [
       "-3.5"
      ]
     },
     "execution_count": 13,
     "metadata": {},
     "output_type": "execute_result"
    }
   ],
   "source": [
    "-3.5"
   ]
  },
  {
   "cell_type": "markdown",
   "id": "ee7cbd23-5bc7-467e-b4fd-947463fe35e9",
   "metadata": {},
   "source": [
    "<span style=\"font-family: 'Arial', sans-serif; font-size: 16px;\">Float'lar, aynı zamanda tamsayılar gibi aritmetik işlemlerde de kullanılabilirler.</span>"
   ]
  },
  {
   "cell_type": "markdown",
   "id": "af025b7f-c8e7-4e70-ac3b-5ca81c5b0cd7",
   "metadata": {},
   "source": [
    "<span style=\"font-family: 'Arial', sans-serif; font-size: 16px;\">**Toplama İşlemi**</span>"
   ]
  },
  {
   "cell_type": "code",
   "execution_count": 14,
   "id": "0e95878c-e4f7-4dc6-9da3-1d764d40be2f",
   "metadata": {},
   "outputs": [
    {
     "data": {
      "text/plain": [
       "3.8"
      ]
     },
     "execution_count": 14,
     "metadata": {},
     "output_type": "execute_result"
    }
   ],
   "source": [
    " 2.5 + 1.3 "
   ]
  },
  {
   "cell_type": "markdown",
   "id": "4044e2db-4df2-490a-b1c0-9f9d4595ffe2",
   "metadata": {},
   "source": [
    "<span style=\"font-family: 'Arial', sans-serif; font-size: 16px;\">**Çıkarma İşlemi**</span>"
   ]
  },
  {
   "cell_type": "code",
   "execution_count": 23,
   "id": "7869ab77-f1d8-47af-a43a-0dbd42db598d",
   "metadata": {},
   "outputs": [
    {
     "data": {
      "text/plain": [
       "4.199999999999999"
      ]
     },
     "execution_count": 23,
     "metadata": {},
     "output_type": "execute_result"
    }
   ],
   "source": [
    "6.6 - 2.4"
   ]
  },
  {
   "cell_type": "markdown",
   "id": "cdca5366-83ee-4203-a099-b60668711e5e",
   "metadata": {},
   "source": [
    "<span style=\"font-family: 'Arial', sans-serif; font-size: 16px;\">**Çarpma İşlemi**</span>"
   ]
  },
  {
   "cell_type": "code",
   "execution_count": 24,
   "id": "7aa0dba0-f2e7-462a-ade6-0afceac08017",
   "metadata": {},
   "outputs": [
    {
     "data": {
      "text/plain": [
       "60.0"
      ]
     },
     "execution_count": 24,
     "metadata": {},
     "output_type": "execute_result"
    }
   ],
   "source": [
    "7.5 * 8"
   ]
  },
  {
   "cell_type": "markdown",
   "id": "2828550a-38cf-4a18-a164-e8efbb58d876",
   "metadata": {},
   "source": [
    "## 3-Boolean"
   ]
  },
  {
   "cell_type": "markdown",
   "id": "05b16dc9-b893-4b03-91f6-c94458d334a6",
   "metadata": {},
   "source": [
    "<span style=\"font-family: 'Arial', sans-serif; font-size: 16px;\">Boolean, bir şeyin doğru (True) veya yanlış (False) olduğunu belirten bir veri tipidir. Genellikle mantıksal kararların alınmasında ve kontrol yapılarının (if-else) çalışmasında kullanılır.</span>"
   ]
  },
  {
   "cell_type": "code",
   "execution_count": 26,
   "id": "bb40af0f-7a0a-41d0-9fda-04a8a3b65adc",
   "metadata": {},
   "outputs": [
    {
     "data": {
      "text/plain": [
       "True"
      ]
     },
     "execution_count": 26,
     "metadata": {},
     "output_type": "execute_result"
    }
   ],
   "source": [
    "True"
   ]
  },
  {
   "cell_type": "code",
   "execution_count": 27,
   "id": "afc98c18-9350-4400-8b78-0e6d178f32b4",
   "metadata": {},
   "outputs": [
    {
     "data": {
      "text/plain": [
       "False"
      ]
     },
     "execution_count": 27,
     "metadata": {},
     "output_type": "execute_result"
    }
   ],
   "source": [
    "False"
   ]
  },
  {
   "cell_type": "code",
   "execution_count": 28,
   "id": "1c7fb930-03bb-4b17-ae3c-bbedc21cfd49",
   "metadata": {},
   "outputs": [
    {
     "data": {
      "text/plain": [
       "False"
      ]
     },
     "execution_count": 28,
     "metadata": {},
     "output_type": "execute_result"
    }
   ],
   "source": [
    "5 > 10"
   ]
  },
  {
   "cell_type": "code",
   "execution_count": 29,
   "id": "f59696de-59be-494f-a5fb-a586beb8d6e8",
   "metadata": {},
   "outputs": [
    {
     "data": {
      "text/plain": [
       "True"
      ]
     },
     "execution_count": 29,
     "metadata": {},
     "output_type": "execute_result"
    }
   ],
   "source": [
    "7 < 9"
   ]
  },
  {
   "cell_type": "markdown",
   "id": "bd52fb49-8b76-4833-b559-3146e27f9f64",
   "metadata": {},
   "source": [
    "<span style=\"font-family: 'Arial', sans-serif; font-size: 24px;\">**type()**</span>"
   ]
  },
  {
   "cell_type": "markdown",
   "id": "57109241-8f36-4e62-85c0-4e4315fc8417",
   "metadata": {},
   "source": [
    "<span style=\"font-family: 'Arial', sans-serif; font-size: 16px;\">`type()` fonksiyonu bir nesnenin veri tipini belirlemek için kullanılır.</span>"
   ]
  },
  {
   "cell_type": "code",
   "execution_count": 31,
   "id": "0ee1f022-641a-46c6-8c8e-a4ef2b2acd9f",
   "metadata": {},
   "outputs": [
    {
     "data": {
      "text/plain": [
       "int"
      ]
     },
     "execution_count": 31,
     "metadata": {},
     "output_type": "execute_result"
    }
   ],
   "source": [
    "type(2)"
   ]
  },
  {
   "cell_type": "code",
   "execution_count": 32,
   "id": "8dfebcab-6f74-4aa0-8965-03e11e7428a3",
   "metadata": {},
   "outputs": [
    {
     "data": {
      "text/plain": [
       "float"
      ]
     },
     "execution_count": 32,
     "metadata": {},
     "output_type": "execute_result"
    }
   ],
   "source": [
    "type(2.3)"
   ]
  },
  {
   "cell_type": "code",
   "execution_count": 33,
   "id": "5665dfb3-f893-4f58-bd12-b89ecbe7b5f4",
   "metadata": {},
   "outputs": [
    {
     "data": {
      "text/plain": [
       "bool"
      ]
     },
     "execution_count": 33,
     "metadata": {},
     "output_type": "execute_result"
    }
   ],
   "source": [
    "type(True)"
   ]
  },
  {
   "cell_type": "markdown",
   "id": "9a466bb2-2896-4529-9294-d52dcb5fdbe8",
   "metadata": {},
   "source": [
    "<span style=\"font-family: 'Arial', sans-serif; font-size: 24px;\">**Type Casting (Tip Dönüştürmesi)**</span>"
   ]
  },
  {
   "cell_type": "markdown",
   "id": "17ecf920-d6f0-4103-994c-b49c9614a3a6",
   "metadata": {},
   "source": [
    "<span style=\"font-family: 'Arial', sans-serif; font-size: 16px;\">Python'da tip dönüştürme, bir veri tipini başka bir veri tipine dönüştürme işlemidir. Örneğin, bir float sayıyı tam sayıya veya tam sayıyı float'a dönüştürmek gibi. Bu işlem için `int()`, `float()` ve `bool()` gibi fonksiyonlar kullanılır.</span>"
   ]
  },
  {
   "cell_type": "code",
   "execution_count": 35,
   "id": "16450c96-c573-411d-888d-11316b52a9c3",
   "metadata": {},
   "outputs": [
    {
     "data": {
      "text/plain": [
       "2"
      ]
     },
     "execution_count": 35,
     "metadata": {},
     "output_type": "execute_result"
    }
   ],
   "source": [
    "int(2.4) #Burada olan işlem sayıyı yuvarlama işlemi değil, sadece tam kısmını alıyoruz"
   ]
  },
  {
   "cell_type": "code",
   "execution_count": 36,
   "id": "49ad648a-704b-4915-a9d3-4d0d62339acb",
   "metadata": {},
   "outputs": [
    {
     "data": {
      "text/plain": [
       "2"
      ]
     },
     "execution_count": 36,
     "metadata": {},
     "output_type": "execute_result"
    }
   ],
   "source": [
    "int(2.9) #Burada olan işlem sayıyı yuvarlama işlemi değil, sadece tam kısmını alıyoruz"
   ]
  },
  {
   "cell_type": "code",
   "execution_count": 37,
   "id": "2c0c78f5-d3ce-4af8-8b01-e90c73024ff0",
   "metadata": {},
   "outputs": [
    {
     "data": {
      "text/plain": [
       "2.0"
      ]
     },
     "execution_count": 37,
     "metadata": {},
     "output_type": "execute_result"
    }
   ],
   "source": [
    "float(2) # tam sayı olan 2'yi ondalık kısmı 0 olan bir float'a dönüştürmek için kullanılır."
   ]
  },
  {
   "cell_type": "code",
   "execution_count": 38,
   "id": "b0ec9c48-5309-44aa-a82a-432eaa89d8a1",
   "metadata": {},
   "outputs": [
    {
     "data": {
      "text/plain": [
       "False"
      ]
     },
     "execution_count": 38,
     "metadata": {},
     "output_type": "execute_result"
    }
   ],
   "source": [
    "bool(1) #bool() fonksiyonu, sıfırdan farklı olan her değeri True (doğru) olarak değerlendirir."
   ]
  },
  {
   "cell_type": "code",
   "execution_count": 41,
   "id": "04646658-ead1-4ab5-9035-3a8179834623",
   "metadata": {},
   "outputs": [
    {
     "data": {
      "text/plain": [
       "True"
      ]
     },
     "execution_count": 41,
     "metadata": {},
     "output_type": "execute_result"
    }
   ],
   "source": [
    "bool(-5) # (-5)'in sıfırdan farklı bir sayı olduğu için True (doğru) olarak değerlendirilir."
   ]
  },
  {
   "cell_type": "code",
   "execution_count": 42,
   "id": "e432e1ba-61fd-49d2-99f2-60c9c908a712",
   "metadata": {},
   "outputs": [
    {
     "data": {
      "text/plain": [
       "False"
      ]
     },
     "execution_count": 42,
     "metadata": {},
     "output_type": "execute_result"
    }
   ],
   "source": [
    "bool(0) #0 değerini False (yanlış) olarak dönüştürür, çünkü 0 sıfırdır."
   ]
  }
 ],
 "metadata": {
  "kernelspec": {
   "display_name": "Python 3 (ipykernel)",
   "language": "python",
   "name": "python3"
  },
  "language_info": {
   "codemirror_mode": {
    "name": "ipython",
    "version": 3
   },
   "file_extension": ".py",
   "mimetype": "text/x-python",
   "name": "python",
   "nbconvert_exporter": "python",
   "pygments_lexer": "ipython3",
   "version": "3.12.3"
  }
 },
 "nbformat": 4,
 "nbformat_minor": 5
}
