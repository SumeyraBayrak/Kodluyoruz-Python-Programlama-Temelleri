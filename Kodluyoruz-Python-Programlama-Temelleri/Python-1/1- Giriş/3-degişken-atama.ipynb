{
 "cells": [
  {
   "cell_type": "markdown",
   "id": "b22fe949-e106-41a7-8ac6-43a84b784776",
   "metadata": {},
   "source": [
    "# Değişken Atama (Variable Assignment)"
   ]
  },
  {
   "cell_type": "markdown",
   "id": "0d2f6cf0-b762-47cd-aa3c-22fea5d50fe9",
   "metadata": {},
   "source": [
    "<span style=\"font-family: 'Arial', sans-serif; font-size: 24px;\">**Type Casting (Tip Dönüştürmesi)**</span>"
   ]
  },
  {
   "cell_type": "markdown",
   "id": "8edfd6af-8a69-4316-aca7-b08e2c2a31f3",
   "metadata": {},
   "source": [
    "<span style=\"font-family: 'Arial', sans-serif; font-size: 16px;\">Değişkenler, bilgisayarın hafızasında verileri saklamamıza ve bu verilere erişmek için kullanılan isimlerdir. Bir değişkene isim verirken, Python'un önceden tanımlı anahtar kelimelerini kullanmamalıyız. Bu anahtar kelimeler, Python dilinin yapılarını belirleyen özel kelimelerdir.</span>"
   ]
  },
  {
   "cell_type": "markdown",
   "id": "5907d35d-2cd6-4011-a67a-c750a6b84bf1",
   "metadata": {},
   "source": [
    "<span style=\"font-family: 'Arial', sans-serif; font-size: 16px;\">**Python'un daha önceden kendisine ayırdığı isimler (reserved words):**</span>"
   ]
  },
  {
   "cell_type": "markdown",
   "id": "c56232b6-ba03-49de-a2f0-4789a36525f9",
   "metadata": {},
   "source": [
    "<br>\n",
    "<img src=\"https://miro.medium.com/v2/resize:fit:1400/format:webp/1*La_PT2JXjHc3zD6aIsYqBA.png\" alt=\"python-keywords\" style=\"width:600px;height:300px; margin:auto;\">\n",
    "<br>"
   ]
  },
  {
   "cell_type": "markdown",
   "id": "92dfe2ec-4a32-40dc-889f-b9679bb04e49",
   "metadata": {},
   "source": [
    "<span style=\"font-family: 'Arial', sans-serif; font-size: 16px;\">Değişken atama işlemi (variable assignment), Python programlama dilinde çok önemlidir. Bu işlem, bir değişkenin belirli bir değere atanması anlamına gelir. Python'da bu atama işlemi \"=\" sembolü ile gerçekleştirilir. Ancak, bu sembolün matematikteki eşitlik işaretinden farklı bir anlamı vardır. \"=\" sembolünün sağ tarafındaki değeri, sol tarafında belirttiğimiz değişkene atarız.</span>\n"
   ]
  },
  {
   "cell_type": "code",
   "execution_count": 2,
   "id": "5d2f3590-9e38-4d53-b42a-7fe254b3a210",
   "metadata": {},
   "outputs": [],
   "source": [
    "a = 2"
   ]
  },
  {
   "cell_type": "markdown",
   "id": "fd6c253a-428f-4da4-9347-87bcb73fbe40",
   "metadata": {},
   "source": [
    "<span style=\"font-family: 'Arial', sans-serif; font-size: 16px;\">Bu ifade, \"a\" isimli bir değişken oluşturur ve ona 2 değerini atar. Şimdi \"a\" değişkeni bellekte 2 değerini temsil eder.</span>"
   ]
  },
  {
   "cell_type": "code",
   "execution_count": 8,
   "id": "dd1dbe3b-3f9c-4509-92f3-29b5daa036d2",
   "metadata": {},
   "outputs": [
    {
     "name": "stdout",
     "output_type": "stream",
     "text": [
      "7\n"
     ]
    }
   ],
   "source": [
    "b = a + 5\n",
    "print(b)"
   ]
  },
  {
   "cell_type": "markdown",
   "id": "9400df89-286b-46ec-bab3-8eebbebd85cd",
   "metadata": {},
   "source": [
    "<span style=\"font-family: 'Arial', sans-serif; font-size: 16px;\">Bu ifade ise \"b\" isimli bir değişken oluşturur ve ona \"a\" değişkeninin değeri olan 2'ye 5 eklenmiş değeri atar. Şimdi \"b\" değişkeni bellekte 7 değerini temsil eder.</span>\n"
   ]
  },
  {
   "cell_type": "markdown",
   "id": "96537198-fd89-442d-a911-e9b848ae51f6",
   "metadata": {},
   "source": [
    "<span style=\"font-family: 'Arial', sans-serif; font-size: 16px;\">**Özetle, Variable'a bir isim verip bir atama yaptığımızda Python bilgisayarın hafızasında o isimli bir konteyner oluşturuyor ve ismini verdiğimiz isim yapıyor. Daha sonra bu isim çağrıldığında o konteynera gidiyor ve o değeri alıyor**</span>\n"
   ]
  },
  {
   "cell_type": "markdown",
   "id": "7b33cc14-f70d-4ce6-af3d-4882ceb73572",
   "metadata": {},
   "source": [
    "<br>\n",
    "<img src=\"https://raw.githubusercontent.com/Kodluyoruz/taskforce/main/python-basics/degisken-atama/figures/variable_assignment.png\" alt=\"python-keywords\" style=\"width:400px;height:300px; margin:auto;\">\n",
    "<br>"
   ]
  }
 ],
 "metadata": {
  "kernelspec": {
   "display_name": "Python 3 (ipykernel)",
   "language": "python",
   "name": "python3"
  },
  "language_info": {
   "codemirror_mode": {
    "name": "ipython",
    "version": 3
   },
   "file_extension": ".py",
   "mimetype": "text/x-python",
   "name": "python",
   "nbconvert_exporter": "python",
   "pygments_lexer": "ipython3",
   "version": "3.12.3"
  }
 },
 "nbformat": 4,
 "nbformat_minor": 5
}
