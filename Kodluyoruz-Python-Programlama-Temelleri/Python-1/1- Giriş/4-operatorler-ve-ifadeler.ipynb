{
 "cells": [
  {
   "cell_type": "markdown",
   "id": "7f862555-5138-4b15-b128-5727923e5688",
   "metadata": {},
   "source": [
    "# Operatörler ve İfadeler (Operators-Expressions)"
   ]
  },
  {
   "cell_type": "markdown",
   "id": "03a1ec26-746e-452d-97ee-b311fece0394",
   "metadata": {},
   "source": [
    "<span style=\"font-family: 'Arial', sans-serif; font-size: 16px;\">\n",
    "    Expression'lar, Python'da programlama yaparken temel bir yapı taşıdır. Bunlar, objelerin ve operatörlerin birleşiminden oluşurlar.\n",
    "    <br>\n",
    "    <br>\n",
    "    Objeler (Objects): Python'da her şey bir objedir. Sayılar, stringler, listeler, fonksiyonlar, hatta diğer modüller bile birer objedir.\n",
    "    <br>\n",
    "    <br>\n",
    "    Operatörler (Operators): Operatörler, objeler üzerinde çeşitli işlemler yapmamızı sağlar. Örneğin, matematiksel operatörler (+, -, *, /), karşılaştırma operatörleri (==, !=, <, >), ve atama operatörleri (=) gibi.\n",
    "    <br>\n",
    "    <br>\n",
    "    Expression'lar, bu objelerin ve operatörlerin birleşiminden oluşur. Bir expression, bir obje üzerinde bir işlem gerçekleştiren bir operatörle diğer bir objeyi birleştirir. Örneğin, `3 + 5` bir expression'dır. Burada `3 ve 5` objelerdir ve `5` operatörü bu objeler arasında toplama işlemi gerçekleştirir.\n",
    "</span>"
   ]
  },
  {
   "cell_type": "markdown",
   "id": "982dc3ab-ccb7-4586-bacf-80321f3053e8",
   "metadata": {},
   "source": [
    "<span style=\"font-family: 'Arial', sans-serif; font-size: 16px;\">**!!Operatörlerin uygulandığı objelerin tipleri, ifadenin türünü belirler.**</span>"
   ]
  },
  {
   "cell_type": "markdown",
   "id": "2a6d8c68-8995-4e25-9089-fafae657aff1",
   "metadata": {},
   "source": [
    "### Toplama (+) Operatörü"
   ]
  },
  {
   "cell_type": "code",
   "execution_count": 5,
   "id": "6ae34d2c-6f6a-443d-80f8-f214613b61fd",
   "metadata": {},
   "outputs": [
    {
     "data": {
      "text/plain": [
       "int"
      ]
     },
     "execution_count": 5,
     "metadata": {},
     "output_type": "execute_result"
    }
   ],
   "source": [
    "a = 2 + 2     # Çıktı: 4\n",
    "type(a)       # İki tane integer'ın toplamı integer verir."
   ]
  },
  {
   "cell_type": "code",
   "execution_count": 7,
   "id": "4d33315c-5d91-41aa-80b1-726b032f790b",
   "metadata": {},
   "outputs": [
    {
     "data": {
      "text/plain": [
       "float"
      ]
     },
     "execution_count": 7,
     "metadata": {},
     "output_type": "execute_result"
    }
   ],
   "source": [
    "b = 2.4 + 2.5  # Çıktı: 4.9\n",
    "type(b)        # İki tane float'un toplamı float verir."
   ]
  },
  {
   "cell_type": "code",
   "execution_count": 8,
   "id": "1375b4a7-23d8-412e-874a-54aba796d228",
   "metadata": {},
   "outputs": [
    {
     "data": {
      "text/plain": [
       "float"
      ]
     },
     "execution_count": 8,
     "metadata": {},
     "output_type": "execute_result"
    }
   ],
   "source": [
    "c = 2.4 + 3     # Çıktı: 5.4\n",
    "type(2.4 + 3)   # Eğer objelerden biri bile float ise, toplama işleminde ifadenin tipi float olur."
   ]
  },
  {
   "cell_type": "markdown",
   "id": "d8b9b348-c5d8-45ed-9457-b4a04391cbce",
   "metadata": {},
   "source": [
    "### Çıkarma (-) Operatörü"
   ]
  },
  {
   "cell_type": "code",
   "execution_count": 10,
   "id": "f5c0d813-4d76-4af2-82d1-120f5195473b",
   "metadata": {},
   "outputs": [
    {
     "data": {
      "text/plain": [
       "int"
      ]
     },
     "execution_count": 10,
     "metadata": {},
     "output_type": "execute_result"
    }
   ],
   "source": [
    "d = 3 - 2        # Çıktı: 1\n",
    "type(d)          # İki tane integer'ın farkı integer verir."
   ]
  },
  {
   "cell_type": "code",
   "execution_count": 12,
   "id": "aa978551-406d-41c6-ac93-531c230aaa4c",
   "metadata": {},
   "outputs": [
    {
     "data": {
      "text/plain": [
       "float"
      ]
     },
     "execution_count": 12,
     "metadata": {},
     "output_type": "execute_result"
    }
   ],
   "source": [
    "e = 2.6 - 2.1     # Çıktı: 1\n",
    "type(e)           # İki tane float'un farkı float verir."
   ]
  },
  {
   "cell_type": "code",
   "execution_count": 13,
   "id": "5f965384-baf2-40c8-94f4-243b76642f40",
   "metadata": {},
   "outputs": [
    {
     "data": {
      "text/plain": [
       "float"
      ]
     },
     "execution_count": 13,
     "metadata": {},
     "output_type": "execute_result"
    }
   ],
   "source": [
    "f = 2.5 - 3       # Çıktı: -0.5\n",
    "type(e)           # Eğer objelerden biri bile float ise, çıkarma işleminde ifadenin tipi float olur."
   ]
  },
  {
   "cell_type": "markdown",
   "id": "659e253b-cdbe-49a6-896c-8f9ec158db3e",
   "metadata": {},
   "source": [
    "### Çarpma (*) Operatörü"
   ]
  },
  {
   "cell_type": "code",
   "execution_count": 15,
   "id": "e7cc691c-3e35-4bab-93a4-7f345be6e651",
   "metadata": {},
   "outputs": [
    {
     "data": {
      "text/plain": [
       "int"
      ]
     },
     "execution_count": 15,
     "metadata": {},
     "output_type": "execute_result"
    }
   ],
   "source": [
    "g = 3 * 2         # Çıktı: 6\n",
    "type(g)           # İki tane integer'ın çarpımı integer verir."
   ]
  },
  {
   "cell_type": "code",
   "execution_count": 16,
   "id": "b6078b27-51b8-4f10-91da-f804149e274d",
   "metadata": {},
   "outputs": [
    {
     "data": {
      "text/plain": [
       "float"
      ]
     },
     "execution_count": 16,
     "metadata": {},
     "output_type": "execute_result"
    }
   ],
   "source": [
    "h = 2.6 * 2.4     # Çıktı: 6.24\n",
    "type(h)           # İki tane float'un çarpımı float verir."
   ]
  },
  {
   "cell_type": "code",
   "execution_count": 17,
   "id": "a6ac6a92-fdfd-4016-b72e-87be47ddd199",
   "metadata": {},
   "outputs": [
    {
     "data": {
      "text/plain": [
       "float"
      ]
     },
     "execution_count": 17,
     "metadata": {},
     "output_type": "execute_result"
    }
   ],
   "source": [
    "i = 2.5 * 3       # Çıktı: 7.5\n",
    "type(i)           # Eğer objelerden biri bile float ise, çarpma işleminde ifadenin tipi float olur."
   ]
  },
  {
   "cell_type": "markdown",
   "id": "06d3ba3a-c1f3-4bca-9add-5d1f778fbbff",
   "metadata": {},
   "source": [
    "### Bölme (/) Operatörü"
   ]
  },
  {
   "cell_type": "markdown",
   "id": "c9a31b29-85f0-4e48-b52a-e64521224886",
   "metadata": {},
   "source": [
    "<span style=\"font-family: 'Arial', sans-serif; font-size: 16px;\">İşleme giren objelerin tipi ne olursa olsun cevap float olur.</span>"
   ]
  },
  {
   "cell_type": "code",
   "execution_count": 19,
   "id": "76244608-f221-400b-9c71-17c025ef9cd9",
   "metadata": {},
   "outputs": [
    {
     "data": {
      "text/plain": [
       "float"
      ]
     },
     "execution_count": 19,
     "metadata": {},
     "output_type": "execute_result"
    }
   ],
   "source": [
    "j = 3 / 2         # Çıktı: 1.5\n",
    "type(j)"
   ]
  },
  {
   "cell_type": "code",
   "execution_count": 20,
   "id": "e1ab506a-2398-425c-b342-11a827474e33",
   "metadata": {},
   "outputs": [
    {
     "data": {
      "text/plain": [
       "float"
      ]
     },
     "execution_count": 20,
     "metadata": {},
     "output_type": "execute_result"
    }
   ],
   "source": [
    "k = 3 / 1.5       # Çıktı: 2.0\n",
    "type(k)"
   ]
  },
  {
   "cell_type": "code",
   "execution_count": 21,
   "id": "706a1b71-c2e1-4cd7-8998-796a5146aa01",
   "metadata": {},
   "outputs": [
    {
     "data": {
      "text/plain": [
       "float"
      ]
     },
     "execution_count": 21,
     "metadata": {},
     "output_type": "execute_result"
    }
   ],
   "source": [
    "m = 2.4 / 0.6     # Çıktı: 4.0\n",
    "type(m)"
   ]
  },
  {
   "cell_type": "markdown",
   "id": "c38b8349-7118-4d16-a083-687ae5432425",
   "metadata": {},
   "source": [
    "### // Operatörü (Tam Bölme)"
   ]
  },
  {
   "cell_type": "markdown",
   "id": "6bc9a2da-bf50-47a4-80ae-e9ca87b53f9b",
   "metadata": {},
   "source": [
    "<span style=\"font-family: 'Arial', sans-serif; font-size: 16px;\">İki sayı arasındaki bölme işleminden sadece tam sayı kısmını döndüren bir bölme operatörüdür. Ondalık kısmı göz ardı eder ve sonucu her zaman bir tamsayı olarak döndürür</span>"
   ]
  },
  {
   "cell_type": "markdown",
   "id": "99071f39-14f9-40b6-a5d5-74205846ee1a",
   "metadata": {},
   "source": [
    "<span style=\"font-family: 'Arial', sans-serif; font-size: 16px;\">Eğer işleme girenlerden biri bile float ise cevap float olur.</span>"
   ]
  },
  {
   "cell_type": "code",
   "execution_count": 22,
   "id": "6002850c-6ce2-4689-9e1b-e1d74bbb7980",
   "metadata": {},
   "outputs": [
    {
     "data": {
      "text/plain": [
       "int"
      ]
     },
     "execution_count": 22,
     "metadata": {},
     "output_type": "execute_result"
    }
   ],
   "source": [
    "n = 5 // 2          # Çıktı: 2 (integer)\n",
    "type(n)"
   ]
  },
  {
   "cell_type": "code",
   "execution_count": 24,
   "id": "f47a04b8-9ef8-490b-afc1-38cadd8f434c",
   "metadata": {},
   "outputs": [
    {
     "data": {
      "text/plain": [
       "float"
      ]
     },
     "execution_count": 24,
     "metadata": {},
     "output_type": "execute_result"
    }
   ],
   "source": [
    "o = 5 // 2.5        # Çıktı: 2.0 (float)\n",
    "type(o)"
   ]
  },
  {
   "cell_type": "code",
   "execution_count": 25,
   "id": "d9713d7d-94c1-40ca-9889-6d2f156bc543",
   "metadata": {},
   "outputs": [
    {
     "data": {
      "text/plain": [
       "float"
      ]
     },
     "execution_count": 25,
     "metadata": {},
     "output_type": "execute_result"
    }
   ],
   "source": [
    "p = 4.2 // 5        # Çıktı: 0.0 (float)\n",
    "type(p)"
   ]
  },
  {
   "cell_type": "code",
   "execution_count": 26,
   "id": "6b5017d7-62c7-405d-ad34-a87fc7d09218",
   "metadata": {},
   "outputs": [
    {
     "data": {
      "text/plain": [
       "float"
      ]
     },
     "execution_count": 26,
     "metadata": {},
     "output_type": "execute_result"
    }
   ],
   "source": [
    "r = 8.2 // 5.1       # Çıktı: 1.0 (float)\n",
    "type(r)"
   ]
  },
  {
   "cell_type": "markdown",
   "id": "81241a5f-e595-4d9a-b357-e75bf8332801",
   "metadata": {},
   "source": [
    "### % Operatörü (Kalan/Bölüm)"
   ]
  },
  {
   "cell_type": "markdown",
   "id": "92561080-1541-4efe-afec-8f748c2eef5f",
   "metadata": {},
   "source": [
    "<span style=\"font-family: 'Arial', sans-serif; font-size: 16px;\">Eğer kalan float ise cevap float olur yoksa integer olur.</span>"
   ]
  },
  {
   "cell_type": "code",
   "execution_count": 27,
   "id": "9432d55f-0235-4afb-ab35-668aaa90ada2",
   "metadata": {},
   "outputs": [
    {
     "data": {
      "text/plain": [
       "int"
      ]
     },
     "execution_count": 27,
     "metadata": {},
     "output_type": "execute_result"
    }
   ],
   "source": [
    "s = 5 % 2            # Çıktı: 1 (integer)\n",
    "type(s)"
   ]
  },
  {
   "cell_type": "code",
   "execution_count": 28,
   "id": "2e7d58f1-23c3-4264-9d94-da6c136a00f6",
   "metadata": {},
   "outputs": [
    {
     "data": {
      "text/plain": [
       "int"
      ]
     },
     "execution_count": 28,
     "metadata": {},
     "output_type": "execute_result"
    }
   ],
   "source": [
    "t = 10 % 3           # Çıktı: 1 (integer)\n",
    "type(t)"
   ]
  },
  {
   "cell_type": "code",
   "execution_count": 29,
   "id": "6d37ca96-8bf7-4fa7-8fb4-57504c6f7528",
   "metadata": {},
   "outputs": [
    {
     "data": {
      "text/plain": [
       "float"
      ]
     },
     "execution_count": 29,
     "metadata": {},
     "output_type": "execute_result"
    }
   ],
   "source": [
    "u = 2.5 % 2          # Çıktı: 0.5 (float)\n",
    "type(u)"
   ]
  },
  {
   "cell_type": "markdown",
   "id": "f1a95cc2-4e99-4fa2-b70d-b55e3ed8366e",
   "metadata": {},
   "source": [
    "### ** Operatörü (Üst Alma)"
   ]
  },
  {
   "cell_type": "markdown",
   "id": "fac4e287-1662-4e63-b8ef-bf664fe4df08",
   "metadata": {},
   "source": [
    "<span style=\"font-family: 'Arial', sans-serif; font-size: 16px;\">Üst alma işlemi yapar.</span>"
   ]
  },
  {
   "cell_type": "code",
   "execution_count": 33,
   "id": "1abe4a98-283f-4593-90f4-23a4fd4d54ab",
   "metadata": {},
   "outputs": [
    {
     "data": {
      "text/plain": [
       "int"
      ]
     },
     "execution_count": 33,
     "metadata": {},
     "output_type": "execute_result"
    }
   ],
   "source": [
    "v = 2 ** 3             # Çıktı: 8\n",
    "type(v)"
   ]
  },
  {
   "cell_type": "code",
   "execution_count": 35,
   "id": "c8e93240-1069-4287-923e-52b0960d8c3f",
   "metadata": {},
   "outputs": [
    {
     "data": {
      "text/plain": [
       "float"
      ]
     },
     "execution_count": 35,
     "metadata": {},
     "output_type": "execute_result"
    }
   ],
   "source": [
    "y = 2.4 ** 2           # Çıktı: 5.76\n",
    "type(y)"
   ]
  },
  {
   "cell_type": "code",
   "execution_count": 34,
   "id": "05645ccf-6c28-481f-b80d-b3134efd3e8b",
   "metadata": {},
   "outputs": [
    {
     "data": {
      "text/plain": [
       "float"
      ]
     },
     "execution_count": 34,
     "metadata": {},
     "output_type": "execute_result"
    }
   ],
   "source": [
    "z = 5 ** -1            # Çıktı: 0.2\n",
    "type(z)"
   ]
  },
  {
   "cell_type": "markdown",
   "id": "271a1516-44a6-4934-ad42-1657e709c4d0",
   "metadata": {},
   "source": [
    "### print() Fonksiyonu"
   ]
  },
  {
   "cell_type": "markdown",
   "id": "972242e0-61f1-4064-a873-9e22f686c157",
   "metadata": {},
   "source": [
    "<span style=\"font-family: 'Arial', sans-serif; font-size: 16px;\">Bazen sadece belirli değerleri bastırmak isteriz, bunun için print() fonksiyonunu kullanabiliriz.</span>"
   ]
  },
  {
   "cell_type": "code",
   "execution_count": 37,
   "id": "7bd12997-acf1-452c-94f9-118938b1633f",
   "metadata": {},
   "outputs": [
    {
     "name": "stdout",
     "output_type": "stream",
     "text": [
      "5\n"
     ]
    }
   ],
   "source": [
    "print(5)"
   ]
  }
 ],
 "metadata": {
  "kernelspec": {
   "display_name": "Python 3 (ipykernel)",
   "language": "python",
   "name": "python3"
  },
  "language_info": {
   "codemirror_mode": {
    "name": "ipython",
    "version": 3
   },
   "file_extension": ".py",
   "mimetype": "text/x-python",
   "name": "python",
   "nbconvert_exporter": "python",
   "pygments_lexer": "ipython3",
   "version": "3.12.3"
  }
 },
 "nbformat": 4,
 "nbformat_minor": 5
}
