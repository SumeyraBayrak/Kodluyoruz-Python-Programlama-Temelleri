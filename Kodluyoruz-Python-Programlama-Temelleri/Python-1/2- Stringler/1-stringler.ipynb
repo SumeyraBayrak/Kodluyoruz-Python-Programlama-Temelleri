{
 "cells": [
  {
   "cell_type": "markdown",
   "id": "2144f1da-2ad8-4bf7-ba71-5f1c1cfee5d4",
   "metadata": {},
   "source": [
    "# String"
   ]
  },
  {
   "cell_type": "markdown",
   "id": "d022302d-cae7-4824-a723-f714aa7dc81f",
   "metadata": {},
   "source": [
    "<span style=\"font-family: 'Arial', sans-serif; font-size: 16px;\">Stringler karakterlerden oluşan bir dizidir. Stringlerin elemanları karakterlerdir.</span>"
   ]
  },
  {
   "cell_type": "markdown",
   "id": "874cc7bb-20a7-424f-ac0b-b933404c0633",
   "metadata": {},
   "source": [
    "<span style=\"font-family: 'Arial', sans-serif; font-size: 16px;\"></span>"
   ]
  },
  {
   "cell_type": "markdown",
   "id": "f4944d34-0ab8-4b82-b8b7-fcc71299fa1a",
   "metadata": {},
   "source": [
    "<span style=\"font-family: 'Arial', sans-serif; font-size: 16px;\">Karakterler: (a,b,c,d...) gibi harfler, (*, ?, =, <, >, /...) gibi özel karakterler, (1,2,3...) gibi yazı biçiminde sayılar, boşluk(space) karakter olarak adlandırılabilir.\n",
    "</span>"
   ]
  },
  {
   "cell_type": "markdown",
   "id": "287ff6da-5435-4458-848a-e94b744b4b60",
   "metadata": {},
   "source": [
    "<span style=\"font-family: 'Arial', sans-serif; font-size: 16px;\">String'ler Karakterlerden veya bunların kombinasyonlarından oluşabilirler.\n",
    "</span>"
   ]
  },
  {
   "cell_type": "markdown",
   "id": "5de97fea-52d1-4704-88a2-a525d1233f49",
   "metadata": {},
   "source": [
    "<span style=\"font-family: 'Arial', sans-serif; font-size: 16px;\">Bir şeyin String olduğunu belirtmek için yazacaklarımızı ikili tırnak (\"örnek\") veya tekli tırnak ('örnek') içine yazarız.\n",
    "</span>"
   ]
  },
  {
   "cell_type": "markdown",
   "id": "269ee049-63b3-4d31-9f6f-bd377f772869",
   "metadata": {
    "jp-MarkdownHeadingCollapsed": true
   },
   "source": [
    "<span style=\"font-family: 'Arial', sans-serif; font-size: 16px;\">Tırnak işaretlerinin yaptığı şey aslında: Bu tırnak işaretlerinin içinde verdiğim diziye karakterler dizisi olarak davran, öyle algıla demek.\n",
    "</span>"
   ]
  },
  {
   "cell_type": "markdown",
   "id": "99f8d156-a752-4605-b69a-e72dca8aff10",
   "metadata": {},
   "source": [
    "<span style=\"font-family: 'Arial', sans-serif; font-size: 16px;\">İkili tırnak içine de yazsak, tekli tırnak içine de yazsak aynı şekilde algılanır. Önemli olan hangisiyle başladıysak onunla bitirmek.\n",
    "</span>"
   ]
  },
  {
   "cell_type": "markdown",
   "id": "fc6d0ca9-b0b2-404c-8243-e311b855cc4b",
   "metadata": {},
   "source": [
    "<span style=\"font-family: 'Arial', sans-serif; font-size: 16px;\">Scalar ve Non-scalar objelerden bahsetmiştik. Non-scalar veri tiplerinin daha alt parçalara bölünebilen, elemanlar içeren yapılar olduğunu konuşmuştuk. String non-scalar bir veri tipi. İçsel yapı olarak karakterlerden oluşuyor.\n",
    "</span>"
   ]
  },
  {
   "cell_type": "markdown",
   "id": "1294d39a-c87a-4363-9a7b-ab62ed3c7ac0",
   "metadata": {},
   "source": [
    "<span style=\"font-family: 'Arial', sans-serif; font-size: 16px;\">Stringler immutable veri tipidir.\n",
    "</span>"
   ]
  },
  {
   "cell_type": "markdown",
   "id": "62a82740-ecac-4d17-b9c4-59aae1e78b92",
   "metadata": {},
   "source": [
    "<div style=\"float: right; background-color: #333; padding: 5px; border: 1px solid #ccc; height: 200px; width: 400px;\">\n",
    "    <h3 style=\"color: #c0c0c0;\">Not Kutusu</h3>\n",
    "    <h4 style=\"color: #c0c0c0;\">Immutable Nedir?</h4>\n",
    "    <p style=\"font-family: 'Arial' sans-serif; font-size: 14px; color: #ffffff;\">immutable terimi, bir kez oluşturulduktan sonra değiştirilemeyen veya değiştirilemeyecek kadar sabit olan veri türünü ifade eder. Stringler immutable olduğundan, bir kez oluşturulduktan sonra içerikleri değiştirilemez. Bu özellik, stringlerin güvenliğini ve tutarlılığını sağlar.</p>\n",
    "</div>"
   ]
  },
  {
   "cell_type": "code",
   "execution_count": 12,
   "id": "dcbc1da1-8d68-4df0-a791-9e356b5a6f47",
   "metadata": {},
   "outputs": [
    {
     "name": "stdout",
     "output_type": "stream",
     "text": [
      "5\n"
     ]
    },
    {
     "data": {
      "text/plain": [
       "int"
      ]
     },
     "execution_count": 12,
     "metadata": {},
     "output_type": "execute_result"
    }
   ],
   "source": [
    "a = 5\n",
    "print(a)\n",
    "type(a)"
   ]
  },
  {
   "cell_type": "code",
   "execution_count": 13,
   "id": "94fe4a38-faa4-4f3c-b8d1-13d9806da57d",
   "metadata": {},
   "outputs": [
    {
     "name": "stdout",
     "output_type": "stream",
     "text": [
      "5\n"
     ]
    },
    {
     "data": {
      "text/plain": [
       "str"
      ]
     },
     "execution_count": 13,
     "metadata": {},
     "output_type": "execute_result"
    }
   ],
   "source": [
    "b = \"5\"\n",
    "print(b)\n",
    "type(b)         # 5 sayı ifadesi olmasına rağmen \"\" tırnak içinde yazdığımız için string bir değerdir."
   ]
  },
  {
   "cell_type": "code",
   "execution_count": 15,
   "id": "75ab6eaa-2a49-4615-98ce-a3e6924a20d9",
   "metadata": {},
   "outputs": [
    {
     "data": {
      "text/plain": [
       "'8'"
      ]
     },
     "execution_count": 15,
     "metadata": {},
     "output_type": "execute_result"
    }
   ],
   "source": [
    "\"8\""
   ]
  },
  {
   "cell_type": "code",
   "execution_count": 16,
   "id": "06a1892e-7110-4732-a680-f8a7265f4af8",
   "metadata": {},
   "outputs": [
    {
     "data": {
      "text/plain": [
       "'8'"
      ]
     },
     "execution_count": 16,
     "metadata": {},
     "output_type": "execute_result"
    }
   ],
   "source": [
    "'8'"
   ]
  },
  {
   "cell_type": "code",
   "execution_count": 17,
   "id": "4dcae634-44e9-4c67-abc3-d5bcbb332c1c",
   "metadata": {},
   "outputs": [
    {
     "data": {
      "text/plain": [
       "'a'"
      ]
     },
     "execution_count": 17,
     "metadata": {},
     "output_type": "execute_result"
    }
   ],
   "source": [
    "\"a\"             # Hangisiyle başladıysak onunla bitirmeliyiz \"a' gibi bir ifade yanlıştır"
   ]
  },
  {
   "cell_type": "code",
   "execution_count": 18,
   "id": "51b224b6-93d6-4093-b259-385eed3e75e0",
   "metadata": {},
   "outputs": [
    {
     "data": {
      "text/plain": [
       "'5 + 10'"
      ]
     },
     "execution_count": 18,
     "metadata": {},
     "output_type": "execute_result"
    }
   ],
   "source": [
    "\"5 + 10\""
   ]
  },
  {
   "cell_type": "markdown",
   "id": "f262143a-7b2f-4752-9f0d-ecfaa75360fa",
   "metadata": {},
   "source": [
    "<div style=\"float: right; background-color: #333; padding: 5px; border: 1px solid #ccc; height: 175px; width: 500px;\">\n",
    "    <h3 style=\"color: #c0c0c0;\">Not Kutusu</h3>\n",
    "    <p style=\"font-family: 'Arial' sans-serif; font-size: 14px; color: #ffffff;\">Python'da '5 + 10' ve \"5 + 10\" gibi ifadeler, matematiksel bir işlem yapmak yerine, sadece karakter dizisi olarak değerlendirilir. Yani, bu ifadeler içindeki artı işareti matematiksel bir toplama işlemi yapmaz, sadece karakterleri birleştirir. Örneğin, '5 + 10' ifadesi, \"5 + 10\" şeklinde bir stringdir ve içinde matematiksel bir işlem gerçekleşmez. Bu ifadelerin veri tipi, string (metin) türündedir.\n",
    "</div>"
   ]
  },
  {
   "cell_type": "markdown",
   "id": "3de4c7d1-dbcf-4c86-afb0-17f54dfd0f80",
   "metadata": {},
   "source": [
    "## Escape Sequence Kullanımı Örnekleri"
   ]
  },
  {
   "cell_type": "markdown",
   "id": "45468bcf-2a10-40ec-9d66-163c76db3896",
   "metadata": {},
   "source": [
    "<span style=\"font-family: 'Arial', sans-serif; font-size: 16px;\">Python'da stringler içinde özel karakterlerin kullanımını yönlendirmek için \"escape sequence\" adı verilen özel kaçış dizileri kullanılır. Bu diziler, özel karakterlerin normal anlamlarını geçersiz kılarak, belirli bir düzeni sağlamak veya belirli bir metinsel işlevi gerçekleştirmek için kullanılır.</span>"
   ]
  },
  {
   "cell_type": "markdown",
   "id": "0a3cb5b8-bf35-4970-a4d5-8ffe55cd0a52",
   "metadata": {},
   "source": [
    "<span style=\"font-family: 'Arial', sans-serif; font-size: 16px;\">**Tek tırnak içinde tek tırnak kullanımı:**</span>"
   ]
  },
  {
   "cell_type": "code",
   "execution_count": 22,
   "id": "7595ce6e-c18b-4f11-bf12-8e00c89c38d5",
   "metadata": {},
   "outputs": [
    {
     "name": "stdout",
     "output_type": "stream",
     "text": [
      "Bugün Kadıköy'e gidiyorum\n"
     ]
    }
   ],
   "source": [
    "print('Bugün Kadıköy\\'e gidiyorum')                # Tek tırnak içinde çift tırnak kullanmak için \\ karakteri kullanılır"
   ]
  },
  {
   "cell_type": "markdown",
   "id": "60e66e5e-0e73-490e-b768-50ddc7472ba1",
   "metadata": {},
   "source": [
    "<span style=\"font-family: 'Arial', sans-serif; font-size: 16px;\">**Çift tırnak içinde tek tırnak kullanımı:**</span>"
   ]
  },
  {
   "cell_type": "code",
   "execution_count": 23,
   "id": "9d35d26e-99eb-44ba-8564-7abeac10865d",
   "metadata": {},
   "outputs": [
    {
     "name": "stdout",
     "output_type": "stream",
     "text": [
      "Bana 'Bugün Kadıköy'e gidiyorum' dedi\n"
     ]
    }
   ],
   "source": [
    "print(\"Bana 'Bugün Kadıköy'e gidiyorum' dedi\")     # Çift tırnak içinde tek tırnak kullanımı herhangi bir sorun oluşturmaz"
   ]
  },
  {
   "cell_type": "markdown",
   "id": "c3b6df46-933b-4cb0-9c9f-6fd815d0a535",
   "metadata": {},
   "source": [
    "<span style=\"font-family: 'Arial', sans-serif; font-size: 16px;\">**Çift tırnak içinde çift tırnak kullanımı:**</span>"
   ]
  },
  {
   "cell_type": "code",
   "execution_count": 24,
   "id": "a748e876-c606-46a8-91c0-6e41922ea8ae",
   "metadata": {},
   "outputs": [
    {
     "name": "stdout",
     "output_type": "stream",
     "text": [
      "Bana \"Bugün ne yapıyorsun\" dedi\n"
     ]
    }
   ],
   "source": [
    "print(\"Bana \\\"Bugün ne yapıyorsun\\\" dedi\")         # Çift tırnak içinde çift tırnak kullanmak için \\ karakterini kullanırız"
   ]
  },
  {
   "cell_type": "markdown",
   "id": "a80d4801-13b7-4561-b26f-2752ab03ac04",
   "metadata": {},
   "source": [
    "<span style=\"font-family: 'Arial', sans-serif; font-size: 16px;\">**\\n ve \\t**</span>"
   ]
  },
  {
   "cell_type": "code",
   "execution_count": 26,
   "id": "8cc8d88a-8628-4b5c-8f0a-19c49f5c5f6a",
   "metadata": {},
   "outputs": [
    {
     "name": "stdout",
     "output_type": "stream",
     "text": [
      "hey\n",
      "nasılsın\n"
     ]
    }
   ],
   "source": [
    "print(\"hey\\nnasılsın\")  # \\n karakteri bir alt satıra geçmek için kullanılır"
   ]
  },
  {
   "cell_type": "markdown",
   "id": "8928eeab-44cf-44f8-af60-e061c99458eb",
   "metadata": {},
   "source": [
    "<span style=\"font-family: 'Arial', sans-serif; font-size: 16px;\">**\" \\\\ \"  (Backslash) karakterinin kullanımı**</span>"
   ]
  },
  {
   "cell_type": "code",
   "execution_count": 28,
   "id": "4e06e63d-0442-42ec-ae86-8a9fc63b1a13",
   "metadata": {},
   "outputs": [
    {
     "name": "stdout",
     "output_type": "stream",
     "text": [
      "hmm \\\n"
     ]
    }
   ],
   "source": [
    "print(\"hmm \\\\\")  # \\ karakterini yazdırmak için iki kez \\ karakteri kullanılır"
   ]
  }
 ],
 "metadata": {
  "kernelspec": {
   "display_name": "Python 3 (ipykernel)",
   "language": "python",
   "name": "python3"
  },
  "language_info": {
   "codemirror_mode": {
    "name": "ipython",
    "version": 3
   },
   "file_extension": ".py",
   "mimetype": "text/x-python",
   "name": "python",
   "nbconvert_exporter": "python",
   "pygments_lexer": "ipython3",
   "version": "3.12.3"
  }
 },
 "nbformat": 4,
 "nbformat_minor": 5
}
