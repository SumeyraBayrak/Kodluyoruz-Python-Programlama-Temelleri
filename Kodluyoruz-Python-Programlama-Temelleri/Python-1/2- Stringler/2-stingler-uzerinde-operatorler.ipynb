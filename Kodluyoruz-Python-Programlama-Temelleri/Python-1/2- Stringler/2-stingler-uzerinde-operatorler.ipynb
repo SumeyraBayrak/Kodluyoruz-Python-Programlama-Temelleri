{
 "cells": [
  {
   "cell_type": "markdown",
   "id": "a737f571-a038-4598-8cb6-acf514ec4f6d",
   "metadata": {},
   "source": [
    "## String Değer Atama (Variable Assignment)"
   ]
  },
  {
   "cell_type": "markdown",
   "id": "f24eae8c-a6ca-4eda-af7d-2bdfb5d55821",
   "metadata": {},
   "source": [
    "<span style=\"font-family: 'Arial', sans-serif; font-size: 16px;\">Python'da, sayısal veri tiplerinde olduğu gibi, stringler için de değer atama işlemi yapabiliriz. Bu işlemde, bir string değerine bir isim (değişken) atarız.</span>"
   ]
  },
  {
   "cell_type": "code",
   "execution_count": 1,
   "id": "1ca3ce68-c08d-4fba-b3d7-b6cc7d6ba8bc",
   "metadata": {},
   "outputs": [
    {
     "name": "stdout",
     "output_type": "stream",
     "text": [
      "Merhaba nasılsın bugün?\n"
     ]
    }
   ],
   "source": [
    "merhaba = \"Merhaba nasılsın bugün?\"\n",
    "print(merhaba)"
   ]
  },
  {
   "cell_type": "markdown",
   "id": "c4dec11f-7286-4f48-840d-8fe065778853",
   "metadata": {},
   "source": [
    "<span style=\"font-family: 'Arial', sans-serif; font-size: 16px;\">Bu kod parçasında, merhaba adında bir değişkene \"Merhaba nasılsın bugün?\" string değerini atıyoruz. Sonrasında, `print(merhaba)` ifadesiyle bu değişkenin değerini ekrana yazdırıyoruz. </span>"
   ]
  },
  {
   "cell_type": "markdown",
   "id": "8ba9c0eb-e856-4bd6-8fd9-b24e93750346",
   "metadata": {},
   "source": [
    "## String Concatenation (String Birleştirme)"
   ]
  },
  {
   "cell_type": "markdown",
   "id": "3c41ee0d-3ddc-46c1-b93e-26e662c7ba20",
   "metadata": {},
   "source": [
    "<span style=\"font-family: 'Arial', sans-serif; font-size: 16px;\">Python'da, + operatörü stringler üzerinde kullanıldığında birleştirme (concatenation) işlemi gerçekleştirir. Yani, + operatörü iki stringi birleştirerek tek bir string oluşturur.</span>"
   ]
  },
  {
   "cell_type": "code",
   "execution_count": 4,
   "id": "01c47fe1-414a-4369-b617-b7550f4a6fc7",
   "metadata": {},
   "outputs": [
    {
     "data": {
      "text/plain": [
       "'heynasılsın?'"
      ]
     },
     "execution_count": 4,
     "metadata": {},
     "output_type": "execute_result"
    }
   ],
   "source": [
    "\"hey\" + \"nasılsın?\""
   ]
  },
  {
   "cell_type": "code",
   "execution_count": 5,
   "id": "e26c891a-a90f-4fce-a5f4-01a96da4e861",
   "metadata": {},
   "outputs": [
    {
     "data": {
      "text/plain": [
       "'hey nasılsın?'"
      ]
     },
     "execution_count": 5,
     "metadata": {},
     "output_type": "execute_result"
    }
   ],
   "source": [
    "\"hey\" + \" \" + \"nasılsın?\""
   ]
  },
  {
   "cell_type": "markdown",
   "id": "4e3a2867-7dd9-44c9-b7ce-23ecfa84b0f1",
   "metadata": {},
   "source": [
    "<span style=\"font-family: 'Arial', sans-serif; font-size: 16px;\">**!!Değişkenler kullanarak da aynı işlemi yapabiliriz.**</span>"
   ]
  },
  {
   "cell_type": "code",
   "execution_count": 6,
   "id": "61bd7925-b937-4599-8545-85c73835bf09",
   "metadata": {},
   "outputs": [
    {
     "name": "stdout",
     "output_type": "stream",
     "text": [
      "Merhaba Berkay\n"
     ]
    }
   ],
   "source": [
    "mesaj = \"Merhaba\"\n",
    "isim = \"Berkay\"\n",
    "karsilama = mesaj + \" \" + isim\n",
    "print(karsilama)"
   ]
  },
  {
   "cell_type": "markdown",
   "id": "946d6466-b3ee-4e60-ab77-ca11a4955879",
   "metadata": {},
   "source": [
    "<span style=\"font-family: 'Arial', sans-serif; font-size: 16px;\">Bu kod parçasında, \"Merhaba\" ve \"Berkay\" stringleri birleştirilerek \"Merhaba Berkay\" stringi oluşturulur ve karsilama adında bir değişkene atanır. Sonrasında print(karsilama) ifadesiyle bu birleştirilmiş string ekrana yazdırılır. Bu yöntemle, değişkenler kullanarak da stringleri birleştirebilir ve istenilen mesajları oluşturabiliriz.</span>"
   ]
  },
  {
   "cell_type": "markdown",
   "id": "c3d399e5-f295-4a6d-b100-366991be983b",
   "metadata": {},
   "source": [
    "## Successive Concatenation (Ardışık Birleştirme)"
   ]
  },
  {
   "cell_type": "markdown",
   "id": "275ec763-0f1d-41a4-9f21-748b97e1d684",
   "metadata": {},
   "source": [
    "<span style=\"font-family: 'Arial', sans-serif; font-size: 16px;\">Python'da, `*` operatörü sayı objeleri için çarpma işlemi olarak tanımlanmışken, stringler için ise ard arda birleştirme işlemi gerçekleştirir.</span>"
   ]
  },
  {
   "cell_type": "code",
   "execution_count": 9,
   "id": "09690d9e-c82a-4224-a0ef-77889a5a08da",
   "metadata": {},
   "outputs": [
    {
     "data": {
      "text/plain": [
       "'heyheyheyhey'"
      ]
     },
     "execution_count": 9,
     "metadata": {},
     "output_type": "execute_result"
    }
   ],
   "source": [
    "4 * \"hey\""
   ]
  },
  {
   "cell_type": "code",
   "execution_count": 10,
   "id": "4c2f72a3-b853-4aa7-8a2c-5413b560f576",
   "metadata": {},
   "outputs": [
    {
     "data": {
      "text/plain": [
       "'10000000000'"
      ]
     },
     "execution_count": 10,
     "metadata": {},
     "output_type": "execute_result"
    }
   ],
   "source": [
    "\"1\" + \"0\" * 10"
   ]
  },
  {
   "cell_type": "markdown",
   "id": "dba6a5ad-8dc3-411d-9048-cb4025f4674a",
   "metadata": {},
   "source": [
    "## len() Metodu"
   ]
  },
  {
   "cell_type": "markdown",
   "id": "27a521c7-a9e0-4530-a02e-7aac27d348df",
   "metadata": {},
   "source": [
    "<span style=\"font-family: 'Arial', sans-serif; font-size: 16px;\">Python'da, `len()` fonksiyonu bir stringin kaç karakterden oluştuğunu döndürür. Boşluklar da bir karakter olarak sayılır.\n",
    "</span>"
   ]
  },
  {
   "cell_type": "code",
   "execution_count": 12,
   "id": "d696e51e-4017-49ce-b03f-c3c4071dc4af",
   "metadata": {},
   "outputs": [
    {
     "data": {
      "text/plain": [
       "1"
      ]
     },
     "execution_count": 12,
     "metadata": {},
     "output_type": "execute_result"
    }
   ],
   "source": [
    "len(\"4\")"
   ]
  },
  {
   "cell_type": "code",
   "execution_count": 13,
   "id": "56a82b27-da3f-4aa7-9497-e1432c3f6314",
   "metadata": {},
   "outputs": [
    {
     "data": {
      "text/plain": [
       "2"
      ]
     },
     "execution_count": 13,
     "metadata": {},
     "output_type": "execute_result"
    }
   ],
   "source": [
    "len(\"42\")"
   ]
  },
  {
   "cell_type": "code",
   "execution_count": 14,
   "id": "0d0312e7-45af-483b-bb9c-001d5e92d980",
   "metadata": {},
   "outputs": [
    {
     "data": {
      "text/plain": [
       "3"
      ]
     },
     "execution_count": 14,
     "metadata": {},
     "output_type": "execute_result"
    }
   ],
   "source": [
    "len(\"hey\")"
   ]
  },
  {
   "cell_type": "code",
   "execution_count": 15,
   "id": "78413d42-914d-49af-9d5f-aed7d2b8c7c8",
   "metadata": {},
   "outputs": [
    {
     "data": {
      "text/plain": [
       "4"
      ]
     },
     "execution_count": 15,
     "metadata": {},
     "output_type": "execute_result"
    }
   ],
   "source": [
    "len(\"hey!\")"
   ]
  },
  {
   "cell_type": "code",
   "execution_count": 16,
   "id": "c1db4694-c920-4336-8a3a-369d6de7ddf9",
   "metadata": {},
   "outputs": [
    {
     "data": {
      "text/plain": [
       "13"
      ]
     },
     "execution_count": 16,
     "metadata": {},
     "output_type": "execute_result"
    }
   ],
   "source": [
    "len(\"hey nasılsın?\")"
   ]
  },
  {
   "cell_type": "code",
   "execution_count": 17,
   "id": "755a383e-76ee-4dd0-9faf-15e075dc3e4d",
   "metadata": {},
   "outputs": [
    {
     "data": {
      "text/plain": [
       "1"
      ]
     },
     "execution_count": 17,
     "metadata": {},
     "output_type": "execute_result"
    }
   ],
   "source": [
    "len(\" \")"
   ]
  }
 ],
 "metadata": {
  "kernelspec": {
   "display_name": "Python 3 (ipykernel)",
   "language": "python",
   "name": "python3"
  },
  "language_info": {
   "codemirror_mode": {
    "name": "ipython",
    "version": 3
   },
   "file_extension": ".py",
   "mimetype": "text/x-python",
   "name": "python",
   "nbconvert_exporter": "python",
   "pygments_lexer": "ipython3",
   "version": "3.12.3"
  }
 },
 "nbformat": 4,
 "nbformat_minor": 5
}
