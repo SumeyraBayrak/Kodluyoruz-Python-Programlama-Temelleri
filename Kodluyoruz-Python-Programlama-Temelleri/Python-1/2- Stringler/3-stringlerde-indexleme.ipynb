{
 "cells": [
  {
   "cell_type": "markdown",
   "id": "7848ad3c-e207-4c47-bf86-aadf24fe0654",
   "metadata": {},
   "source": [
    "## Indexing (Elemanlara Erişme)"
   ]
  },
  {
   "cell_type": "markdown",
   "id": "1e35966a-7dd4-44dc-8d00-ce7711449212",
   "metadata": {},
   "source": [
    "<span style=\"font-family: 'Arial', sans-serif; font-size: 16px;\">Python'da indeksleme, bir dizinin (örneğin, bir stringin) her bir elemanına erişmek için kullanılan bir tekniktir. Önemli bir nokta, Python'da indekslerin 0'dan başladığıdır. Yani, ilk elemanın indeksi 0'dır, ikincisi 1'dir ve böyle devam eder.\n",
    "</span>"
   ]
  },
  {
   "cell_type": "markdown",
   "id": "ce173dd4-38b5-42c8-bb3c-da5639fab8e9",
   "metadata": {},
   "source": [
    "<span style=\"font-family: 'Arial', sans-serif; font-size: 16px;\">**Örneğin, \"Deniz\" stringi üzerinde çalışalım:**</span>"
   ]
  },
  {
   "cell_type": "code",
   "execution_count": null,
   "id": "be0dcec2-64de-485b-8ca6-f20f54ba876e",
   "metadata": {},
   "outputs": [],
   "source": [
    "isim = \"Deniz\""
   ]
  },
  {
   "cell_type": "markdown",
   "id": "c8ab7d7e-b2e5-48e9-819f-a23b8508a9b0",
   "metadata": {},
   "source": [
    "<span style=\"font-family: 'Arial', sans-serif; font-size: 16px;\">**İlk elemana (karaktere) erişmek için indeks olarak 0 kullanırız:**</span>"
   ]
  },
  {
   "cell_type": "code",
   "execution_count": 5,
   "id": "458d5045-88ab-4289-8f6a-ce19dc8a083f",
   "metadata": {},
   "outputs": [
    {
     "data": {
      "text/plain": [
       "'D'"
      ]
     },
     "execution_count": 5,
     "metadata": {},
     "output_type": "execute_result"
    }
   ],
   "source": [
    "isim[0]"
   ]
  },
  {
   "cell_type": "markdown",
   "id": "712ed6f6-bc58-4dbe-a52c-56e18eb9f0fc",
   "metadata": {},
   "source": [
    "<span style=\"font-family: 'Arial', sans-serif; font-size: 16px;\">**İkinci eleman için indeks olarak 1 kullanırız:**</span>"
   ]
  },
  {
   "cell_type": "code",
   "execution_count": 6,
   "id": "1394bd25-d9a9-4f64-af1a-043d5966b593",
   "metadata": {},
   "outputs": [
    {
     "data": {
      "text/plain": [
       "'e'"
      ]
     },
     "execution_count": 6,
     "metadata": {},
     "output_type": "execute_result"
    }
   ],
   "source": [
    "isim[1]"
   ]
  },
  {
   "cell_type": "markdown",
   "id": "383ca6cf-c6af-40ca-88ca-f4f524f276ed",
   "metadata": {},
   "source": [
    "<span style=\"font-family: 'Arial', sans-serif; font-size: 16px;\">**Son elemana erişmek için negatif indeksler kullanılabilir. -1 son elemanı, -2 sondan bir önceki elemanı temsil eder:**</span>"
   ]
  },
  {
   "cell_type": "code",
   "execution_count": 7,
   "id": "d3c3e5ee-4a34-41fd-86c6-3d35ab3f6ab2",
   "metadata": {},
   "outputs": [
    {
     "data": {
      "text/plain": [
       "'z'"
      ]
     },
     "execution_count": 7,
     "metadata": {},
     "output_type": "execute_result"
    }
   ],
   "source": [
    "isim[-1]"
   ]
  },
  {
   "cell_type": "code",
   "execution_count": 8,
   "id": "2dff335c-8dea-4035-9456-4e0deac124ba",
   "metadata": {},
   "outputs": [
    {
     "data": {
      "text/plain": [
       "'i'"
      ]
     },
     "execution_count": 8,
     "metadata": {},
     "output_type": "execute_result"
    }
   ],
   "source": [
    "isim[-2]  "
   ]
  },
  {
   "cell_type": "markdown",
   "id": "92b5d040-4910-4b3d-aa92-5ec13a7faca4",
   "metadata": {},
   "source": [
    "<span style=\"font-family: 'Arial', sans-serif; font-size: 16px;\">**Ancak, dizinin uzunluğunu aşan bir indeks kullanırsak, hata alırız. \"Deniz\" dizisi 5 karakter içerir, yani indeksler 0'dan 4'e kadar gider. Bu nedenle, 4'ten büyük bir indeks kullanmak hata verecektir:**</span>"
   ]
  },
  {
   "cell_type": "code",
   "execution_count": 9,
   "id": "40d89fcb-a456-46b1-9cef-b047095c8a1a",
   "metadata": {},
   "outputs": [
    {
     "ename": "IndexError",
     "evalue": "string index out of range",
     "output_type": "error",
     "traceback": [
      "\u001b[1;31m---------------------------------------------------------------------------\u001b[0m",
      "\u001b[1;31mIndexError\u001b[0m                                Traceback (most recent call last)",
      "Cell \u001b[1;32mIn[9], line 1\u001b[0m\n\u001b[1;32m----> 1\u001b[0m \u001b[43misim\u001b[49m\u001b[43m[\u001b[49m\u001b[38;5;241;43m5\u001b[39;49m\u001b[43m]\u001b[49m  \u001b[38;5;66;03m# Hata: IndexError: string index out of range\u001b[39;00m\n",
      "\u001b[1;31mIndexError\u001b[0m: string index out of range"
     ]
    }
   ],
   "source": [
    "isim[5]  # Hata: IndexError: string index out of range"
   ]
  },
  {
   "cell_type": "markdown",
   "id": "0944191f-c316-454d-8c54-525791373de3",
   "metadata": {},
   "source": [
    "<div style=\"float: right; background-color: #333; padding: 5px; border: 1px solid #ccc; height: 150px; width: 750px;\">\n",
    "    <h3 style=\"color: #c0c0c0;\">Not Kutusu</h3>\n",
    "    <p style=\"font-family: 'Arial' sans-serif; font-size: 14px; color: #ffffff;\">İndekslerin 0'dan başladığını ve son indeksin dizinin uzunluğunun bir eksiği olduğunu bilerek indeksleme yapmak, hataları önler ve işlemleri daha güvenli hale getirir. Bu bilgiyle, listenin son elemanına erişmek için uzunluğun bir eksiği olan indeksi kullanabiliriz veya negatif indeksleme kullanarak direkt olarak son elemana erişebiliriz. Bu sayede, diziler üzerinde güvenli ve hatasız indeksleme işlemleri yapabiliriz.</p>\n",
    "</div>"
   ]
  },
  {
   "cell_type": "markdown",
   "id": "78bcc309-3e64-4b9d-8d27-1272d72ad536",
   "metadata": {},
   "source": [
    "### Dizin Sınırlarını Aşma Hataları ve Stringlerin Değiştirilemezliği:"
   ]
  },
  {
   "cell_type": "markdown",
   "id": "28d501f0-d95a-42a7-8e2f-1234b76db28b",
   "metadata": {},
   "source": [
    "<span style=\"font-family: 'Arial', sans-serif; font-size: 16px;\">Bu başlık altında, Python'da indeksleme sırasında dizinin sınırlarını aşma hatalarını (IndexError) ve stringlerin değiştirilemez (immutable) doğasını ele alacağım.</span>"
   ]
  },
  {
   "cell_type": "code",
   "execution_count": 10,
   "id": "83043c82-bf8c-4c3b-8a4c-6dc2705fbc4a",
   "metadata": {},
   "outputs": [
    {
     "data": {
      "text/plain": [
       "5"
      ]
     },
     "execution_count": 10,
     "metadata": {},
     "output_type": "execute_result"
    }
   ],
   "source": [
    "len(isim)"
   ]
  },
  {
   "cell_type": "markdown",
   "id": "898c4945-073d-47f7-90f2-c2ee30a1373c",
   "metadata": {},
   "source": [
    "<span style=\"font-family: 'Arial', sans-serif; font-size: 16px;\">Burada, len(isim) ifadesi \"Deniz\" stringinin uzunluğunu verir, yani 5 karakterden oluştuğunu gösterir.\n",
    "</span>"
   ]
  },
  {
   "cell_type": "code",
   "execution_count": 11,
   "id": "1d3d6840-6895-463c-ac11-27265ad2d8e8",
   "metadata": {},
   "outputs": [
    {
     "ename": "IndexError",
     "evalue": "string index out of range",
     "output_type": "error",
     "traceback": [
      "\u001b[1;31m---------------------------------------------------------------------------\u001b[0m",
      "\u001b[1;31mIndexError\u001b[0m                                Traceback (most recent call last)",
      "Cell \u001b[1;32mIn[11], line 1\u001b[0m\n\u001b[1;32m----> 1\u001b[0m \u001b[43misim\u001b[49m\u001b[43m[\u001b[49m\u001b[38;5;241;43m5\u001b[39;49m\u001b[43m]\u001b[49m\n",
      "\u001b[1;31mIndexError\u001b[0m: string index out of range"
     ]
    }
   ],
   "source": [
    "isim[5]"
   ]
  },
  {
   "cell_type": "markdown",
   "id": "b875e5a1-8052-424c-b00f-9a0d3658651e",
   "metadata": {},
   "source": [
    "<div style=\"float: right; background-color: #333; padding: 5px; border: 1px solid #ccc; height: 100x; width: 600px;\">\n",
    "    <h3 style=\"color: #c0c0c0;\">Hatalı İşlem!!!!</h3>\n",
    "    <p style=\"font-family: 'Arial' sans-serif; font-size: 14px; color: #ffffff;\">Kodunda hata aldığın yerde, \"Deniz\" stringinin sınırlarını aşmışsın. Python'da indeksler 0'dan başlar ve \"Deniz\" stringi 5 karakterden oluşur. Ancak, 5. indeksi (indeks 5) çağırdığında sınırları aştığın için hata alırsın. Bu yüzden isim[5] ifadesi hata veriyor.</p>\n",
    "</div>"
   ]
  },
  {
   "cell_type": "code",
   "execution_count": 12,
   "id": "913b8022-7357-411c-9124-d9fe4a837bf7",
   "metadata": {},
   "outputs": [
    {
     "ename": "TypeError",
     "evalue": "'str' object does not support item assignment",
     "output_type": "error",
     "traceback": [
      "\u001b[1;31m---------------------------------------------------------------------------\u001b[0m",
      "\u001b[1;31mTypeError\u001b[0m                                 Traceback (most recent call last)",
      "Cell \u001b[1;32mIn[12], line 1\u001b[0m\n\u001b[1;32m----> 1\u001b[0m \u001b[43misim\u001b[49m\u001b[43m[\u001b[49m\u001b[38;5;241;43m0\u001b[39;49m\u001b[43m]\u001b[49m \u001b[38;5;241m=\u001b[39m \u001b[38;5;124m\"\u001b[39m\u001b[38;5;124mb\u001b[39m\u001b[38;5;124m\"\u001b[39m\n",
      "\u001b[1;31mTypeError\u001b[0m: 'str' object does not support item assignment"
     ]
    }
   ],
   "source": [
    "isim[0] = \"b\""
   ]
  },
  {
   "cell_type": "markdown",
   "id": "54c77c5b-3a7f-4f83-a77f-e3ac1e927305",
   "metadata": {},
   "source": [
    "<div style=\"float: right; background-color: #333; padding: 5px; border: 1px solid #ccc; height: 100x; width: 600px;\">\n",
    "    <h3 style=\"color: #c0c0c0;\">Hatalı İşlem!!!!</h3>\n",
    "    <p style=\"font-family: 'Arial' sans-serif; font-size: 14px; color: #ffffff;\">Bu hata, stringlerin değiştirilemez olduğunu gösterir. Yani, bir stringin belirli bir karakterini değiştiremezsiniz. Bu nedenle, isim[0] = \"b\" ifadesi hata verir.</p>\n",
    "</div>"
   ]
  },
  {
   "cell_type": "markdown",
   "id": "53b6f418-7070-49b8-aaec-7428d05c3eaf",
   "metadata": {},
   "source": [
    "## Slicing (Dilimleme)"
   ]
  },
  {
   "cell_type": "markdown",
   "id": "e754c965-c6a5-42b7-b2ca-b8bb7efab944",
   "metadata": {},
   "source": [
    "<span style=\"font-family: 'Arial', sans-serif; font-size: 16px;\">Slicing, bir stringin veya dizinin belirli bir aralığını almak için kullanılan bir yöntemdir. Başlangıç ve bitiş indeksleri ile bu aralığı belirleyebiliriz. </span>"
   ]
  },
  {
   "cell_type": "code",
   "execution_count": 16,
   "id": "b2f731cb-e558-485b-969d-b018f19a5f13",
   "metadata": {},
   "outputs": [],
   "source": [
    "isim = \"Deniz\""
   ]
  },
  {
   "cell_type": "markdown",
   "id": "0979d27d-ad38-47e2-97d5-6b80285545ac",
   "metadata": {},
   "source": [
    "<span style=\"font-family: 'Arial', sans-serif; font-size: 16px;\">**Başlangıç (0) indeksinden 3. indekse kadar (3 dahil değil) olan kısmı alalım**</span>"
   ]
  },
  {
   "cell_type": "code",
   "execution_count": 21,
   "id": "3c69308c-2a4e-40ca-8733-44492218a11d",
   "metadata": {},
   "outputs": [
    {
     "data": {
      "text/plain": [
       "'Den'"
      ]
     },
     "execution_count": 21,
     "metadata": {},
     "output_type": "execute_result"
    }
   ],
   "source": [
    "isim[0:3]"
   ]
  },
  {
   "cell_type": "markdown",
   "id": "d67b4a6d-6cdd-4c56-9a8e-e15bb04fb301",
   "metadata": {},
   "source": [
    "<span style=\"font-family: 'Arial', sans-serif; font-size: 16px;\">**Başlangıç indeksi belirtmezsek, Python otomatik olarak 0'ı alır**</span>"
   ]
  },
  {
   "cell_type": "code",
   "execution_count": 22,
   "id": "2570a22c-dd1a-4476-a6db-c98ac4335b68",
   "metadata": {},
   "outputs": [
    {
     "data": {
      "text/plain": [
       "'Den'"
      ]
     },
     "execution_count": 22,
     "metadata": {},
     "output_type": "execute_result"
    }
   ],
   "source": [
    "isim[:3]"
   ]
  },
  {
   "cell_type": "markdown",
   "id": "6c20c09c-5e60-4987-9899-200a2749d824",
   "metadata": {},
   "source": [
    "<span style=\"font-family: 'Arial', sans-serif; font-size: 16px;\">**Bitiş indeksi belirtmezsek, Python stringin sonuna kadar alır**</span>"
   ]
  },
  {
   "cell_type": "code",
   "execution_count": 23,
   "id": "9b39b236-52cf-4169-a103-f3088dcbdb88",
   "metadata": {},
   "outputs": [
    {
     "data": {
      "text/plain": [
       "'eniz'"
      ]
     },
     "execution_count": 23,
     "metadata": {},
     "output_type": "execute_result"
    }
   ],
   "source": [
    "isim[1:]"
   ]
  },
  {
   "cell_type": "markdown",
   "id": "08328ed1-05cf-483d-a05a-6bbc04e7e926",
   "metadata": {},
   "source": [
    "<span style=\"font-family: 'Arial', sans-serif; font-size: 16px;\">**Başlangıç ve bitiş indekslerini belirtmezsek, Python stringin tamamını alır**</span>"
   ]
  },
  {
   "cell_type": "code",
   "execution_count": 24,
   "id": "a8299995-74af-427a-a9d1-ecdd7c60ff53",
   "metadata": {},
   "outputs": [
    {
     "data": {
      "text/plain": [
       "'Deniz'"
      ]
     },
     "execution_count": 24,
     "metadata": {},
     "output_type": "execute_result"
    }
   ],
   "source": [
    "isim[:]"
   ]
  },
  {
   "cell_type": "markdown",
   "id": "78856832-f4a0-410e-97c4-e66ceb3f954c",
   "metadata": {},
   "source": [
    "### !!Slicing yaparken başlangıç:bitiş:adım formatını kullanabiliriz. Burada `adım`, karakterleri kaçar kaçar alacağımızı belirler."
   ]
  },
  {
   "cell_type": "markdown",
   "id": "5ade8d88-0c6b-4e4d-999d-b24bd2519bf3",
   "metadata": {},
   "source": [
    "<span style=\"font-family: 'Arial', sans-serif; font-size: 16px;\">**1- 0. indexten başlayarak 10. indekse kadar 2'şer adımlarla ilerleyerek**</span>"
   ]
  },
  {
   "cell_type": "code",
   "execution_count": 26,
   "id": "681de8fe-db73-427d-8f55-6f4b8ded9c44",
   "metadata": {},
   "outputs": [
    {
     "data": {
      "text/plain": [
       "'Dnz'"
      ]
     },
     "execution_count": 26,
     "metadata": {},
     "output_type": "execute_result"
    }
   ],
   "source": [
    "isim[0:10:2]"
   ]
  },
  {
   "cell_type": "markdown",
   "id": "3dcce26c-fc32-42ab-b055-8630feaf1280",
   "metadata": {},
   "source": [
    "<span style=\"font-family: 'Arial', sans-serif; font-size: 16px;\">**2- 0. indexten başlayarak 10. indekse kadar 3'er adımlarla ilerleyerek**</span>"
   ]
  },
  {
   "cell_type": "code",
   "execution_count": 27,
   "id": "046d4b4c-14db-4b84-b7bf-8fd7a3118650",
   "metadata": {},
   "outputs": [
    {
     "data": {
      "text/plain": [
       "'Di'"
      ]
     },
     "execution_count": 27,
     "metadata": {},
     "output_type": "execute_result"
    }
   ],
   "source": [
    "isim[0:10:3]"
   ]
  },
  {
   "cell_type": "markdown",
   "id": "e7bc5cfc-abff-44a2-a7f1-3c5043e12333",
   "metadata": {},
   "source": [
    "<div style=\"float: right; background-color: #333; padding: 5px; border: 1px solid #ccc; height: 120px; width: 600px;\">\n",
    "    <h3 style=\"color: #c0c0c0;\">Not Kutusu</h3>\n",
    "    <p style=\"font-family: 'Arial' sans-serif; font-size: 14px; color: #ffffff;\">Adım parametresi negatif olabilir, böylece slicing işlemi ters yönde gidebilir. Ancak, başlangıç indeksi bitiş indeksinden büyük olmalıdır. Aksi takdirde, slicing işlemi boş bir string döndürür.\n",
    "    <br>\n",
    "        <strong style=\"font-size: 16px;\">başlangıç:bitiş:adım</strong>\n",
    "    </p>\n",
    "</div>"
   ]
  },
  {
   "cell_type": "markdown",
   "id": "8a6cb207-77d8-49b0-9b86-4475f9016fb5",
   "metadata": {},
   "source": [
    "<span style=\"font-family: 'Arial', sans-serif; font-size: 16px;\">**3- 0. indexten 10. indexe, 1 azalarak (ters yönde) giderek**</span>"
   ]
  },
  {
   "cell_type": "code",
   "execution_count": 28,
   "id": "f20ff793-95a3-4259-a752-2c1967b95cc8",
   "metadata": {},
   "outputs": [
    {
     "data": {
      "text/plain": [
       "''"
      ]
     },
     "execution_count": 28,
     "metadata": {},
     "output_type": "execute_result"
    }
   ],
   "source": [
    "isim[0:10:-1]         # başlangış index'i bitiş index'inden küçük o yüzden boş string değeri döndü"
   ]
  },
  {
   "cell_type": "markdown",
   "id": "09a883b7-cccd-4215-9f50-981d638954c0",
   "metadata": {},
   "source": [
    "<span style=\"font-family: 'Arial', sans-serif; font-size: 16px;\">**4- 10. indexten başlayarak 0. indekse, 1 azalarak (ters yönde) giderek**</span>"
   ]
  },
  {
   "cell_type": "code",
   "execution_count": 34,
   "id": "f448ade0-3b57-4e86-9add-5618939faa68",
   "metadata": {},
   "outputs": [
    {
     "data": {
      "text/plain": [
       "'zine'"
      ]
     },
     "execution_count": 34,
     "metadata": {},
     "output_type": "execute_result"
    }
   ],
   "source": [
    "isim[10:0:-1]          # 0, burada bize bitiş index'ini gösterir ve o index dahil olmaz o yüzde D ifadesi çıktıda yok"
   ]
  },
  {
   "cell_type": "markdown",
   "id": "f5358c0a-643c-450b-8384-b5e7dafa350f",
   "metadata": {},
   "source": [
    "<span style=\"font-family: 'Arial', sans-serif; font-size: 16px;\">**Stringi ters çevirmek için sıklıkla kullanılan bir yöntem**</span>"
   ]
  },
  {
   "cell_type": "code",
   "execution_count": 31,
   "id": "a3303046-6eba-4335-a71a-2139b1f1207d",
   "metadata": {},
   "outputs": [
    {
     "data": {
      "text/plain": [
       "'zineD'"
      ]
     },
     "execution_count": 31,
     "metadata": {},
     "output_type": "execute_result"
    }
   ],
   "source": [
    "isim[::-1]"
   ]
  },
  {
   "cell_type": "markdown",
   "id": "a17a38cb-4620-4236-9540-bed6fefa2c08",
   "metadata": {},
   "source": [
    "<span style=\"font-family: 'Arial', sans-serif; font-size: 16px;\">**Her 2. indeksi alarak ters çevirelim**</span>"
   ]
  },
  {
   "cell_type": "code",
   "execution_count": 33,
   "id": "fc4705b7-4142-4d82-8d5d-8364f7ebb9f1",
   "metadata": {},
   "outputs": [
    {
     "data": {
      "text/plain": [
       "'znD'"
      ]
     },
     "execution_count": 33,
     "metadata": {},
     "output_type": "execute_result"
    }
   ],
   "source": [
    "isim[::-2]"
   ]
  }
 ],
 "metadata": {
  "kernelspec": {
   "display_name": "Python 3 (ipykernel)",
   "language": "python",
   "name": "python3"
  },
  "language_info": {
   "codemirror_mode": {
    "name": "ipython",
    "version": 3
   },
   "file_extension": ".py",
   "mimetype": "text/x-python",
   "name": "python",
   "nbconvert_exporter": "python",
   "pygments_lexer": "ipython3",
   "version": "3.12.3"
  }
 },
 "nbformat": 4,
 "nbformat_minor": 5
}
