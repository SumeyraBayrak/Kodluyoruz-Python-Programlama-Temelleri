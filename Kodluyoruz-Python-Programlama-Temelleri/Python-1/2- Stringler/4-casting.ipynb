{
 "cells": [
  {
   "cell_type": "markdown",
   "id": "773774ba-14af-439d-98b3-e74004703df9",
   "metadata": {},
   "source": [
    "## Stringlerde Casting"
   ]
  },
  {
   "cell_type": "markdown",
   "id": "6ce531e4-87d0-4365-b69a-34c368f178df",
   "metadata": {},
   "source": [
    "<span style=\"font-family: 'Arial', sans-serif; font-size: 16px;\">Stringlerde casting, bir string ifadeyi başka bir veri tipine dönüştürme işlemidir. Python'da sıkça kullanılan cast işlemleri arasında stringleri integer veya float sayılara dönüştürme bulunur.</span>"
   ]
  },
  {
   "cell_type": "code",
   "execution_count": 1,
   "id": "61113e53-850c-43b6-935e-e2fe7dea2a6b",
   "metadata": {},
   "outputs": [],
   "source": [
    "a = \"5\"  # Bir string olan 'a' değişkeni"
   ]
  },
  {
   "cell_type": "code",
   "execution_count": 2,
   "id": "5cd30ff8-4231-4eeb-8524-ef9dc66e26e0",
   "metadata": {},
   "outputs": [],
   "source": [
    "b = \"5.3\"  # Bir string olan 'b' değişkeni"
   ]
  },
  {
   "cell_type": "markdown",
   "id": "95e6b670-a276-4ea8-b1ab-519e24de059d",
   "metadata": {},
   "source": [
    "<span style=\"font-family: 'Arial', sans-serif; font-size: 16px;\">**'a' değişkenini integer'a (tam sayıya) dönüştürme:**</span>"
   ]
  },
  {
   "cell_type": "code",
   "execution_count": 3,
   "id": "dfe63981-6ad3-4a6f-87c4-e9977407fc50",
   "metadata": {},
   "outputs": [
    {
     "data": {
      "text/plain": [
       "5"
      ]
     },
     "execution_count": 3,
     "metadata": {},
     "output_type": "execute_result"
    }
   ],
   "source": [
    "int(a)"
   ]
  },
  {
   "cell_type": "markdown",
   "id": "dc3f1504-201b-4fee-a2b9-93c2e7e40cde",
   "metadata": {},
   "source": [
    "<span style=\"font-family: 'Arial', sans-serif; font-size: 16px;\">**'b' değişkenini float'a (ondalık sayıya) dönüştürme:**</span>"
   ]
  },
  {
   "cell_type": "code",
   "execution_count": 4,
   "id": "e61fd62e-03b1-4803-9cb7-6349c92b7562",
   "metadata": {},
   "outputs": [
    {
     "data": {
      "text/plain": [
       "5.3"
      ]
     },
     "execution_count": 4,
     "metadata": {},
     "output_type": "execute_result"
    }
   ],
   "source": [
    "float(b)"
   ]
  },
  {
   "cell_type": "markdown",
   "id": "ae72574c-a849-495f-9dda-140a24f28818",
   "metadata": {},
   "source": [
    "<span style=\"font-family: 'Arial', sans-serif; font-size: 16px;\">**'b' değişkenini önce float'a dönüştürüp sonra integer'a dönüştürme:**</span>"
   ]
  },
  {
   "cell_type": "code",
   "execution_count": 5,
   "id": "484bae81-8f30-4409-a36b-a98ae4391f02",
   "metadata": {},
   "outputs": [
    {
     "data": {
      "text/plain": [
       "5"
      ]
     },
     "execution_count": 5,
     "metadata": {},
     "output_type": "execute_result"
    }
   ],
   "source": [
    "int(float(b))"
   ]
  },
  {
   "cell_type": "markdown",
   "id": "292ab5e9-1b0d-46ac-a7da-c53ad31f3c5f",
   "metadata": {},
   "source": [
    "<div style=\"float: right; background-color: #333; padding: 5px; border: 1px solid #ccc; height: 150px; width: 600px;\">\n",
    "    <h3 style=\"color: #c0c0c0;\">Not Kutusu</h3>\n",
    "    <p style=\"font-family: 'Arial' sans-serif; font-size: 14px; color: #ffffff;\">\"'a' değişkeni zaten bir tam sayı olduğundan, doğrudan integer'a dönüştürülebilir. Ancak, 'b' değişkeni bir ondalık sayı olduğu için önce float'a dönüştürülmesi gerekir. Bu nedenle, int(float(b)) ifadesi ile 'b' değişkeni önce float'a dönüştürülür ve ardından integer'a dönüştürülür. Bu işlem sonucunda elde edilen değer 5 olur.</p>\n",
    "</div>"
   ]
  }
 ],
 "metadata": {
  "kernelspec": {
   "display_name": "Python 3 (ipykernel)",
   "language": "python",
   "name": "python3"
  },
  "language_info": {
   "codemirror_mode": {
    "name": "ipython",
    "version": 3
   },
   "file_extension": ".py",
   "mimetype": "text/x-python",
   "name": "python",
   "nbconvert_exporter": "python",
   "pygments_lexer": "ipython3",
   "version": "3.12.3"
  }
 },
 "nbformat": 4,
 "nbformat_minor": 5
}
