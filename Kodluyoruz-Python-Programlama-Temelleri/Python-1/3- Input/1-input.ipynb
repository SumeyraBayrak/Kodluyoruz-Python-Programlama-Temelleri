{
 "cells": [
  {
   "cell_type": "markdown",
   "id": "f1e4a442-60a5-4276-b78c-07fe2bc2cc65",
   "metadata": {},
   "source": [
    "## input() Fonksiyonu: Kullanıcıdan Girdi Almak"
   ]
  },
  {
   "cell_type": "markdown",
   "id": "07e2d704-0ed5-4936-9864-edb66f34e818",
   "metadata": {},
   "source": [
    "<span style=\"font-family: 'Arial', sans-serif; font-size: 16px;\">Kullanıcıdan bir girdi almak için input() fonksiyonu kullanılır. Bu fonksiyon, kullanıcıya belirtilen metni gösterir, kullanıcının girdi yapmasını bekler ve girdiyi bir string olarak döndürür.</span>"
   ]
  },
  {
   "cell_type": "code",
   "execution_count": 4,
   "id": "a90ea1fd-488d-44ee-944e-5fda1806e385",
   "metadata": {},
   "outputs": [
    {
     "name": "stdin",
     "output_type": "stream",
     "text": [
      "Lütfen bir sayı girin:  5\n"
     ]
    }
   ],
   "source": [
    " kullanici_girdisi = input(\"Lütfen bir sayı girin: \")"
   ]
  },
  {
   "cell_type": "markdown",
   "id": "86cbf44f-82b1-401c-ac58-6d640fac738a",
   "metadata": {},
   "source": [
    "<span style=\"font-family: 'Arial', sans-serif; font-size: 16px;\">Bu kod, kullanıcıya \"Lütfen bir sayı girin: \" şeklinde bir metin gösterir ve kullanıcının girdi yapmasını bekler. Kullanıcı bir sayı girerse, bu sayı bir string olarak kullanici_girdisi değişkenine atanır.</span>"
   ]
  },
  {
   "cell_type": "code",
   "execution_count": 5,
   "id": "1a4b1104-fb8d-4912-8db9-a56c12e36d0f",
   "metadata": {},
   "outputs": [
    {
     "name": "stdout",
     "output_type": "stream",
     "text": [
      "Kullanıcının girdisi: 5\n"
     ]
    }
   ],
   "source": [
    "print(\"Kullanıcının girdisi:\", kullanici_girdisi)"
   ]
  },
  {
   "cell_type": "markdown",
   "id": "ff652cd7-ce10-41a3-8ee2-16b66ce17572",
   "metadata": {},
   "source": [
    "<span style=\"font-family: 'Arial', sans-serif; font-size: 16px;\">Kullanıcı girdi olarak 5 'i seçtiği için kullanici_girdisi adlı değişken 5 değerine eşit oldu</span>"
   ]
  },
  {
   "cell_type": "markdown",
   "id": "bb8257c9-6f3c-40bb-9f50-44ee31a2f0e3",
   "metadata": {},
   "source": [
    "<span style=\"font-family: 'Arial', sans-serif; font-size: 16px;\">**Bu metot, kullanıcıdan birden fazla türde girdi almak için kullanılabilir. Örneğin, kullanıcıya bir metin ve ardından bir sayı girmesi isteniyorsa:**</span>"
   ]
  },
  {
   "cell_type": "code",
   "execution_count": 7,
   "id": "922605b3-d92e-4dcf-a6f5-4922218ebe72",
   "metadata": {},
   "outputs": [
    {
     "name": "stdin",
     "output_type": "stream",
     "text": [
      "Adınızı girin:  Sümeyra\n",
      "Yaşınızı girin:  26\n"
     ]
    }
   ],
   "source": [
    "isim = input(\"Adınızı girin: \")\n",
    "yas = input(\"Yaşınızı girin: \")"
   ]
  },
  {
   "cell_type": "markdown",
   "id": "66a8b145-93f5-451f-94ba-bf2e404253a2",
   "metadata": {},
   "source": [
    "<span style=\"font-family: 'Arial', sans-serif; font-size: 16px;\">Ancak, unutulmaması gereken bir nokta var; input fonksiyonundan dönen değer her zaman bir string olacaktır. Bu nedenle, kullanıcının girdisini başka bir türe dönüştürmek istiyorsak (örneğin, bir tamsayıya veya ondalık sayıya), bu dönüşümü açıkça yapmamız gerekir:</span>"
   ]
  },
  {
   "cell_type": "code",
   "execution_count": null,
   "id": "7e3e708a-981f-43cc-8368-99c1880e769c",
   "metadata": {},
   "outputs": [],
   "source": [
    "yas2 = int(input(\"Yaşınızı girin: \"))"
   ]
  },
  {
   "cell_type": "markdown",
   "id": "d7cc2960-f605-45a7-a380-c4d6d4794368",
   "metadata": {},
   "source": [
    "<span style=\"font-family: 'Arial', sans-serif; font-size: 16px;\">Bu kod parçası, kullanıcının girdisini bir tamsayıya dönüştürür. Eğer kullanıcı bir tamsayı dışında bir şey girerse, program hata verecektir. </span>"
   ]
  }
 ],
 "metadata": {
  "kernelspec": {
   "display_name": "Python 3 (ipykernel)",
   "language": "python",
   "name": "python3"
  },
  "language_info": {
   "codemirror_mode": {
    "name": "ipython",
    "version": 3
   },
   "file_extension": ".py",
   "mimetype": "text/x-python",
   "name": "python",
   "nbconvert_exporter": "python",
   "pygments_lexer": "ipython3",
   "version": "3.12.3"
  }
 },
 "nbformat": 4,
 "nbformat_minor": 5
}
