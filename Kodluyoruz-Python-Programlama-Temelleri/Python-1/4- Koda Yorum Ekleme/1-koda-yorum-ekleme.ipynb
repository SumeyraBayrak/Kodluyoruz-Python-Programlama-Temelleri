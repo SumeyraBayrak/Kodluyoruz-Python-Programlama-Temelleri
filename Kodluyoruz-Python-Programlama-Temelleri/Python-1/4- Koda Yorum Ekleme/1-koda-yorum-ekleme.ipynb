{
 "cells": [
  {
   "cell_type": "markdown",
   "id": "43551a18-6fee-447b-890f-a696829c0ca7",
   "metadata": {},
   "source": [
    "## Yorumlar (Comments)"
   ]
  },
  {
   "cell_type": "markdown",
   "id": "6c8e3f59-c92e-4431-98f1-5fa817075f5f",
   "metadata": {},
   "source": [
    "<span style=\"font-family: 'Arial', sans-serif; font-size: 16px;\">Yorumlar (comments), bir programın farklı bölümlerini anlamak için yazılan açıklamalardır. Bu açıklamalar, kodun ne yaptığını ve neden yapıldığını anlamak için kullanılır.</span>"
   ]
  },
  {
   "cell_type": "markdown",
   "id": "bb224a0a-ec85-4ca3-a2b8-590867c26f00",
   "metadata": {},
   "source": [
    "### Yorumların Önemi"
   ]
  },
  {
   "cell_type": "markdown",
   "id": "9f029c26-542d-43f4-b4bc-2f1cd8120b2e",
   "metadata": {},
   "source": [
    "<span style=\"font-family: 'Arial', sans-serif; font-size: 16px;\">1.Kodun Anlaşılabilirliği: Başkaları veya sizin gibi uzun süre sonra kendi yazdığınız kodları anlamak zor olabilir. Yorumlar, kodun ne yaptığını açıklar ve bu şekilde kodun daha kolay anlaşılmasını sağlar.</span>"
   ]
  },
  {
   "cell_type": "markdown",
   "id": "763f11a2-2baa-4754-87e7-42b1f678916f",
   "metadata": {},
   "source": [
    "<span style=\"font-family: 'Arial', sans-serif; font-size: 16px;\">2.Kodun Bakımı: Kodunuzda bir hata bulunduğunda veya bir değişiklik yapmanız gerektiğinde, yorumlar bu süreci daha kolay ve hızlı hale getirir. Kodun ne amaçla yazıldığını anlamak, hataları bulmayı ve düzeltmeyi kolaylaştırır.</span>"
   ]
  },
  {
   "cell_type": "markdown",
   "id": "bd4b1874-19be-4d72-823d-5c0b736d1e23",
   "metadata": {},
   "source": [
    "<span style=\"font-family: 'Arial', sans-serif; font-size: 16px;\">3.İşbirliği: Bir ekip içinde çalışırken, herkesin neyi neden yaptığını anlamak önemlidir. Yorumlar, diğer ekip üyelerinin kodunuzu anlamasına ve üzerinde çalışmasına yardımcı olur.</span>"
   ]
  },
  {
   "cell_type": "markdown",
   "id": "0c80736f-a71c-434e-9bb5-903442c8ad1b",
   "metadata": {},
   "source": [
    "### Yorum Türleri"
   ]
  },
  {
   "cell_type": "markdown",
   "id": "4b7a2cff-8636-4ff1-aa38-7a3e06a116a6",
   "metadata": {},
   "source": [
    "<span style=\"font-family: 'Arial', sans-serif; font-size: 16px;\">1.Tek Satırlık Yorumlar: Kodun yanında tek bir satırda yazılan açıklamalardır. Genellikle `#` karakteriyle başlar.</span>"
   ]
  },
  {
   "cell_type": "code",
   "execution_count": 8,
   "id": "3b2eb2ee-f290-4d4a-ac2b-f8a122d41944",
   "metadata": {},
   "outputs": [],
   "source": [
    "limon = 2               # limon değişkeni bir günde satılan limonları ifade ediyor"
   ]
  },
  {
   "cell_type": "code",
   "execution_count": 9,
   "id": "4d11fc06-a838-4e4f-8c5d-dcb22acd9f36",
   "metadata": {},
   "outputs": [
    {
     "name": "stdout",
     "output_type": "stream",
     "text": [
      "14\n"
     ]
    }
   ],
   "source": [
    "sonuc = limon * 7       \n",
    "print(sonuc)            # sonuc değişkeni bir haftada kaç limon satıldığını belirtiyor"
   ]
  },
  {
   "cell_type": "markdown",
   "id": "bbe8d317-6183-4ccb-834c-af9008e4be4b",
   "metadata": {},
   "source": [
    "<span style=\"font-family: 'Arial', sans-serif; font-size: 16px;\">Bu kodda yorumlar, değişkenlerin neyi temsil ettiğini açıklamak için kullanılmıştır. Yorumlar, kodu okuyan kişilerin, kodun ne yaptığını ve her bir değişkenin neyi temsil ettiğini daha kolay anlamalarını sağlar.</span>"
   ]
  },
  {
   "cell_type": "markdown",
   "id": "ffe8ca87-a320-4fda-9c50-c93193c26b37",
   "metadata": {},
   "source": [
    "<div style=\"float: right; background-color: #333; padding: 5px; border: 1px solid #ccc; height: 150px; width: 750px;\">\n",
    "    <h3 style=\"color: #c0c0c0;\">Yorum Yazma İpucu</h3>\n",
    "    <p style=\"font-family: 'Arial' sans-serif; font-size: 14px; color: #ffffff;\">\n",
    "    1.Anlaşılır ve Kısa Olmalı:Yorumlar açık ve kısa olmalıdır. Karmaşık bir dil veya gereksiz detaylar kullanmaktan kaçının.\n",
    "    <br>\n",
    "    2.Yanıltıcı Olmamalı: Yanıltıcı veya yanlış bilgi içermemelidir. Kodun gerçekte ne yaptığını yansıtmalıdır.\n",
    "    <br>\n",
    "    3.Düzenli Olmalı: Kodunuzun farklı bölümlerine uygun düzenli yorumlar ekleyin. Kodunuzun mantığını ve işlevselliğini anlamak için yorumlar arasında boşluklar bırakın.</p>\n",
    "</div>"
   ]
  }
 ],
 "metadata": {
  "kernelspec": {
   "display_name": "Python 3 (ipykernel)",
   "language": "python",
   "name": "python3"
  },
  "language_info": {
   "codemirror_mode": {
    "name": "ipython",
    "version": 3
   },
   "file_extension": ".py",
   "mimetype": "text/x-python",
   "name": "python",
   "nbconvert_exporter": "python",
   "pygments_lexer": "ipython3",
   "version": "3.12.3"
  }
 },
 "nbformat": 4,
 "nbformat_minor": 5
}
