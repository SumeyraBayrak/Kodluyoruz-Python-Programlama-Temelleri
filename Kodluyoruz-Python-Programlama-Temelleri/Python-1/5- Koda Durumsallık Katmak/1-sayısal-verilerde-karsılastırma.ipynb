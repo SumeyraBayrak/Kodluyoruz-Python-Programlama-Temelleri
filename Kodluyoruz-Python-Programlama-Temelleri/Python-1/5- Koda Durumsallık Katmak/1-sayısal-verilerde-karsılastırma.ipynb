{
 "cells": [
  {
   "cell_type": "markdown",
   "id": "94c12ec9-41c6-4459-ba19-4aa08cb2ada9",
   "metadata": {},
   "source": [
    "## Nümerik Veri Tiplerinde Karşılaştırma Operatörleri"
   ]
  },
  {
   "cell_type": "markdown",
   "id": "0e184b16-8bb7-469a-a479-ea97e84892c2",
   "metadata": {},
   "source": [
    "<span style=\"font-family: 'Arial', sans-serif; font-size: 16px;\">Programlamada koşullar genellikle belirli veriler arasında karşılaştırma yaparak test edilir. Bu karşılaştırmaları gerçekleştirmek için kullanılan araçlara `Comparison Operator'ler` veya `karşılaştırma operatörleri`\"karşılaştırma operatörleri\" denir. Özellikle nümerik veri tiplerinde, bu operatörler sıkça kullanılır. </span>"
   ]
  },
  {
   "cell_type": "markdown",
   "id": "e050592c-cd3b-4dd5-856c-ea13d1e5e723",
   "metadata": {},
   "source": [
    "### Eşitlik Karşılaştırması (==)"
   ]
  },
  {
   "cell_type": "markdown",
   "id": "dc46d4b8-f2ca-4bb0-811f-dc8ddd311d7f",
   "metadata": {},
   "source": [
    "<span style=\"font-family: 'Arial', sans-serif; font-size: 16px;\"> İki değerin birbirine tam olarak eşit olup olmadığını kontrol eder. Eğer değerler birbirine eşitse `True` değilse `False` dönecektir. </span>"
   ]
  },
  {
   "cell_type": "code",
   "execution_count": 2,
   "id": "6daf695e-b9b7-4c84-a04f-35bd7ae67c3b",
   "metadata": {},
   "outputs": [
    {
     "data": {
      "text/plain": [
       "False"
      ]
     },
     "execution_count": 2,
     "metadata": {},
     "output_type": "execute_result"
    }
   ],
   "source": [
    "5 == 4"
   ]
  },
  {
   "cell_type": "code",
   "execution_count": 3,
   "id": "b349f291-280d-4927-ab5b-1914c864ab69",
   "metadata": {},
   "outputs": [
    {
     "data": {
      "text/plain": [
       "True"
      ]
     },
     "execution_count": 3,
     "metadata": {},
     "output_type": "execute_result"
    }
   ],
   "source": [
    "5 == 5"
   ]
  },
  {
   "cell_type": "markdown",
   "id": "d8daf4e9-e0ac-4ac7-b61e-1a187fb4348d",
   "metadata": {},
   "source": [
    "<div style=\"float: right; background-color: #333; padding: 5px; border: 1px solid #ccc; height: 100x; width: 600px;\">\n",
    "    <h3 style=\"color: #c0c0c0;\">Not Kutusu</h3>\n",
    "    <p style=\"font-family: 'Arial' sans-serif; font-size: 14px; color: #ffffff;\">Float veri tipleri için eşitlik karşılaştırması yaparken `==` operatörü kullanmak genellikle beklenen sonuçları vermeyebilir. Bunun nedeni, bilgisayarın float sayılarını sınırlı bir hassasiyetle depolaması ve işlem yapmasıdır. Daha sonra daha detaylı değineceğiz</p>\n",
    "</div>"
   ]
  },
  {
   "cell_type": "markdown",
   "id": "66de7b2e-eb01-442d-ad4f-5e73ebd4d86d",
   "metadata": {},
   "source": [
    "### Örnek:"
   ]
  },
  {
   "cell_type": "code",
   "execution_count": 5,
   "id": "9bb897ea-a129-4ac4-9b59-6115cdc17fc0",
   "metadata": {},
   "outputs": [
    {
     "name": "stdout",
     "output_type": "stream",
     "text": [
      "False\n"
     ]
    }
   ],
   "source": [
    "x = (0.3 * 3) + 0.1\n",
    "y = 1.0\n",
    "\n",
    "print(x == y)"
   ]
  },
  {
   "cell_type": "markdown",
   "id": "e0367459-8bf4-441d-8094-4d72940c59f2",
   "metadata": {},
   "source": [
    "<span style=\"font-family: 'Arial', sans-serif; font-size: 16px;\">Burada, `x` ve `y` değişkenlerinin değerlerinin eşit olup olmadığını kontrol ediyoruz. Ancak, `x` değişkenine atanan değer, beklenenden çok küçük bir farkla 0.9999999999999999 olarak hesaplanmıştır. Bu nedenle, `x` ve `y` değişkenlerinin eşit olduğunu kontrol ederken, `False` sonucunu alırız. Bu yüzden float değerleri için Eşitlik Operatörlerini kullanmak doğru olmayacaktır</span>"
   ]
  },
  {
   "cell_type": "markdown",
   "id": "319fbc02-f9c6-4bdc-bf1b-7b8fe49b6ab0",
   "metadata": {},
   "source": [
    "### Eşitsizlik Karşılaştırması (!=)"
   ]
  },
  {
   "cell_type": "markdown",
   "id": "8ac7e27a-0924-40c9-b132-17b0168d8309",
   "metadata": {},
   "source": [
    "<span style=\"font-family: 'Arial', sans-serif; font-size: 16px;\">Eşitsizlik karşılaştırması, iki değerin birbirine eşit olmadığını kontrol eder. Yani, != operatörü, soldaki ve sağdaki değerin birbirine eşit olmadığını sorgular. </span>"
   ]
  },
  {
   "cell_type": "code",
   "execution_count": 7,
   "id": "5ec61a9a-26e7-4145-988c-692150a5018b",
   "metadata": {},
   "outputs": [
    {
     "data": {
      "text/plain": [
       "True"
      ]
     },
     "execution_count": 7,
     "metadata": {},
     "output_type": "execute_result"
    }
   ],
   "source": [
    "5 != 4"
   ]
  },
  {
   "cell_type": "code",
   "execution_count": 8,
   "id": "41a9b14c-d3cf-48f8-8f56-54a20a9b1252",
   "metadata": {},
   "outputs": [
    {
     "data": {
      "text/plain": [
       "False"
      ]
     },
     "execution_count": 8,
     "metadata": {},
     "output_type": "execute_result"
    }
   ],
   "source": [
    "5 != 5"
   ]
  },
  {
   "cell_type": "markdown",
   "id": "faa73ecd-60d4-49b6-ac4c-392000b2f4a2",
   "metadata": {},
   "source": [
    "<span style=\"font-family: 'Arial', sans-serif; font-size: 16px;\">Yukarıdaki örneklerde, 5 ve 4 birbirine eşit olmadığı için ifade doğrudur ve `True` döner. İkinci örnekte ise, 5 ve 5 birbirine eşittir, bu yüzden ifade yanlıştır ve `False` döner</span>"
   ]
  },
  {
   "cell_type": "markdown",
   "id": "e0019426-9574-405f-a3a8-8d8400098cfc",
   "metadata": {},
   "source": [
    "### Büyüklük Karşılaştırmaları (> ve >=)"
   ]
  },
  {
   "cell_type": "markdown",
   "id": "a25867da-e1b9-4e2c-8057-a8d4ecbd378a",
   "metadata": {},
   "source": [
    "<span style=\"font-family: 'Arial', sans-serif; font-size: 16px;\">Büyüklük karşılaştırmaları, bir değerin diğerinden büyük olup olmadığını kontrol eder. İki temel operatör, `>` (büyüktür) ve `>=` (büyük eşittir), bu tür karşılaştırmalar için kullanılır.</span>"
   ]
  },
  {
   "cell_type": "markdown",
   "id": "64e7759f-43dd-4254-ad41-e0ca5f8280c1",
   "metadata": {},
   "source": [
    "<span style=\"font-family: 'Arial', sans-serif; font-size: 16px;\"> `>` operatörü, soldaki değerin sağdaki değerden büyük olup olmadığını kontrol eder.\n",
    "<br>\n",
    "`>=` operatörü ise, soldaki değerin sağdaki değerden büyük veya eşit olup olmadığını </span>"
   ]
  },
  {
   "cell_type": "code",
   "execution_count": 10,
   "id": "605b5ca2-1055-4a96-98e8-087ea81e198c",
   "metadata": {},
   "outputs": [
    {
     "data": {
      "text/plain": [
       "True"
      ]
     },
     "execution_count": 10,
     "metadata": {},
     "output_type": "execute_result"
    }
   ],
   "source": [
    "5 > 4"
   ]
  },
  {
   "cell_type": "code",
   "execution_count": 11,
   "id": "4e01b6be-753d-4a89-bb49-45a8d6851f92",
   "metadata": {},
   "outputs": [
    {
     "data": {
      "text/plain": [
       "True"
      ]
     },
     "execution_count": 11,
     "metadata": {},
     "output_type": "execute_result"
    }
   ],
   "source": [
    "5 >= 5"
   ]
  },
  {
   "cell_type": "code",
   "execution_count": 12,
   "id": "26beb983-0bfb-4084-8cf5-ce90b7085189",
   "metadata": {},
   "outputs": [
    {
     "data": {
      "text/plain": [
       "True"
      ]
     },
     "execution_count": 12,
     "metadata": {},
     "output_type": "execute_result"
    }
   ],
   "source": [
    "10 > 7"
   ]
  },
  {
   "cell_type": "code",
   "execution_count": 13,
   "id": "c304e2b4-e9d1-4d33-acd7-9cdfc8bffc02",
   "metadata": {},
   "outputs": [
    {
     "data": {
      "text/plain": [
       "True"
      ]
     },
     "execution_count": 13,
     "metadata": {},
     "output_type": "execute_result"
    }
   ],
   "source": [
    "3 >= 3"
   ]
  },
  {
   "cell_type": "code",
   "execution_count": 14,
   "id": "4b66fb91-3724-48db-8682-78cd30cfb5af",
   "metadata": {},
   "outputs": [
    {
     "data": {
      "text/plain": [
       "False"
      ]
     },
     "execution_count": 14,
     "metadata": {},
     "output_type": "execute_result"
    }
   ],
   "source": [
    "7 > 10"
   ]
  },
  {
   "cell_type": "markdown",
   "id": "f16ac05d-1122-4441-8d0d-13ca11291457",
   "metadata": {},
   "source": [
    "### Küçüklük Karşılaştırmaları (< ve <=)"
   ]
  },
  {
   "cell_type": "markdown",
   "id": "7bb1ef82-6560-40d6-8bb9-108999a65d62",
   "metadata": {},
   "source": [
    "<span style=\"font-family: 'Arial', sans-serif; font-size: 16px;\">Küçüklük karşılaştırmaları, bir değerin diğerinden küçük olup olmadığını kontrol eder. İki temel operatör, `<` (küçüktür) ve `<=` (küçük eşittir), bu tür karşılaştırmalar için kullanılır</span>"
   ]
  },
  {
   "cell_type": "markdown",
   "id": "e5ec4638-230a-4cde-b638-ca603008339f",
   "metadata": {},
   "source": [
    "<span style=\"font-family: 'Arial', sans-serif; font-size: 16px;\">`<` operatörü, soldaki değerin sağdaki değerden küçük olup olmadığını kontrol eder.\n",
    "<br>\n",
    "`<=`operatörü ise, soldaki değerin sağdaki değerden küçük veya eşit olup olmadığını kontrol eder.\n",
    "</span>"
   ]
  },
  {
   "cell_type": "code",
   "execution_count": 15,
   "id": "a94a9c62-41cd-4e3a-acc1-1bb5eb0b052f",
   "metadata": {},
   "outputs": [
    {
     "data": {
      "text/plain": [
       "True"
      ]
     },
     "execution_count": 15,
     "metadata": {},
     "output_type": "execute_result"
    }
   ],
   "source": [
    "3 < 5"
   ]
  },
  {
   "cell_type": "code",
   "execution_count": 16,
   "id": "e418e33a-65c8-4a7a-927b-c72033170c73",
   "metadata": {},
   "outputs": [
    {
     "data": {
      "text/plain": [
       "True"
      ]
     },
     "execution_count": 16,
     "metadata": {},
     "output_type": "execute_result"
    }
   ],
   "source": [
    "3 <= 3"
   ]
  },
  {
   "cell_type": "code",
   "execution_count": 17,
   "id": "0fe96085-49bc-4dcf-a485-49fe6cde88a9",
   "metadata": {},
   "outputs": [
    {
     "data": {
      "text/plain": [
       "True"
      ]
     },
     "execution_count": 17,
     "metadata": {},
     "output_type": "execute_result"
    }
   ],
   "source": [
    "7 < 10"
   ]
  },
  {
   "cell_type": "code",
   "execution_count": 18,
   "id": "59461b63-7825-41f1-b9ec-2399085b5a7d",
   "metadata": {},
   "outputs": [
    {
     "data": {
      "text/plain": [
       "True"
      ]
     },
     "execution_count": 18,
     "metadata": {},
     "output_type": "execute_result"
    }
   ],
   "source": [
    "5 <= 5"
   ]
  },
  {
   "cell_type": "code",
   "execution_count": 19,
   "id": "f0f4d1b6-4976-4c57-ae78-b8b3e77bb19f",
   "metadata": {},
   "outputs": [
    {
     "data": {
      "text/plain": [
       "False"
      ]
     },
     "execution_count": 19,
     "metadata": {},
     "output_type": "execute_result"
    }
   ],
   "source": [
    "10 < 7"
   ]
  }
 ],
 "metadata": {
  "kernelspec": {
   "display_name": "Python 3 (ipykernel)",
   "language": "python",
   "name": "python3"
  },
  "language_info": {
   "codemirror_mode": {
    "name": "ipython",
    "version": 3
   },
   "file_extension": ".py",
   "mimetype": "text/x-python",
   "name": "python",
   "nbconvert_exporter": "python",
   "pygments_lexer": "ipython3",
   "version": "3.12.3"
  }
 },
 "nbformat": 4,
 "nbformat_minor": 5
}
