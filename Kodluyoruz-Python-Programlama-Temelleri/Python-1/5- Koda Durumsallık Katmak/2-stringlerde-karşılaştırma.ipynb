{
 "cells": [
  {
   "cell_type": "markdown",
   "id": "0e6272d8-520f-46a6-b99b-74e9c3eb7b16",
   "metadata": {},
   "source": [
    "## String Karşılaştırmaları"
   ]
  },
  {
   "cell_type": "markdown",
   "id": "4c03cbba-6b5c-4e1b-b18c-69733e207def",
   "metadata": {},
   "source": [
    "<span style=\"font-family: 'Arial', sans-serif; font-size: 16px;\">String karşılaştırmaları, karakterlerin ASCII değerlerine göre yapılır ve büyük-küçük harf duyarlılığına dikkat edilir. Python ve diğer birçok programlama dili, stringleri karakter dizileri olarak kabul eder ve karşılaştırırken karakterlerin sırasını dikkate alır. Büyük harf karakterler, küçük harf karakterlerinden önce gelir. Bu nedenle, doğru karşılaştırmalar yapabilmek için karakterlerin sıralamasına ve büyük-küçük harf duyarlılığına dikkat etmek önemlidir.\n",
    "</span>"
   ]
  },
  {
   "cell_type": "markdown",
   "id": "0e5dcc56-9aaa-4546-917a-8cb11d8e7b5c",
   "metadata": {},
   "source": [
    "### 1.Eşitlik Karşılaştırması (==):"
   ]
  },
  {
   "cell_type": "markdown",
   "id": "2a21e0f5-c521-4f9c-9d00-8a4fec5f8521",
   "metadata": {},
   "source": [
    "<span style=\"font-family: 'Arial', sans-serif; font-size: 16px;\">Bu operatörü, iki stringin tam olarak eşit olup olmadığını kontrol eder. Bu karşılaştırmada büyük-küçük harf duyarlılığına dikkat edilir. Yani, karakterlerin büyük veya küçük olması eşitlik karşılaştırmasını etkiler.</span>"
   ]
  },
  {
   "cell_type": "code",
   "execution_count": 2,
   "id": "988ff32d-9c4f-44c2-a8e3-9bc117d405a2",
   "metadata": {},
   "outputs": [
    {
     "data": {
      "text/plain": [
       "False"
      ]
     },
     "execution_count": 2,
     "metadata": {},
     "output_type": "execute_result"
    }
   ],
   "source": [
    "\"Elma\" == \"elma\""
   ]
  },
  {
   "cell_type": "code",
   "execution_count": 3,
   "id": "c85f32f9-d327-4bb7-888c-a957d874753f",
   "metadata": {},
   "outputs": [
    {
     "data": {
      "text/plain": [
       "True"
      ]
     },
     "execution_count": 3,
     "metadata": {},
     "output_type": "execute_result"
    }
   ],
   "source": [
    "\"elma\" == \"elma\""
   ]
  },
  {
   "cell_type": "markdown",
   "id": "5388331f-5656-4d0c-bc1c-a8af580e4c2a",
   "metadata": {},
   "source": [
    "### 2.Eşitsizlik Karşılaştırması (!=):"
   ]
  },
  {
   "cell_type": "markdown",
   "id": "2d22ebd0-b5d5-4f18-9add-4c79124e695f",
   "metadata": {},
   "source": [
    "<span style=\"font-family: 'Arial', sans-serif; font-size: 16px;\">Eşitsizlik karşılaştırması `(!=)` operatörü, iki stringin eşit olmadığını kontrol eder. Bu karşılaştırmada da büyük-küçük harf duyarlılığına dikkat edilir.</span>"
   ]
  },
  {
   "cell_type": "code",
   "execution_count": 5,
   "id": "666f52a7-9fc5-4f1d-913b-79386d2cc2b8",
   "metadata": {},
   "outputs": [
    {
     "data": {
      "text/plain": [
       "True"
      ]
     },
     "execution_count": 5,
     "metadata": {},
     "output_type": "execute_result"
    }
   ],
   "source": [
    "\"Elma\" != \"elma\""
   ]
  },
  {
   "cell_type": "code",
   "execution_count": 6,
   "id": "d482ac5a-3729-4c9d-b6a6-afaea4e75336",
   "metadata": {},
   "outputs": [
    {
     "data": {
      "text/plain": [
       "False"
      ]
     },
     "execution_count": 6,
     "metadata": {},
     "output_type": "execute_result"
    }
   ],
   "source": [
    "\"elma\" != \"elma\""
   ]
  },
  {
   "cell_type": "markdown",
   "id": "342c4821-5f27-4a8c-be2a-e1046a5447ac",
   "metadata": {},
   "source": [
    "### 3.Küçük-Büyük Harf Sıralaması:"
   ]
  },
  {
   "cell_type": "markdown",
   "id": "ceafb4f9-d17c-4605-a3cc-6ac45516ce59",
   "metadata": {},
   "source": [
    "<span style=\"font-family: 'Arial', sans-serif; font-size: 16px;\">Küçük-büyük harf sıralaması, stringlerdeki karakterlerin ASCII değerlerine göre karşılaştırma yapılmasını ifade eder. ASCII değerleri, karakterlerin bilgisayar belleğindeki temsilini belirleyen sayısal değerlerdir. Dolayısıyla, bir karakterin ASCII değeri, o karakterin sıralamadaki konumunu belirler.</span>"
   ]
  },
  {
   "cell_type": "code",
   "execution_count": 8,
   "id": "17d3b15a-320e-49bc-b5bb-f7afa1b4c2ab",
   "metadata": {},
   "outputs": [
    {
     "data": {
      "text/plain": [
       "True"
      ]
     },
     "execution_count": 8,
     "metadata": {},
     "output_type": "execute_result"
    }
   ],
   "source": [
    "\"a\" < \"b\"            #True döner, çünkü \"a\" karakterinin ASCII değeri \"b\" karakterinden küçüktür."
   ]
  },
  {
   "cell_type": "code",
   "execution_count": 9,
   "id": "fa7503d5-2d2a-4d0c-8a61-05896bdbea5e",
   "metadata": {},
   "outputs": [
    {
     "data": {
      "text/plain": [
       "True"
      ]
     },
     "execution_count": 9,
     "metadata": {},
     "output_type": "execute_result"
    }
   ],
   "source": [
    "\"ab\" < \"b\"           #True döner, çünkü \"a\" < \"b\" koşulu sağlanır ve ikinci karakterlere bakılmaksızın karşılaştırma yapılır."
   ]
  },
  {
   "cell_type": "code",
   "execution_count": 13,
   "id": "af6203ee-7225-464f-9658-e890b6127823",
   "metadata": {},
   "outputs": [
    {
     "data": {
      "text/plain": [
       "True"
      ]
     },
     "execution_count": 13,
     "metadata": {},
     "output_type": "execute_result"
    }
   ],
   "source": [
    "\"bb\" > \"aadsfadsf\"   #True döner, çünkü b>a"
   ]
  },
  {
   "cell_type": "code",
   "execution_count": 11,
   "id": "caf763b1-268c-42fc-964b-f473d0f602ad",
   "metadata": {},
   "outputs": [
    {
     "data": {
      "text/plain": [
       "True"
      ]
     },
     "execution_count": 11,
     "metadata": {},
     "output_type": "execute_result"
    }
   ],
   "source": [
    " \"ab\" < \"ac\"         #True döner, çünkü \"b\" < \"c\""
   ]
  },
  {
   "cell_type": "code",
   "execution_count": 12,
   "id": "7cd8cd60-5024-4821-a0fd-b5576b799ba1",
   "metadata": {},
   "outputs": [
    {
     "data": {
      "text/plain": [
       "False"
      ]
     },
     "execution_count": 12,
     "metadata": {},
     "output_type": "execute_result"
    }
   ],
   "source": [
    "\"abc\" < \"abb\"       #False döner, çünkü \"c\" karakterinin ASCII değeri \"b\" karakterinden büyüktür."
   ]
  },
  {
   "cell_type": "markdown",
   "id": "e2f9a314-56b8-4abb-a911-83256b266f59",
   "metadata": {},
   "source": [
    "<div style=\"float: right; background-color: #333; padding: 5px; border: 1px solid #ccc; height: 100x; width: 600px;\">\n",
    "    <h3 style=\"color: #c0c0c0;\">ASCII Nedir?</h3>\n",
    "    <p style=\"font-family: 'Arial' sans-serif; font-size: 14px; color: #ffffff;\">ASCII (American Standard Code for Information Interchange), metin tabanlı verilerin bilgisayarlar arasında değiş tokuş edilmesi için kullanılan bir karakter kodlama standardıdır. ASCII, karakterleri 7 bitlik sayısal kodlarla temsil eder ve harflerden, rakamlardan ve özel karakterlerden oluşan 128 karakteri kapsar. Bu standart, karakterlerin bilgisayar belleğindeki temsilini belirler ve metin tabanlı verilerin işlenmesini, saklanmasını ve iletilmesini sağlar.</p>\n",
    "</div>"
   ]
  }
 ],
 "metadata": {
  "kernelspec": {
   "display_name": "Python 3 (ipykernel)",
   "language": "python",
   "name": "python3"
  },
  "language_info": {
   "codemirror_mode": {
    "name": "ipython",
    "version": 3
   },
   "file_extension": ".py",
   "mimetype": "text/x-python",
   "name": "python",
   "nbconvert_exporter": "python",
   "pygments_lexer": "ipython3",
   "version": "3.12.3"
  }
 },
 "nbformat": 4,
 "nbformat_minor": 5
}
