{
 "cells": [
  {
   "cell_type": "markdown",
   "id": "144115b6-0a04-4c18-b475-69ad90213134",
   "metadata": {},
   "source": [
    "## Mantıksal Operatörler (Logical Operators)"
   ]
  },
  {
   "cell_type": "markdown",
   "id": "07ca4676-c7c3-4af5-b475-8f75a6a8d7fd",
   "metadata": {},
   "source": [
    "<span style=\"font-family: 'Arial', sans-serif; font-size: 16px;\">Mantıksal operatörler, genellikle boolean (True veya False) veri tipleri üzerinde kullanılır ve farklı ifadelerin sonuçlarını birleştirmek için kullanılır. Bu operatörler, koşulların bir araya getirilmesiyle daha karmaşık kontrol yapısı oluşturmak için kullanılır.</span>"
   ]
  },
  {
   "cell_type": "markdown",
   "id": "dd482a99-25f5-489c-8fcd-04a2d0ac371f",
   "metadata": {},
   "source": [
    "### 1.not Operatörü:"
   ]
  },
  {
   "cell_type": "markdown",
   "id": "40f75119-c883-4bef-af29-709f322e8b7e",
   "metadata": {},
   "source": [
    "<span style=\"font-family: 'Arial', sans-serif; font-size: 16px;\">`not` operatörü, bir ifadenin tersini alır. Yani, True ise False yapar, False ise True yapar.</span>"
   ]
  },
  {
   "cell_type": "code",
   "execution_count": 2,
   "id": "649597b2-fee8-453d-9a79-06c87f04b57c",
   "metadata": {},
   "outputs": [
    {
     "data": {
      "text/plain": [
       "False"
      ]
     },
     "execution_count": 2,
     "metadata": {},
     "output_type": "execute_result"
    }
   ],
   "source": [
    "not True"
   ]
  },
  {
   "cell_type": "code",
   "execution_count": 3,
   "id": "c3ba4fb4-46bb-4f68-8a54-c1a966d08f34",
   "metadata": {},
   "outputs": [
    {
     "data": {
      "text/plain": [
       "True"
      ]
     },
     "execution_count": 3,
     "metadata": {},
     "output_type": "execute_result"
    }
   ],
   "source": [
    "not False   "
   ]
  },
  {
   "cell_type": "code",
   "execution_count": null,
   "id": "b424d5df-0c48-4ec4-9d1f-2bdabfd3c157",
   "metadata": {},
   "outputs": [],
   "source": [
    "not (5 < 6)                    #False, çünkü 5 6'dan küçük değil, not operatörü bunu tersine çevirir."
   ]
  },
  {
   "cell_type": "markdown",
   "id": "ab7d7bcb-1fa7-4769-9e4e-96e0ccd7a30b",
   "metadata": {},
   "source": [
    "### and Operatörü:"
   ]
  },
  {
   "cell_type": "markdown",
   "id": "3e43c100-46b5-4498-bd42-5ba858a3e383",
   "metadata": {},
   "source": [
    "<span style=\"font-family: 'Arial', sans-serif; font-size: 16px;\">`and` operatörü, iki ifade de True ise True sonucu verir, diğer durumlarda ise False olur.</span>"
   ]
  },
  {
   "cell_type": "code",
   "execution_count": 5,
   "id": "fa2600fd-fd7d-472e-af1a-d835e0c9c060",
   "metadata": {},
   "outputs": [
    {
     "data": {
      "text/plain": [
       "True"
      ]
     },
     "execution_count": 5,
     "metadata": {},
     "output_type": "execute_result"
    }
   ],
   "source": [
    "True and True"
   ]
  },
  {
   "cell_type": "code",
   "execution_count": 6,
   "id": "587c1568-67e7-478b-9d63-1807626a0546",
   "metadata": {},
   "outputs": [
    {
     "data": {
      "text/plain": [
       "False"
      ]
     },
     "execution_count": 6,
     "metadata": {},
     "output_type": "execute_result"
    }
   ],
   "source": [
    "True and False"
   ]
  },
  {
   "cell_type": "code",
   "execution_count": 8,
   "id": "44549109-8bb7-4a07-a1d8-fa56c6b5f9b7",
   "metadata": {},
   "outputs": [
    {
     "data": {
      "text/plain": [
       "False"
      ]
     },
     "execution_count": 8,
     "metadata": {},
     "output_type": "execute_result"
    }
   ],
   "source": [
    "(\"a\" > \"b\") and (\"b\" < \"c\")     # True, çünkü a, b'den büyük ve b, c'den küçük."
   ]
  },
  {
   "cell_type": "markdown",
   "id": "f2f69e07-0ed9-4087-98eb-348087a54811",
   "metadata": {},
   "source": [
    "### or Operatörü:"
   ]
  },
  {
   "cell_type": "markdown",
   "id": "cfc5ddbe-4e3f-4dfc-bd49-9fea5a092618",
   "metadata": {},
   "source": [
    "<span style=\"font-family: 'Arial', sans-serif; font-size: 16px;\">`or` operatörü, en az bir ifade True ise True sonucu verir, diğer durumlarda ise False olur.</span>"
   ]
  },
  {
   "cell_type": "code",
   "execution_count": 9,
   "id": "0b666c9a-841f-477a-9df8-fc984888db4f",
   "metadata": {},
   "outputs": [
    {
     "data": {
      "text/plain": [
       "True"
      ]
     },
     "execution_count": 9,
     "metadata": {},
     "output_type": "execute_result"
    }
   ],
   "source": [
    "True or False"
   ]
  },
  {
   "cell_type": "code",
   "execution_count": 10,
   "id": "6f909b11-2020-463f-8765-827e51e8d562",
   "metadata": {},
   "outputs": [
    {
     "data": {
      "text/plain": [
       "False"
      ]
     },
     "execution_count": 10,
     "metadata": {},
     "output_type": "execute_result"
    }
   ],
   "source": [
    "False or False"
   ]
  },
  {
   "cell_type": "code",
   "execution_count": 12,
   "id": "43211cd0-d8b4-4e5a-8fe1-b855f8ab6312",
   "metadata": {},
   "outputs": [
    {
     "data": {
      "text/plain": [
       "True"
      ]
     },
     "execution_count": 12,
     "metadata": {},
     "output_type": "execute_result"
    }
   ],
   "source": [
    "(\"a\" > \"b\") or (\"b\" < \"c\")  # True, çünkü ya a, b'den büyük ya da b, c'den küçük."
   ]
  }
 ],
 "metadata": {
  "kernelspec": {
   "display_name": "Python 3 (ipykernel)",
   "language": "python",
   "name": "python3"
  },
  "language_info": {
   "codemirror_mode": {
    "name": "ipython",
    "version": 3
   },
   "file_extension": ".py",
   "mimetype": "text/x-python",
   "name": "python",
   "nbconvert_exporter": "python",
   "pygments_lexer": "ipython3",
   "version": "3.12.3"
  }
 },
 "nbformat": 4,
 "nbformat_minor": 5
}
