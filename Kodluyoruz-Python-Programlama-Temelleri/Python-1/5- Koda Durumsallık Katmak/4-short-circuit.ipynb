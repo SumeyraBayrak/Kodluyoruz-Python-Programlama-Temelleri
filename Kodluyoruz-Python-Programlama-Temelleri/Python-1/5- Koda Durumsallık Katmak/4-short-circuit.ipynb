{
 "cells": [
  {
   "cell_type": "markdown",
   "id": "6d875999-febe-42e9-a3fa-e010895d152a",
   "metadata": {},
   "source": [
    "## Kısa Devre (Short Circuit) Özelliği"
   ]
  },
  {
   "cell_type": "markdown",
   "id": "5d30c927-196d-4e59-b0f7-21181b3b08f7",
   "metadata": {},
   "source": [
    "<span style=\"font-family: 'Arial', sans-serif; font-size: 16px;\">Python'da mantıksal operatörler kullanılırken, kısa devre (short circuit) adı verilen bir özellik bulunmaktadır. Bu özellik, mantıksal ifadelerin değerlendirilmesi sırasında, ifadenin sonucunun belirlenmesinde belirli koşullar altında ifade içindeki diğer bileşenlere bakmadan hızlı bir şekilde sonuca ulaşılmasını sağlar.</span>"
   ]
  },
  {
   "cell_type": "markdown",
   "id": "995de350-5651-4cdd-b154-d7f009e2f57e",
   "metadata": {},
   "source": [
    "### 1.and Operatörü:"
   ]
  },
  {
   "cell_type": "markdown",
   "id": "d1c15a8a-c2b6-4043-ae32-d926867b4c66",
   "metadata": {},
   "source": [
    "<span style=\"font-family: 'Arial', sans-serif; font-size: 16px;\">`and` operatöründe, her iki ifadenin de True olması durumunda sonuç True olur. Ancak, ilk ifade False olduğunda, ikinci ifadeye bakılmaksızın sonuç False olur. İlk ifadenin False olması, sonuca hızlıca karar verilmesine neden olur.</span>"
   ]
  },
  {
   "cell_type": "code",
   "execution_count": 7,
   "id": "283d257a-a96c-48e2-92b4-4eedbaabe7c0",
   "metadata": {},
   "outputs": [
    {
     "data": {
      "text/plain": [
       "False"
      ]
     },
     "execution_count": 7,
     "metadata": {},
     "output_type": "execute_result"
    }
   ],
   "source": [
    "(5 < 3) and print(\"hey\")"
   ]
  },
  {
   "cell_type": "markdown",
   "id": "87726964-2b50-4785-a726-1e85e867ca2d",
   "metadata": {},
   "source": [
    "<span style=\"font-family: 'Arial', sans-serif; font-size: 16px;\">İlk ifade \"5 < 3\" False olduğu için, ikinci ifade olan print(\"hey\") ifadesine bakılmaz. Sonuç hızlıca False olarak belirlenir ve \"hey\" yazısı ekrana basılmaz.</span>"
   ]
  },
  {
   "cell_type": "code",
   "execution_count": 8,
   "id": "afb9c464-acc5-4fe1-b177-0d63150f9c2a",
   "metadata": {},
   "outputs": [
    {
     "name": "stdout",
     "output_type": "stream",
     "text": [
      "hey\n"
     ]
    }
   ],
   "source": [
    "(5 > 3) and print(\"hey\")"
   ]
  },
  {
   "cell_type": "code",
   "execution_count": null,
   "id": "dd0f44bf-c01e-4b08-8b7b-016c32feed51",
   "metadata": {},
   "outputs": [],
   "source": [
    "<span style=\"font-family: 'Arial', sans-serif; font-size: 16px;\"> #Burada ilk ifade doğru o yüzden ikinci ifadeye bakılması gerekiyor bu yüzden de cıktı \"hey\"</span>"
   ]
  },
  {
   "cell_type": "markdown",
   "id": "fc2cb0d3-95c8-406b-ad67-8bbd05bb16de",
   "metadata": {},
   "source": [
    "### 2.or Operatörü:"
   ]
  },
  {
   "cell_type": "markdown",
   "id": "3c78b1ac-b218-4e62-b8d0-2ff118e1ec1d",
   "metadata": {},
   "source": [
    "<span style=\"font-family: 'Arial', sans-serif; font-size: 16px;\">`or` operatöründe, her iki ifadenin de False olması durumunda sonuç False olur. Ancak, ilk ifade True olduğunda, ikinci ifadeye bakılmaksızın sonuç True olur. İlk ifadenin True olması, sonuca hızlıca karar verilmesine neden olur.</span>"
   ]
  },
  {
   "cell_type": "code",
   "execution_count": 4,
   "id": "a6671b5e-e884-4a0f-a36e-8803a5ffc872",
   "metadata": {},
   "outputs": [
    {
     "data": {
      "text/plain": [
       "True"
      ]
     },
     "execution_count": 4,
     "metadata": {},
     "output_type": "execute_result"
    }
   ],
   "source": [
    "(5 > 3) or print(\"hey\")"
   ]
  },
  {
   "cell_type": "markdown",
   "id": "4abbe6c2-67ac-49ac-a994-593244ce3eac",
   "metadata": {},
   "source": [
    "<span style=\"font-family: 'Arial', sans-serif; font-size: 16px;\">İlk ifade \"5 > 3\" True olduğu için, ikinci ifade olan print(\"hey\") ifadesine bakılmaz. Sonuç hızlıca True olarak belirlenir ve \"hey\" yazısı ekrana basılmaz.</span>"
   ]
  }
 ],
 "metadata": {
  "kernelspec": {
   "display_name": "Python 3 (ipykernel)",
   "language": "python",
   "name": "python3"
  },
  "language_info": {
   "codemirror_mode": {
    "name": "ipython",
    "version": 3
   },
   "file_extension": ".py",
   "mimetype": "text/x-python",
   "name": "python",
   "nbconvert_exporter": "python",
   "pygments_lexer": "ipython3",
   "version": "3.12.3"
  }
 },
 "nbformat": 4,
 "nbformat_minor": 5
}
