{
 "cells": [
  {
   "cell_type": "markdown",
   "id": "91977793-d427-4c4f-b73b-750ab85ea7e5",
   "metadata": {},
   "source": [
    "## Short-circuit Olmayan Mantıksal Operatörler"
   ]
  },
  {
   "cell_type": "markdown",
   "id": "949a7bcb-9404-4003-b662-5ac4841d05d3",
   "metadata": {},
   "source": [
    "<span style=\"font-family: 'Arial', sans-serif; font-size: 16px;\">Python'da `&` ve `|` operatörleri, normal and ve or operatörlerine benzer şekilde davranır, ancak short-circuit özelliği göstermezler. Bu operatörler, iki ifadenin mantıksal değerlerini doğrudan kontrol ederken, ifadelerin tamamını değerlendirirler ve her iki tarafı da değerlendirirler. Bu nedenle, bu operatörler normal `and` ve `or` operatörlerinden farklı davranabilirler.</span>"
   ]
  },
  {
   "cell_type": "markdown",
   "id": "25724796-df1d-4218-b433-1f3606c89279",
   "metadata": {},
   "source": [
    "### `&` Operatörü:"
   ]
  },
  {
   "cell_type": "markdown",
   "id": "c93557d4-9334-4523-b10c-9454dc0aa22c",
   "metadata": {},
   "source": [
    "<span style=\"font-family: 'Arial', sans-serif; font-size: 16px;\">`&` operatörü, iki ifadenin mantıksal AND işlemi yapar. İki ifade de True ise sonuç True olur, aksi halde sonuç False olur. Ancak, short-circuit özelliği olmadığı için her iki ifade de değerlendirilir.</span>"
   ]
  },
  {
   "cell_type": "code",
   "execution_count": 3,
   "id": "2b552561-e3ce-44c2-8372-f96db56aabcb",
   "metadata": {},
   "outputs": [
    {
     "data": {
      "text/plain": [
       "True"
      ]
     },
     "execution_count": 3,
     "metadata": {},
     "output_type": "execute_result"
    }
   ],
   "source": [
    "(2 == 2) & (3 == 3)"
   ]
  },
  {
   "cell_type": "code",
   "execution_count": 4,
   "id": "1d6b3650-b732-4856-b478-fbe65e744fc2",
   "metadata": {},
   "outputs": [
    {
     "name": "stdout",
     "output_type": "stream",
     "text": [
      "hey\n"
     ]
    },
    {
     "ename": "TypeError",
     "evalue": "unsupported operand type(s) for &: 'bool' and 'NoneType'",
     "output_type": "error",
     "traceback": [
      "\u001b[1;31m---------------------------------------------------------------------------\u001b[0m",
      "\u001b[1;31mTypeError\u001b[0m                                 Traceback (most recent call last)",
      "Cell \u001b[1;32mIn[4], line 1\u001b[0m\n\u001b[1;32m----> 1\u001b[0m \u001b[43m(\u001b[49m\u001b[38;5;241;43m5\u001b[39;49m\u001b[43m \u001b[49m\u001b[38;5;241;43m<\u001b[39;49m\u001b[43m \u001b[49m\u001b[38;5;241;43m3\u001b[39;49m\u001b[43m)\u001b[49m\u001b[43m \u001b[49m\u001b[38;5;241;43m&\u001b[39;49m\u001b[43m \u001b[49m\u001b[38;5;28;43mprint\u001b[39;49m\u001b[43m(\u001b[49m\u001b[38;5;124;43m\"\u001b[39;49m\u001b[38;5;124;43mhey\u001b[39;49m\u001b[38;5;124;43m\"\u001b[39;49m\u001b[43m)\u001b[49m\n",
      "\u001b[1;31mTypeError\u001b[0m: unsupported operand type(s) for &: 'bool' and 'NoneType'"
     ]
    }
   ],
   "source": [
    "(5 < 3) & print(\"hey\")"
   ]
  },
  {
   "cell_type": "markdown",
   "id": "0ad30242-b039-43b0-9a5f-2d8962dc989f",
   "metadata": {},
   "source": [
    "<span style=\"font-family: 'Arial', sans-serif; font-size: 16px;\">Burada ilk ifade yanlış olduğu için ikinci ifadeye bakılmadan sonucun `False` olması gerekirken ikinci koda bakılıyor ve ekrana `hey` yazılıyor ama hata mesajı yazılır</span>"
   ]
  },
  {
   "cell_type": "markdown",
   "id": "c03c5821-8479-4e05-9e13-5b72c4ceab3d",
   "metadata": {},
   "source": [
    "### `|`  Operatörü:"
   ]
  },
  {
   "cell_type": "markdown",
   "id": "6e18f827-c491-4413-9182-3a2ab87d97c4",
   "metadata": {},
   "source": [
    "`|` operatörü, iki ifadenin mantıksal OR işlemi yapar. En az bir ifade True ise sonuç True olur, aksi halde sonuç False olur. Ancak, short-circuit özelliği olmadığı için her iki ifade de değerlendirilir."
   ]
  },
  {
   "cell_type": "code",
   "execution_count": 6,
   "id": "e4a37244-5045-4b81-b94b-600dcfae8fec",
   "metadata": {},
   "outputs": [
    {
     "data": {
      "text/plain": [
       "True"
      ]
     },
     "execution_count": 6,
     "metadata": {},
     "output_type": "execute_result"
    }
   ],
   "source": [
    "(2 == 2) | (3 < 3)"
   ]
  },
  {
   "cell_type": "code",
   "execution_count": 7,
   "id": "df073b23-b7b8-4a8a-9248-79be897f640c",
   "metadata": {},
   "outputs": [
    {
     "name": "stdout",
     "output_type": "stream",
     "text": [
      "hey\n"
     ]
    },
    {
     "ename": "TypeError",
     "evalue": "unsupported operand type(s) for |: 'bool' and 'NoneType'",
     "output_type": "error",
     "traceback": [
      "\u001b[1;31m---------------------------------------------------------------------------\u001b[0m",
      "\u001b[1;31mTypeError\u001b[0m                                 Traceback (most recent call last)",
      "Cell \u001b[1;32mIn[7], line 1\u001b[0m\n\u001b[1;32m----> 1\u001b[0m \u001b[43m(\u001b[49m\u001b[38;5;241;43m5\u001b[39;49m\u001b[43m \u001b[49m\u001b[38;5;241;43m>\u001b[39;49m\u001b[43m \u001b[49m\u001b[38;5;241;43m3\u001b[39;49m\u001b[43m)\u001b[49m\u001b[43m \u001b[49m\u001b[38;5;241;43m|\u001b[39;49m\u001b[43m \u001b[49m\u001b[38;5;28;43mprint\u001b[39;49m\u001b[43m(\u001b[49m\u001b[38;5;124;43m\"\u001b[39;49m\u001b[38;5;124;43mhey\u001b[39;49m\u001b[38;5;124;43m\"\u001b[39;49m\u001b[43m)\u001b[49m\n",
      "\u001b[1;31mTypeError\u001b[0m: unsupported operand type(s) for |: 'bool' and 'NoneType'"
     ]
    }
   ],
   "source": [
    "(5 > 3) | print(\"hey\")"
   ]
  },
  {
   "cell_type": "markdown",
   "id": "ed97f81d-028c-4239-a21f-6be8a2fa172f",
   "metadata": {},
   "source": [
    "<span style=\"font-family: 'Arial', sans-serif; font-size: 16px;\">İlk ifade True olduğu halde, print(\"hey\") ifadesi çalıştırılır ve sonuç hata alınır.</span>"
   ]
  }
 ],
 "metadata": {
  "kernelspec": {
   "display_name": "Python 3 (ipykernel)",
   "language": "python",
   "name": "python3"
  },
  "language_info": {
   "codemirror_mode": {
    "name": "ipython",
    "version": 3
   },
   "file_extension": ".py",
   "mimetype": "text/x-python",
   "name": "python",
   "nbconvert_exporter": "python",
   "pygments_lexer": "ipython3",
   "version": "3.12.3"
  }
 },
 "nbformat": 4,
 "nbformat_minor": 5
}
