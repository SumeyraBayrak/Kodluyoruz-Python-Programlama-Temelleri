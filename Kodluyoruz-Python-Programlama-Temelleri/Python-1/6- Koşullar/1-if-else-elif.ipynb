{
 "cells": [
  {
   "cell_type": "markdown",
   "id": "50872992-b4f2-4cb2-b230-2708ef6b1e25",
   "metadata": {},
   "source": [
    "## If-else-elif"
   ]
  },
  {
   "cell_type": "markdown",
   "id": "95cfb06a-e18c-49bb-8354-36e14a4875ff",
   "metadata": {},
   "source": [
    "<span style=\"font-family: 'Arial', sans-serif; font-size: 16px;\">İfadelerin değerlerinin True veya False olduğunu veren karşılaştırmalara ve mantıksal operatörlere bakmıştık. Şimdi bunların sonuçlarına göre programımızı dallandırmaya bakacağız.</span>"
   ]
  },
  {
   "cell_type": "markdown",
   "id": "1cb694c9-9e23-4403-8963-25255f2f2a46",
   "metadata": {},
   "source": [
    "<span style=\"font-family: 'Arial', sans-serif; font-size: 16px;\">`if`, `else`, `elif` ve iç içe geçmiş `if` bloklarını kullanarak programlarımızın belirli koşullara göre farklı yollar izlemesini sağlayabiliriz. Bu yapılar, programlarımızı daha esnek ve dinamik hale getirir.</span>"
   ]
  },
  {
   "cell_type": "markdown",
   "id": "2456f0b6-d3a7-47af-ab1a-46e960f57c81",
   "metadata": {},
   "source": [
    "<h2>Başlıca Konular Şunlardır:</h2>\n",
    "<ul>\n",
    "    <li>if İfadesi</li>\n",
    "    <li>else İfadesi</li>\n",
    "    <li>elif İfadesi</li>\n",
    "    <li>İç İçe Geçmiş if Blokları</li>\n",
    "</ul>"
   ]
  },
  {
   "cell_type": "markdown",
   "id": "b631c00a-560c-4c29-9b26-b0efb7a6f820",
   "metadata": {},
   "source": [
    "### `if:`"
   ]
  },
  {
   "cell_type": "markdown",
   "id": "de45d676-e3c4-4b1c-846d-1f36ec51397f",
   "metadata": {},
   "source": [
    "<span style=\"font-family: 'Arial', sans-serif; font-size: 16px;\">İlk olarak, `if` ifadesini inceleyelim. Bu ifade, belirli bir koşulun doğru olup olmadığını kontrol eder. Eğer koşul doğruysa, if bloğu içindeki kod çalıştırılır. </span>"
   ]
  },
  {
   "cell_type": "code",
   "execution_count": 6,
   "id": "ed55ac53-09bb-4eb7-975b-071562f98796",
   "metadata": {},
   "outputs": [
    {
     "name": "stdin",
     "output_type": "stream",
     "text": [
      "Bir sayı girin:  4\n"
     ]
    }
   ],
   "source": [
    "x = int(input(\"Bir sayı girin: \"))"
   ]
  },
  {
   "cell_type": "code",
   "execution_count": 7,
   "id": "a76b28c9-c5c8-4530-8f41-1f163e268a9b",
   "metadata": {},
   "outputs": [
    {
     "name": "stdout",
     "output_type": "stream",
     "text": [
      "Sayınız çift sayı\n",
      "Programınız sona ulaştı\n"
     ]
    }
   ],
   "source": [
    "if x % 2 == 0: \n",
    "    print(\"Sayınız çift sayı\")\n",
    "                                    \n",
    "print(\"Programınız sona ulaştı\")\n",
    "#Bu kod paçası, if koşulundan bağımsız olarak her zaman çalışır Bu nedenle, \"Programınız sona ulaştı\" çıktısı x değeri ne olursa olsun ekrana yazılır."
   ]
  },
  {
   "cell_type": "markdown",
   "id": "b5cd9217-3518-44cf-9e8e-5ac75dc2b89f",
   "metadata": {},
   "source": [
    "<span style=\"font-family: 'Arial', sans-serif; font-size: 16px;\">Bu kodda, kullanıcıdan alınan sayının çift olup olmadığı kontrol edilir. Eğer çiftse, \"Sayınız çift sayı\" yazısı ekrana basılır. Sonrasında ise \"Programınız sona ulaştı\" yazısı her durumda ekrana basılır. Üsteki örnekte kullanıcıdan alınan girdi 4 olduğu için koşul sağlandı ve \"Sayınız çift sayı\" ekrana yazıldı</span>"
   ]
  },
  {
   "cell_type": "code",
   "execution_count": 9,
   "id": "66d122df-521f-435c-ba6a-ef1e1e7382fd",
   "metadata": {},
   "outputs": [
    {
     "name": "stdin",
     "output_type": "stream",
     "text": [
      "Bir sayı girin:  3\n"
     ]
    }
   ],
   "source": [
    "y = int(input(\"Bir sayı girin: \"))"
   ]
  },
  {
   "cell_type": "code",
   "execution_count": 10,
   "id": "04d05d81-a76f-464e-b9fb-5978cc81ff57",
   "metadata": {},
   "outputs": [
    {
     "name": "stdout",
     "output_type": "stream",
     "text": [
      "Programınız sona ulaştı\n"
     ]
    }
   ],
   "source": [
    "if y % 2 == 0: \n",
    "    print(\"Sayınız çift sayı\")\n",
    "                                    \n",
    "print(\"Programınız sona ulaştı\")         # bu kod, if yapısına bağlı olamadığı için her durumda çalışacaktır"
   ]
  },
  {
   "cell_type": "markdown",
   "id": "96b475b4-ea7c-4118-acb4-0a16d2672533",
   "metadata": {},
   "source": [
    "<span style=\"font-family: 'Arial', sans-serif; font-size: 16px;\">Burada kulanıcı 3 sayısını girdi. 3 sayısın 2'ye bölümünden kalan 0 olmadığı için \"Sayınız çift sayı\" yazısı ekrana yazılmaz</span>"
   ]
  },
  {
   "cell_type": "markdown",
   "id": "1963fc87-2026-45ba-966a-930346cf1bb8",
   "metadata": {},
   "source": [
    "### `else:`"
   ]
  },
  {
   "cell_type": "markdown",
   "id": "0a5d5308-1c4f-4640-a152-9123140eade0",
   "metadata": {},
   "source": [
    "<span style=\"font-family: 'Arial', sans-serif; font-size: 16px;\">`else`, bir if bloğunun koşulu sağlanmadığında çalıştırılacak kodu belirtmek için kullanılır. </span>"
   ]
  },
  {
   "cell_type": "code",
   "execution_count": 14,
   "id": "cdd73d4c-78b9-44d0-bcd8-21e0339e0eaf",
   "metadata": {},
   "outputs": [
    {
     "name": "stdin",
     "output_type": "stream",
     "text": [
      "Bir sayı girin:  7\n"
     ]
    }
   ],
   "source": [
    "z = int(input(\"Bir sayı girin: \"))"
   ]
  },
  {
   "cell_type": "code",
   "execution_count": 16,
   "id": "7be4597c-c769-4462-9d2f-39d9907cfd4c",
   "metadata": {},
   "outputs": [
    {
     "name": "stdout",
     "output_type": "stream",
     "text": [
      "Sayınız tek sayı\n",
      "Programınız sona ulaştı\n"
     ]
    }
   ],
   "source": [
    "if z % 2 == 0:\n",
    "    print(\"Sayınız çift sayı\")\n",
    "else:\n",
    "    print(\"Sayınız tek sayı\")\n",
    "\n",
    "print(\"Programınız sona ulaştı\")         ## bu kod, if yapısına bağlı olamadığı için her durumda çalışacaktır"
   ]
  },
  {
   "cell_type": "markdown",
   "id": "144865a3-479f-4822-9803-84e5191abe96",
   "metadata": {},
   "source": [
    "<span style=\"font-family: 'Arial', sans-serif; font-size: 16px;\">Bu kodda, eğer girilen sayı çiftse ilgili mesaj yazdırılır, aksi halde \"Sayınız tek sayı\" mesajı yazdırılır. Yukarıdaki örnekte, kullanıcı girdisi 7 olduğu için `if` bloğunun koşulu sağlanmadığı için `else` ifadesi çalışacak ve \"Sayınız tek sayı\" çıktısı ekrana yazılacaktır \n",
    "</span>"
   ]
  },
  {
   "cell_type": "markdown",
   "id": "b5744e35-93ca-4cd7-b73e-713160ca52ea",
   "metadata": {},
   "source": [
    "### `elif:`"
   ]
  },
  {
   "cell_type": "markdown",
   "id": "772ae6ed-2235-4042-bb56-ffb32478cd9f",
   "metadata": {},
   "source": [
    "<span style=\"font-family: 'Arial', sans-serif; font-size: 16px;\">`elif` ifadesi ise, bir if bloğunun koşulu sağlanmadığında başka bir koşulu kontrol etmek için kullanılır.</span>"
   ]
  },
  {
   "cell_type": "code",
   "execution_count": 23,
   "id": "af0e2ce4-ae5e-465f-9635-d73d6752d9de",
   "metadata": {},
   "outputs": [
    {
     "name": "stdin",
     "output_type": "stream",
     "text": [
      "Bir sayı girin:  10\n"
     ]
    }
   ],
   "source": [
    "c = int(input(\"Bir sayı girin: \"))"
   ]
  },
  {
   "cell_type": "code",
   "execution_count": 24,
   "id": "04d1caa9-fba5-4259-a90e-ef8ea2dd89f4",
   "metadata": {},
   "outputs": [
    {
     "name": "stdout",
     "output_type": "stream",
     "text": [
      "Sayı 10'a eşit\n",
      "Programınız sona ulaştı\n"
     ]
    }
   ],
   "source": [
    "if c < 10:                               #Eğer x 10'dan küçükse\n",
    "    print(\"Sayı 10'dan küçük\")           #Sayı 10'dan küçük\" mesajını ekrana yazdır\n",
    "\n",
    "elif c == 10:                            #Değilse, eğer x 10'a eşitse\n",
    "    print(\"Sayı 10'a eşit\")              #Sayı 10'a eşit\" mesajını ekrana yazdır\n",
    "    \n",
    "else:                                    #Yukarıdaki koşullar sağlanmıyorsa\n",
    "    print(\"Sayı 10'dan büyük\")           #Sayı 10'dan büyük\" mesajını ekrana yazdır\n",
    "\n",
    "print(\"Programınız sona ulaştı\")         #Her koşulda çalıştırılacak"
   ]
  },
  {
   "cell_type": "markdown",
   "id": "924c4940-b1fa-454f-b788-c16349ae40f6",
   "metadata": {},
   "source": [
    "<span style=\"font-family: 'Arial', sans-serif; font-size: 16px;\">Bu kod bloğunda, girilen sayıya göre üç farklı durumu kontrol ediyoruz. Eğer sayı 10'dan küçükse, ilk koşul olan `if` x < 10: bloğu çalışır ve \"Sayı 10'dan küçük\" mesajı ekrana yazdırılır. Eğer sayı 10'a eşitse, `elif` x == 10: bloğu çalışır ve \"Sayı 10'a eşit\" mesajı ekrana yazdırılır. Ancak, eğer ne `if` koşulu ne de `elif` koşulu sağlanmazsa, yani sayı 10'dan küçük de değil, 10'a eşit de değilse, `else:` bloğu çalışır ve \"Sayı 10'dan büyük\" mesajı ekrana yazdırılır. Yukarıdaki örnekte kulllanıcının çıktısı 10 olduğu için ekrana \"Sayı 10'a eşit\" yazısı yazılacak</span>"
   ]
  },
  {
   "cell_type": "markdown",
   "id": "76842252-16ce-412e-a0be-57fe6bf6b9b5",
   "metadata": {},
   "source": [
    "### İç İçe Geçmiş if Blokları(nested if) "
   ]
  },
  {
   "cell_type": "markdown",
   "id": "046a4c25-bd6e-4a8f-a24f-172bd839361b",
   "metadata": {},
   "source": [
    "<span style=\"font-family: 'Arial', sans-serif; font-size: 16px;\">Bu yapı, bir `if` bloğunun içinde başka bir `if` bloğunun bulunması durumudur.</span>"
   ]
  },
  {
   "cell_type": "code",
   "execution_count": 26,
   "id": "d841c49c-faca-42c5-9ded-57e1bd9a963c",
   "metadata": {},
   "outputs": [
    {
     "name": "stdin",
     "output_type": "stream",
     "text": [
      "Bir sayı girin:  12\n"
     ]
    }
   ],
   "source": [
    "s = int(input(\"Bir sayı girin: \"))"
   ]
  },
  {
   "cell_type": "code",
   "execution_count": 28,
   "id": "9d2e3bfa-682e-4355-a4da-a57151cd75e0",
   "metadata": {},
   "outputs": [
    {
     "name": "stdout",
     "output_type": "stream",
     "text": [
      "Sayı hem 2'ye hem de 3'e bölünüyor\n",
      "Programınız sona ulaştı\n"
     ]
    }
   ],
   "source": [
    "if s % 3 == 0:                                          #İlk olarak, girilen sayının 3'e bölünüp bölünmediğini kontrol ediyoruz.\n",
    "\n",
    "    if s % 2 == 0:                                      #Eğer sayı 3'e bölünüyorsa, sayının 2'ye bölünüp bölünmedigini öğrenmek için bir if bloğu daha yazıyoruz\n",
    "        print(\"Sayı hem 2'ye hem de 3'e bölünüyor\")     \n",
    "    else:                                               #Eğer sayı 2' ye bölünmüyorsa sayının sadece 3'e bölündüğü bilgisi ekrana yazılır\n",
    "        print(\"Sayı 3'e bölünüyor ama 2'ye bölünmüyor\") \n",
    "       \n",
    "else:                                                   #Sayı 3'e bölünmediği durumda başka bir koşıl kotrolü yapmadan else bloğunu çalıştırıyoruz\n",
    "    print(\"3'e bölünmüyor\")    \n",
    "\n",
    "print(\"Programınız sona ulaştı\")                        # Bu kod bloğu, her koşulda çalışacaktır"
   ]
  },
  {
   "cell_type": "markdown",
   "id": "5bab787b-41f4-468c-ac0f-c3db3f40c6b8",
   "metadata": {},
   "source": [
    "<span style=\"font-family: 'Arial', sans-serif; font-size: 16px;\">Bu kod örneğinde, kullanıcıdan alınan bir sayının önce 3'e bölünüp bölünmediği kontrol edilir. Eğer bu koşul sağlanıyorsa, yani sayı 3'e bölünüyorsa, iç içe geçmiş bir if bloğuna girilir ve bu blokta sayının 2'ye bölünüp bölünmediği kontrol edilir. Eğer sayı hem 2'ye hem de 3'e bölünüyorsa bir mesaj yazdırılır, eğer sadece 3'e bölünüyorsa farklı bir mesaj yazdırılır. Eğer sayı 3'e bölünmüyorsa, başlangıçta olan else bloğuna girilir ve buna uygun bir mesaj yazdırılır. Son olarak, program sona erdiğinde bir mesaj yazdırılır. </span>"
   ]
  },
  {
   "cell_type": "code",
   "execution_count": 29,
   "id": "689c77dd-a774-42f4-aa9d-120d685be329",
   "metadata": {},
   "outputs": [
    {
     "name": "stdin",
     "output_type": "stream",
     "text": [
      "Bir sayı girin:  21\n"
     ]
    }
   ],
   "source": [
    "p = int(input(\"Bir sayı girin: \"))"
   ]
  },
  {
   "cell_type": "code",
   "execution_count": 30,
   "id": "c752f479-bf56-4031-bb55-c7baec86ec04",
   "metadata": {},
   "outputs": [
    {
     "name": "stdout",
     "output_type": "stream",
     "text": [
      "Sayı 3'e bölünüyor ama 2'ye bölünmüyor\n",
      "Programınız sona ulaştı\n"
     ]
    }
   ],
   "source": [
    "if p % 3 == 0:\n",
    "    if p % 2 == 0:\n",
    "        print(\"Sayı hem 2'ye hem de 3'e bölünüyor\")\n",
    "    else:\n",
    "        print(\"Sayı 3'e bölünüyor ama 2'ye bölünmüyor\")    \n",
    "else:       \n",
    "    print(\"3'e bölünmüyor\")    \n",
    "\n",
    "print(\"Programınız sona ulaştı\")"
   ]
  },
  {
   "cell_type": "markdown",
   "id": "69f4f81b-aa68-4d58-b57c-d6cbbfaed109",
   "metadata": {},
   "source": [
    "<span style=\"font-family: 'Arial', sans-serif; font-size: 16px;\">Bu örnekte, 21 sadece 3'e bölünmektedir, ancak 2'ye bölünmemektedir. Bu yüzden \"Sayı sadece 3'e bölünüyor\" mesajı verilir</span>"
   ]
  },
  {
   "cell_type": "markdown",
   "id": "d3048dcb-098f-457c-8b60-b8920f23e0b7",
   "metadata": {},
   "source": [
    "## Test Olarak Mantıksal Operatörleri Kullanmak"
   ]
  },
  {
   "cell_type": "markdown",
   "id": "c9f8a6c7-2d04-4f1c-bed9-ed7351fda9b1",
   "metadata": {},
   "source": [
    "<span style=\"font-family: 'Arial', sans-serif; font-size: 16px;\">Mantıksal operatörler (and, or), programlarda farklı koşulların bir arada kontrol edilmesini sağlar.</span>"
   ]
  },
  {
   "cell_type": "code",
   "execution_count": 36,
   "id": "a6ebef00-066e-499c-9c1c-3a468aa5d713",
   "metadata": {},
   "outputs": [
    {
     "name": "stdin",
     "output_type": "stream",
     "text": [
      "Bir sayı girin:  24\n"
     ]
    }
   ],
   "source": [
    "b = int(input(\"Bir sayı girin: \"))"
   ]
  },
  {
   "cell_type": "code",
   "execution_count": 38,
   "id": "322b5086-1ffa-41d3-9dbf-ef8e3618ae8e",
   "metadata": {},
   "outputs": [
    {
     "name": "stdout",
     "output_type": "stream",
     "text": [
      "Sayı hem 2'ye hem de 3'e bölünüyor\n",
      "Programınız sona ulaştı\n"
     ]
    }
   ],
   "source": [
    "if (b % 3 == 0) and (b % 2) == 0:                       # `and` operatörü sayesinde iki koşulu tek if bloğunda kontrol ediyoruz\n",
    "    print(\"Sayı hem 2'ye hem de 3'e bölünüyor\")         #Her iki koşul sağlandığında kod çalışacak\n",
    "\n",
    "print(\"Programınız sona ulaştı\")                        #Her koşulda çalışacak"
   ]
  },
  {
   "cell_type": "code",
   "execution_count": 39,
   "id": "ac74b22f-5abc-40b3-ba9b-9538eb3e6218",
   "metadata": {},
   "outputs": [
    {
     "name": "stdin",
     "output_type": "stream",
     "text": [
      "Bir sayı girin:  27\n"
     ]
    }
   ],
   "source": [
    "l = int(input(\"Bir sayı girin: \"))"
   ]
  },
  {
   "cell_type": "code",
   "execution_count": null,
   "id": "8f7207f3-a8e4-4c6a-8934-abfccec6cd00",
   "metadata": {},
   "outputs": [],
   "source": [
    "if (x % 3 == 0) or (x % 2 == 0):                         #`or` operatörü sayesinde iki koşulu tek if bloğunda kontrol ediyoruz\n",
    "    print(\"Sayı 2 veya 3'den en az birine bölünüyor\")    # İki koşuldan birisinin doğru olması durumunda kod bloğu çalışacak\n",
    "    \n",
    "print(\"Programınız sona ulaştı\")                         # Her koşulda çalışacak"
   ]
  }
 ],
 "metadata": {
  "kernelspec": {
   "display_name": "Python 3 (ipykernel)",
   "language": "python",
   "name": "python3"
  },
  "language_info": {
   "codemirror_mode": {
    "name": "ipython",
    "version": 3
   },
   "file_extension": ".py",
   "mimetype": "text/x-python",
   "name": "python",
   "nbconvert_exporter": "python",
   "pygments_lexer": "ipython3",
   "version": "3.12.3"
  }
 },
 "nbformat": 4,
 "nbformat_minor": 5
}
