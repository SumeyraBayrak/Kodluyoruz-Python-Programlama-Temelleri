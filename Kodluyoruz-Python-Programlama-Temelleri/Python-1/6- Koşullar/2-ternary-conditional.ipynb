{
 "cells": [
  {
   "cell_type": "markdown",
   "id": "09ab34be-7e12-4bb9-a0fe-75cd6d4600ec",
   "metadata": {},
   "source": [
    "## Ternary Conditional ifadeleriyle Koşullu Değer Atama"
   ]
  },
  {
   "cell_type": "markdown",
   "id": "af25ea35-4818-4c83-b78b-00b73ba9c37d",
   "metadata": {},
   "source": [
    "<span style=\"font-family: 'Arial', sans-serif; font-size: 16px;\">Ternary conditional ifadeleri, if-else koşullu ifadelerini tek bir satırda yazmamızı sağlar. Bu yapılar, kodu daha kısa ve okunabilir hale getirirken, bir değişkenin değerini bir koşula bağlı olarak belirlememize olanak tanır. </span>"
   ]
  },
  {
   "cell_type": "code",
   "execution_count": 4,
   "id": "cc87bffb-9d48-48b8-9d04-305524ea0e47",
   "metadata": {},
   "outputs": [
    {
     "name": "stdin",
     "output_type": "stream",
     "text": [
      "o in değeri 2 olsun mu? y/n y\n"
     ]
    }
   ],
   "source": [
    "cevap = input(\"o in değeri 2 olsun mu? y/n\")"
   ]
  },
  {
   "cell_type": "code",
   "execution_count": 10,
   "id": "563e7ba2-0fbe-4e10-86bc-b62eb66f4798",
   "metadata": {},
   "outputs": [
    {
     "name": "stdout",
     "output_type": "stream",
     "text": [
      "2\n"
     ]
    }
   ],
   "source": [
    "o = 2 if cevap == \"y\" else 0      # Ternary conditional ifadesiyle x'in değerini belirleme\n",
    "print(o)                           # o'un değeri ekrana yazılır"
   ]
  },
  {
   "cell_type": "markdown",
   "id": "988a654f-1022-4e9b-b7a4-c4fc97b1962e",
   "metadata": {},
   "source": [
    " <span style=\"font-family: 'Arial', sans-serif; font-size: 16px;\">Burada, kullanıcıdan alınan cevaba bağlı olarak bir koşul oluşturulur. Daha sonra, bu koşula göre `o` değişkeni belirlenir. cevap == \"y\", `o` değeri 2'ye eşitlenir, aksi halde 0'a eşitlenir.</span>"
   ]
  },
  {
   "cell_type": "markdown",
   "id": "4ecff5e1-f18d-4424-ac3d-c0c0d9d7b95f",
   "metadata": {},
   "source": [
    "<div style=\"float: right; background-color: #333; padding: 5px; border: 1px solid #ccc; height: 150px; width: 600px;\">\n",
    "    <h3 style=\"color: #c0c0c0;\">Not Kutusu</h3>\n",
    "    <p style=\"font-family: 'Arial' sans-serif; font-size: 14px; color: #ffffff;\">Ternary conditional ifadeleri aslında \"tek satırlık if-else\" ifadeleridir. Bu yapıyı kullanmak, kodu daha az yazmanıza ve daha düzenli hale getirmenize yardımcı olur. Özellikle basit koşullar için çok kullanışlıdır. Bir değişkenin değerini belirlemek için gereken karmaşık if-else yapısını tek bir satırda yazmanızı sağlar. Bunun sonucunda da kodunuz daha akıcı ve okunması daha kolay olur.</p>\n",
    "</div>"
   ]
  }
 ],
 "metadata": {
  "kernelspec": {
   "display_name": "Python 3 (ipykernel)",
   "language": "python",
   "name": "python3"
  },
  "language_info": {
   "codemirror_mode": {
    "name": "ipython",
    "version": 3
   },
   "file_extension": ".py",
   "mimetype": "text/x-python",
   "name": "python",
   "nbconvert_exporter": "python",
   "pygments_lexer": "ipython3",
   "version": "3.12.3"
  }
 },
 "nbformat": 4,
 "nbformat_minor": 5
}
