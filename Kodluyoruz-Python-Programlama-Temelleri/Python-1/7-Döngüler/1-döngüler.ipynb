{
 "cells": [
  {
   "cell_type": "markdown",
   "id": "c75e5c16-5240-4bfd-ac08-36c8af9d7201",
   "metadata": {},
   "source": [
    "# Döngüler (Loops)"
   ]
  },
  {
   "cell_type": "markdown",
   "id": "896e50f0-8860-4e72-b395-50e090d20dc4",
   "metadata": {},
   "source": [
    "<span style=\"font-family: 'Arial', sans-serif; font-size: 16px;\">Python'da döngüler, belirli bir işlemi veya işlemleri belirli bir koşul veya koşullar sağlandığı sürece tekrar tekrar gerçekleştiren yapıları ifade eder. Bu, kodunuzu belirli bir koşula göre tekrarlamak için kullanılan önemli bir programlama aracıdır</span>"
   ]
  },
  {
   "cell_type": "markdown",
   "id": "dbc9ca51-848b-4c1a-8ecc-2fe90359f8c1",
   "metadata": {},
   "source": [
    "<span style=\"font-family: 'Arial', sans-serif; font-size: 16px;\">Döngüler, belirli bir işlemi tekrar etmek ve belirli bir veri yapısındaki her öğeyi işlemek gibi senaryolar için kullanılırken, `if-else-elif` yapıları belirli bir koşula göre farklı kod bloklarının çalışmasını sağlar.</span>"
   ]
  },
  {
   "cell_type": "markdown",
   "id": "1678df4e-cfa3-4384-a656-568c0f33ca46",
   "metadata": {},
   "source": [
    "<span style=\"font-family: 'Arial', sans-serif; font-size: 16px;\">Özetle, döngüler belirli bir işlemi tekrar etmek için kullanılırken, `if-else-elif` yapıları programın akışını belirli koşullara göre yönlendirir.</span>"
   ]
  },
  {
   "cell_type": "markdown",
   "id": "9bd15991-ac40-44db-8b25-3f07d093975e",
   "metadata": {},
   "source": [
    "<h2>Başlıca Konular Şunlardır:</h2>\n",
    "<ul>\n",
    "    <li>While</li>\n",
    "    <li>For</li>\n",
    "    <li>For vs While</li>\n",
    "    <li>Break</li>\n",
    "    <li>Continue</li>\n",
    "</ul>"
   ]
  }
 ],
 "metadata": {
  "kernelspec": {
   "display_name": "Python 3 (ipykernel)",
   "language": "python",
   "name": "python3"
  },
  "language_info": {
   "codemirror_mode": {
    "name": "ipython",
    "version": 3
   },
   "file_extension": ".py",
   "mimetype": "text/x-python",
   "name": "python",
   "nbconvert_exporter": "python",
   "pygments_lexer": "ipython3",
   "version": "3.12.3"
  }
 },
 "nbformat": 4,
 "nbformat_minor": 5
}
