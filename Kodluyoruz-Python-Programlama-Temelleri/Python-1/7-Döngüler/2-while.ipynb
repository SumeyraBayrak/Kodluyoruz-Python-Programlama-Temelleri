{
 "cells": [
  {
   "cell_type": "markdown",
   "id": "95449d66-1581-4043-b187-1ef5cd436173",
   "metadata": {},
   "source": [
    "## While"
   ]
  },
  {
   "cell_type": "markdown",
   "id": "a06b59b2-c2aa-4a6e-9476-7d33a5491003",
   "metadata": {},
   "source": [
    "<span style=\"font-family: 'Arial', sans-serif; font-size: 16px;\">\"while\" döngüsü, bir programın belirli bir koşul sağlandığı sürece tekrarlanmasını sağlayan bir kontrol yapısıdır. Yani, koşul doğru olduğu sürece döngü içindeki kodlar çalışır.</span>"
   ]
  },
  {
   "cell_type": "markdown",
   "id": "482d22a1-e9fd-42f6-9562-90d8b990be48",
   "metadata": {},
   "source": [
    "<span style=\"font-family: 'Arial', sans-serif; font-size: 16px;\">Özetle, döngüler belirli bir işlemi tekrar etmek için kullanılırken, if-else-elif yapıları programın akışını belirli koşullara göre yönlendirir.</span>"
   ]
  },
  {
   "cell_type": "markdown",
   "id": "486fd2c9-359b-4fca-bfe4-1a8e1500f959",
   "metadata": {},
   "source": [
    "<span style=\"font-family: 'Arial', sans-serif; font-size: 16px;\">Örnek olarak kullanıcıdan pozitif bir sayı bekleyen, negatif sayı girdikçe bir daha soran bir kod yazalım:</span>"
   ]
  },
  {
   "cell_type": "code",
   "execution_count": 4,
   "id": "950d1a21-7fe0-4e3f-bf23-36011eb6be77",
   "metadata": {},
   "outputs": [
    {
     "name": "stdin",
     "output_type": "stream",
     "text": [
      "Bir sayı giriniz:  -5\n"
     ]
    },
    {
     "name": "stdout",
     "output_type": "stream",
     "text": [
      "Girdiğiniz sayı negatiftir, lütfen pozitif bir sayı giriniz.\n"
     ]
    },
    {
     "name": "stdin",
     "output_type": "stream",
     "text": [
      "Bir sayı giriniz:  2\n"
     ]
    },
    {
     "name": "stdout",
     "output_type": "stream",
     "text": [
      "Girdiğiniz  2 sayısı pozitiftir.\n"
     ]
    }
   ],
   "source": [
    "x=int(input(\"Bir sayı giriniz: \"))\n",
    "\n",
    "while (x < 0 ):\n",
    "    print(\"Girdiğiniz sayı negatiftir, lütfen pozitif bir sayı giriniz.\")\n",
    "    x=int(input(\"Bir sayı giriniz: \"))\n",
    "    \n",
    "print(\"Girdiğiniz \",x , \"sayısı pozitiftir.\")"
   ]
  },
  {
   "cell_type": "markdown",
   "id": "837ffe64-d453-4233-966f-fb30529f312f",
   "metadata": {},
   "source": [
    "<span style=\"font-family: 'Arial', sans-serif; font-size: 16px;\">Kullanıcıdan bir sayı istenir. Eğer girilen sayı negatifse, kullanıcıya bir uyarı mesajı gösterilir ve tekrar sayı girmesi istenir. Bu işlem, kullanıcı pozitif bir sayı girene kadar devam eder. Kullanıcı pozitif bir sayı girdiğinde, teşekkür mesajı gösterilir ve program sonlanır.</span>"
   ]
  },
  {
   "cell_type": "markdown",
   "id": "d77507a7-30d8-475c-81a2-6bbbdae43c2d",
   "metadata": {},
   "source": [
    "<span style=\"font-family: 'Arial', sans-serif; font-size: 16px;\">**Hadi Basitçe Anlatalım:**</span>"
   ]
  },
  {
   "cell_type": "code",
   "execution_count": 6,
   "id": "9d880589-6260-4a28-9280-71280a3852ec",
   "metadata": {},
   "outputs": [
    {
     "name": "stdout",
     "output_type": "stream",
     "text": [
      "0\n",
      "1\n",
      "2\n",
      "3\n"
     ]
    }
   ],
   "source": [
    "x = 0                   # x değeri 0'dır.\n",
    "\n",
    "while (x < 4) :         # Döngü, x değeri 4'ten küçük olduğu sürece çalışır.\n",
    "    print(x)            # Her döngü adımında, mevcut x değeri ekrana yazdırılır \n",
    "    x=x+1               # x değeri bir artırılarak döngü ilerletilir. Bu işlem, x değeri 4 olduğunda durur."
   ]
  },
  {
   "cell_type": "markdown",
   "id": "02283642-b221-4c05-be25-83842f5c2135",
   "metadata": {},
   "source": [
    "<span style=\"font-family: 'Arial', sans-serif; font-size: 16px;\">**Hadi 0'dan 100'e kadar sayıların toplamını bulalım**</span>"
   ]
  },
  {
   "cell_type": "code",
   "execution_count": 7,
   "id": "d98bb089-aa3b-4a63-a1cb-af27d5d0937d",
   "metadata": {},
   "outputs": [
    {
     "name": "stdout",
     "output_type": "stream",
     "text": [
      "5050\n"
     ]
    }
   ],
   "source": [
    "toplam=0               # Toplamı saklamak için bir değişken oluşturuldu ve başlangıç değeri 0 olarak ayarlandı.\n",
    "x=0                    # Başlangıç değeri\n",
    "\n",
    "while (x <= 100) :     # Koşul: x değeri 100'den küçük veya eşit olduğu sürece döngü çalışır.\n",
    "    toplam += x        # toplam = toplam + x eşit yani; toplamın değerini x kadar arttır\n",
    "    x += 1             #Sayaç (x değeri her seferinde birer birer arttırılır.)\n",
    "# Döngü sona erdiğinde, toplam değişkeni ekrana yazdırılır.\n",
    "\n",
    "print(toplam)          ## Bu, 0'dan 100'e kadar olan sayıların toplamını verir."
   ]
  },
  {
   "cell_type": "markdown",
   "id": "df9146e3-d1ea-437f-9ffd-67f520ad9670",
   "metadata": {},
   "source": [
    "<span style=\"font-family: 'Arial', sans-serif; font-size: 16px;\">Bu kod parçası, 0'dan 100'e kadar olan sayıların toplamını hesaplamak için bir \"while\" döngüsü kullanır. Her adımda, döngüdeki x değeri toplam değişkenine eklenir ve x değeri bir artırılarak döngü ilerletilir. Döngü 100'e ulaşana kadar devam eder ve toplam değişkeni sonunda tüm sayıların toplamını içerir.</span>"
   ]
  },
  {
   "cell_type": "markdown",
   "id": "5cc82a90-450a-475b-b36c-fb3c35b301cb",
   "metadata": {},
   "source": [
    "<div style=\"float: right; background-color: #333; padding: 5px; border: 1px solid #ccc; height: 250px; width: 400px;\">\n",
    "    <h3 style=\"color: #c0c0c0;\">Not Kutusu</h3>\n",
    "    <p style=\"font-family: 'Arial' sans-serif; font-size: 14px; color: #ffffff;\">\n",
    "        !! Döngünün her adımında kontrol edilen yapı değiştirilmeli veya güncellenmelidir, aksi halde             döngü koşulu hiçbir zaman sağlanmaz ve döngü sonsuz bir döngüye girer.\n",
    "        <br>\n",
    "        x = 0\n",
    "        <br>\n",
    "        while (x<4):\n",
    "        <br>\n",
    "            print(x)\n",
    "        <br>\n",
    "        Bu örnekde döngü sonsuz bir şekilde çalışır. Bu durumda, program donar veya çökme riskiyle karşı  karşıya kalabilir.\n",
    "    </p>\n",
    "</div>"
   ]
  }
 ],
 "metadata": {
  "kernelspec": {
   "display_name": "Python 3 (ipykernel)",
   "language": "python",
   "name": "python3"
  },
  "language_info": {
   "codemirror_mode": {
    "name": "ipython",
    "version": 3
   },
   "file_extension": ".py",
   "mimetype": "text/x-python",
   "name": "python",
   "nbconvert_exporter": "python",
   "pygments_lexer": "ipython3",
   "version": "3.12.3"
  }
 },
 "nbformat": 4,
 "nbformat_minor": 5
}
