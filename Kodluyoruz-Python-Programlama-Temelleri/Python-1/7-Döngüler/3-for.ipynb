{
 "cells": [
  {
   "cell_type": "markdown",
   "id": "8d8ffb21-dcaa-4b45-9d54-a319911f2287",
   "metadata": {},
   "source": [
    "## For Loop"
   ]
  },
  {
   "cell_type": "markdown",
   "id": "27fa6905-65e4-4e78-9c19-622f3d83d425",
   "metadata": {},
   "source": [
    "<span style=\"font-family: 'Arial', sans-serif; font-size: 16px;\">Python'da \"for\" döngüsü, bir dizi veya başka bir veri yapısı üzerinde dolaşmak veya belirli bir aralıkta işlem yapmak için kullanılan bir kontrol yapısıdır. Bu döngü, belirli bir koşul sağlandığı sürece belirli bir kod bloğunu tekrar tekrar çalıştırır.</span>"
   ]
  },
  {
   "cell_type": "markdown",
   "id": "63daa175-e393-43ba-b6ef-8b9eeabfe862",
   "metadata": {},
   "source": [
    "<span style=\"font-family: 'Arial', sans-serif; font-size: 16px;\">**\"for\" döngüsünün genel yapısı:**</span>"
   ]
  },
  {
   "cell_type": "code",
   "execution_count": null,
   "id": "5ea3e06d-3429-4db2-90f5-75e2d525eb1b",
   "metadata": {},
   "outputs": [],
   "source": [
    "for eleman in dizi:\n",
    "    # Kod bloğu"
   ]
  },
  {
   "cell_type": "markdown",
   "id": "5d3a41b5-8f19-43ce-9e37-d632036c20f8",
   "metadata": {},
   "source": [
    "<p style=\"font-family: 'Arial', sans-serif; font-size: 16px;\">\n",
    "    <strong style= \"font-size:18px;\">Burada:</strong>\n",
    "    <br>\n",
    "    <strong style = \"font-family: 'Italic';\">eleman</strong>, her bir döngü adımında dizi(string) içindeki elemanları temsil eden değişkenin adıdır.\n",
    "    <br>\n",
    "    <strong style = \"font-family: 'Italic';\">dizi</strong>, üzerinde dolaşılacak olan veri yapısını temsil eder. Bu veri yapısı bir liste(list), demet(tuple), dize(string) veya başka bir iterable nesne olabilir.\n",
    "    <br>\n",
    "    <strong style = \"font-family: 'Italic';\">kod bloğu</strong>, her bir döngü adımında çalıştırılacak olan kod parçalarını içerir.\n",
    "</p>"
   ]
  },
  {
   "cell_type": "markdown",
   "id": "977f058f-613c-47af-92bb-05d4301767d4",
   "metadata": {},
   "source": [
    "<span style=\"font-family: 'Arial', sans-serif; font-size: 16px;\">**Bir dize üzerinde döngü:**</span>"
   ]
  },
  {
   "cell_type": "code",
   "execution_count": 5,
   "id": "c5f60758-f31a-47cb-bf1f-c17adf27d070",
   "metadata": {},
   "outputs": [
    {
     "name": "stdout",
     "output_type": "stream",
     "text": [
      "P\n",
      "y\n",
      "t\n",
      "h\n",
      "o\n",
      "n\n"
     ]
    }
   ],
   "source": [
    "dize = \"Python\"\n",
    "for harf in dize:\n",
    "    print(harf)"
   ]
  },
  {
   "cell_type": "markdown",
   "id": "ab754488-307d-4e51-bd43-d3a44169bc09",
   "metadata": {},
   "source": [
    "<span style=\"font-family: 'Arial', sans-serif; font-size: 16px;\">Bu kodda, \"dize\" adlı bir dize oluşturulur. \"for\" döngüsü, dizenin her bir karakterini sırayla alır ve \"harf\" adlı değişkene atar. Sonuç olarak, her bir karakter ekrana yazdırılır.</span>"
   ]
  },
  {
   "cell_type": "markdown",
   "id": "058219bc-de67-419a-ad19-94f73aeea057",
   "metadata": {},
   "source": [
    "<span style=\"font-family: 'Arial', sans-serif; font-size: 16px;\">**Bir liste üzerinde döngü:**</span>"
   ]
  },
  {
   "cell_type": "code",
   "execution_count": 7,
   "id": "b9924da3-982a-4799-9ade-29db4dc8dbbb",
   "metadata": {},
   "outputs": [
    {
     "name": "stdout",
     "output_type": "stream",
     "text": [
      "1\n",
      "2\n",
      "3\n",
      "4\n",
      "5\n"
     ]
    }
   ],
   "source": [
    "liste = [1, 2, 3, 4, 5]\n",
    "for eleman in liste:\n",
    "    print(eleman)"
   ]
  },
  {
   "cell_type": "markdown",
   "id": "cf8041b8-128f-45f1-97dc-38fe3c12bc98",
   "metadata": {},
   "source": [
    "<span style=\"font-family: 'Arial', sans-serif; font-size: 16px;\">Bu kod, \"liste\" adlı bir liste oluşturur. \"for\" döngüsü, listenin her bir elemanını sırayla alır ve \"eleman\" adlı değişkene atar. Ardından, her bir eleman ekrana yazdırılır.</span>"
   ]
  },
  {
   "cell_type": "markdown",
   "id": "0b453c4b-9db7-44e7-9116-fed3ba6ff71e",
   "metadata": {},
   "source": [
    "<span style=\"font-family: 'Arial', sans-serif; font-size: 16px;\">`range()` fonksiyonu, belirli bir aralıktaki sayıları üretmek için kullanılır. Bu fonksiyon, genellikle for döngüsü ile birlikte kullanılır. Başlangıç, bitiş ve adım parametreleri alabilir.</span>"
   ]
  },
  {
   "cell_type": "code",
   "execution_count": 9,
   "id": "3f75bd96-af62-4fea-b851-05a3adea2967",
   "metadata": {},
   "outputs": [
    {
     "name": "stdout",
     "output_type": "stream",
     "text": [
      "0\n",
      "1\n",
      "2\n",
      "3\n",
      "4\n"
     ]
    }
   ],
   "source": [
    "# 0'dan 9'a kadar olan sayıları ekrana yazdıralım\n",
    "for sayi in range(5):\n",
    "    print(sayi)"
   ]
  },
  {
   "cell_type": "markdown",
   "id": "799d7868-dfc0-41e0-85da-b578bbc01f34",
   "metadata": {},
   "source": [
    "<span style=\"font-family: 'Arial', sans-serif; font-size: 16px;\">Bu örnekte, `range(5)` fonksiyonu 0'dan 4'e kadar olan sayıları üretir. `for` döngüsü her bir sayıyı `sayi` adlı değişkene atar ve bu sayıları ekrana yazdırır.</span>"
   ]
  },
  {
   "cell_type": "markdown",
   "id": "e2d4976a-d4d8-43e2-902d-4e1f8e26536f",
   "metadata": {},
   "source": [
    "<span style=\"font-family: 'Arial', sans-serif; font-size: 16px;\">**Aynı örneği başlangıç, bitiş ve adım parametreleriyle de yapabiliriz:**</span>"
   ]
  },
  {
   "cell_type": "code",
   "execution_count": 10,
   "id": "51501286-11c9-440a-b93a-bbbd9b75d5e5",
   "metadata": {},
   "outputs": [
    {
     "name": "stdout",
     "output_type": "stream",
     "text": [
      "2\n",
      "4\n",
      "6\n",
      "8\n",
      "10\n"
     ]
    }
   ],
   "source": [
    "# 1'den 10'a kadar olan çift sayıları ekrana yazdıralım\n",
    "for sayi in range(2, 11, 2):\n",
    "    print(sayi)"
   ]
  },
  {
   "cell_type": "markdown",
   "id": "8d927dfb-4e44-4fff-abfd-22c9e5e23a59",
   "metadata": {},
   "source": [
    "<span style=\"font-family: 'Arial', sans-serif; font-size: 16px;\">Bu örnekte, range(2, 11, 2) fonksiyonu 2'den başlayarak 10'a kadar olan sayıları üretir ve her seferinde 2'şer atlayarak ilerler. Yani, for döngüsü 2'den başlayarak 2'şer artırarak 10'a kadar olan çift sayıları ekrana yazdırır</span>"
   ]
  },
  {
   "cell_type": "code",
   "execution_count": 1,
   "id": "7479d35f-7778-4a42-ba0d-ba93d41fa4aa",
   "metadata": {},
   "outputs": [
    {
     "name": "stdout",
     "output_type": "stream",
     "text": [
      "5050\n"
     ]
    }
   ],
   "source": [
    "toplam = 0                         # \"toplam\" adında bir değişken oluşturulur ve değeri sıfır olarak atanır. Bu değişken, toplamın tutulacağı yerdir.\n",
    "\n",
    "for x in range(101):               # Bu satırda bir \"for\" döngüsü başlatılır. \"x\", her döngü adımında 0'dan 100'e kadar (101 dahil değil) olan sayıları temsil eder.\n",
    "    toplam += x                    # toplam += x: Döngünün her bir adımında, \"toplam\" değişkenine, \"x\" değişkeninin değeri eklenir.\n",
    "\n",
    "print(toplam)                      # Döngü tamamlandıktan sonra, \"toplam\" değişkeninin son değeri ekrana yazdırılır."
   ]
  },
  {
   "cell_type": "code",
   "execution_count": 2,
   "id": "52f5df22-daae-4fda-95af-a3348d4935b8",
   "metadata": {},
   "outputs": [
    {
     "name": "stdout",
     "output_type": "stream",
     "text": [
      "3125\n"
     ]
    }
   ],
   "source": [
    "toplam = 1                  \n",
    "for x in range(5):       #i değişkeni kullanılmadığı için range, döngünün 5 defa iterate(çalıştırmak) söyler\n",
    "    toplam *=5           #toplam *= 5 ifadesiyle, toplam değişkeninin değeri 5 ile çarpılır\n",
    "    \n",
    "print(toplam)            #döngü boyunca 5'in 5. kuvveti olarak hesaplanır."
   ]
  },
  {
   "cell_type": "markdown",
   "id": "5fa77e2c-bd74-4ab8-8741-10825f8dd229",
   "metadata": {},
   "source": [
    "<span style=\"font-family: 'Arial', sans-serif; font-size: 16px;\">Burada, döngü 5 kez tekrarlanır ve her adımda toplam değeri 5 ile çarpılarak güncellenir. Son olarak, toplam değişkeninin son değeri ekrana yazdırılır ve 5'in 5. kuvveti olan 3125 sonucu elde edilir.</span>"
   ]
  },
  {
   "cell_type": "code",
   "execution_count": 3,
   "id": "f45f0773-6f8b-4562-945c-7d27c804866a",
   "metadata": {},
   "outputs": [
    {
     "name": "stdout",
     "output_type": "stream",
     "text": [
      "3125\n"
     ]
    }
   ],
   "source": [
    "toplam = 1\n",
    "for _ in range(5):        \n",
    "    toplam *=5\n",
    "    \n",
    "print(toplam)       "
   ]
  },
  {
   "cell_type": "markdown",
   "id": "960afc70-cb52-4f54-b966-34047fbf9cc9",
   "metadata": {
    "jp-MarkdownHeadingCollapsed": true
   },
   "source": [
    "<div style=\"float: right; background-color: #333; padding: 5px; border: 1px solid #ccc; height: 200px; width: 800px;\">\n",
    "    <h3 style=\"color: #c0c0c0;\">Not Kutusu</h3>\n",
    "    <p style=\"font-family: 'Arial' sans-serif; font-size: 14px; color: #ffffff;\">\n",
    "    toplam = 1\n",
    "    <br>\n",
    "    for _ in range(5):        \n",
    "    <br>\n",
    "        toplam *=5\n",
    "    <br>\n",
    "    print(toplam)\n",
    "    <br>\n",
    "    Bu döngüde <strong>` _ `</strong> adında bir değişken kullanılmıştır. Genellikle, döngüde kullanılan bir değişkenin değerine ihtiyaç duyulmadığında  <strong>` _ `</strong> kullanılır. Yani; döngü 5 kere tekrarlanacak\n",
    "    </p>\n",
    "</div>"
   ]
  },
  {
   "cell_type": "markdown",
   "id": "610646a7-a9a4-4d3d-a39f-c7fd668505cd",
   "metadata": {},
   "source": [
    "## for vs while loops"
   ]
  },
  {
   "cell_type": "markdown",
   "id": "9fceb684-bd60-4a7c-90f8-4edf936b50b3",
   "metadata": {},
   "source": [
    "<span style=\"font-family: 'Arial', sans-serif; font-size: 16px;\">`for` döngüsü, eleman sayısı kadar döner ve genellikle bir dizi veya veri yapısı üzerinde gezinmek için kullanılırken, `while` döngüsü belirli bir koşul sağlandığı sürece döner ve genellikle belirli bir işlem tamamlanana kadar kullanılır.</span>"
   ]
  },
  {
   "cell_type": "code",
   "execution_count": 12,
   "id": "c960357c-4a21-4825-a17a-5a73b10cc8fe",
   "metadata": {},
   "outputs": [
    {
     "name": "stdout",
     "output_type": "stream",
     "text": [
      "h\n",
      "e\n",
      "y\n"
     ]
    }
   ],
   "source": [
    "s = \"hey\"\n",
    "for c in s:\n",
    "    print(c)"
   ]
  },
  {
   "cell_type": "markdown",
   "id": "f4a1d0a3-7d6c-4219-a0cb-71c77f19aed1",
   "metadata": {},
   "source": [
    "<span style=\"font-family: 'Arial', sans-serif; font-size: 16px;\">Bu kod, \"hey\" dizesinin her bir karakterini alır ve ekrana basar. Döngü, dize elemanlarının sayısı kadar (3 kez) çalışır.\n",
    "</span>"
   ]
  },
  {
   "cell_type": "code",
   "execution_count": null,
   "id": "02ce7a7a-1d4b-440b-8112-4290cf1f4175",
   "metadata": {},
   "outputs": [],
   "source": [
    "s = \"hey\"\n",
    "n = len(s)\n",
    "index = 0\n",
    "\n",
    "while index < n:\n",
    "    print(s[index])\n",
    "    index += 1"
   ]
  },
  {
   "cell_type": "markdown",
   "id": "34d6188f-0120-4e06-8348-8578ce17e165",
   "metadata": {},
   "source": [
    "<span style=\"font-family: 'Arial', sans-serif; font-size: 16px;\">Bu kod, bir dizenin elemanlarını for döngüsü yerine while döngüsü kullanarak alır ve ekrana basar. Burada, döngünün kaç kez döneceği, dizenin uzunluğu kadar olduğu için, döngü tam olarak 3 kez çalışır.</span>"
   ]
  },
  {
   "cell_type": "markdown",
   "id": "31b4bcb1-bfbb-413d-a5ce-c3b5c88b1226",
   "metadata": {},
   "source": [
    "<div style=\"float: right; background-color: #333; padding: 5px; border: 1px solid #ccc; height: 100x; width: 600px;\">\n",
    "    <h3 style=\"color: #c0c0c0;\">Not Kutusu</h3>\n",
    "    <p style=\"font-family: 'Arial' sans-serif; font-size: 14px; color: #ffffff;\">`for` döngüsünü `while` döngüsünü kullanarak yazabiliriz, ama `while` döngüsünü `for` kullanarak yazamayız, çünkü for'da test mekanizması yok.</p>\n",
    "</div>"
   ]
  }
 ],
 "metadata": {
  "kernelspec": {
   "display_name": "Python 3 (ipykernel)",
   "language": "python",
   "name": "python3"
  },
  "language_info": {
   "codemirror_mode": {
    "name": "ipython",
    "version": 3
   },
   "file_extension": ".py",
   "mimetype": "text/x-python",
   "name": "python",
   "nbconvert_exporter": "python",
   "pygments_lexer": "ipython3",
   "version": "3.12.3"
  }
 },
 "nbformat": 4,
 "nbformat_minor": 5
}
