{
 "cells": [
  {
   "cell_type": "markdown",
   "id": "cfa69549-2f10-4d0c-a900-5e7f6ca1531a",
   "metadata": {},
   "source": [
    "## Continue-Break"
   ]
  },
  {
   "cell_type": "markdown",
   "id": "3b275fa4-759f-46e0-8974-a827a453d521",
   "metadata": {},
   "source": [
    "### break:"
   ]
  },
  {
   "cell_type": "markdown",
   "id": "1e212db8-34a0-4f04-89a1-3fdcd198fa09",
   "metadata": {},
   "source": [
    "<span style=\"font-family: 'Arial', sans-serif; font-size: 16px;\">`break` ifadesi: Döngüyü aniden sonlandırmak için kullanılır. Bir break ifadesi çalıştığında, döngüye ait blok hemen sona erer ve döngü dışındaki bir sonraki ifadenin çalışmasına geçilir.</span>"
   ]
  },
  {
   "cell_type": "code",
   "execution_count": 2,
   "id": "a65b450d-5366-461f-a3ef-56deb9431575",
   "metadata": {},
   "outputs": [
    {
     "name": "stdout",
     "output_type": "stream",
     "text": [
      "0\n",
      "1\n",
      "2\n"
     ]
    }
   ],
   "source": [
    "for i in range(10):\n",
    "    if i == 3:\n",
    "        break                # i 3 olduğunda döngüyü sonlandır\n",
    "    print(i)                "
   ]
  },
  {
   "cell_type": "markdown",
   "id": "523e97ff-c063-41a4-9f0b-1e7b0e62f506",
   "metadata": {},
   "source": [
    "<span style=\"font-family: 'Arial', sans-serif; font-size: 16px;\">Bu kod parçası, 0'dan 9'a kadar olan sayıları `i` değişkenine atar ve her bir değeri yazdırır. Ancak `i` 3 olduğunda, `break` ifadesi çalışır ve döngü aniden sona erer.</span>"
   ]
  },
  {
   "cell_type": "code",
   "execution_count": 3,
   "id": "88cc9d9b-d80a-42e0-8e25-67c0ff733226",
   "metadata": {},
   "outputs": [
    {
     "name": "stdout",
     "output_type": "stream",
     "text": [
      "0\n",
      "1\n",
      "2\n"
     ]
    }
   ],
   "source": [
    "x = 0\n",
    "\n",
    "while x < 10:\n",
    " \n",
    "    print(x)\n",
    "    x += 1\n",
    "    \n",
    "    if x == 3:                      # `x == 3` koşulu sağlandığı için döngü break ifadesiyle sonlanır\n",
    "        break"
   ]
  },
  {
   "cell_type": "markdown",
   "id": "95866a08-bcb9-459d-b67f-9b7e4dca13dd",
   "metadata": {},
   "source": [
    "<span style=\"font-family: 'Arial', sans-serif; font-size: 16px;\">Bu kod parçası, `x` değerini 0'dan başlatır ve her döngüde bir artırarak 10'a kadar olan sayıları yazdırır. Ancak `x` değeri 3 olduğunda döngüyü aniden sonlandırır.</span>"
   ]
  },
  {
   "cell_type": "markdown",
   "id": "e0388b64-2c8e-4cb9-bcab-2e029b05fcfd",
   "metadata": {},
   "source": [
    "### continue:"
   ]
  },
  {
   "cell_type": "markdown",
   "id": "be171580-8bdf-4024-828c-7d67fff2e3bf",
   "metadata": {},
   "source": [
    "<span style=\"font-family: 'Arial', sans-serif; font-size: 16px;\">`continue` ifadesi: Döngünün geri kalanını atlayarak bir sonraki iterasyona geçmek için kullanılır. `continue` ifadesi çalıştığında, o anki iterasyon sona erer ve döngünün başlangıcına geri dönülür.</span>"
   ]
  },
  {
   "cell_type": "code",
   "execution_count": 4,
   "id": "f972c993-243e-4836-93e6-20f39399d8b5",
   "metadata": {},
   "outputs": [
    {
     "name": "stdout",
     "output_type": "stream",
     "text": [
      "0\n",
      "1\n",
      "2\n",
      "4\n",
      "5\n",
      "6\n",
      "7\n",
      "8\n",
      "9\n"
     ]
    }
   ],
   "source": [
    "for i in range(10):\n",
    "    if i == 3:\n",
    "        continue      # i 3 olduğunda bu iterasyonu atla yani; bir sonraki kod bloğuna geçmeden başa dönecek\n",
    "    print(i)             "
   ]
  },
  {
   "cell_type": "markdown",
   "id": "4b9b5e4b-f2ba-443b-98f2-39d0078af07b",
   "metadata": {},
   "source": [
    "<span style=\"font-family: 'Arial', sans-serif; font-size: 16px;\">Bu kod parçası, 0'dan 9'a kadar olan sayıları `i` değişkenine atar ve her bir değeri yazdırır. Ancak `i` 3 olduğunda, `continue` ifadesi çalışır ve o iterasyon atlanır, dolayısıyla 3 değeri yazılmaz.\n",
    "</span>"
   ]
  },
  {
   "cell_type": "code",
   "execution_count": 5,
   "id": "6786a256-712c-44a3-8d02-359e6b47b1bf",
   "metadata": {},
   "outputs": [
    {
     "name": "stdout",
     "output_type": "stream",
     "text": [
      "1\n",
      "2\n",
      "4\n",
      "5\n",
      "6\n",
      "7\n",
      "8\n",
      "9\n",
      "10\n"
     ]
    }
   ],
   "source": [
    "x = 0\n",
    "while x < 10:\n",
    "    x += 1\n",
    "    if x == 3:\n",
    "        continue  # x 3 olduğunda bu iterasyonu atla\n",
    "    print(x)"
   ]
  },
  {
   "cell_type": "markdown",
   "id": "f51ae604-45d8-43e1-8a8b-d5b9896ee9e3",
   "metadata": {},
   "source": [
    "<span style=\"font-family: 'Arial', sans-serif; font-size: 16px;\">Bu kod parçası, `x` değişkenini 1 artırarak 1'den 10'a kadar olan sayıları yazdırır. Ancak x 3 olduğunda, `continue` ifadesi çalışır, bu iterasyon atlanır ve 3 değeri yazılmaz. Döngü 4'ten devam eder ve 10'a kadar gider.</span>"
   ]
  }
 ],
 "metadata": {
  "kernelspec": {
   "display_name": "Python 3 (ipykernel)",
   "language": "python",
   "name": "python3"
  },
  "language_info": {
   "codemirror_mode": {
    "name": "ipython",
    "version": 3
   },
   "file_extension": ".py",
   "mimetype": "text/x-python",
   "name": "python",
   "nbconvert_exporter": "python",
   "pygments_lexer": "ipython3",
   "version": "3.12.3"
  }
 },
 "nbformat": 4,
 "nbformat_minor": 5
}
