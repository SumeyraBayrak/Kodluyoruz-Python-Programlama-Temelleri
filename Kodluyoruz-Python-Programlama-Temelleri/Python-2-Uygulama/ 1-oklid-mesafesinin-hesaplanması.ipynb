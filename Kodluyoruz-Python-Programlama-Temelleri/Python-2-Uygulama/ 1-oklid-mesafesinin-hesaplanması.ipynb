{
 "cells": [
  {
   "cell_type": "markdown",
   "id": "4e53aaaa-8f96-4058-ab95-68605f7511ae",
   "metadata": {},
   "source": [
    "<img src=\"https://lh7-us.googleusercontent.com/nPfCm5iIpBSZ046cFX6_nigXzWzp5ZEy5IqwCyf0Tw4DH8eeDhjz9bX05y0pT03gurzg6dulaObb7-o7wuevBBySG1xCIzkkM91EqqgDvFKPJc_V40bbT3Se9qt4EDBreCLOlugrMdBbvDVnr79vzo4\" alt=\"python-keywords\" style=\"width:600px;height:300px; margin:auto;\">"
   ]
  },
  {
   "cell_type": "markdown",
   "id": "15b8e29f-e938-4ee4-ae75-122e5707f506",
   "metadata": {},
   "source": [
    "<span style=\"font-family: 'Arial', sans-serif; font-size: 16px;\">\n",
    "    <h3 style=\"margin-bottom: 10px;\">Öklid Mesafesi Formülü</h3>\n",
    "    <p style=\"font-family: 'Arial', sans-serif; font-size: 16px;\">\n",
    "        Öklid mesafesi, iki nokta arasındaki doğrudan düz çizgi mesafesini ifade eder. Formül şu şekildedir:\n",
    "        <br><br>\n",
    "        Öklid Mesafesi (d) = √[(x₂ - x₁)² + (y₂ - y₁)²]\n",
    "        <br><br>\n",
    "        Bu formülde, (x₁, y₁) ve (x₂, y₂) noktaları arasındaki mesafe hesaplanır. İki nokta arasındaki yatay mesafe (x koordinatları arasındaki fark) ile dikey mesafe (y koordinatları arasındaki fark) alınır. Bu farklar kare alınarak toplanır. Son olarak, toplamın karekökü alınarak iki nokta arasındaki Öklid mesafesi bulunur.\n",
    "    </p>\n",
    "</span>"
   ]
  },
  {
   "cell_type": "markdown",
   "id": "3db4af54-89c2-4497-989a-27616efb8804",
   "metadata": {},
   "source": [
    "<h2>Görevler:</h2>\n",
    "<ol>\n",
    "    <li style=\"font-family: 'Arial', sans-serif; font-size: 16px;\">Noktaların Tanımlanması: 'points' adında bir liste oluşturulur. Bu liste, 2D uzaydaki noktaları temsil eden demetler (tuple) içerir. Her bir demet, '(x, y)' formatında bir noktayı temsil eder.</li>\n",
    "    <li style=\"font-family: 'Arial', sans-serif; font-size: 16px;\">Öklid Mesafesi İçin Bir Fonksiyon Yazma: 'euclideanDistance' adında bir fonksiyon tanımlanır. Bu fonksiyon, iki demet (her biri bir noktayı temsil eder) alır ve bu iki nokta arasındaki Öklid mesafesini döndürür.</li>\n",
    "    <li style=\"font-family: 'Arial', sans-serif; font-size: 16px;\">Mesafelerin Hesaplanması: Bir döngü kullanılarak, 'points' listesindeki her nokta çifti arasındaki Öklid mesafesi hesaplanır. Bu mesafeler, 'distances' adında başka bir listede saklanır.</li>\n",
    "    <li style=\"font-family: 'Arial', sans-serif; font-size: 16px;\">Minimum Mesafenin Bulunması: 'distances' listesinden minimum mesafe bulunur ve yazdırılır.</li>\n",
    "</ol>"
   ]
  },
  {
   "cell_type": "code",
   "execution_count": 3,
   "id": "10cad84c-3c29-4242-9ec4-8220043bc985",
   "metadata": {},
   "outputs": [],
   "source": [
    "points = [(1, 2), (3, 4), (5, 6), (7, 8)]"
   ]
  },
  {
   "cell_type": "markdown",
   "id": "9369e18a-3022-4ec9-88e6-4e17ff0582da",
   "metadata": {},
   "source": [
    "<span style=\"font-family: 'Arial', sans-serif; font-size: 16px;\">Bu kod satırı, bir örnek olarak kullanılabilecek dört adet 2D noktayı temsil eden bir liste oluşturur. Her bir nokta, `x` ve `y` koordinatlarını içeren bir demet `(tuple)` şeklinde ifade edilir. Örneğin, `(1, 2)` noktası 2D düzlemde `(1, 2)` koordinatlarını, `(3, 4)` noktası ise `(3, 4)` koordinatlarını temsil eder. Bu liste, çeşitli matematiksel hesaplamalar veya analizler için kullanılabilir.</span>"
   ]
  },
  {
   "cell_type": "code",
   "execution_count": 4,
   "id": "d6a34f8b-fb79-4449-94c7-349138df4266",
   "metadata": {},
   "outputs": [],
   "source": [
    "def euclideanDistance(point1, point2):\n",
    "    x1, y1 = point1\n",
    "    x2, y2 = point2\n",
    "    return ((x2 - x1) ** 2 + (y2 - y1) ** 2) ** 0.5"
   ]
  },
  {
   "cell_type": "markdown",
   "id": "4e12cc56-0136-4cb3-862e-46c637b89b7b",
   "metadata": {},
   "source": [
    "<span style=\"font-family: 'Arial', sans-serif; font-size: 16px;\">Bu fonksiyon, iki nokta arasındaki Öklid mesafesini hesaplar. İki parametre alır: `point1` ve` point2`, her biri bir noktayı temsil eden demetlerdir. Fonksiyon, bu noktaların `x` ve `y` koordinatlarını ayırır `(x1, y1 ve x2, y2)`, sonra bu koordinatları kullanarak iki nokta arasındaki mesafeyi hesaplar ve sonucu döndürür. Öklid mesafesi, iki nokta arasındaki doğrudan çizginin uzunluğunu ifade eder ve formülü `(x2 - x1)² + (y2 - y1)²`' nin kareköküdür.</span>"
   ]
  },
  {
   "cell_type": "code",
   "execution_count": 15,
   "id": "17f1069a-43d1-48a8-a848-bc3bee0feab0",
   "metadata": {},
   "outputs": [],
   "source": [
    "distances = []\n",
    "for i in range(len(points)):\n",
    "    for j in range(i + 1, len(points)):\n",
    "        distance = euclideanDistance(points[i], points[j])\n",
    "        distances.append(round(distance, 2))"
   ]
  },
  {
   "cell_type": "markdown",
   "id": "cd955133-31c5-4d12-9d8b-fc158606e8ba",
   "metadata": {},
   "source": [
    "<span style=\"font-family: 'Arial', sans-serif; font-size: 16px;\">Bu kod parçası, `distances` adında boş bir liste oluşturur ve ardından `points` listesindeki her bir nokta çifti arasındaki Öklid mesafesini hesaplar. Her bir nokta çifti için bir iç içe döngü kullanılır. Öklid mesafesi hesaplanırken, `euclideanDistance` fonksiyonu kullanılır. Hesaplanan mesafeler, virgülden sonra sadece iki basamaklı olacak şekilde yuvarlanır ve `distances` listesine eklenir. Bu, her bir mesafenin daha temiz ve daha okunabilir olmasını sağlar.</span>"
   ]
  },
  {
   "cell_type": "code",
   "execution_count": 14,
   "id": "c6067554-4768-482b-9095-c825599b4ebe",
   "metadata": {},
   "outputs": [
    {
     "name": "stdout",
     "output_type": "stream",
     "text": [
      "[2.83, 5.66, 8.49, 2.83, 5.66, 2.83]\n",
      "Minimum mesafe: 2.83\n"
     ]
    }
   ],
   "source": [
    "min_distance = min(distances)\n",
    "print(distances)\n",
    "print(\"Minimum mesafe:\", min_distance)"
   ]
  },
  {
   "cell_type": "markdown",
   "id": "2c3c3452-0ba6-42cb-8ba3-0dbb63d898b6",
   "metadata": {},
   "source": [
    "<span style=\"font-family: 'Arial', sans-serif; font-size: 16px;\">Bu kod parçası, `distances` listesindeki en küçük mesafeyi bulur ve ekrana yazdırır. `min()` fonksiyonu, 'distances' listesindeki en küçük değeri belirler ve `min_distance` değişkenine atar. Sonra bu minimum mesafe ekrana yazdırılır. Bu işlem, `distances` listesindeki her bir nokta çifti arasındaki Öklid mesafelerinin hesaplanmasının ardından gerçekleştirilir</span>"
   ]
  }
 ],
 "metadata": {
  "kernelspec": {
   "display_name": "Python 3 (ipykernel)",
   "language": "python",
   "name": "python3"
  },
  "language_info": {
   "codemirror_mode": {
    "name": "ipython",
    "version": 3
   },
   "file_extension": ".py",
   "mimetype": "text/x-python",
   "name": "python",
   "nbconvert_exporter": "python",
   "pygments_lexer": "ipython3",
   "version": "3.12.3"
  }
 },
 "nbformat": 4,
 "nbformat_minor": 5
}
