{
 "cells": [
  {
   "cell_type": "markdown",
   "id": "3bbec9a7-6f98-4e83-bc23-1f40e7e5fc6c",
   "metadata": {},
   "source": [
    "# List"
   ]
  },
  {
   "cell_type": "markdown",
   "id": "2534c0a2-e459-47a1-9ec8-06f35e3d33ea",
   "metadata": {},
   "source": [
    "<span style=\"font-family: 'Arial', sans-serif; font-size: 16px;\">`Listeler`, Python'da birden çok öğeyi saklamak için kullanılan esnek veri yapılarıdır. Örneğin, bir sınıftaki öğrencilerin notlarını saklamak istediğimizde, her öğrenci için ayrı bir değişken oluşturmak yerine, bu notları tek bir liste içinde tutabiliriz.</span>"
   ]
  },
  {
   "cell_type": "markdown",
   "id": "b70de0e4-8391-4bd7-971b-9a412d1918fe",
   "metadata": {},
   "source": [
    "<span style=\"font-family: 'Arial', sans-serif; font-size: 16px;\">**Şimdi, sınıftaki 5 öğrencinin notlarını tanımlayacağız:**</span>"
   ]
  },
  {
   "cell_type": "code",
   "execution_count": null,
   "id": "882691c3-853e-47eb-8c17-c8477f0d48db",
   "metadata": {},
   "outputs": [],
   "source": [
    "ogrenci_1 = 78\n",
    "ogrenci_2 = 80\n",
    "ogrenci_3 = 43\n",
    "ogrenci_4 = 65\n",
    "ogrenci_5 = 90"
   ]
  },
  {
   "cell_type": "markdown",
   "id": "b792258c-0607-4fad-a025-27eda10e1057",
   "metadata": {},
   "source": [
    "<span style=\"font-family: 'Arial', sans-serif; font-size: 16px;\">Yukarıdaki ifade, her öğrencinin notunu ayrı ayrı değişkenlere atar. Ancak bu yöntem, özellikle çok sayıda öğrenci olduğunda karmaşık ve yönetilmesi zor olabilir. Bunun yerine, öğrenci notlarını bir liste içinde saklamak daha mantıklı olacaktır.</span>"
   ]
  },
  {
   "cell_type": "code",
   "execution_count": 2,
   "id": "b2c0e51b-19d6-43f7-8517-827f0e661bc6",
   "metadata": {},
   "outputs": [],
   "source": [
    "notlar = [78, 80, 43, 65, 90]"
   ]
  },
  {
   "cell_type": "markdown",
   "id": "96aa1609-6de2-42c5-9937-ff7d274adc45",
   "metadata": {},
   "source": [
    "<span style=\"font-family: 'Arial', sans-serif; font-size: 16px;\">Burada, `notlar` adlı bir liste oluşturduk ve listenin içine öğrenci notlarını ekledik. Bu şekilde, her bir öğrencinin notunu tek bir listeye toplamış olduk. İlk öğrencinin notu notlar listesinin ilk elemanıdır `notlar[0]`, ikinci öğrencinin notu ikinci elemandır `notlar[1]`, ve bu şekilde devam eder.</span>"
   ]
  },
  {
   "cell_type": "markdown",
   "id": "5ea69623-0d91-4547-90e8-c75bb6c4d368",
   "metadata": {},
   "source": [
    "<br>\n",
    "<span style=\"font-family: 'Arial', sans-serif; font-size: 16px;\">Listelerin içine farklı türde veri öğeleri de koyabilirsiniz. Örneğin, metinler, sayılar, boolean değerler ve hatta diğer listeler de listelerin içinde bulunabilir</span>"
   ]
  },
  {
   "cell_type": "code",
   "execution_count": null,
   "id": "a91e420e-4ca2-45ca-9680-89aa0d0bc528",
   "metadata": {},
   "outputs": [],
   "source": [
    "liste = [\"a\", 5, True, [1, 2, 3]]"
   ]
  },
  {
   "cell_type": "markdown",
   "id": "a99bfd49-a76b-4945-901f-8f6a845ed7bd",
   "metadata": {},
   "source": [
    "<span style=\"font-family: 'Arial', sans-serif; font-size: 16px;\">Bu sayede, liste veri yapısı Python'da çok çeşitli veri saklama ihtiyaçlarını karşılayabilir ve kodunuzu daha düzenli ve yönetilebilir hale getirebilirsiniz.</span>"
   ]
  },
  {
   "cell_type": "markdown",
   "id": "9e56f9fa-10e1-4c4d-aa8e-f08d2f98f3b9",
   "metadata": {},
   "source": [
    "## Indexing ve Slicing"
   ]
  },
  {
   "cell_type": "markdown",
   "id": "cb5de18c-bed0-47af-b410-92269900181f",
   "metadata": {},
   "source": [
    "<span style=\"font-family: 'Arial', sans-serif; font-size: 16px;\">**Indexing (İndeksleme):**</span>"
   ]
  },
  {
   "cell_type": "markdown",
   "id": "e9dc18c1-2a07-4362-b7d7-872066ea43ee",
   "metadata": {},
   "source": [
    "<span style=\"font-family: 'Arial', sans-serif; font-size: 16px;\">Indexing, bir listenin belirli bir elemanına erişmek için kullanılan bir işlemdir. Python'da, listenin her bir elemanı bir indeks numarasıyla belirlenir ve listenin elemanlarına bu indeks numaraları aracılığıyla erişilir.</span>"
   ]
  },
  {
   "cell_type": "markdown",
   "id": "51be0ab0-5dce-497b-a6c0-5e78090a66da",
   "metadata": {},
   "source": [
    "<span style=\"font-family: 'Arial', sans-serif; font-size: 16px;\">**Örneğin, notlar adlı bir liste olduğunu düşünelim:**</span>"
   ]
  },
  {
   "cell_type": "code",
   "execution_count": 6,
   "id": "98831437-afcf-4e54-8c0f-b81b39ebf774",
   "metadata": {},
   "outputs": [],
   "source": [
    "notlar = [78, 80, 43, 65, 90]"
   ]
  },
  {
   "cell_type": "markdown",
   "id": "d6b59ad1-65fd-43d1-9321-7dc1dce71227",
   "metadata": {},
   "source": [
    "<h2> Her bir öğrencinin notunu temsil eden indeks numaraları şu şekildedir:</h2>\n",
    "<ul>\n",
    "    <li>İlk öğrencinin notu: `notlar[0]`</li>\n",
    "    <li>İkinci öğrencinin notu: `notlar[1]`</li>\n",
    "    <li>Üçüncü öğrencinin notu: `notlar[2]`</li>\n",
    "    <li>...</li>\n",
    "    <li>Son öğrencinin notu: `notlar[4]`</li>\n",
    "</ul>"
   ]
  },
  {
   "cell_type": "markdown",
   "id": "34c0f3c6-0b66-4945-b95b-3ef7332b2c52",
   "metadata": {},
   "source": [
    "<span style=\"font-family: 'Arial', sans-serif; font-size: 16px;\">İndeks numaraları 0'dan başlar ve listenin uzunluğuna (eleman sayısına) kadar gider.</span>"
   ]
  },
  {
   "cell_type": "markdown",
   "id": "2903162a-cbb9-4e5e-b4cf-726359c7b3b4",
   "metadata": {},
   "source": [
    "<span style=\"font-family: 'Arial', sans-serif; font-size: 16px;\">**Slicing (Dilimleme):**</span>"
   ]
  },
  {
   "cell_type": "markdown",
   "id": "5ee5df55-f32e-46ef-b045-a36a68a3ff89",
   "metadata": {},
   "source": [
    "<span style=\"font-family: 'Arial', sans-serif; font-size: 16px;\">Slicing, bir listenin belirli bir aralığına erişmek için kullanılan bir işlemdir. Bu işlem, bir listenin bir alt kümesini almak için kullanılır.</span>"
   ]
  },
  {
   "cell_type": "code",
   "execution_count": 9,
   "id": "a7730f3c-87f7-44bb-b0dc-99518ae7b44a",
   "metadata": {},
   "outputs": [],
   "source": [
    "notlar = [78, 80, 43, 65, 90]"
   ]
  },
  {
   "cell_type": "markdown",
   "id": "0b36ffc0-0f06-4730-ad9e-45b572facb9d",
   "metadata": {},
   "source": [
    "<span style=\"font-family: 'Arial', sans-serif; font-size: 16px;\">`notlar` Adlı Bir Listenin Belirli Bir Dilimini Alma:</span>"
   ]
  },
  {
   "cell_type": "code",
   "execution_count": 11,
   "id": "faad46f1-1afa-4000-976b-ec8d50323e38",
   "metadata": {},
   "outputs": [
    {
     "name": "stdout",
     "output_type": "stream",
     "text": [
      "[80, 43, 65, 90]\n"
     ]
    }
   ],
   "source": [
    "a = notlar[1:]               #ikinci elemanından (indeks 1) başlayarak listenin sonuna kadar olan bölümü alır.\n",
    "print(a)"
   ]
  },
  {
   "cell_type": "code",
   "execution_count": 12,
   "id": "d298da9a-2ad3-4d7c-8aec-b42ae7716133",
   "metadata": {},
   "outputs": [
    {
     "name": "stdout",
     "output_type": "stream",
     "text": [
      "[80, 43]\n"
     ]
    }
   ],
   "source": [
    "b = notlar[1:3]              #ikinci elemanından (indeks 1) başlayarak üçüncü elemana (indeks 2) kadar olan bölümü alır.\n",
    "print(b)"
   ]
  },
  {
   "cell_type": "code",
   "execution_count": 14,
   "id": "bff1ea9e-4d50-49b8-89f5-987605fc04f9",
   "metadata": {},
   "outputs": [
    {
     "name": "stdout",
     "output_type": "stream",
     "text": [
      "[78, 80, 43, 65, 90]\n"
     ]
    }
   ],
   "source": [
    "c = notlar[:200]             #Listenin başından başlayarak 200. elemana kadar olan bölümü alır. Eğer list 200'den az elemana sahipse, listenin tamamını alır.\n",
    "print(c)"
   ]
  },
  {
   "cell_type": "markdown",
   "id": "590b79ad-a5e9-46af-be06-175568cbe90c",
   "metadata": {},
   "source": [
    "<span style=\"font-family: 'Arial', sans-serif; font-size: 16px;\">**Listelerin Elemanları Değiştirilebilir (Mutable):**</span>"
   ]
  },
  {
   "cell_type": "markdown",
   "id": "89fc56a6-a368-4545-bdbb-c45ddb0670fb",
   "metadata": {},
   "source": [
    "<span style=\"font-family: 'Arial', sans-serif; font-size: 16px;\">Örneğin, `notlar` adlı bir liste olduğunu ve ikinci öğrencinin notunu eksik okuduğumuzu varsayalım. Bu durumda, öğrencinin notunu 5 puan yükseltmek için şu işlemi yapabiliriz:</span>"
   ]
  },
  {
   "cell_type": "code",
   "execution_count": 16,
   "id": "bc9c86ba-0544-4f7c-9d29-c935f6eb6e76",
   "metadata": {},
   "outputs": [],
   "source": [
    "notlar = [78, 80, 43, 65, 90]\n",
    "notlar[1] += 5                     # İkinci öğrencinin notunu 5 puan yükseltik"
   ]
  },
  {
   "cell_type": "markdown",
   "id": "abe4e954-4597-4995-b17b-b080da6ca283",
   "metadata": {},
   "source": [
    "<span style=\"font-family: 'Arial', sans-serif; font-size: 16px;\">Bu işlem sonrasında `notlar` listesi şu şekilde güncellenecektir:</span>"
   ]
  },
  {
   "cell_type": "code",
   "execution_count": null,
   "id": "f9ff5318-eb6d-473d-91e9-59f84a9e0fdf",
   "metadata": {},
   "outputs": [],
   "source": [
    "[78, 85, 43, 65, 90]"
   ]
  },
  {
   "cell_type": "markdown",
   "id": "6c1adffd-65b3-4b82-88a3-5415e0df918a",
   "metadata": {},
   "source": [
    "<span style=\"font-family: 'Arial', sans-serif; font-size: 16px;\">**Birden Çok Elemanın Değiştirilmesi:**</span>"
   ]
  },
  {
   "cell_type": "markdown",
   "id": "fcdd3ea0-fa7d-4927-8cfc-f910bee1e53c",
   "metadata": {},
   "source": [
    "<span style=\"font-family: 'Arial', sans-serif; font-size: 16px;\">Slicing (dilimleme) yöntemiyle bir listenin belirli bir aralığına birden çok değer atayabiliriz.</span>"
   ]
  },
  {
   "cell_type": "markdown",
   "id": "3331605c-7371-4f40-bf4e-e2e41e5bb8f9",
   "metadata": {},
   "source": [
    "<span style=\"font-family: 'Arial', sans-serif; font-size: 16px;\">Örneğin, `l` adlı bir liste olduğunu ve bu listenin ilk üç elemanını `(0, 1 ve 2. indeksler)` değiştirmek istediğimizi düşünelim:</span>"
   ]
  },
  {
   "cell_type": "code",
   "execution_count": null,
   "id": "ee1fcf4f-24a6-4ae6-b262-97d3a4fe9c40",
   "metadata": {},
   "outputs": [],
   "source": [
    "l = [1, 2, 3, 4]\n",
    "l[0:3] = [30, 40, 60]"
   ]
  },
  {
   "cell_type": "markdown",
   "id": "7182252e-05ca-4173-9884-c71586eff5c9",
   "metadata": {},
   "source": [
    "<span style=\"font-family: 'Arial', sans-serif; font-size: 16px;\">Sonuc: </span>"
   ]
  },
  {
   "cell_type": "code",
   "execution_count": 20,
   "id": "693fa29c-a029-4c05-bb76-2203dd5e157a",
   "metadata": {},
   "outputs": [
    {
     "data": {
      "text/plain": [
       "[30, 40, 60, 4]"
      ]
     },
     "execution_count": 20,
     "metadata": {},
     "output_type": "execute_result"
    }
   ],
   "source": [
    "[30, 40, 60, 4]"
   ]
  },
  {
   "cell_type": "markdown",
   "id": "df805a38-b800-496d-9bf5-358fb99d5333",
   "metadata": {},
   "source": [
    "<span style=\"font-family: 'Arial', sans-serif; font-size: 16px;\">Python'da, slicing işlemiyle belirli bir dilimlenmiş bölgeye atama yaparken, atanan değerlerin sayısı dilimlenmiş bölgenin (slice) beklenen uzunluğundan farklı olabilir. Python, bu durumda atanan değerleri otomatik olarak uyarlayacaktır.</span>"
   ]
  },
  {
   "cell_type": "code",
   "execution_count": 21,
   "id": "8907714b-139a-49ce-8863-3530c51c85d3",
   "metadata": {},
   "outputs": [],
   "source": [
    "l = [1, 2, 3, 4]\n",
    "l[0:3] = [30, 40]"
   ]
  },
  {
   "cell_type": "markdown",
   "id": "73da7823-10d5-480c-822f-312885ca8cc2",
   "metadata": {},
   "source": [
    "<span style=\"font-family: 'Arial', sans-serif; font-size: 16px;\">Sonuç: </span>"
   ]
  },
  {
   "cell_type": "code",
   "execution_count": null,
   "id": "772ceaa2-c052-4f8a-9881-139d75710280",
   "metadata": {},
   "outputs": [],
   "source": [
    "[30, 40, 4]"
   ]
  },
  {
   "cell_type": "markdown",
   "id": "cb494aaf-c111-4c83-be76-314268f766ce",
   "metadata": {},
   "source": [
    "<span style=\"font-family: 'Arial', sans-serif; font-size: 16px;\">Burada, atanan `[30, 40]` listenin uzunluğu dilimlenmiş bölgenin (slice) beklenen uzunluğundan (3) farklıdır. Ancak Python, bu durumu otomatik olarak algılayarak atanan değerleri dilimlenmiş bölgeye uygun şekilde yerleştirir</span>"
   ]
  },
  {
   "cell_type": "markdown",
   "id": "91e842dd-3c1c-466e-919d-95f283b51fb5",
   "metadata": {},
   "source": [
    "<span style=\"font-family: 'Arial', sans-serif; font-size: 16px;\">Slicing'in sonucuna tek bir değer atamak istediğimizde, bu değerin bir liste veya başka bir yinelenebilir (iterable) bir veri yapısı olması gerektiğini belirtmemiz gerekiyor. Çünkü Python, dilimlenmiş bölgeye atanan değerin iterable olmasını bekler.</span>"
   ]
  },
  {
   "cell_type": "code",
   "execution_count": null,
   "id": "98f57ff5-bd51-4125-bd90-8e80905c677e",
   "metadata": {},
   "outputs": [],
   "source": [
    "l = [1, 2, 3, 4]\n",
    "l[0:3] = [30]"
   ]
  },
  {
   "cell_type": "markdown",
   "id": "27c5c70d-635e-4ce0-aa62-9833f8687269",
   "metadata": {},
   "source": [
    "<span style=\"font-family: 'Arial', sans-serif; font-size: 16px;\">Sonuç:</span>"
   ]
  },
  {
   "cell_type": "code",
   "execution_count": 23,
   "id": "8d7ecbf7-74c8-4d35-a01f-09d7cc8812cd",
   "metadata": {},
   "outputs": [
    {
     "data": {
      "text/plain": [
       "[30, 4]"
      ]
     },
     "execution_count": 23,
     "metadata": {},
     "output_type": "execute_result"
    }
   ],
   "source": [
    "[30, 4]"
   ]
  },
  {
   "cell_type": "markdown",
   "id": "f3c38ffe-6d81-43a3-9a17-8044fe94686f",
   "metadata": {},
   "source": [
    "<div style=\"float: right; background-color: #333; padding: 5px; border: 1px solid #ccc; height: 175px; width: 700px;\">\n",
    "    <h3 style=\"color: #c0c0c0;\">!!Hatalı Örnek</h3>\n",
    "    <p style=\"font-family: 'Arial' sans-serif; font-size: 14px; color: #ffffff;\">\n",
    "    l = [1, 2, 3, 4]\n",
    "    <br>\n",
    "    l[0:3] = 30\n",
    "    <br>\n",
    "    Burada, [30] değeri yerine 30 tek bir değerdir. Bu nedenle, Python hata verecektir çünkü dilimlenmiş bölgeye atanan değerin iterable olması beklenir. Bu hatayı engellemek için, atanan değeri bir liste olarak ifade etmemiz gerekir.\n",
    "    </p>\n",
    "</div>"
   ]
  },
  {
   "cell_type": "markdown",
   "id": "1c7ad8d2-c42e-4434-94ff-252935784f80",
   "metadata": {},
   "source": [
    "## len() Fonksiyonu:"
   ]
  },
  {
   "cell_type": "markdown",
   "id": "4d3e2b9d-d2fe-4b6e-9ded-647a14be4abf",
   "metadata": {},
   "source": [
    "<span style=\"font-family: 'Arial', sans-serif; font-size: 16px;\">`len()` fonksiyonu, bir listenin içinde bulunan eleman sayısını (uzunluğunu) döndürür. Bu fonksiyon, listenin kaç eleman içerdiğini bulmamıza yardımcı olur.</span>"
   ]
  },
  {
   "cell_type": "code",
   "execution_count": 25,
   "id": "cec4b056-8a86-40f2-982b-d4d2ead5f64d",
   "metadata": {},
   "outputs": [
    {
     "name": "stdout",
     "output_type": "stream",
     "text": [
      "5\n"
     ]
    }
   ],
   "source": [
    "l = [1, 2, 3, 4, 5]\n",
    "print(len(l))"
   ]
  },
  {
   "cell_type": "markdown",
   "id": "4b49eda2-f414-4219-8845-e3f63239f1c2",
   "metadata": {},
   "source": [
    "<span style=\"font-family: 'Arial', sans-serif; font-size: 16px;\">`len()` fonksiyonu `l` listesinde toplam 5 eleman olduğunu döndürür.</span>"
   ]
  },
  {
   "cell_type": "markdown",
   "id": "7dd6f0dc-1996-40c0-8a80-566665acac9f",
   "metadata": {},
   "source": [
    "## append() Metodu:"
   ]
  },
  {
   "cell_type": "markdown",
   "id": "91453844-34b7-4a4d-bff9-a1e8cd1078b9",
   "metadata": {},
   "source": [
    "<span style=\"font-family: 'Arial', sans-serif; font-size: 16px;\">`append()` metodu, bir listenin sonuna belirtilen bir değeri ekler. Bu yöntem, listenin sonuna tek bir değer eklemek için kullanılır.</span>"
   ]
  },
  {
   "cell_type": "code",
   "execution_count": 26,
   "id": "edf82a60-e868-4eed-8171-a9a9a3ae0576",
   "metadata": {},
   "outputs": [
    {
     "name": "stdout",
     "output_type": "stream",
     "text": [
      "[1, 2, 3, 4]\n"
     ]
    }
   ],
   "source": [
    "l = [1, 2, 3]\n",
    "l.append(4)\n",
    "print(l)"
   ]
  },
  {
   "cell_type": "markdown",
   "id": "95bcffb8-3371-493d-9965-7232726e0465",
   "metadata": {},
   "source": [
    "<span style=\"font-family: 'Arial', sans-serif; font-size: 16px;\">`append()` metodu `l` listesinin sonuna 4 değerini ekler.</span>"
   ]
  },
  {
   "cell_type": "markdown",
   "id": "e2173220-34a8-467f-ad56-2b237312ea72",
   "metadata": {},
   "source": [
    "## extend() Metodu:"
   ]
  },
  {
   "cell_type": "markdown",
   "id": "79848e83-fd1e-4311-8cd9-aad702b1f24c",
   "metadata": {},
   "source": [
    "<span style=\"font-family: 'Arial', sans-serif; font-size: 16px;\">`extend()` metodu, bir listenin sonuna başka bir listenin tüm elemanlarını ekler. Bu yöntem, listenin sonuna birden fazla değer eklemek için kullanılır.</span>"
   ]
  },
  {
   "cell_type": "code",
   "execution_count": 29,
   "id": "ee598043-1f58-4e93-8832-0ef7a20904a4",
   "metadata": {},
   "outputs": [
    {
     "name": "stdout",
     "output_type": "stream",
     "text": [
      "[1, 2, 3, 4, 5, 6]\n"
     ]
    }
   ],
   "source": [
    "l = [1, 2, 3]\n",
    "l.extend([4, 5, 6])\n",
    "print(l)"
   ]
  },
  {
   "cell_type": "markdown",
   "id": "d3da3b07-af4b-43fe-ac35-905ce860fc10",
   "metadata": {},
   "source": [
    "<span style=\"font-family: 'Arial', sans-serif; font-size: 16px;\">`extend()` metodu `l` listesinin sonuna [4, 5, 6] listesinin tüm elemanlarını ekler.</span>"
   ]
  },
  {
   "cell_type": "markdown",
   "id": "af10f65e-4b57-40d8-9bfd-f1303f7324e8",
   "metadata": {},
   "source": [
    "## Spesifik Bir Indexe Eleman Eklemek"
   ]
  },
  {
   "cell_type": "markdown",
   "id": "9725cd65-5206-40b0-8cfa-37f8c516cc5b",
   "metadata": {},
   "source": [
    "<span style=\"font-family: 'Arial', sans-serif; font-size: 16px;\">Python'da, bir listenin belirli bir indeksine eleman eklemek için `insert()` yöntemini kullanırız. Bu yöntem, listenin belirli bir indeksine eleman ekler ve diğer elemanları kaydırarak listenin yapısını korur.</span>"
   ]
  },
  {
   "cell_type": "code",
   "execution_count": 33,
   "id": "7d10a741-cf65-4394-8e38-713a0b3768cc",
   "metadata": {},
   "outputs": [
    {
     "name": "stdout",
     "output_type": "stream",
     "text": [
      "[100, 1, 2, 3, 4, 5]\n"
     ]
    }
   ],
   "source": [
    "l = [1, 2, 3, 4, 5]\n",
    "l.insert(0, 100)             # l listesinin başına 100 değerini ekler\n",
    "print(l)"
   ]
  },
  {
   "cell_type": "code",
   "execution_count": 34,
   "id": "9b5391a3-88be-45c5-bcda-658be067fbe1",
   "metadata": {},
   "outputs": [
    {
     "name": "stdout",
     "output_type": "stream",
     "text": [
      "[100, 1, 2, 44, 3, 4, 5]\n"
     ]
    }
   ],
   "source": [
    "l.insert(3, 44)\n",
    "print(l)"
   ]
  },
  {
   "cell_type": "markdown",
   "id": "067e9086-8b35-4c6e-af3a-103f4ea0a1e2",
   "metadata": {},
   "source": [
    "<span style=\"font-family: 'Arial', sans-serif; font-size: 16px;\">Bu yöntem, listenin belirli bir indeksine eleman eklemek için hızlı ve etkili bir yol sağlar, böylece listenin yapısını değiştirmeden istediğimiz konuma yeni eleman ekleyebiliriz.</span>"
   ]
  },
  {
   "cell_type": "markdown",
   "id": "888bca36-0bc4-47d0-963e-48439f19b6e4",
   "metadata": {},
   "source": [
    "## Remove()"
   ]
  },
  {
   "cell_type": "markdown",
   "id": "98e58687-d819-4ee9-b452-98488ecbbdad",
   "metadata": {},
   "source": [
    "<span style=\"font-family: 'Arial', sans-serif; font-size: 16px;\">`remove()` metodu, bir listenin belirtilen bir elemanını siler. Bu yöntem, listeden belirli bir elemanı kaldırmamıza olanak sağlar.</span>"
   ]
  },
  {
   "cell_type": "code",
   "execution_count": 2,
   "id": "c9647538-76e7-4708-b165-c8a595c42f64",
   "metadata": {},
   "outputs": [
    {
     "name": "stdout",
     "output_type": "stream",
     "text": [
      "[1, 2, 3]\n"
     ]
    }
   ],
   "source": [
    "l = [1, 2, 3, 4]\n",
    "l.remove(4)\n",
    "print(l)"
   ]
  },
  {
   "cell_type": "code",
   "execution_count": 3,
   "id": "6ab2c4c9-777c-4b6e-aff3-36deee8d0253",
   "metadata": {},
   "outputs": [
    {
     "name": "stdout",
     "output_type": "stream",
     "text": [
      "[1, 2, 3, 30, 40]\n"
     ]
    }
   ],
   "source": [
    "l = [1, 2, 3, 40, 30, 40]\n",
    "l.remove(40)\n",
    "print(l)"
   ]
  },
  {
   "cell_type": "markdown",
   "id": "d191220c-30d5-4602-ab1b-2e51f0187116",
   "metadata": {},
   "source": [
    "<span style=\"font-family: 'Arial', sans-serif; font-size: 16px;\">`remove()` metodu yalnızca listenin ilk indeksinde bulunan 40 değerini silecektir. Bu nedenle, `remove()` metodu listenin belirli bir elemanını silmek için kullanışlıdır, ancak elemanın listede olduğundan emin olmak önemlidir. Eğer listede bulunmayan bir elemanı silmeye çalışırsanız, `ValueError` hatası alırsınız. </span>"
   ]
  },
  {
   "cell_type": "code",
   "execution_count": 4,
   "id": "a869c78b-3e25-46d2-bbc3-73637d9bf421",
   "metadata": {},
   "outputs": [
    {
     "ename": "ValueError",
     "evalue": "list.remove(x): x not in list",
     "output_type": "error",
     "traceback": [
      "\u001b[1;31m---------------------------------------------------------------------------\u001b[0m",
      "\u001b[1;31mValueError\u001b[0m                                Traceback (most recent call last)",
      "Cell \u001b[1;32mIn[4], line 2\u001b[0m\n\u001b[0;32m      1\u001b[0m l \u001b[38;5;241m=\u001b[39m [\u001b[38;5;241m1\u001b[39m, \u001b[38;5;241m2\u001b[39m, \u001b[38;5;241m3\u001b[39m, \u001b[38;5;241m4\u001b[39m]\n\u001b[1;32m----> 2\u001b[0m \u001b[43ml\u001b[49m\u001b[38;5;241;43m.\u001b[39;49m\u001b[43mremove\u001b[49m\u001b[43m(\u001b[49m\u001b[38;5;241;43m40\u001b[39;49m\u001b[43m)\u001b[49m\n\u001b[0;32m      3\u001b[0m \u001b[38;5;28mprint\u001b[39m(l)\n",
      "\u001b[1;31mValueError\u001b[0m: list.remove(x): x not in list"
     ]
    }
   ],
   "source": [
    "l = [1, 2, 3, 4]\n",
    "l.remove(40)\n",
    "print(l)"
   ]
  },
  {
   "cell_type": "code",
   "execution_count": 7,
   "id": "63cbdab5-daf6-432c-a684-9f3dc6187b59",
   "metadata": {},
   "outputs": [
    {
     "name": "stdout",
     "output_type": "stream",
     "text": [
      "[1, 2, 3, 4]\n"
     ]
    }
   ],
   "source": [
    "l = [1, 2, 3, 4]\n",
    "try:\n",
    "    l.remove(40)\n",
    "except ValueError:\n",
    "    pass\n",
    "print(l)"
   ]
  },
  {
   "cell_type": "markdown",
   "id": "c9b77db4-14e3-45df-b2d9-6a46d9ec1463",
   "metadata": {},
   "source": [
    "<span style=\"font-family: 'Arial', sans-serif; font-size: 16px;\">Eğer listede 40 değeri bulunmuyorsa, `ValueError` hatası alırız. Bu durumu önlemek için, try-except bloklarını kullanabiliriz. Bu sayede hata durumunda programın çökmesini engelleyebiliriz.</span>"
   ]
  },
  {
   "cell_type": "markdown",
   "id": "db11151e-1844-4d79-b950-9383db775a14",
   "metadata": {},
   "source": [
    "## pop()"
   ]
  },
  {
   "cell_type": "markdown",
   "id": "ed372539-780b-43fe-aae4-cd0e4db39389",
   "metadata": {},
   "source": [
    "<span style=\"font-family: 'Arial', sans-serif; font-size: 16px;\">`pop()` metodu, bir listenin belirtilen indeksindeki elemanı siler ve silinen elemanı döndürür. Bu yöntem, listeden eleman çıkarmak ve bu elemanı kullanmak için kullanılır.</span>"
   ]
  },
  {
   "cell_type": "code",
   "execution_count": 9,
   "id": "32e2fb73-bc44-44ec-9526-e83fce0201b0",
   "metadata": {},
   "outputs": [
    {
     "name": "stdout",
     "output_type": "stream",
     "text": [
      "2\n",
      "[1, 3, 4, 5, 6]\n"
     ]
    }
   ],
   "source": [
    "l = [1, 2, 3, 4, 5, 6]\n",
    "silinen_eleman = l.pop(1)\n",
    "print(silinen_eleman)\n",
    "print(l)"
   ]
  },
  {
   "cell_type": "markdown",
   "id": "503406c7-b4fd-4896-9e9f-e7d7571bd2b0",
   "metadata": {},
   "source": [
    "<span style=\"font-family: 'Arial', sans-serif; font-size: 16px;\">`pop()` yöntemi, belirtilen indeksteki elemanı siler ve silinen elemanı döndürür. Bu sayede, silinen elemanı doğrudan kullanabiliriz. Eğer belirtilen indeks listede bulunmuyorsa, `IndexError` hatası alırız. Bu nedenle, `pop()` yöntemi listenin belirli bir indeksindeki elemanı silmek ve bu elemanı kullanmak için kullanışlıdır.</span>"
   ]
  },
  {
   "cell_type": "markdown",
   "id": "8490432f-cf07-4f9c-bc19-1207b8323b8e",
   "metadata": {},
   "source": [
    "## count()"
   ]
  },
  {
   "cell_type": "markdown",
   "id": "d13ffbec-8e19-4e8b-a162-c90907454ae5",
   "metadata": {},
   "source": [
    "<span style=\"font-family: 'Arial', sans-serif; font-size: 16px;\">`count()` metodu, bir listede belirtilen bir değerin kaç kez geçtiğini sayar ve bu sayıyı döndürür. Bu yöntem, listede belirli bir değerin kaç defa bulunduğunu bulmak için kullanılır.</span>"
   ]
  },
  {
   "cell_type": "code",
   "execution_count": 11,
   "id": "85027265-d766-43cc-aff4-2aabd745f488",
   "metadata": {},
   "outputs": [
    {
     "name": "stdout",
     "output_type": "stream",
     "text": [
      "2\n"
     ]
    }
   ],
   "source": [
    "l = [1, 2, 44, 4, 5, 1]\n",
    "sayi = l.count(1)\n",
    "print(sayi)"
   ]
  },
  {
   "cell_type": "markdown",
   "id": "10577b28-9de3-46ff-a653-df9fa6c2a19d",
   "metadata": {},
   "source": [
    "<span style=\"font-family: 'Arial', sans-serif; font-size: 16px;\">Bu işlem sonucunda, sayi değişkeni 2 değerini alacak çünkü listede 1 değeri 2 kez geçmektedir.</span>"
   ]
  },
  {
   "cell_type": "code",
   "execution_count": 12,
   "id": "7dbe5023-f897-4f48-b734-9a95e1d638e7",
   "metadata": {},
   "outputs": [
    {
     "name": "stdout",
     "output_type": "stream",
     "text": [
      "0\n"
     ]
    }
   ],
   "source": [
    "sayi2 = l.count(1000)\n",
    "print(sayi2)"
   ]
  },
  {
   "cell_type": "markdown",
   "id": "33b57132-015e-47af-93d1-c03737df40d0",
   "metadata": {},
   "source": [
    "<span style=\"font-family: 'Arial', sans-serif; font-size: 16px;\">Eğer listede belirtilen değer bulunmuyorsa, `count()` metodu 0 döndürür çünkü listede 1000 değeri bulunmamaktadır.</span>"
   ]
  },
  {
   "cell_type": "markdown",
   "id": "b1a9ce10-1de8-42d2-a191-2f0d036a44b8",
   "metadata": {},
   "source": [
    "## Aliasing (Etiketleme):"
   ]
  },
  {
   "cell_type": "markdown",
   "id": "c60f943f-2adc-4612-9b8f-3f3290c8f42f",
   "metadata": {},
   "source": [
    "<span style=\"font-family: 'Arial', sans-serif; font-size: 16px;\">Aliasing, Python'da bir liste oluşturulduğunda, bu listenin farklı değişken isimleri tarafından işaret edilebilmesini ifade eder. Yani, bir listenin bir değişkene atanması, o listenin kopyasını oluşturmaz, sadece o listenin referansını (adresini) başka bir değişkene verir.</span>"
   ]
  },
  {
   "cell_type": "code",
   "execution_count": 16,
   "id": "30f30e26-cb2d-4dee-89af-10138fb083b6",
   "metadata": {},
   "outputs": [
    {
     "name": "stdout",
     "output_type": "stream",
     "text": [
      "[1, 2, 3]\n"
     ]
    }
   ],
   "source": [
    "s = [1,2,3]\n",
    "m = s             #  m, s değişkeninin işaret ettiği liste nesnesine işaret eder\n",
    "print(m)"
   ]
  },
  {
   "cell_type": "code",
   "execution_count": 22,
   "id": "47bf57e7-76ee-4a0a-a82b-a6c015cd5da4",
   "metadata": {},
   "outputs": [
    {
     "name": "stdout",
     "output_type": "stream",
     "text": [
      "[2, 3]\n",
      "[2, 3]\n"
     ]
    }
   ],
   "source": [
    "s = [1,2,3]\n",
    "s.remove(1)\n",
    "print(s)\n",
    "print(m)"
   ]
  },
  {
   "cell_type": "markdown",
   "id": "b78697c0-b5c1-4230-a7ee-21e88448abd8",
   "metadata": {},
   "source": [
    "<span style=\"font-family: 'Arial', sans-serif; font-size: 16px;\">`s` ve `m` aslında aynı liste nesnesini işaret eder. Yani, birinde yapılan değişiklik diğerini de etkiler.</span>"
   ]
  },
  {
   "cell_type": "markdown",
   "id": "e037ee0b-9f44-4fc6-9226-2240f2f8335e",
   "metadata": {},
   "source": [
    "<span style=\"font-family: 'Arial', sans-serif; font-size: 16px;\">Bu durumdan kaçınmak için, listenin tam bir kopyasını oluşturarak (copy() yöntemi kullanarak), orijinal listeyle ilişkili olmayan bağımsız bir kopya elde edilebilir. Yani, `copy()` yöntemi kullanılarak yeni bir liste oluşturulur ve bu liste orijinal listenin elemanlarını içerir, ancak orijinal listeden tamamen bağımsızdır.</span>"
   ]
  },
  {
   "cell_type": "code",
   "execution_count": 24,
   "id": "946867ed-0e41-421f-91f5-c26658e37e18",
   "metadata": {},
   "outputs": [
    {
     "name": "stdout",
     "output_type": "stream",
     "text": [
      "[2, 3]\n",
      "[1, 2, 3]\n"
     ]
    }
   ],
   "source": [
    "s = [1, 2, 3]\n",
    "m = s.copy()\n",
    "s.remove(1)\n",
    "print(s)\n",
    "print(m)"
   ]
  },
  {
   "cell_type": "markdown",
   "id": "658f159e-8fbc-4de0-a30a-2088c23a392d",
   "metadata": {},
   "source": [
    "<span style=\"font-family: 'Arial', sans-serif; font-size: 16px;\">`m`, `s` listesinin bir kopyasını içerir, ancak s ile tamamen bağımsızdır. Yani, m veya s üzerinde yapılan değişiklikler birbirini etkilemez. Bu sayede, orijinal listenin değişmesi durumunda kopya liste etkilenmez ve programın beklenmeyen sonuçlar üretmesi önlenir.</span>"
   ]
  },
  {
   "cell_type": "markdown",
   "id": "c1750f2b-3345-439a-b9f7-bf844a89e90d",
   "metadata": {},
   "source": [
    "## Listlerde Concatenation"
   ]
  },
  {
   "cell_type": "markdown",
   "id": "899f6bc6-a6e8-49aa-b2a7-b92a06802192",
   "metadata": {},
   "source": [
    "<span style=\"font-family: 'Arial', sans-serif; font-size: 16px;\">Listelerde `+` operatörü, concatenation (birleştirme) işlemi yapar. Yani, bu operatörle iki listeyi birleştirebiliriz.</span>"
   ]
  },
  {
   "cell_type": "code",
   "execution_count": 26,
   "id": "aaf81a9d-222c-4aa2-bfc5-211681235bf9",
   "metadata": {},
   "outputs": [
    {
     "name": "stdout",
     "output_type": "stream",
     "text": [
      "[1, 2, 3, 4, 5, 6]\n"
     ]
    }
   ],
   "source": [
    "l = [1, 2, 3]\n",
    "l2 = [4, 5, 6]\n",
    "# Bu iki listeyi birleştirmek için:\n",
    "l3 = l + l2\n",
    "print(l3) "
   ]
  },
  {
   "cell_type": "code",
   "execution_count": 27,
   "id": "2d1e699d-ea23-4cdc-9554-924196d70d71",
   "metadata": {},
   "outputs": [
    {
     "name": "stdout",
     "output_type": "stream",
     "text": [
      "[1, 2, 3]\n",
      "[4, 5, 6]\n"
     ]
    }
   ],
   "source": [
    "print(l)   # [1, 2, 3] (Orijinal liste değişmez)\n",
    "print(l2)  # [4, 5, 6] (Orijinal liste değişmez)"
   ]
  },
  {
   "cell_type": "markdown",
   "id": "20a0ada3-77f3-4cd2-8a39-207db2ebaa58",
   "metadata": {},
   "source": [
    "<span style=\"font-family: 'Arial', sans-serif; font-size: 16px;\">Bu nedenle, `+` operatörüyle birleştirme yaparken, birleştirilen listelerin orijinal hallerinin değişmeyeceğini unutmamız önemlidir. Yeni birleştirilmiş listeyi başka bir değişkene atayarak kullanabiliriz.</span>"
   ]
  },
  {
   "cell_type": "markdown",
   "id": "111c5905-9d82-494c-acac-c3213e910953",
   "metadata": {},
   "source": [
    "## Belirli Bir Elemanın Indexini Bulmak:"
   ]
  },
  {
   "cell_type": "markdown",
   "id": "0669cd01-80ca-4624-bdb3-8a3e631c6edf",
   "metadata": {},
   "source": [
    "<span style=\"font-family: 'Arial', sans-serif; font-size: 16px;\">Belirli bir elemanın indexini bulmak için `index()` yöntemi kullanılır. Bu yöntem, listede belirtilen değerin ilk bulunduğu indeksi döndürür. Eğer listede aranan değer bulunmazsa, ValueError hatası alınır.</span>"
   ]
  },
  {
   "cell_type": "code",
   "execution_count": 29,
   "id": "f7f2c68b-c1cc-4889-a4d8-e2daf387e48e",
   "metadata": {},
   "outputs": [
    {
     "name": "stdout",
     "output_type": "stream",
     "text": [
      "2\n"
     ]
    }
   ],
   "source": [
    "l = [1, 2, 3, 4, 3, 5, 6]\n",
    "print(l.index(3))  # 2 (3 değeri listenin 2. indeksinde bulunuyor)"
   ]
  },
  {
   "cell_type": "code",
   "execution_count": 30,
   "id": "928aadba-1b9d-4d67-9f4d-2dec8b4c3260",
   "metadata": {},
   "outputs": [
    {
     "name": "stdout",
     "output_type": "stream",
     "text": [
      "3\n"
     ]
    }
   ],
   "source": [
    "print(l.index(4))  # 3 (4 değeri listenin 3. indeksinde bulunuyor)"
   ]
  },
  {
   "cell_type": "code",
   "execution_count": 31,
   "id": "10c20a02-16b4-4e31-b078-0a6778f24ec0",
   "metadata": {},
   "outputs": [
    {
     "ename": "ValueError",
     "evalue": "100 is not in list",
     "output_type": "error",
     "traceback": [
      "\u001b[1;31m---------------------------------------------------------------------------\u001b[0m",
      "\u001b[1;31mValueError\u001b[0m                                Traceback (most recent call last)",
      "Cell \u001b[1;32mIn[31], line 1\u001b[0m\n\u001b[1;32m----> 1\u001b[0m \u001b[38;5;28mprint\u001b[39m(\u001b[43ml\u001b[49m\u001b[38;5;241;43m.\u001b[39;49m\u001b[43mindex\u001b[49m\u001b[43m(\u001b[49m\u001b[38;5;241;43m100\u001b[39;49m\u001b[43m)\u001b[49m)  \u001b[38;5;66;03m# ValueError: 100 değeri listede bulunamadı\u001b[39;00m\n",
      "\u001b[1;31mValueError\u001b[0m: 100 is not in list"
     ]
    }
   ],
   "source": [
    "print(l.index(100))  # ValueError: 100 değeri listede bulunamadı"
   ]
  },
  {
   "cell_type": "markdown",
   "id": "9c2da58c-49b0-49af-bb92-7e99d83ab011",
   "metadata": {},
   "source": [
    "## reverse()"
   ]
  },
  {
   "cell_type": "markdown",
   "id": "d1fff60c-6a08-40db-9d08-22dd838e5bd5",
   "metadata": {},
   "source": [
    "<span style=\"font-family: 'Arial', sans-serif; font-size: 16px;\">Listeyi tersine çevirmek için `reverse()` yöntemi kullanılır. Bu yöntem, listenin elemanlarını tersine çevirir ve orijinal listeyi değiştirir (inplace).</span>"
   ]
  },
  {
   "cell_type": "code",
   "execution_count": 33,
   "id": "c3fa0ba8-52fa-4223-bb1e-601a9d359fab",
   "metadata": {},
   "outputs": [
    {
     "name": "stdout",
     "output_type": "stream",
     "text": [
      "[4, 3, 2, 1]\n"
     ]
    }
   ],
   "source": [
    "l = [1, 2, 3, 4]\n",
    "l.reverse()                       # Listenin elemanlarını tersine çevirir\n",
    "print(l)                          # [4, 3, 2, 1] (Orijinal liste değişir)"
   ]
  },
  {
   "cell_type": "markdown",
   "id": "588b97bc-e89f-40e5-a8d5-a6b4382eb24f",
   "metadata": {},
   "source": [
    "<span style=\"font-family: 'Arial', sans-serif; font-size: 16px;\">**!!Aynı işlemi slicing mantığıyla da yapabiliriz. Bu durumda, orijinal liste değişmez.**</span>"
   ]
  },
  {
   "cell_type": "code",
   "execution_count": 35,
   "id": "fa0e58d1-ecea-43cb-809c-6c7b7ace928e",
   "metadata": {},
   "outputs": [
    {
     "name": "stdout",
     "output_type": "stream",
     "text": [
      "[4, 3, 2, 1]\n",
      "[1, 2, 3, 4]\n"
     ]
    }
   ],
   "source": [
    "l = [1, 2, 3, 4]\n",
    "l_reversed = l[::-1]                # Slicing mantığıyla liste elemanlarını tersine çevirir\n",
    "print(l_reversed)                   # [4, 3, 2, 1] (Orijinal liste değişmez)\n",
    "print(l)                            # [1, 2, 3, 4] (Orijinal liste değişmez)"
   ]
  },
  {
   "cell_type": "code",
   "execution_count": 36,
   "id": "d75ac2c0-bc8d-4864-a623-7572b3940fa1",
   "metadata": {},
   "outputs": [
    {
     "name": "stdout",
     "output_type": "stream",
     "text": [
      "[4, 3, 2, 1]\n"
     ]
    }
   ],
   "source": [
    "l = [1, 2, 3, 4]\n",
    "l = l[::-1]                          # Tersine çevrilmiş listeyi orijinal listeye atar\n",
    "print(l)                             # [4, 3, 2, 1] (Orijinal liste değişir)"
   ]
  },
  {
   "cell_type": "markdown",
   "id": "aa13000d-d90d-40c9-bab5-9b2a8e2c3e30",
   "metadata": {},
   "source": [
    "<span style=\"font-family: 'Arial', sans-serif; font-size: 16px;\">Eğer orijinal listeyi değiştirmek istiyorsak, tersine çevrilen listeyi tekrar orijinal listeye atamamız gerekir.</span>"
   ]
  },
  {
   "cell_type": "markdown",
   "id": "de14f4ef-884d-4674-a510-2520afe2b988",
   "metadata": {},
   "source": [
    "## List'in Elemanlarını Sıralamak (sorting)"
   ]
  },
  {
   "cell_type": "markdown",
   "id": "6162e351-eaa4-410a-b894-4ef1675789d7",
   "metadata": {},
   "source": [
    "<span style=\"font-family: 'Arial', sans-serif; font-size: 16px;\">`sorted()` fonksiyonu ve `sort()` yöntemi kullanılarak listelerin elemanları sıralanıyor. Her ikisi de varsayılan olarak küçükten büyüğe sıralama yapar. Sayısal verilerde sayısal değere, stringlerde ise alfabetik sıraya göre sıralama yaparlar.</span>"
   ]
  },
  {
   "cell_type": "markdown",
   "id": "3bdc0421-6634-47b9-a9cc-b0252858740e",
   "metadata": {},
   "source": [
    "<span style=\"font-family: 'Arial', sans-serif; font-size: 16px;\">Öncelikle, `sorted()` fonksiyonuna bakalım. Bu fonksiyon, orijinal listeyi değiştirmez ve sıralanmış bir kopya döndürür. Yani orijinal liste değişmez.</span>"
   ]
  },
  {
   "cell_type": "code",
   "execution_count": 38,
   "id": "e3af8858-abe9-443d-b3e3-e238cfd71fa4",
   "metadata": {},
   "outputs": [
    {
     "name": "stdout",
     "output_type": "stream",
     "text": [
      "['a', 'b', 'c']\n",
      "['b', 'a', 'c']\n"
     ]
    }
   ],
   "source": [
    "l = [\"b\", \"a\", \"c\"]\n",
    "sorted_list = sorted(l)\n",
    "\n",
    "print(sorted_list)                    # ['a', 'b', 'c']\n",
    "\n",
    "print(l)                              # ['b', 'a', 'c'] (Orijinal liste değişmez)"
   ]
  },
  {
   "cell_type": "markdown",
   "id": "82b54509-bbaf-4675-a4ab-9a6c577a70ab",
   "metadata": {},
   "source": [
    "<span style=\"font-family: 'Arial', sans-serif; font-size: 16px;\">Şimdi, `sort()` yöntemine bakalım. Bu yöntem, listeyi yerinde (inplace) sıralar, yani orijinal listeyi değiştirir.</span>"
   ]
  },
  {
   "cell_type": "code",
   "execution_count": 42,
   "id": "c680da76-0275-430f-8ca8-1c7ca684f104",
   "metadata": {},
   "outputs": [
    {
     "name": "stdout",
     "output_type": "stream",
     "text": [
      "['a', 'b', 'c']\n"
     ]
    }
   ],
   "source": [
    "l = [\"b\", \"a\", \"c\"]\n",
    "l.sort()\n",
    "print(l)                              # ['a', 'b', 'c'] (Orijinal liste değişir)"
   ]
  },
  {
   "cell_type": "markdown",
   "id": "2b1ca8b7-9afd-49e6-ab92-f78f55193048",
   "metadata": {},
   "source": [
    "<span style=\"font-family: 'Arial', sans-serif; font-size: 16px;\">Ancak, `sort()` yöntemi bazı durumlarda farklı veri tipleri için hata verebilir. Özellikle, farklı tiplerden veriler içeren listelerde sıralama yaparken `TypeError` hatası alabiliriz. Bu hata, karşılaştırma operatörü (<) ile farklı veri tipleri arasında karşılaştırmanın yapılamamasından kaynaklanır.</span>"
   ]
  },
  {
   "cell_type": "code",
   "execution_count": 43,
   "id": "26b38abe-d3d0-43f6-8690-33385b20466c",
   "metadata": {},
   "outputs": [
    {
     "ename": "TypeError",
     "evalue": "'<' not supported between instances of 'int' and 'str'",
     "output_type": "error",
     "traceback": [
      "\u001b[1;31m---------------------------------------------------------------------------\u001b[0m",
      "\u001b[1;31mTypeError\u001b[0m                                 Traceback (most recent call last)",
      "Cell \u001b[1;32mIn[43], line 2\u001b[0m\n\u001b[0;32m      1\u001b[0m l \u001b[38;5;241m=\u001b[39m [\u001b[38;5;124m\"\u001b[39m\u001b[38;5;124mb\u001b[39m\u001b[38;5;124m\"\u001b[39m, \u001b[38;5;124m\"\u001b[39m\u001b[38;5;124ma\u001b[39m\u001b[38;5;124m\"\u001b[39m, \u001b[38;5;124m\"\u001b[39m\u001b[38;5;124mc\u001b[39m\u001b[38;5;124m\"\u001b[39m, \u001b[38;5;241m1\u001b[39m, \u001b[38;5;241m2\u001b[39m]\n\u001b[1;32m----> 2\u001b[0m \u001b[43ml\u001b[49m\u001b[38;5;241;43m.\u001b[39;49m\u001b[43msort\u001b[49m\u001b[43m(\u001b[49m\u001b[43m)\u001b[49m                               \u001b[38;5;66;03m# TypeError: '<' not supported between instances of 'int' and 'str'\u001b[39;00m\n",
      "\u001b[1;31mTypeError\u001b[0m: '<' not supported between instances of 'int' and 'str'"
     ]
    }
   ],
   "source": [
    "l = [\"b\", \"a\", \"c\", 1, 2]\n",
    "l.sort()                               # TypeError: '<' not supported between instances of 'int' and 'str'"
   ]
  },
  {
   "cell_type": "markdown",
   "id": "34c8ab63-7b19-4f66-b166-7622998fb9a4",
   "metadata": {},
   "source": [
    "<span style=\"font-family: 'Arial', sans-serif; font-size: 16px;\">Bu hatayı önlemek için, listenin elemanlarının aynı türde olduğundan emin olmalı veya sıralama yapmadan önce gerekirse veri tiplerini uygun hale dönüştürmelisiniz.</span>"
   ]
  },
  {
   "cell_type": "code",
   "execution_count": 44,
   "id": "2c941462-bfdd-4331-b53a-b8dff26e9434",
   "metadata": {},
   "outputs": [
    {
     "name": "stdout",
     "output_type": "stream",
     "text": [
      "['b', 'a', 'c', '1', '3.5', '4', '5.6', '0.6']\n"
     ]
    }
   ],
   "source": [
    "l = [\"b\",\"a\",\"c\",\"1\",\"3.5\",\"4\",\"5.6\", \"0.6\"]\n",
    "print(l)"
   ]
  },
  {
   "cell_type": "markdown",
   "id": "a6cbade1-07c2-4f6d-bd1b-b694858aea53",
   "metadata": {},
   "source": [
    "<span style=\"font-family: 'Arial', sans-serif; font-size: 16px;\">Listenin elemanlarından bazıları string, bazıları ise float veya integer. Python, stringleri ASCII karakter kodlamasına göre sıralar. ASCII kodlamasına göre, rakamlar sembollerden önce gelir. Bu nedenle, \"0.6\" stringi \"a\" stringinden önce gelir. Ancak, sayısal ve string değerlerin karşılaştırılması sırasında hata alınır çünkü sayısal ve string veri tipleri farklıdır ve karşılaştırılamazlar.</span>"
   ]
  },
  {
   "cell_type": "code",
   "execution_count": 45,
   "id": "739c23db-6db8-4d79-9d46-ad99f9ae4b42",
   "metadata": {},
   "outputs": [
    {
     "data": {
      "text/plain": [
       "[[1, -20, 3], [2, -200, -3]]"
      ]
     },
     "execution_count": 45,
     "metadata": {},
     "output_type": "execute_result"
    }
   ],
   "source": [
    "l = [[1,-20,3], [2,-200,-3]]\n",
    "l.sort()\n",
    "l"
   ]
  },
  {
   "cell_type": "markdown",
   "id": "500d9efe-aff2-45e7-8fb9-b8881bf7ef2e",
   "metadata": {},
   "source": [
    "<span style=\"font-family: 'Arial', sans-serif; font-size: 16px;\">Listeler arasında da küçükten büyüğe doğu sıramama yapar fakat ilk elemanlarına bakar eğer ilk elemanı eşitse ikinciyi kontrol eder.</span>"
   ]
  }
 ],
 "metadata": {
  "kernelspec": {
   "display_name": "Python 3 (ipykernel)",
   "language": "python",
   "name": "python3"
  },
  "language_info": {
   "codemirror_mode": {
    "name": "ipython",
    "version": 3
   },
   "file_extension": ".py",
   "mimetype": "text/x-python",
   "name": "python",
   "nbconvert_exporter": "python",
   "pygments_lexer": "ipython3",
   "version": "3.12.3"
  }
 },
 "nbformat": 4,
 "nbformat_minor": 5
}
