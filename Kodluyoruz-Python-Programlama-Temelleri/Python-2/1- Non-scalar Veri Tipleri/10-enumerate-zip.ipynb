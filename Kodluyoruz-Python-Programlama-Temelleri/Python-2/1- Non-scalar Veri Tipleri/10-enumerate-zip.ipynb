{
 "cells": [
  {
   "cell_type": "markdown",
   "id": "262b94da-026e-4dd9-8f94-a1e0ab142a61",
   "metadata": {},
   "source": [
    "# 1-Enumerate Fonksiyonu"
   ]
  },
  {
   "cell_type": "markdown",
   "id": "240c7684-adf1-4cad-b68e-62b3db0c7f2a",
   "metadata": {},
   "source": [
    "<span style=\"font-family: 'Arial', sans-serif; font-size: 16px;\">`enumerate` fonksiyonu, bir iterable üzerinde dolaşırken her eleman ile birlikte bu elemanın indeksini de elde etmemizi sağlar. Bu, özellikle listeler üzerinde dolaşırken hem `indeks` hem de `eleman` değerlerine ihtiyaç duyduğumuzda kullanışlıdır.</span>"
   ]
  },
  {
   "cell_type": "code",
   "execution_count": 1,
   "id": "b9d7360f-230f-4093-a3ad-e18adbc6c54d",
   "metadata": {},
   "outputs": [
    {
     "name": "stdout",
     "output_type": "stream",
     "text": [
      "Tyler\n",
      "Blake\n",
      "Cory\n",
      "Cameron\n"
     ]
    }
   ],
   "source": [
    "adlar = ['Tyler', 'Blake', 'Cory', 'Cameron']\n",
    "\n",
    "# Sadece elemanları yazdırmak\n",
    "for e in adlar:\n",
    "    print(e)"
   ]
  },
  {
   "cell_type": "markdown",
   "id": "b4ecffd8-c7fe-496b-93c6-adc74bb0396e",
   "metadata": {},
   "source": [
    "<span style=\"font-family: 'Arial', sans-serif; font-size: 16px;\">Bu örnekte sadece elemanları yazdırdık. Şimdi `enumerate` ile hem indeks hem de elemanları yazdıralım:</span>"
   ]
  },
  {
   "cell_type": "code",
   "execution_count": 2,
   "id": "588a7c48-f485-4fec-b5e6-6099ed67126d",
   "metadata": {},
   "outputs": [
    {
     "name": "stdout",
     "output_type": "stream",
     "text": [
      "0 indexindeki eleman: Tyler\n",
      "1 indexindeki eleman: Blake\n",
      "2 indexindeki eleman: Cory\n",
      "3 indexindeki eleman: Cameron\n"
     ]
    }
   ],
   "source": [
    "for i, e in enumerate(adlar):\n",
    "    print(i, \"indexindeki eleman:\", e)"
   ]
  },
  {
   "cell_type": "markdown",
   "id": "4e6b4202-1505-4232-a273-db14960b3d6d",
   "metadata": {},
   "source": [
    "<span style=\"font-family: 'Arial', sans-serif; font-size: 16px;\">**Başlangıç İndeksini Belirleme:**</span>"
   ]
  },
  {
   "cell_type": "markdown",
   "id": "ce0eac29-a97c-4995-b26b-527d00e4424b",
   "metadata": {},
   "source": [
    "<span style=\"font-family: 'Arial', sans-serif; font-size: 16px;\">`enumerate` fonksiyonu, indeksin kaçtan başlayacağını belirlememize de olanak tanır</span>"
   ]
  },
  {
   "cell_type": "code",
   "execution_count": 3,
   "id": "85a82f0d-05ae-4dde-900c-69c57be1a818",
   "metadata": {},
   "outputs": [
    {
     "name": "stdout",
     "output_type": "stream",
     "text": [
      "100 lokasyonunda bulunan eleman: Tyler\n",
      "101 lokasyonunda bulunan eleman: Blake\n",
      "102 lokasyonunda bulunan eleman: Cory\n",
      "103 lokasyonunda bulunan eleman: Cameron\n"
     ]
    }
   ],
   "source": [
    "for i, e in enumerate(adlar, start=100):\n",
    "    print(i, \"lokasyonunda bulunan eleman:\", e)"
   ]
  },
  {
   "cell_type": "markdown",
   "id": "49abbc4f-c77d-4426-a304-6f389266f348",
   "metadata": {},
   "source": [
    "# 2-Zip Fonksiyonu"
   ]
  },
  {
   "cell_type": "markdown",
   "id": "8a7e0b20-7095-4263-a048-0239c4ccc7dd",
   "metadata": {},
   "source": [
    "<span style=\"font-family: 'Arial', sans-serif; font-size: 16px;\">`zip` fonksiyonu, birden fazla iterable üzerinde paralel iterasyon yapmamızı sağlar. Bu, özellikle iki veya daha fazla listeyi aynı anda işlemek istediğimizde kullanışlıdır.</span>"
   ]
  },
  {
   "cell_type": "code",
   "execution_count": 5,
   "id": "d32a971f-5648-457d-ab37-1affe1935f41",
   "metadata": {},
   "outputs": [
    {
     "name": "stdout",
     "output_type": "stream",
     "text": [
      "ogrenci_1 90\n",
      "ogrenci_2 80\n",
      "ogrenci_3 72\n"
     ]
    }
   ],
   "source": [
    "ogrenciler = [\"ogrenci_1\", \"ogrenci_2\", \"ogrenci_3\"]\n",
    "notlar = [90, 80, 72]\n",
    "\n",
    "for s, g in zip(ogrenciler, notlar):\n",
    "    print(s, g)"
   ]
  },
  {
   "cell_type": "code",
   "execution_count": 6,
   "id": "0741c611-5832-4083-a5b1-edc831e0eea2",
   "metadata": {},
   "outputs": [
    {
     "name": "stdout",
     "output_type": "stream",
     "text": [
      "ogrenci_1 90\n",
      "ogrenci_2 80\n",
      "ogrenci_3 72\n"
     ]
    }
   ],
   "source": [
    "for i in range(len(ogrenciler)):\n",
    "    print(ogrenciler[i], notlar[i])"
   ]
  },
  {
   "cell_type": "markdown",
   "id": "757a2165-41c1-4987-9d04-6937a00ca6c8",
   "metadata": {},
   "source": [
    "<div style=\"float: right; background-color: #333; padding: 5px; border: 1px solid #ccc; height: 200px; width: 600px;\">\n",
    "    <h3 style=\"color: #c0c0c0;\">Not Kutusu</h3>\n",
    "    <p style=\"font-family: 'Arial' sans-serif; font-size: 14px; color: #ffffff;\">\n",
    "        for i in range(len(ogrenciler)):\n",
    "        <br>\n",
    "        print(ogrenciler[i], notlar[i])\n",
    "        <br><br>\n",
    "        Yukarıda gördüğün gibi üsteki örneği zip() fonsiyonu kullanmadan da yazarız fakat daha okunabilir ve temiz bir kod için zip() fonsiyonunu kullanmalıyız.\n",
    "    </p>\n",
    "</div>"
   ]
  },
  {
   "cell_type": "markdown",
   "id": "cb6c229a-6a2e-4e18-a087-e02f53bc7633",
   "metadata": {},
   "source": [
    "<span style=\"font-family: 'Arial', sans-serif; font-size: 16px;\">**zip fonksiyonu ile iki listeyi birleştirerek bir dictionary oluşturabiliriz:**</span>"
   ]
  },
  {
   "cell_type": "code",
   "execution_count": 7,
   "id": "8b97fbc0-9a04-4aa1-821a-280a58b57f31",
   "metadata": {},
   "outputs": [
    {
     "name": "stdout",
     "output_type": "stream",
     "text": [
      "{'isim': 'Denis', 'soyad': 'Walker', 'ulke': 'Turkey', 'is': 'data scientist'}\n"
     ]
    }
   ],
   "source": [
    "keys = ['isim', 'soyad', 'ulke', 'is']\n",
    "values = ['Denis', 'Walker', 'Turkey', 'data scientist']\n",
    "\n",
    "d = {}\n",
    "for k, v in zip(keys, values):\n",
    "    d[k] = v\n",
    "\n",
    "print(d)"
   ]
  },
  {
   "cell_type": "markdown",
   "id": "ae014b65-c420-4abc-9e80-88c02b6252e2",
   "metadata": {},
   "source": [
    "<h2>Özet:</h2>\n",
    "<ul>\n",
    "    <li style=\"font-family: 'Arial', sans-serif; font-size: 16px;\"> enumerate Fonksiyonu: Bu fonksiyon, bir iterable üzerinde dolaşırken her eleman ile birlikte bu elemanın indeksini de elde etmemizi sağlar. Ayrıca, başlangıç indeksini belirlemek de mümkündür</li>\n",
    "    <li style=\"font-family: 'Arial', sans-serif; font-size: 16px;\">zip Fonksiyonu: Bu fonksiyon, birden fazla iterable üzerinde paralel iterasyon yapmamızı sağlar. Bu sayede, iki veya daha fazla listeyi aynı anda işlemek oldukça kolay hale geli</li>\n",
    "</ul>"
   ]
  }
 ],
 "metadata": {
  "kernelspec": {
   "display_name": "Python 3 (ipykernel)",
   "language": "python",
   "name": "python3"
  },
  "language_info": {
   "codemirror_mode": {
    "name": "ipython",
    "version": 3
   },
   "file_extension": ".py",
   "mimetype": "text/x-python",
   "name": "python",
   "nbconvert_exporter": "python",
   "pygments_lexer": "ipython3",
   "version": "3.12.3"
  }
 },
 "nbformat": 4,
 "nbformat_minor": 5
}
