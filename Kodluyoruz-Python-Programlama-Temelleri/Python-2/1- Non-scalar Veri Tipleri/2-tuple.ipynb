{
 "cells": [
  {
   "cell_type": "markdown",
   "id": "f0c5d4cf-46e7-49f9-b5c0-5cdb49370389",
   "metadata": {},
   "source": [
    "## Tuple"
   ]
  },
  {
   "cell_type": "markdown",
   "id": "f76cad7d-39b5-479f-8929-86039f35e355",
   "metadata": {},
   "source": [
    "<span style=\"font-family: 'Arial', sans-serif; font-size: 16px;\">`Tuple`, Python'da birden çok değeri bir arada tutmak için kullanılan bir veri türüdür. Listelere benzerler, ancak farklı olarak değiştirilemezler, yani immutabledırlar. Bu, tuple'ın oluşturulduktan sonra içeriğinin değiştirilemeyeceği anlamına gelir.</span>"
   ]
  },
  {
   "cell_type": "markdown",
   "id": "becb3eb1-d45e-4009-b24d-cd9b0bd0637e",
   "metadata": {},
   "source": [
    "<span style=\"font-family: 'Arial', sans-serif; font-size: 16px;\">Örneğin, bir deniz fenerinin koordinatlarını saklamak için tuple kullanmak mantıklıdır, çünkü deniz fenerinin konumu sabittir ve değişmemelidir.</span>"
   ]
  },
  {
   "cell_type": "markdown",
   "id": "9c0ce6be-dd11-4726-9af0-9ef3614d9958",
   "metadata": {},
   "source": [
    "<span style=\"font-family: 'Arial', sans-serif; font-size: 16px;\">Tuple'lar parantez içinde (element1, element2, ...) şeklinde tanımlanır. İçlerinde farklı veri tiplerinden elemanlar barındırabilirler, hatta tuple bile olabilirler.</span>"
   ]
  },
  {
   "cell_type": "code",
   "execution_count": 5,
   "id": "6435aa57-e9de-485b-a1ac-cfe840fd0015",
   "metadata": {},
   "outputs": [
    {
     "name": "stdout",
     "output_type": "stream",
     "text": [
      "(10, 34)\n"
     ]
    }
   ],
   "source": [
    "x = 10\n",
    "y = 34\n",
    "konum = (x, y)\n",
    "print(konum)"
   ]
  },
  {
   "cell_type": "markdown",
   "id": "71aa7856-287f-42dc-949f-9ad8d8c2026b",
   "metadata": {},
   "source": [
    "<span style=\"font-family: 'Arial', sans-serif; font-size: 16px;\">**!!Tuple'lar, listelerde olduğu gibi indeksleme ve dilimleme işlemlerine tabidir.**</span>"
   ]
  },
  {
   "cell_type": "code",
   "execution_count": 7,
   "id": "2f9880fd-1b1d-4401-8218-937b82379aee",
   "metadata": {},
   "outputs": [
    {
     "name": "stdout",
     "output_type": "stream",
     "text": [
      "10\n",
      "(10, 34)\n"
     ]
    }
   ],
   "source": [
    "a = konum[0]  # 10\n",
    "b = konum[:]  # (10, 34)\n",
    "print(a)\n",
    "print(b)"
   ]
  },
  {
   "cell_type": "markdown",
   "id": "aeb49e65-fa2f-4be5-900d-c090d8ce3f2a",
   "metadata": {},
   "source": [
    "<span style=\"font-family: 'Arial', sans-serif; font-size: 16px;\">Ancak, tuple'ın değerlerini değiştiremezsiniz. Bu, bir tuple'ın oluşturulduktan sonra içeriğinin sabit kalacağı anlamına gelir.</span>"
   ]
  },
  {
   "cell_type": "code",
   "execution_count": 8,
   "id": "aecde2b0-09a9-4c62-a22c-32a4d1c9c0a9",
   "metadata": {},
   "outputs": [
    {
     "ename": "TypeError",
     "evalue": "'tuple' object does not support item assignment",
     "output_type": "error",
     "traceback": [
      "\u001b[1;31m---------------------------------------------------------------------------\u001b[0m",
      "\u001b[1;31mTypeError\u001b[0m                                 Traceback (most recent call last)",
      "Cell \u001b[1;32mIn[8], line 3\u001b[0m\n\u001b[0;32m      1\u001b[0m x \u001b[38;5;241m=\u001b[39m \u001b[38;5;241m100\u001b[39m              \u001b[38;5;66;03m# Değer değiştirilebilir\u001b[39;00m\n\u001b[0;32m      2\u001b[0m y \u001b[38;5;241m=\u001b[39m \u001b[38;5;241m200\u001b[39m              \u001b[38;5;66;03m# Değer değiştirilebilir\u001b[39;00m\n\u001b[1;32m----> 3\u001b[0m \u001b[43mkonum\u001b[49m\u001b[43m[\u001b[49m\u001b[38;5;241;43m0\u001b[39;49m\u001b[43m]\u001b[49m \u001b[38;5;241m=\u001b[39m x         \u001b[38;5;66;03m# Hata! Tuple'lar değiştirilemez (immutable).\u001b[39;00m\n",
      "\u001b[1;31mTypeError\u001b[0m: 'tuple' object does not support item assignment"
     ]
    }
   ],
   "source": [
    "konum[0] = x         # Hata! Tuple'lar değiştirilemez (immutable)."
   ]
  },
  {
   "cell_type": "markdown",
   "id": "a11cf27d-8df6-413b-8378-45badef09f24",
   "metadata": {},
   "source": [
    "<span style=\"font-family: 'Arial', sans-serif; font-size: 16px;\">**Tuple Farklı Veri Tipleri Barındırır:**</span>"
   ]
  },
  {
   "cell_type": "code",
   "execution_count": 9,
   "id": "6d1a2cc2-186b-41ea-9c97-5a99a1189073",
   "metadata": {},
   "outputs": [
    {
     "data": {
      "text/plain": [
       "(1, 2, 3, 'a')"
      ]
     },
     "execution_count": 9,
     "metadata": {},
     "output_type": "execute_result"
    }
   ],
   "source": [
    "t = (1,2,3,\"a\")                  # String ve number değerler içerebilir\n",
    "print(t)"
   ]
  },
  {
   "cell_type": "code",
   "execution_count": 10,
   "id": "8a71db1f-3027-4df4-bffd-170f24a9bcdb",
   "metadata": {},
   "outputs": [
    {
     "name": "stdout",
     "output_type": "stream",
     "text": [
      "((1, 2), 3)\n"
     ]
    }
   ],
   "source": [
    "t = ((1,2),3)                   # Tuple'lar, tuple değerler içerebilir\n",
    "print(t)"
   ]
  },
  {
   "cell_type": "code",
   "execution_count": 11,
   "id": "eaf468f9-a1a6-45b0-b423-514a0ba3b2ee",
   "metadata": {},
   "outputs": [
    {
     "name": "stdout",
     "output_type": "stream",
     "text": [
      "([1, 2, 3], 2, (1, 2))\n"
     ]
    }
   ],
   "source": [
    "t = ([1,2,3],2,(1,2))          # Tuple'r list değerler içerebilir\n",
    "print(t)"
   ]
  },
  {
   "cell_type": "code",
   "execution_count": 13,
   "id": "dfb826f2-60e1-4ee6-aa1e-e8bdb72e97cb",
   "metadata": {},
   "outputs": [
    {
     "name": "stdout",
     "output_type": "stream",
     "text": [
      "([23, 2, 3], 2, (1, 2))\n"
     ]
    }
   ],
   "source": [
    "# Tuple oluşturalım\n",
    "t = ([1, 2, 3], 2, (1, 2))\n",
    "t[0][0] = 23                        # Tuple'ın ilk elemanı olan listenin ilk elemanını değiştirelim\n",
    "print(t)"
   ]
  },
  {
   "cell_type": "markdown",
   "id": "81b094b1-276e-42bb-b2fb-bcbe91456647",
   "metadata": {},
   "source": [
    "<span style=\"font-family: 'Arial', sans-serif; font-size: 16px;\">`t` adında bir tuple oluşturduk. Bu tuple'ın ilk elemanı `[1, 2, 3]` şeklinde bir liste. İlk olarak, bu listenin ilk elemanını 23 olarak değiştirdik ve t'yi yazdırdığımızda `( [23, 2, 3], 2, (1, 2) )` gibi bir çıktı aldık.</span>"
   ]
  },
  {
   "cell_type": "code",
   "execution_count": 14,
   "id": "66e589a0-572d-490d-b480-68423ba8591d",
   "metadata": {},
   "outputs": [
    {
     "ename": "TypeError",
     "evalue": "'tuple' object does not support item assignment",
     "output_type": "error",
     "traceback": [
      "\u001b[1;31m---------------------------------------------------------------------------\u001b[0m",
      "\u001b[1;31mTypeError\u001b[0m                                 Traceback (most recent call last)",
      "Cell \u001b[1;32mIn[14], line 1\u001b[0m\n\u001b[1;32m----> 1\u001b[0m \u001b[43mt\u001b[49m\u001b[43m[\u001b[49m\u001b[38;5;241;43m0\u001b[39;49m\u001b[43m]\u001b[49m \u001b[38;5;241m=\u001b[39m [\u001b[38;5;241m4\u001b[39m, \u001b[38;5;241m5\u001b[39m, \u001b[38;5;241m6\u001b[39m]\n",
      "\u001b[1;31mTypeError\u001b[0m: 'tuple' object does not support item assignment"
     ]
    }
   ],
   "source": [
    "t[0] = [4, 5, 6]"
   ]
  },
  {
   "cell_type": "markdown",
   "id": "d7a1d43b-c226-4c7b-927c-2675e6d88be3",
   "metadata": {},
   "source": [
    "<span style=\"font-family: 'Arial', sans-serif; font-size: 16px;\">Ancak, daha sonra tuple'ın ilk elemanını tamamen farklı bir listeyle değiştirmeye çalıştık `t[0] = [4, 5, 6]`. Bu durumda, bir hata alırız çünkü tuple'ın kendisi değiştirilemezdir</span>"
   ]
  },
  {
   "cell_type": "markdown",
   "id": "715ceb23-6c4e-4928-8a8f-b8e40f3a3c9f",
   "metadata": {},
   "source": [
    "<span style=\"font-family: 'Arial', sans-serif; font-size: 16px;\">**Elemanların Değerlerini Birbirleriyle Takas Etmek**</span>"
   ]
  },
  {
   "cell_type": "code",
   "execution_count": 17,
   "id": "d0edb916-d628-4baf-9c61-02e5a476caaf",
   "metadata": {},
   "outputs": [
    {
     "name": "stdout",
     "output_type": "stream",
     "text": [
      "3\n",
      "2\n"
     ]
    }
   ],
   "source": [
    "x = 2\n",
    "y = 3\n",
    "temp = x                      # x'in değerini bir değişkene atadık                             \n",
    "x = y                         # x'in değerini değiştirdik\n",
    "y = temp                      # y'in değerini 2 'e eşitledik \n",
    "print(x)\n",
    "print(y)"
   ]
  },
  {
   "cell_type": "markdown",
   "id": "7265ca60-90af-4682-bf87-0df85ab59ac3",
   "metadata": {},
   "source": [
    "<span style=\"font-family: 'Arial', sans-serif; font-size: 16px;\">Bu kod parçacığı, `x` ve `y` değişkenlerinin değerlerini birbirleriyle takas eder. `x`'in değeri 3 olurken, `y`'nin değeri 2 olur.</span>"
   ]
  },
  {
   "cell_type": "markdown",
   "id": "bee7de9e-d66f-480a-bad3-bc9154281633",
   "metadata": {},
   "source": [
    "<span style=\"font-family: 'Arial', sans-serif; font-size: 16px;\">**Tek Satırda Elemanların Değerlerini Takas Etme:**</span>"
   ]
  },
  {
   "cell_type": "code",
   "execution_count": 19,
   "id": "b14e8a1f-9786-404e-8666-c6ba8e87b83b",
   "metadata": {},
   "outputs": [
    {
     "name": "stdout",
     "output_type": "stream",
     "text": [
      "3\n",
      "2\n"
     ]
    }
   ],
   "source": [
    "x = 2\n",
    "y = 3\n",
    "(x, y) = (y, x)\n",
    "print(x)\n",
    "print(y)"
   ]
  },
  {
   "cell_type": "markdown",
   "id": "8a018e97-9705-4f21-b060-f07f4b7d490c",
   "metadata": {},
   "source": [
    "<span style=\"font-family: 'Arial', sans-serif; font-size: 16px;\">Tuple ile bu elemanların değeğerlerini tek satırda takas edebiliriz</span>"
   ]
  },
  {
   "cell_type": "code",
   "execution_count": 20,
   "id": "cd5c191c-13b4-4b66-b3e8-977f9ad9d15d",
   "metadata": {},
   "outputs": [
    {
     "name": "stdout",
     "output_type": "stream",
     "text": [
      "3\n",
      "2\n"
     ]
    }
   ],
   "source": [
    "x = 2\n",
    "y = 3\n",
    "\n",
    "# Listeleri kullanarak da değer değişimi\n",
    "[x, y] = [y, x]\n",
    "print(x)\n",
    "print(y)"
   ]
  },
  {
   "cell_type": "markdown",
   "id": "f5507b7a-1009-416b-ac3e-ae0ef16ba090",
   "metadata": {},
   "source": [
    "<span style=\"font-family: 'Arial', sans-serif; font-size: 16px;\">Bu, `x` ve `y`'yi birbirleriyle değiştirmek için listeleri kullanarak yapılan bir başka örnektir. Ancak, bu yöntem daha az tercih edilir, çünkü bir tuple'ın aksine, listeler değiştirilebilir ve bu durum beklenmeyen sonuçlara yol açabilir.</span>"
   ]
  }
 ],
 "metadata": {
  "kernelspec": {
   "display_name": "Python 3 (ipykernel)",
   "language": "python",
   "name": "python3"
  },
  "language_info": {
   "codemirror_mode": {
    "name": "ipython",
    "version": 3
   },
   "file_extension": ".py",
   "mimetype": "text/x-python",
   "name": "python",
   "nbconvert_exporter": "python",
   "pygments_lexer": "ipython3",
   "version": "3.12.3"
  }
 },
 "nbformat": 4,
 "nbformat_minor": 5
}
