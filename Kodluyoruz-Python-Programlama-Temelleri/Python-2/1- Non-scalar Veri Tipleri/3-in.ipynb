{
 "cells": [
  {
   "cell_type": "markdown",
   "id": "5cb48843-c18a-4d90-ab5b-2b9ca5a8a9d6",
   "metadata": {},
   "source": [
    "## Eleman Kontrolü"
   ]
  },
  {
   "cell_type": "markdown",
   "id": "4d29e58b-018c-4177-84bf-8d1e90f00b4e",
   "metadata": {},
   "source": [
    "<span style=\"font-family: 'Arial', sans-serif; font-size: 16px;\">Python'da, bir liste veya tuple içinde belirli bir elemanın var olup olmadığını kontrol etmek için `in` anahtar kelimesi kullanılır. Bu, belirli bir değerin bir liste veya tuple içinde bulunup bulunmadığını hızlı ve etkili bir şekilde sorgulamamıza olanak sağlar.</span>"
   ]
  },
  {
   "cell_type": "code",
   "execution_count": 1,
   "id": "6c234f00-f945-4737-a6be-da8d1e3bfdf4",
   "metadata": {},
   "outputs": [
    {
     "name": "stdout",
     "output_type": "stream",
     "text": [
      "False\n",
      "True\n"
     ]
    }
   ],
   "source": [
    "l = [1, 2, 3, 4]\n",
    "# Eleman kontrolü\n",
    "print(40 in l)                    # Çıktı: False\n",
    "print(2 in l)                     # Çıktı: True"
   ]
  },
  {
   "cell_type": "markdown",
   "id": "0a3f9dd8-91f6-4361-93c5-b4db681dd322",
   "metadata": {},
   "source": [
    "<span style=\"font-family: 'Arial', sans-serif; font-size: 16px;\">Yukarıdaki kod parçacığında, `in` anahtar kelimesiyle `l` listesinin içinde belirtilen elemanların bulunup bulunmadığı kontrol edilir. `40` in `l` ifadesi, `l` listesinde `40` elemanının olup olmadığını kontrol eder</span>"
   ]
  },
  {
   "cell_type": "code",
   "execution_count": null,
   "id": "817e458f-bf00-4b6b-9f69-219e12f4a221",
   "metadata": {},
   "outputs": [],
   "source": [
    "t = (1, 2, 3, 4)\n",
    "\n",
    "# Eleman kontrolü\n",
    "print(40 in t)                    # Çıktı: False\n",
    "print(3 in t)                     # Çıktı: True"
   ]
  },
  {
   "cell_type": "markdown",
   "id": "e43bf229-9552-4b0c-96e8-6cd94f8521e1",
   "metadata": {},
   "source": [
    "<span style=\"font-family: 'Arial', sans-serif; font-size: 16px;\">Bu kod parçacığı, `t` tuple'ının içinde belirtilen elemanların bulunup bulunmadığını kontrol eder. `40 in t` ifadesi, `t` tuple'ında `40` elemanının olup olmadığını kontrol eder ve sonuç olarak `False` döndürür. Ancak, `3 in t` ifadesi, `t` tuple'ında `t` elemanının olduğunu kontrol eder ve sonuç olarak `True` döndürür.</span>"
   ]
  }
 ],
 "metadata": {
  "kernelspec": {
   "display_name": "Python 3 (ipykernel)",
   "language": "python",
   "name": "python3"
  },
  "language_info": {
   "codemirror_mode": {
    "name": "ipython",
    "version": 3
   },
   "file_extension": ".py",
   "mimetype": "text/x-python",
   "name": "python",
   "nbconvert_exporter": "python",
   "pygments_lexer": "ipython3",
   "version": "3.12.3"
  }
 },
 "nbformat": 4,
 "nbformat_minor": 5
}
