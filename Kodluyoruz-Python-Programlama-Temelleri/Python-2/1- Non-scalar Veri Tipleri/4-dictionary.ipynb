{
 "cells": [
  {
   "cell_type": "code",
   "execution_count": null,
   "id": "0e458708-5229-4f4f-9a37-87370884ff99",
   "metadata": {},
   "outputs": [],
   "source": [
    "<span style=\"font-family: 'Arial', sans-serif; font-size: 16px;\"></span>"
   ]
  },
  {
   "cell_type": "code",
   "execution_count": null,
   "id": "e117d6b0-2b95-4ee6-9563-4803c53219cc",
   "metadata": {},
   "outputs": [],
   "source": [
    "<span style=\"font-family: 'Arial', sans-serif; font-size: 16px;\">****</span>"
   ]
  },
  {
   "cell_type": "markdown",
   "id": "4ecff5e1-f18d-4424-ac3d-c0c0d9d7b95f",
   "metadata": {},
   "source": [
    "<div style=\"float: right; background-color: #333; padding: 5px; border: 1px solid #ccc; height: 150px; width: 600px;\">\n",
    "    <h3 style=\"color: #c0c0c0;\">Not Kutusu</h3>\n",
    "    <p style=\"font-family: 'Arial' sans-serif; font-size: 14px; color: #ffffff;\">\"'a' değişkeni zaten bir tam sayı olduğundan, doğrudan integer'a dönüştürülebilir. Ancak, 'b' değişkeni bir ondalık sayı olduğu için önce float'a dönüştürülmesi gerekir. Bu nedenle, int(float(b)) ifadesi ile 'b' değişkeni önce float'a dönüştürülür ve ardından integer'a dönüştürülür. Bu işlem sonucunda elde edilen değer 5 olur.</p>\n",
    "</div>"
   ]
  },
  {
   "cell_type": "markdown",
   "id": "a55a7411-4848-46f5-b565-dd7fc8ebfc12",
   "metadata": {},
   "source": [
    "<div style=\"float: right; background-color: #333; padding: 5px; border: 1px solid #ccc; height: 100x; width: 600px;\">\n",
    "    <h3 style=\"color: #c0c0c0;\">Hatalı İşlem!!!!</h3>\n",
    "    <p style=\"font-family: 'Arial' sans-serif; font-size: 14px; color: #ffffff;\">Kodunda hata aldığın yerde, \"Deniz\" stringinin sınırlarını aşmışsın. Python'da indeksler 0'dan başlar ve \"Deniz\" stringi 5 karakterden oluşur. Ancak, 5. indeksi (indeks 5) çağırdığında sınırları aştığın için hata alırsın. Bu yüzden isim[5] ifadesi hata veriyor.</p>\n",
    "</div>"
   ]
  },
  {
   "cell_type": "markdown",
   "id": "f5b34fcd-eb84-4e42-b48d-78f8dff79454",
   "metadata": {},
   "source": [
    "<img src=\"https://miro.medium.com/v2/resize:fit:1400/format:webp/1*La_PT2JXjHc3zD6aIsYqBA.png\" alt=\"python-keywords\" style=\"width:600px;height:300px; margin:auto;\">"
   ]
  },
  {
   "cell_type": "markdown",
   "id": "96d8e26b-1cb2-4aa6-98f2-d881b1b042f1",
   "metadata": {},
   "source": [
    "<h2>Başlıca Konular Şunlardır:</h2>\n",
    "<ul>\n",
    "    <li>if İfadesi</li>\n",
    "    <li>else İfadesi</li>\n",
    "    <li>elif İfadesi</li>\n",
    "    <li>İç İçe Geçmiş if Blokları</li>\n",
    "</ul>"
   ]
  },
  {
   "cell_type": "markdown",
   "id": "30a22fd4-f483-4590-93ee-5c1e8d253084",
   "metadata": {},
   "source": [
    "## Dictionaries"
   ]
  },
  {
   "cell_type": "code",
   "execution_count": 2,
   "id": "023f84ed-6a87-4a68-9610-8689dd718fcd",
   "metadata": {},
   "outputs": [],
   "source": [
    "notlar = [80, 72, 95]\n",
    "isim = [\"Deniz\", \"Ege\", \"Gizem\"]\n",
    "no = [703, 408, 690]"
   ]
  },
  {
   "cell_type": "markdown",
   "id": "e826969f-238d-4f3f-92d1-5719e624e370",
   "metadata": {},
   "source": [
    "<span style=\"font-family: 'Arial', sans-serif; font-size: 16px;\">Bu üç liste, her bir öğrenciye ait farklı bilgileri tutar. Örneğin, `notlar` listesi öğrencilerin aldığı notları içerir, `isim` listesi öğrencilerin isimlerini içerir ve `no` listesi öğrenci numaralarını içerir</span>"
   ]
  },
  {
   "cell_type": "markdown",
   "id": "355703c9-6d0f-4c9f-b16f-c4ecb30ad9ae",
   "metadata": {},
   "source": [
    "<span style=\"font-family: 'Arial', sans-serif; font-size: 16px;\">Ancak, bu yöntemle her bir öğrenciye ait bilgileri birbirleriyle ilişkilendirmek biraz karmaşıktır. Örneğin, `notlar` listesinin ilk elemanı `notlar[0]` `Deniz` e ait olabilir, ancak bu doğrudan belirtilmemiştir. Aynı şekilde, `Deniz` in numarasını `no[0]` almak için `Deniz` in sırasını bilmemiz gerekir.</span>"
   ]
  },
  {
   "cell_type": "markdown",
   "id": "380ea2f1-9547-4977-a655-5887d04720ab",
   "metadata": {},
   "source": [
    "<span style=\"font-family: 'Arial', sans-serif; font-size: 16px;\">**Dictionary kullanarak bu süreci daha net ve düzenli hale getirebiliriz:**</span>"
   ]
  },
  {
   "cell_type": "code",
   "execution_count": 4,
   "id": "51cc551f-1eda-428c-a158-52b9bc90d7e2",
   "metadata": {},
   "outputs": [
    {
     "name": "stdout",
     "output_type": "stream",
     "text": [
      "72\n",
      "95\n"
     ]
    }
   ],
   "source": [
    "notlar = {\"Deniz\": 80, \"Ege\": 72, \"Gizem\": 95}\n",
    "egeNot = notlar[\"Ege\"]\n",
    "gizemNot = notlar[\"Gizem\"]\n",
    "print(egeNot)\n",
    "print(gizemNot)"
   ]
  },
  {
   "cell_type": "markdown",
   "id": "056770d7-4e2f-4bda-8c79-a2f85bc9a4c8",
   "metadata": {},
   "source": [
    "<span style=\"font-family: 'Arial', sans-serif; font-size: 16px;\">Bu dictionary'de, öğrencilerin isimleri (\"Deniz\", \"Ege\", \"Gizem\") her bir öğrenciye ait sınav notuyla eşleştirilmiştir. Bu da bize Ege ve Gizem'in adlı öğrencilerin not bilgilerine daha kolay ulaşmamızı sağlar.</span>"
   ]
  },
  {
   "cell_type": "markdown",
   "id": "b4248261-da8b-44d8-bb5f-d9390ebeefa7",
   "metadata": {},
   "source": [
    "<span style=\"font-family: 'Arial', sans-serif; font-size: 16px;\">**Aynı şekilde, öğrencilerin sınav notları ve öğrenci numaralarını aynı anda saklamak için iç içe geçmiş dictionary'ler kullanabiliriz:**</span>"
   ]
  },
  {
   "cell_type": "code",
   "execution_count": 6,
   "id": "e5b69746-9b30-4b4b-94ec-a9aa2854fe16",
   "metadata": {},
   "outputs": [
    {
     "name": "stdout",
     "output_type": "stream",
     "text": [
      "{'not': 72, 'ogrenci_no': 408}\n",
      "72\n",
      "408\n"
     ]
    }
   ],
   "source": [
    "ogrenciler = {\n",
    "    \"Deniz\": {\"not\": 80, \"ogrenci_no\": 703},\n",
    "    \"Ege\": {\"not\": 72, \"ogrenci_no\": 408},\n",
    "    \"Gizem\": {\"not\": 95, \"ogrenci_no\": 690}\n",
    "}\n",
    "\n",
    "egeTümBilgi = ogrenciler[\"Ege\"]\n",
    "egeNot = ogrenciler[\"Ege\"][\"not\"]\n",
    "egeNo = ogrenciler[\"Ege\"][\"ogrenci_no\"]\n",
    "\n",
    "print(egeTümBilgi)\n",
    "print(egeNot)\n",
    "print(egeNo)"
   ]
  },
  {
   "cell_type": "markdown",
   "id": "501f10ee-99c0-4304-b950-9a8f56120b32",
   "metadata": {},
   "source": [
    "<span style=\"font-family: 'Arial', sans-serif; font-size: 16px;\">Bu durumda, her öğrencinin ismi, bir anahtar olarak kullanılır ve karşısında bir iç dictionary bulunur. İç dictionary, `not` ve `ogrenci_no` anahtarlarıyla `sınav notu` ve `öğrenci numarasını` içerir.</span>"
   ]
  },
  {
   "cell_type": "markdown",
   "id": "1d79088d-7c28-4aa3-9a8b-f9efe3d95ffd",
   "metadata": {},
   "source": [
    "<span style=\"font-family: 'Arial', sans-serif; font-size: 16px;\">Örneğin, `Ege` adlı öğrencinin tüm bilgilerine erişmek için `ogrenciler[\"Ege\"]` diyebiliriz. Bu iç dictionary'den `not` anahtarını kullanarak `ogrenciler[\"Ege\"][\"not\"]` ifadesiyle Ege'nin notunu alabiliriz. Benzer şekilde, `ogrenci_no` anahtarını kullanarak `ogrenciler[\"Ege\"][\"ogrenci_no\"]` ifadesiyle Ege'nin öğrenci numarasını alabiliriz.</span>"
   ]
  },
  {
   "cell_type": "markdown",
   "id": "9aaf8a0d-60c1-4b2a-a8b8-a534f0a6baa4",
   "metadata": {},
   "source": [
    "<span style=\"font-family: 'Arial', sans-serif; font-size: 16px;\">Bu şekilde, her bir öğrenciye ait farklı bilgileri düzenli ve kolay bir şekilde saklamış oluruz. Ayrıca, dictionary kullanarak her bir öğrenciye ait bilgilere erişmek oldukça basit ve doğrudandır.</span>"
   ]
  },
  {
   "cell_type": "markdown",
   "id": "c550c2bf-f3d8-41e1-af8a-872be5bf157a",
   "metadata": {},
   "source": [
    "### Olmayan bir anatar(key) ile eleman sorgulamak:"
   ]
  },
  {
   "cell_type": "markdown",
   "id": "ed6c1ddb-b4ae-410d-9d49-284fc2990888",
   "metadata": {},
   "source": [
    "<span style=\"font-family: 'Arial', sans-serif; font-size: 16px;\">Dictionary'de bulunmayan bir öğrencinin notunu almak istediğimizde, Python bize bir hata mesajı gösterir. Bu hata mesajı \"KeyError\" olarak adlandırılır ve programın çalışmasını durdurur. </span>"
   ]
  },
  {
   "cell_type": "code",
   "execution_count": 8,
   "id": "3fb3a2b5-5b86-4143-9bdc-faa56e318469",
   "metadata": {},
   "outputs": [
    {
     "ename": "KeyError",
     "evalue": "'Mert'",
     "output_type": "error",
     "traceback": [
      "\u001b[1;31m---------------------------------------------------------------------------\u001b[0m",
      "\u001b[1;31mKeyError\u001b[0m                                  Traceback (most recent call last)",
      "Cell \u001b[1;32mIn[8], line 2\u001b[0m\n\u001b[0;32m      1\u001b[0m notlar \u001b[38;5;241m=\u001b[39m {\u001b[38;5;124m\"\u001b[39m\u001b[38;5;124mDeniz\u001b[39m\u001b[38;5;124m\"\u001b[39m: \u001b[38;5;241m80\u001b[39m, \u001b[38;5;124m\"\u001b[39m\u001b[38;5;124mEge\u001b[39m\u001b[38;5;124m\"\u001b[39m: \u001b[38;5;241m72\u001b[39m, \u001b[38;5;124m\"\u001b[39m\u001b[38;5;124mGizem\u001b[39m\u001b[38;5;124m\"\u001b[39m: \u001b[38;5;241m95\u001b[39m}\n\u001b[1;32m----> 2\u001b[0m \u001b[38;5;28mprint\u001b[39m(\u001b[43mnotlar\u001b[49m\u001b[43m[\u001b[49m\u001b[38;5;124;43m\"\u001b[39;49m\u001b[38;5;124;43mMert\u001b[39;49m\u001b[38;5;124;43m\"\u001b[39;49m\u001b[43m]\u001b[49m)\n",
      "\u001b[1;31mKeyError\u001b[0m: 'Mert'"
     ]
    }
   ],
   "source": [
    "notlar = {\"Deniz\": 80, \"Ege\": 72, \"Gizem\": 95}\n",
    "print(notlar[\"Mert\"])"
   ]
  },
  {
   "cell_type": "markdown",
   "id": "630feb94-42f7-4bd5-acd2-417c965d9c75",
   "metadata": {},
   "source": [
    "<span style=\"font-family: 'Arial', sans-serif; font-size: 16px;\">**!!Dictionary'de belirli bir anahtarın varlığını kontrol etmek için ` in ` anahtar kelimesini kullanmak önemlidir, bu şekilde KeyError hatalarından kaçınabiliriz.**</span>"
   ]
  },
  {
   "cell_type": "code",
   "execution_count": 9,
   "id": "cac205c2-5ca4-4101-9595-9034f61ca017",
   "metadata": {},
   "outputs": [
    {
     "name": "stdout",
     "output_type": "stream",
     "text": [
      "Mert adlı öğrenci bulunamadı.\n"
     ]
    }
   ],
   "source": [
    "if \"Mert\" in notlar:\n",
    "    print(notlar[\"Mert\"])\n",
    "else:\n",
    "    print(\"Mert adlı öğrenci bulunamadı.\")"
   ]
  },
  {
   "cell_type": "markdown",
   "id": "a6018de3-3300-4881-a2d9-5c878e559b3c",
   "metadata": {},
   "source": [
    "<span style=\"font-family: 'Arial', sans-serif; font-size: 16px;\">Bu şekilde, olmayan bir anahtarla sorgu yapmamız durumunda programın çökmesini engellemiş oluruz.</span>"
   ]
  },
  {
   "cell_type": "markdown",
   "id": "b76a0f16-6783-4df0-ae3b-7c5ca01e251e",
   "metadata": {},
   "source": [
    "### Integer Indexing ile Eleman Sorgusu Yapmak:"
   ]
  },
  {
   "cell_type": "code",
   "execution_count": 10,
   "id": "e6c69fa8-1513-4a09-b20f-8b2d14919a5d",
   "metadata": {},
   "outputs": [
    {
     "ename": "KeyError",
     "evalue": "0",
     "output_type": "error",
     "traceback": [
      "\u001b[1;31m---------------------------------------------------------------------------\u001b[0m",
      "\u001b[1;31mKeyError\u001b[0m                                  Traceback (most recent call last)",
      "Cell \u001b[1;32mIn[10], line 2\u001b[0m\n\u001b[0;32m      1\u001b[0m notlar \u001b[38;5;241m=\u001b[39m {\u001b[38;5;124m\"\u001b[39m\u001b[38;5;124mDeniz\u001b[39m\u001b[38;5;124m\"\u001b[39m: \u001b[38;5;241m80\u001b[39m, \u001b[38;5;124m\"\u001b[39m\u001b[38;5;124mEge\u001b[39m\u001b[38;5;124m\"\u001b[39m: \u001b[38;5;241m72\u001b[39m, \u001b[38;5;124m\"\u001b[39m\u001b[38;5;124mGizem\u001b[39m\u001b[38;5;124m\"\u001b[39m: \u001b[38;5;241m95\u001b[39m}\n\u001b[1;32m----> 2\u001b[0m \u001b[38;5;28mprint\u001b[39m(\u001b[43mnotlar\u001b[49m\u001b[43m[\u001b[49m\u001b[38;5;241;43m0\u001b[39;49m\u001b[43m]\u001b[49m)\n",
      "\u001b[1;31mKeyError\u001b[0m: 0"
     ]
    }
   ],
   "source": [
    "notlar = {\"Deniz\": 80, \"Ege\": 72, \"Gizem\": 95}\n",
    "print(notlar[0])"
   ]
  },
  {
   "cell_type": "markdown",
   "id": "930d5475-f87e-41b2-9c4b-b03f9ef5ae34",
   "metadata": {},
   "source": [
    "<span style=\"font-family: 'Arial', sans-serif; font-size: 16px;\">Python bu ifadeyi ` \"integer indexing\" (tam sayı dizinleme)` olarak değil, `\"key-value\" (anahtar-değer)` mantığına göre yorumlar. Yani, Python notlar dictionary'sinde `0` adında bir anahtar arar. Ancak, bu dictionary'de `0` adında bir anahtar yoktur, çünkü anahtarlar öğrenci isimleridir. Dolayısıyla, Python bu ifadeyi anlamlandıramaz ve bir hata mesajı olan `KeyError` döndürür.</span>"
   ]
  },
  {
   "cell_type": "code",
   "execution_count": 12,
   "id": "f6f74d08-48fc-4244-ad08-11ab8dd51b82",
   "metadata": {},
   "outputs": [
    {
     "name": "stdout",
     "output_type": "stream",
     "text": [
      "Bu sıfır sayısıdır\n"
     ]
    }
   ],
   "source": [
    "sayılar = {0 : \"Bu sıfır sayısıdır\", 1: \"Bu bir sayısıdır\", 2: \"Bu iki sayısıdır\"}\n",
    "print(sayılar[0])             # Hata dönmez çünkü 0(sıfır) adında bir key değeri var"
   ]
  },
  {
   "cell_type": "markdown",
   "id": "3b5c6da5-f64c-4e3c-97e4-480a18fa024f",
   "metadata": {},
   "source": [
    "### Value Değerlerini Değiştirmek:"
   ]
  },
  {
   "cell_type": "code",
   "execution_count": 14,
   "id": "26a3e473-39f6-4963-90ff-f45bf9d89493",
   "metadata": {},
   "outputs": [
    {
     "name": "stdout",
     "output_type": "stream",
     "text": [
      "{'Deniz': 80, 'Ege': 77, 'Gizem': 95}\n"
     ]
    }
   ],
   "source": [
    "notlar = {\"Deniz\": 80, \"Ege\": 72, \"Gizem\": 95}\n",
    "notlar[\"Ege\"] += 5                          # notlar[\"Ege\"] = notlar[\"Ege\"] + 5\n",
    "print(notlar)"
   ]
  },
  {
   "cell_type": "markdown",
   "id": "f3d9fcd1-e72b-484d-9f9c-92171546ac61",
   "metadata": {},
   "source": [
    "<span style=\"font-family: 'Arial', sans-serif; font-size: 16px;\">Bu şekilde, Ege'nin notunu güncellemek için dictionary'deki değeri değiştirdik. Bu, dictionary'de belirli bir değeri güncellemenin basit ve etkili bir yoludur.</span>"
   ]
  },
  {
   "cell_type": "markdown",
   "id": "3084fb47-721f-4502-b0c9-754391e39fc9",
   "metadata": {},
   "source": [
    "### len()"
   ]
  },
  {
   "cell_type": "markdown",
   "id": "2d6e842d-cf42-4df2-80fd-cdb82e18a4e2",
   "metadata": {},
   "source": [
    "<span style=\"font-family: 'Arial', sans-serif; font-size: 16px;\">`len()` fonksiyonu, bir dictionary içindeki anahtarların (keys) sayısını döndürür. </span>"
   ]
  },
  {
   "cell_type": "code",
   "execution_count": 16,
   "id": "d3ddece0-21d2-4eca-808f-9cc9b557fd03",
   "metadata": {},
   "outputs": [
    {
     "name": "stdout",
     "output_type": "stream",
     "text": [
      "3\n"
     ]
    }
   ],
   "source": [
    "notlar = {\"Deniz\": 80, \"Ege\": 77, \"Gizem\": 95}\n",
    "print(len(notlar))"
   ]
  },
  {
   "cell_type": "markdown",
   "id": "3622c0a2-1009-405c-a77c-6dba37648df5",
   "metadata": {},
   "source": [
    "### Eleman Eklemek:"
   ]
  },
  {
   "cell_type": "code",
   "execution_count": 17,
   "id": "b3d4e49e-567b-4821-8bf6-ad3699c8b36f",
   "metadata": {},
   "outputs": [
    {
     "name": "stdout",
     "output_type": "stream",
     "text": [
      "{'Deniz': 80, 'Ege': 77, 'Gizem': 95, 'Mert': 58}\n"
     ]
    }
   ],
   "source": [
    "notlar = {\"Deniz\": 80, \"Ege\": 77, \"Gizem\": 95}\n",
    "notlar[\"Mert\"] = 58\n",
    "print(notlar)"
   ]
  },
  {
   "cell_type": "markdown",
   "id": "59b16f4a-7ea9-467b-a82b-beb9a7b72e5e",
   "metadata": {},
   "source": [
    "<span style=\"font-family: 'Arial', sans-serif; font-size: 16px;\">Bu ifade, `Mert` adında yeni bir anahtar oluşturur ve bu anahtara karşılık gelen değeri `58` olarak atar. Sonuç olarak, `notlar` dictionary'sini çağırdığımızda, `Mert` adında yeni bir öğrencinin ve bu öğrencinin sınav notunun `58` dictionary'ye eklendiğini görebiliriz.</span>"
   ]
  },
  {
   "cell_type": "markdown",
   "id": "26719dc5-1927-4d3e-9023-c39fa42572af",
   "metadata": {},
   "source": [
    "### Eleman Silmek"
   ]
  },
  {
   "cell_type": "markdown",
   "id": "626d739b-6911-401d-b705-dee18dae7116",
   "metadata": {},
   "source": [
    "<span style=\"font-family: 'Arial', sans-serif; font-size: 16px;\">Dictionary'den eleman silmek oldukça basittir. Python'da `del` anahtar kelimesini kullanarak bir dictionary'den belirli bir anahtarı (ve bu anahtara karşılık gelen değeri) silebiliriz.</span>"
   ]
  },
  {
   "cell_type": "code",
   "execution_count": 20,
   "id": "4eb61c28-02bc-4b08-b275-8c36d05b32b9",
   "metadata": {},
   "outputs": [
    {
     "name": "stdout",
     "output_type": "stream",
     "text": [
      "{'Deniz': 80, 'Ege': 77, 'Gizem': 95}\n"
     ]
    }
   ],
   "source": [
    "notlar = {'Deniz': 80, 'Ege': 77, 'Gizem': 95, 'Mert': 58}\n",
    "del notlar[\"Mert\"]\n",
    "print(notlar)"
   ]
  },
  {
   "cell_type": "markdown",
   "id": "cbf62bdc-59ef-4ab1-94fa-78eef374db57",
   "metadata": {},
   "source": [
    "<span style=\"font-family: 'Arial', sans-serif; font-size: 16px;\">Bu şekilde, dictionary'den bir öğrenciyi silmek oldukça basit ve doğrudan bir işlemdir. Yalnızca `del` anahtar kelimesini kullanarak, silmek istediğimiz anahtar(key) belirtiriz.</span>"
   ]
  },
  {
   "cell_type": "markdown",
   "id": "50208bc1-7b2c-4d05-8a5c-61254b0e64e6",
   "metadata": {},
   "source": [
    "<span style=\"font-family: 'Arial', sans-serif; font-size: 16px;\">**Değiştirilemez (Immutable) ve Değiştirilebilir (Mutable) Anahtarlar:**</span>"
   ]
  },
  {
   "cell_type": "markdown",
   "id": "ca0fa527-604d-4b8b-9ae0-b56c10d29e5f",
   "metadata": {},
   "source": [
    "<span style=\"font-family: 'Arial', sans-serif; font-size: 16px;\">Dictionary'lerde sadece değiştirilemez (immutable) tiplerdeki veriler anahtar olarak kullanılabilir. Değiştirilemez tipler, bir kez oluşturulduktan sonra değerleri değiştirilemeyen tiplerdir.</span>"
   ]
  },
  {
   "cell_type": "code",
   "execution_count": 3,
   "id": "54e43361-0ef9-4578-a036-e0b372e4c4dd",
   "metadata": {},
   "outputs": [],
   "source": [
    "d = {1: 2, 3: \"b\"}\n",
    "isim = {\"isim_1\": \"Ali\", \"isim_2\": \"Hasan\"} "
   ]
  },
  {
   "cell_type": "markdown",
   "id": "92c3ebd3-f53a-4620-9863-372431a9d59f",
   "metadata": {},
   "source": [
    "<span style=\"font-family: 'Arial', sans-serif; font-size: 16px;\">Burada, anahtarlar (keys) `1` ve `3` ek olarak, `isim_1` ve `isim_2` değiştirilemezdir ve dictionary geçerlidir. </span>"
   ]
  },
  {
   "cell_type": "code",
   "execution_count": null,
   "id": "e7a3329d-0746-4c40-831c-23d2eaec099e",
   "metadata": {},
   "outputs": [],
   "source": [
    "d2 = {(1,2):\"a\", (4,5): [1,2,3]}"
   ]
  },
  {
   "cell_type": "markdown",
   "id": "a90f1529-ed4e-4bd3-ace0-3da749fa31db",
   "metadata": {},
   "source": [
    "<span style=\"font-family: 'Arial', sans-serif; font-size: 16px;\">`{d2 = {(1,2):\"a\", (4,5): [1,2,3]}` dictionary'sindeki anahtarlar (1,2) ve (4,5) gibi tuple (demet) gibi immutable veri tipleridir. Bu nedenle, bu dictionary geçerlidir ve anahtarları kullanarak değerlere erişebiliriz. </span>"
   ]
  },
  {
   "cell_type": "code",
   "execution_count": 4,
   "id": "a151f610-e888-41a4-a04d-af1552082c99",
   "metadata": {},
   "outputs": [
    {
     "ename": "TypeError",
     "evalue": "unhashable type: 'list'",
     "output_type": "error",
     "traceback": [
      "\u001b[1;31m---------------------------------------------------------------------------\u001b[0m",
      "\u001b[1;31mTypeError\u001b[0m                                 Traceback (most recent call last)",
      "Cell \u001b[1;32mIn[4], line 1\u001b[0m\n\u001b[1;32m----> 1\u001b[0m d2 \u001b[38;5;241m=\u001b[39m {[\u001b[38;5;241m1\u001b[39m,\u001b[38;5;241m2\u001b[39m]: \u001b[38;5;241m4\u001b[39m}\n",
      "\u001b[1;31mTypeError\u001b[0m: unhashable type: 'list'"
     ]
    }
   ],
   "source": [
    "d2 = {[1,2]: 4}"
   ]
  },
  {
   "cell_type": "markdown",
   "id": "202567c7-d744-43bd-b020-dce19f53f453",
   "metadata": {},
   "source": [
    "<span style=\"font-family: 'Arial', sans-serif; font-size: 16px;\">Burada, anahtar olarak `[1,2]` gibi bir liste kullanılmıştır. Listeler değiştirilebilir (mutable) tiplerdir, yani değerleri değiştirilebilir. Bu nedenle, bu dictionary geçersizdir</span>"
   ]
  },
  {
   "cell_type": "markdown",
   "id": "ee75a3a7-a783-4238-9255-9773fe0ce2e4",
   "metadata": {},
   "source": [
    "### Boş Bir Dictionary Oluşturmak ve Eleman Eklemek"
   ]
  },
  {
   "cell_type": "markdown",
   "id": "94b9be74-0a30-46f9-94f7-095ee94bface",
   "metadata": {},
   "source": [
    "<span style=\"font-family: 'Arial', sans-serif; font-size: 16px;\">Boş bir dictionary oluşturmak için süslü parantezler `{}` kullanılır. Bu şekilde, içi boş bir dictionary tanımlanır.</span>"
   ]
  },
  {
   "cell_type": "code",
   "execution_count": 5,
   "id": "dbe73c41-22cb-4f20-8590-ed74d1180693",
   "metadata": {},
   "outputs": [
    {
     "name": "stdout",
     "output_type": "stream",
     "text": [
      "{1: 'a'}\n"
     ]
    }
   ],
   "source": [
    "d = {}                  #Bu ifade, boş bir dictionary oluşturur.\n",
    "\n",
    "d[1] = \"a\"              # \"1\" anahtarını oluşturur ve bu anahtara karşılık gelen değeri \"a\" olarak atar.\n",
    "\n",
    "print(d)"
   ]
  },
  {
   "cell_type": "markdown",
   "id": "77bcec19-ddbc-4eb2-b6fe-4e17775bda4e",
   "metadata": {},
   "source": [
    "<span style=\"font-family: 'Arial', sans-serif; font-size: 16px;\">Sonuç olarak, `d` dictionary'sini çağırdığımızda, içinde ` 1: 'a'` şeklinde bir anahtar-değer çifti olduğunu görebiliriz. Bu, boş bir dictionary oluşturup daha sonra bu dictionary'e eleman eklemek oldukça basit ve doğrudan bir işlemdir.</span>"
   ]
  },
  {
   "cell_type": "markdown",
   "id": "1680f969-2465-4dad-ae6e-d777f45b2c18",
   "metadata": {},
   "source": [
    "### Bir Değerin Keyler Arasında Var Olup Olmadığını Sorgulamak:"
   ]
  },
  {
   "cell_type": "markdown",
   "id": "e6d93247-0752-4038-9334-086baa1678c5",
   "metadata": {},
   "source": [
    "<span style=\"font-family: 'Arial', sans-serif; font-size: 16px;\">Bir değerin bir dictionary içinde olup olmadığını sorgulamak için `in` anahtar kelimesini kullanırız</span>"
   ]
  },
  {
   "cell_type": "code",
   "execution_count": 6,
   "id": "df619f7b-1aee-4354-8d69-0d82bce8242b",
   "metadata": {},
   "outputs": [
    {
     "name": "stdout",
     "output_type": "stream",
     "text": [
      "False\n",
      "True\n"
     ]
    }
   ],
   "source": [
    "notlar = {'Deniz': 80, 'Ege': 77, 'Gizem': 95}  \n",
    "\n",
    "m = \"Mert\" in notlar                                          # Mert\" adında bir öğrencinin bu dictionary'de olup olmadığını sorguladık\n",
    "d = \"Deniz\" in notlar\n",
    "print(m)\n",
    "print(d)"
   ]
  },
  {
   "cell_type": "markdown",
   "id": "fbca5460-f5f8-48a1-b0e4-b1142ee50c29",
   "metadata": {},
   "source": [
    "<span style=\"font-family: 'Arial', sans-serif; font-size: 16px;\">Bu ifade, `Deniz` adındaki öğrencinin notlar dictionary'sinde olup olmadığını kontrol eder. Eğer `Deniz` adında bir öğrenci varsa, `True` döner. Bu şekilde, `in` anahtar kelimesini kullanarak bir değerin dictionary içinde olup olmadığını hızlı ve kolay bir şekilde sorgulayabiliriz.</span>"
   ]
  },
  {
   "cell_type": "code",
   "execution_count": 8,
   "id": "1eed0e76-ec02-4886-b0c8-6e76ee581b9d",
   "metadata": {},
   "outputs": [
    {
     "name": "stdout",
     "output_type": "stream",
     "text": [
      "-1\n"
     ]
    }
   ],
   "source": [
    "A = {'python': ['awesome', 'awesome', 'language', 'awesome', 'language']}\n",
    "B = {'something-else': ['awesome', 'language', 'not relevant']}\n",
    "\n",
    "for key_A, values_A in A.items():\n",
    "    for key_B, values_B in B.items():\n",
    "        if values_B in values_A:\n",
    "            print(key_A)\n",
    "        else:\n",
    "            print(-1)"
   ]
  },
  {
   "cell_type": "code",
   "execution_count": 9,
   "id": "c4fde5cb-ce9e-4b1a-b387-23aad69ebc0f",
   "metadata": {},
   "outputs": [
    {
     "name": "stdout",
     "output_type": "stream",
     "text": [
      "{'awesome', 'language'}\n"
     ]
    }
   ],
   "source": [
    "A = {'python': ['awesome', 'awesome', 'language', 'awesome', 'language']}\n",
    "B = {'something-else': ['awesome', 'language', 'not relevant']}\n",
    "\n",
    "# A ve B'nin ortak öğelerini bul\n",
    "common_words = set(A['python']) & set(B['something-else'])\n",
    "\n",
    "# Eğer ortak öğe varsa yazdır, yoksa -1 yazdır\n",
    "if common_words:\n",
    "    print(common_words)\n",
    "else:\n",
    "    print(-1)"
   ]
  },
  {
   "cell_type": "code",
   "execution_count": 14,
   "id": "32815217-c99b-4d9c-a3d8-efc4b938ad1e",
   "metadata": {},
   "outputs": [
    {
     "ename": "IndentationError",
     "evalue": "unexpected indent (692746126.py, line 13)",
     "output_type": "error",
     "traceback": [
      "\u001b[1;36m  Cell \u001b[1;32mIn[14], line 13\u001b[1;36m\u001b[0m\n\u001b[1;33m    else:\u001b[0m\n\u001b[1;37m    ^\u001b[0m\n\u001b[1;31mIndentationError\u001b[0m\u001b[1;31m:\u001b[0m unexpected indent\n"
     ]
    }
   ],
   "source": [
    "A = {'python': ['awesome', 'awesome', 'language', 'awesome', 'language']}\n",
    "B = {'something-else': ['awesome', 'language', 'not relevant']}\n",
    "\n",
    "common_words = all_words = set(A['python']) | set(B['something-else'])\n",
    "\n",
    "# Eğer ortak öğe varsa indekslerini yazdır, yoksa -1 yazdır\n",
    "if common_words:\n",
    "    for word in common_words:\n",
    "        indices_A = [i+1 for i, w in enumerate(A['python']) if w == word]\n",
    "        indices_B = [i+1 for i, w in enumerate(B['something-else']) if w == word]\n",
    "        print(f\"'{word}' A listesindeki indeks(ler): {indices_A}\")\n",
    "        print(f\"'{word}' B listesindeki indeks(ler): {indices_B}\")\n",
    "              else:\n",
    "                   print(-1)"
   ]
  },
  {
   "cell_type": "code",
   "execution_count": 17,
   "id": "41af2bef-2b55-4f0b-811d-cf441a372256",
   "metadata": {},
   "outputs": [
    {
     "name": "stdout",
     "output_type": "stream",
     "text": [
      "'awesome' appeared  in positions [1, 2, 4]\n",
      "'awesome' appeared  in positions [1]\n",
      "'language' appeared  in positions [3, 5]\n",
      "'language' appeared  in positions [2]\n"
     ]
    }
   ],
   "source": [
    "A = {'python': ['awesome', 'awesome', 'language', 'awesome', 'language']}\n",
    "B = {'something-else': ['awesome', 'language', 'not relevant']}\n",
    "\n",
    "common_words = set(A['python']) & set(B['something-else'])\n",
    "\n",
    "# Eğer ortak öğe varsa indekslerini yazdır, yoksa -1 yazdır\n",
    "if common_words:\n",
    "    for word in common_words:\n",
    "        indices_A = [i+1 for i, w in enumerate(A['python']) if w == word]\n",
    "        indices_B = [i+1 for i, w in enumerate(B['something-else']) if w == word]\n",
    "        print(f\"'{word}' appeared in positions {indices_A}\")\n",
    "        print(f\"'{word}' appeared in positions {indices_B}\")\n",
    "else:\n",
    "    print(-1)"
   ]
  },
  {
   "cell_type": "code",
   "execution_count": 18,
   "id": "9b3f7188-1781-4f3b-9dec-38ebfbb72e7d",
   "metadata": {},
   "outputs": [
    {
     "name": "stdout",
     "output_type": "stream",
     "text": [
      "1 2 4\n",
      "1\n",
      "3 5\n",
      "2\n"
     ]
    }
   ],
   "source": [
    "A = [\"a\", \"a\", 'b', 'a', 'b']\n",
    "B = ['a', 'b']\n",
    "\n",
    "# Ortak öğeleri bul\n",
    "common_words = set(A) & set(B)\n",
    "\n",
    "# Eğer ortak öğe varsa indekslerini yazdır, yoksa -1 yazdır\n",
    "for word in common_words:\n",
    "    indices_A = [i+1 for i, w in enumerate(A) if w == word]\n",
    "    indices_B = [i+1 for i, w in enumerate(B) if w == word]\n",
    "    print(*indices_A, sep=' ' if indices_A else '-1')\n",
    "    print(*indices_B, sep=' ' if indices_B else '-1')"
   ]
  },
  {
   "cell_type": "code",
   "execution_count": 19,
   "id": "b99fbc0c-9a14-42b8-bfc4-51d45e8e4558",
   "metadata": {},
   "outputs": [
    {
     "name": "stdout",
     "output_type": "stream",
     "text": [
      "1 2 4 1 3 5 2 "
     ]
    }
   ],
   "source": [
    "A = [\"a\", \"a\", 'b', 'a', 'b']\n",
    "B = ['a', 'b']\n",
    "\n",
    "# Ortak öğeleri bul\n",
    "common_words = set(A) & set(B)\n",
    "\n",
    "# Eğer ortak öğe varsa indekslerini yazdır, yoksa -1 yazdır\n",
    "for word in common_words:\n",
    "    indices_A = [i+1 for i, w in enumerate(A) if w == word]\n",
    "    indices_B = [i+1 for i, w in enumerate(B) if w == word]\n",
    "    print(*indices_A, end=' ' if indices_A else '-1\\n')\n",
    "    print(*indices_B, end=' ' if indices_B else '-1\\n')"
   ]
  },
  {
   "cell_type": "code",
   "execution_count": 20,
   "id": "e260b105-a206-4d49-91ae-1e9de2499bf2",
   "metadata": {},
   "outputs": [
    {
     "name": "stdout",
     "output_type": "stream",
     "text": [
      "1 2 4\n",
      "1\n",
      "3 5\n",
      "2\n"
     ]
    }
   ],
   "source": [
    "A = [\"a\", \"a\", 'b', 'a', 'b']\n",
    "B = ['a', 'b']\n",
    "\n",
    "# Ortak öğeleri bul\n",
    "common_words = set(A) & set(B)\n",
    "\n",
    "# Eğer ortak öğe varsa indekslerini yazdır, yoksa -1 yazdır\n",
    "for word in common_words:\n",
    "    indices_A = [i+1 for i, w in enumerate(A) if w == word]\n",
    "    indices_B = [i+1 for i, w in enumerate(B) if w == word]\n",
    "    print(*indices_A)\n",
    "    print(*indices_B)"
   ]
  },
  {
   "cell_type": "code",
   "execution_count": 21,
   "id": "6da5ffb5-d1e2-40ce-81a9-967b63cec25b",
   "metadata": {},
   "outputs": [
    {
     "name": "stdout",
     "output_type": "stream",
     "text": [
      "1 2 4 1\n",
      "3 5 2\n"
     ]
    }
   ],
   "source": [
    "A = [\"a\", \"a\", 'b', 'a', 'b']\n",
    "B = ['a', 'b']\n",
    "\n",
    "common_words = set(A) & set(B)\n",
    "\n",
    "for word in common_words:\n",
    "    indices_A = [i+1 for i, w in enumerate(A) if w == word]\n",
    "    indices_B = [i+1 for i, w in enumerate(B) if w == word]\n",
    "    print(*indices_A, end=' ')\n",
    "    print(*indices_B)"
   ]
  },
  {
   "cell_type": "code",
   "execution_count": 22,
   "id": "86481123-342d-422c-8378-99ce851c8941",
   "metadata": {},
   "outputs": [
    {
     "name": "stdout",
     "output_type": "stream",
     "text": [
      "1 2 4 1\n",
      "3 5 2\n"
     ]
    }
   ],
   "source": [
    "A = [\"a\", \"a\", 'b', 'a', 'b']\n",
    "B = ['a', 'b']\n",
    "\n",
    "common_words = set(A) & set(B)\n",
    "\n",
    "# Initialize lists to store the indices\n",
    "indices_A = [[] for _ in range(len(common_words))]\n",
    "indices_B = [[] for _ in range(len(common_words))]\n",
    "\n",
    "# Find indices of common words in A and B\n",
    "for i, word in enumerate(common_words):\n",
    "    indices_A[i] = [j+1 for j, w in enumerate(A) if w == word]\n",
    "    indices_B[i] = [j+1 for j, w in enumerate(B) if w == word]\n",
    "\n",
    "# Print the indices of common words in A and B\n",
    "for indices_A_word, indices_B_word in zip(indices_A, indices_B):\n",
    "    print(*indices_A_word, end=' ')\n",
    "    print(*indices_B_word)"
   ]
  },
  {
   "cell_type": "code",
   "execution_count": 23,
   "id": "42ad98c6-1ce0-4ae2-a421-d431ad477cd7",
   "metadata": {},
   "outputs": [
    {
     "name": "stdout",
     "output_type": "stream",
     "text": [
      "1 2 4\n",
      "1\n",
      "3 5\n",
      "2\n"
     ]
    }
   ],
   "source": [
    "A = [\"a\", \"a\", 'b', 'a', 'b']\n",
    "B = ['a', 'b']\n",
    "\n",
    "common_words = set(A) & set(B)\n",
    "\n",
    "# Find indices of common words in A and B and print them\n",
    "for word in common_words:\n",
    "    indices_A = [i+1 for i, w in enumerate(A) if w == word]\n",
    "    indices_B = [i+1 for i, w in enumerate(B) if w == word]\n",
    "    print(*indices_A)\n",
    "    print(*indices_B)"
   ]
  },
  {
   "cell_type": "code",
   "execution_count": 24,
   "id": "93647046-bdff-4236-832a-8611cd31471d",
   "metadata": {},
   "outputs": [
    {
     "name": "stdout",
     "output_type": "stream",
     "text": [
      "2\n",
      "2\n"
     ]
    }
   ],
   "source": [
    "A = [\"a\", \"a\", 'b', 'a', 'b']\n",
    "B = ['a', 'b']\n",
    "\n",
    "common_words = set(A) & set(B)\n",
    "\n",
    "# Find indices of common words in A and B and print them\n",
    "for word in common_words:\n",
    "    print(*indices_B)"
   ]
  },
  {
   "cell_type": "code",
   "execution_count": 26,
   "id": "d324cf5d-b4ce-4752-96cc-7f6f8293cec4",
   "metadata": {},
   "outputs": [
    {
     "name": "stdout",
     "output_type": "stream",
     "text": [
      "3 5\n",
      "2\n",
      "3 5\n",
      "2\n"
     ]
    }
   ],
   "source": [
    "A = [\"a\", \"a\", 'b', 'a', 'b']\n",
    "B = ['a', 'b']\n",
    "\n",
    "common_words = set(A) & set(B)\n",
    "for word in common_words:\n",
    "    print(*indices_A)\n",
    "    print(*indices_B)"
   ]
  },
  {
   "cell_type": "code",
   "execution_count": 27,
   "id": "c897f720-7562-40b5-8480-db704eed5d4f",
   "metadata": {},
   "outputs": [
    {
     "name": "stdout",
     "output_type": "stream",
     "text": [
      "1 2 4\n",
      "1\n",
      "3 5\n",
      "2\n"
     ]
    }
   ],
   "source": []
  },
  {
   "cell_type": "code",
   "execution_count": 29,
   "id": "d1906d4a-5b69-4ea5-95ab-ef7d65fc868c",
   "metadata": {},
   "outputs": [
    {
     "name": "stdout",
     "output_type": "stream",
     "text": [
      "1 2 4\n",
      "1\n",
      "3 5\n",
      "2\n"
     ]
    }
   ],
   "source": [
    "A = {'python': ['awesome', 'awesome', 'language', 'awesome', 'language']}\n",
    "B = {'something-else': ['awesome', 'language']}\n",
    "\n",
    "# A ve B sözlüklerindeki ortak kelimelerin bulunması\n",
    "common_words = set(A['python']) & set(B['something-else'])\n",
    "\n",
    "# Eğer ortak kelime varsa, indekslerini yazdır, yoksa -1 yazdır\n",
    "for word in common_words:\n",
    "    indices_A = [i+1 for i, w in enumerate(A['python']) if w == word]\n",
    "    indices_B = [i+1 for i, w in enumerate(B['something-else']) if w == word]\n",
    "    print(*indices_A)\n",
    "    print(*indices_B)"
   ]
  },
  {
   "cell_type": "code",
   "execution_count": 30,
   "id": "d0395d25-dbb4-47eb-8331-12c253743c31",
   "metadata": {},
   "outputs": [],
   "source": [
    "A = {'python': ['awesome', 'awesome', 'language', 'awesome', 'language']}\n",
    "common_words = {'awesome', 'language'}\n",
    "\n",
    "# Her bir ortak kelimenin indekslerini bul\n",
    "for word in common_words:\n",
    "    indices = [i+1 for i, w in enumerate(A['python']) if w == word]"
   ]
  },
  {
   "cell_type": "code",
   "execution_count": 34,
   "id": "48a3c6d9-1876-483a-a518-2f8663f5c2c4",
   "metadata": {},
   "outputs": [
    {
     "name": "stdout",
     "output_type": "stream",
     "text": [
      "1 2 4\n",
      "3 5\n"
     ]
    }
   ],
   "source": [
    "A = {'python': ['awesome', 'awesome', 'language', 'awesome', 'language']}\n",
    "common_words = {'awesome', 'language'}\n",
    "\n",
    "# Her bir ortak kelimenin indekslerini bul\n",
    "for word in common_words:\n",
    "    indices = [i+1 for i, w in enumerate(A['python']) if w == word]\n",
    "    print(*indices)"
   ]
  },
  {
   "cell_type": "code",
   "execution_count": 35,
   "id": "732c6479-d875-486b-8770-20afb6ad5305",
   "metadata": {},
   "outputs": [
    {
     "name": "stdout",
     "output_type": "stream",
     "text": [
      "1 2 4\n",
      "3 5\n"
     ]
    }
   ],
   "source": [
    "A = {'python': ['awesome', 'awesome', 'language', 'awesome', 'language']}\n",
    "\n",
    "B = {'something-else': ['awesome', 'language']}\n",
    "\n",
    "common_words = set(A['python']) & set(B['something-else'])\n",
    "\n",
    "for word in common_words:\n",
    "    indices = [i+1 for i, w in enumerate(A['python']) if w == word]\n",
    "    print(*indices)"
   ]
  },
  {
   "cell_type": "code",
   "execution_count": 36,
   "id": "350d8003-7ad4-47fc-aaf8-4bada0dbc174",
   "metadata": {},
   "outputs": [
    {
     "name": "stdout",
     "output_type": "stream",
     "text": [
      "1 2 4\n",
      "3 5\n"
     ]
    }
   ],
   "source": [
    "A = {'python': ['awesome', 'awesome', 'language', 'awesome', 'language']}\n",
    "B = {'something-else': ['awesome', 'language']}\n",
    "\n",
    "common_words = set(A['python']) & set(B['something-else'])\n",
    "\n",
    "if common_words:\n",
    "    for word in common_words:\n",
    "        indices = [i+1 for i, w in enumerate(A['python']) if w == word]\n",
    "        print(*indices)\n",
    "else:\n",
    "    print(-1)"
   ]
  },
  {
   "cell_type": "code",
   "execution_count": 37,
   "id": "c3c7b91f-4626-454e-a48c-8c348d7ef8e0",
   "metadata": {},
   "outputs": [
    {
     "name": "stdout",
     "output_type": "stream",
     "text": [
      "1 2 4\n",
      "3 5\n"
     ]
    }
   ],
   "source": [
    "A = ['a', 'a', 'b', 'a', 'b']\n",
    "B = ['a', 'b']\n",
    "\n",
    "common_words = set(A) & set(B)\n",
    "\n",
    "if common_words:\n",
    "    for word in common_words:\n",
    "        indices = [i+1 for i, w in enumerate(A) if w == word]\n",
    "        print(*indices)\n",
    "else:\n",
    "    print(-1)"
   ]
  },
  {
   "cell_type": "code",
   "execution_count": null,
   "id": "014bd411-f6be-4904-b4cc-184dee231e9a",
   "metadata": {},
   "outputs": [],
   "source": [
    "A = ['a', 'a', 'b', 'a', 'b']\n",
    "B = ['a', 'b']\n",
    "\n",
    "common_words = set(A) & set(B)\n",
    "\n",
    "if common_words:\n",
    "    for word in common_words:\n",
    "        indices = [i+1 for i, w in enumerate(A) if w == word]\n",
    "        print(*indices)\n",
    "else:\n",
    "    print(-1)"
   ]
  }
 ],
 "metadata": {
  "kernelspec": {
   "display_name": "Python 3 (ipykernel)",
   "language": "python",
   "name": "python3"
  },
  "language_info": {
   "codemirror_mode": {
    "name": "ipython",
    "version": 3
   },
   "file_extension": ".py",
   "mimetype": "text/x-python",
   "name": "python",
   "nbconvert_exporter": "python",
   "pygments_lexer": "ipython3",
   "version": "3.12.3"
  }
 },
 "nbformat": 4,
 "nbformat_minor": 5
}
