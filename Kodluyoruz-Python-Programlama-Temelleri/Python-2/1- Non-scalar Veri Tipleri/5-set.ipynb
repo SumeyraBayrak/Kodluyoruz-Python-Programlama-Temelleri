{
 "cells": [
  {
   "cell_type": "markdown",
   "id": "dad28852-cf1f-46fb-a73e-848d0cfba566",
   "metadata": {},
   "source": [
    "# Set"
   ]
  },
  {
   "cell_type": "markdown",
   "id": "3f06403f-a836-4df4-9050-747f5ff7906d",
   "metadata": {},
   "source": [
    "<span style=\"font-family: 'Arial', sans-serif; font-size: 16px;\">Setler, matematikteki kümelerin programlama dillerindeki karşılığıdır. Kümeler, bir veri yapısı olarak benzersiz (yinelenmeyen) değerleri içeren koleksiyonlardır. Bu demektir ki, bir sette aynı değer birden fazla kez bulunamaz, yalnızca bir kere bulunabilir. Örneğin, `{1, 2, 3, 4, 5}` gibi bir sette her sayı yalnızca bir kez bulunabilir, yani 2'ye iki kez yer verilemez.</span>"
   ]
  },
  {
   "cell_type": "markdown",
   "id": "794bbb6e-bda0-438d-a5ad-df0398968955",
   "metadata": {},
   "source": [
    "<span style=\"font-family: 'Arial', sans-serif; font-size: 16px;\">Setler, içerdikleri elemanlara hızlı bir şekilde erişim sağlarlar. Bu nedenle, bir elemanın set içinde olup olmadığını kontrol etmek veya bir setin diğerine göre farkını bulmak gibi işlemler hızlı bir şekilde gerçekleştirilebilir. İçerisindeki elemanların sıralı olmasına veya indexlenmesine gerek yoktur, bu yüzden elemanlara doğrudan erişim sağlanır.</span>"
   ]
  },
  {
   "cell_type": "markdown",
   "id": "39d3baf9-d143-415d-8537-436f469d9279",
   "metadata": {},
   "source": [
    "## Set Üretme:"
   ]
  },
  {
   "cell_type": "code",
   "execution_count": 3,
   "id": "c066caf2-c9b5-4fd9-b3af-ffc79ce0d31b",
   "metadata": {},
   "outputs": [
    {
     "name": "stdout",
     "output_type": "stream",
     "text": [
      "{1, 2, 3, 4, 5}\n"
     ]
    }
   ],
   "source": [
    "s = {1,2,3,4,5}\n",
    "print(s)"
   ]
  },
  {
   "cell_type": "markdown",
   "id": "a7d78ff8-e7dd-491a-b35f-3c77c69b4fbd",
   "metadata": {},
   "source": [
    "<span style=\"font-family: 'Arial', sans-serif; font-size: 16px;\">Süslü parantezler `{}` içinde virgülle ayrılmış değerler listesiyle bir set oluşturulur. Her eleman yalnızca bir kez geçer, sonuç olarak `{1, 2, 3, 4, 5} ` şeklinde bir set elde edilir.</span>"
   ]
  },
  {
   "cell_type": "markdown",
   "id": "76877ff0-3fba-4801-a8ef-28a40ecf8bd0",
   "metadata": {},
   "source": [
    "## Tekrarlanan Değerlerle Liste Oluşturma:"
   ]
  },
  {
   "cell_type": "code",
   "execution_count": 4,
   "id": "bcc9db13-ab09-4ebe-a0f4-7a4856c7c5de",
   "metadata": {},
   "outputs": [
    {
     "data": {
      "text/plain": [
       "{1, 2, 3, 4}"
      ]
     },
     "execution_count": 4,
     "metadata": {},
     "output_type": "execute_result"
    }
   ],
   "source": [
    "l = [1, 2, 3, 4, 1, 2]\n",
    "set(l)"
   ]
  },
  {
   "cell_type": "markdown",
   "id": "76995a8e-7099-4176-840c-07f84c25c29a",
   "metadata": {},
   "source": [
    "<span style=\"font-family: 'Arial', sans-serif; font-size: 16px;\">Burada, tekrarlanan değerlerle bir liste oluşturuluyor ve bu liste `set()` fonksiyonuna geçirilerek bir set elde ediliyor. Tekrarlanan değerler göz ardı ediliyor, yani her değer yalnızca bir kez yer alıyor. Sonuç olarak, `{1, 2, 3, 4}` şeklinde bir set elde ediliyor.</span>"
   ]
  },
  {
   "cell_type": "markdown",
   "id": "af976510-5ba2-4bed-89c3-ee22506d10ad",
   "metadata": {},
   "source": [
    "## Boş Set Oluşturma:"
   ]
  },
  {
   "cell_type": "code",
   "execution_count": 13,
   "id": "84e7e2a4-8f97-4ca5-9342-9e869fb18da8",
   "metadata": {},
   "outputs": [
    {
     "name": "stdout",
     "output_type": "stream",
     "text": [
      "set()\n",
      "<class 'set'>\n"
     ]
    }
   ],
   "source": [
    "s = set()\n",
    "print(s)\n",
    "print(type(s))"
   ]
  },
  {
   "cell_type": "markdown",
   "id": "12984716-b407-4359-b313-24b8a91fd072",
   "metadata": {},
   "source": [
    "<span style=\"font-family: 'Arial', sans-serif; font-size: 16px;\">`set()` fonksiyonu kullanılarak boş bir set oluşturulur. Sonuç olarak, boş bir set elde edilir.</span>"
   ]
  },
  {
   "cell_type": "code",
   "execution_count": 12,
   "id": "ebd02593-7f08-4e33-ad1c-adb8dce4ef0d",
   "metadata": {},
   "outputs": [
    {
     "name": "stdout",
     "output_type": "stream",
     "text": [
      "{}\n",
      "<class 'dict'>\n"
     ]
    }
   ],
   "source": [
    "d = {}\n",
    "print(d)\n",
    "print(type(d))"
   ]
  },
  {
   "cell_type": "markdown",
   "id": "73416be8-6a6a-4600-b7a6-8978d417aabc",
   "metadata": {},
   "source": [
    "<div style=\"float: right; background-color: #333; padding: 5px; border: 1px solid #ccc; height: 100x; width: 600px;\">\n",
    "    <h3 style=\"color: #c0c0c0;\">Not Kutusu</h3>\n",
    "    <p style=\"font-family: 'Arial' sans-serif; font-size: 14px; color: #ffffff;\">Boş bir seti {} ile üretemeyiz, çünkü bu boş bir dictionary yaratmak için ayrılmıştır\n",
    "    <br>\n",
    "    d = {}\n",
    "    </p>\n",
    "</div>"
   ]
  },
  {
   "cell_type": "markdown",
   "id": "4553b0a7-a21d-4af2-af82-dee95933ad1d",
   "metadata": {},
   "source": [
    "<span style=\"font-family: 'Arial', sans-serif; font-size: 16px;\">**!!Setler Sadece Özgün Değerlerden Oluşur:**</span>"
   ]
  },
  {
   "cell_type": "markdown",
   "id": "a067a500-3e3f-4429-b5df-8b101cba141c",
   "metadata": {},
   "source": [
    "<span style=\"font-family: 'Arial', sans-serif; font-size: 16px;\">Burada, setlerin yalnızca benzersiz değerleri içerdiğini göreceğiz. Başka bir deyişle, bir liste veya demet içinde tekrarlanan değerler olsa bile, set oluşturulurken her bir değer yalnızca bir kez yer alır.</span>"
   ]
  },
  {
   "cell_type": "markdown",
   "id": "8ff1680f-e055-43e5-aa04-520126bfedb6",
   "metadata": {},
   "source": [
    "###  Bir liste kullanarak bir set oluşturuyoruz:"
   ]
  },
  {
   "cell_type": "code",
   "execution_count": 17,
   "id": "2dc88518-18a1-46b4-8619-b798b0242cc1",
   "metadata": {},
   "outputs": [
    {
     "name": "stdout",
     "output_type": "stream",
     "text": [
      "{1, 2, 3, 4}\n"
     ]
    }
   ],
   "source": [
    "l = [1, 2, 3, 4, 1, 2]\n",
    "s = set(l)\n",
    "print(s)"
   ]
  },
  {
   "cell_type": "markdown",
   "id": "c8df2b7d-9641-4264-b639-ef576d0b19ad",
   "metadata": {},
   "source": [
    "### Bir demet (tuple) kullanarak da set oluşturabiliriz:"
   ]
  },
  {
   "cell_type": "code",
   "execution_count": 19,
   "id": "cf5bc25a-c477-4820-8213-6c72196f03ab",
   "metadata": {},
   "outputs": [
    {
     "name": "stdout",
     "output_type": "stream",
     "text": [
      "{1, 2, 3, 4}\n"
     ]
    }
   ],
   "source": [
    "t = (1, 2, 3, 4, 1)\n",
    "s = set(t)\n",
    "print(s)"
   ]
  },
  {
   "cell_type": "markdown",
   "id": "04896c7d-1588-477d-83ba-3ff62d6ed365",
   "metadata": {},
   "source": [
    "### Bir string kullanarak da set oluşturabiliriz:"
   ]
  },
  {
   "cell_type": "code",
   "execution_count": 22,
   "id": "622983b4-75f9-4932-b1f6-090092f28640",
   "metadata": {},
   "outputs": [
    {
     "name": "stdout",
     "output_type": "stream",
     "text": [
      "{'n', 'b', 'r', 'd', 'm', '?', 'a', 's', 'e', 'o', 'h', ',', ' ', 'ı', 'M'}\n"
     ]
    }
   ],
   "source": [
    "message = \"Merhaba, orda mısın?\"\n",
    "s = set(message)\n",
    "print(s)"
   ]
  },
  {
   "cell_type": "markdown",
   "id": "3c1a73c9-497f-48ec-9c23-5f365489714a",
   "metadata": {},
   "source": [
    "<span style=\"font-family: 'Arial', sans-serif; font-size: 16px;\">Bu durumda, string içindeki her bir karakter set içinde yer alır. Ancak, setler sıralı bir veri yapısı olmadığı için karakterlerin sırası önemli değildir. Dolayısıyla, her bir farklı karakter yalnızca bir kez set içinde yer alır.</span>"
   ]
  },
  {
   "cell_type": "markdown",
   "id": "0defa064-3ede-4cc8-be2d-b3b876063db5",
   "metadata": {},
   "source": [
    "## len() Set Eleman Sayısını Bulma: "
   ]
  },
  {
   "cell_type": "markdown",
   "id": "ce0fff6f-cef3-47aa-b340-425010cf86cb",
   "metadata": {},
   "source": [
    "<span style=\"font-family: 'Arial', sans-serif; font-size: 16px;\">`len()` fonksiyonu, bir veri yapısındaki elemanların sayısını döndürür. Setlerde de bu fonksiyon kullanılarak setin içindeki benzersiz eleman sayısı bulunabilir.</span>"
   ]
  },
  {
   "cell_type": "code",
   "execution_count": 23,
   "id": "413e841f-f69b-498a-a57c-ddaa1848eefc",
   "metadata": {},
   "outputs": [
    {
     "data": {
      "text/plain": [
       "5"
      ]
     },
     "execution_count": 23,
     "metadata": {},
     "output_type": "execute_result"
    }
   ],
   "source": [
    "s = set([1, 2, 3, 4, 5])\n",
    "len(s)"
   ]
  },
  {
   "cell_type": "markdown",
   "id": "e8ce6465-a9aa-47e7-8ce6-2392f7c8c9df",
   "metadata": {},
   "source": [
    "<span style=\"font-family: 'Arial', sans-serif; font-size: 16px;\">Bu kod bloğunda, `s` adlı bir set oluşturuluyor ve `len(s)` ifadesiyle setin içindeki eleman sayısı bulunuyor. Çünkü setler sadece benzersiz elemanları içerir, bu durumda setin içindeki benzersiz eleman sayısı `5` olduğu için çıktı olarak `5` alınır.</span>"
   ]
  },
  {
   "cell_type": "code",
   "execution_count": 24,
   "id": "40022d4b-fecc-43d1-915e-f46c0da0fd97",
   "metadata": {},
   "outputs": [
    {
     "data": {
      "text/plain": [
       "3"
      ]
     },
     "execution_count": 24,
     "metadata": {},
     "output_type": "execute_result"
    }
   ],
   "source": [
    "t = (1, 2, 3, 3, 2)\n",
    "len(set(t))"
   ]
  },
  {
   "cell_type": "markdown",
   "id": "0ee3133e-a140-4e1f-8129-4f7e9adc61bc",
   "metadata": {},
   "source": [
    "<span style=\"font-family: 'Arial', sans-serif; font-size: 16px;\">Bu durumda, `t` adlı bir demet oluşturulur ve bu demet sete dönüştürüldükten sonra `len()` fonksiyonu ile setin içindeki benzersiz eleman sayısı bulunur. Demet içinde tekrarlanan değerler göz ardı edilir, bu yüzden sette sadece benzersiz elemanlar yer alır. Sonuç olarak, çıktı olarak `3` alınır.</span>"
   ]
  },
  {
   "cell_type": "markdown",
   "id": "e881a44f-e8fc-4b96-b5b2-c71c926ce395",
   "metadata": {},
   "source": [
    "## Setler Indexlenemez:"
   ]
  },
  {
   "cell_type": "markdown",
   "id": "7881e710-9ff0-421c-840d-9460e9271d21",
   "metadata": {},
   "source": [
    "<span style=\"font-family: 'Arial', sans-serif; font-size: 16px;\">Setler indexlenemez, yani set içindeki elemanlara indeks numaralarıyla erişilemez. Bu nedenle, bir setin belirli bir elemanına indeksle erişmeye çalıştığınızda `\"TypeError: 'set' object is not subscriptable\"` hatası alırsınız.</span>"
   ]
  },
  {
   "cell_type": "code",
   "execution_count": 26,
   "id": "1b64d0be-d4c7-46f8-97ba-9be0239b24ab",
   "metadata": {},
   "outputs": [
    {
     "ename": "TypeError",
     "evalue": "'set' object is not subscriptable",
     "output_type": "error",
     "traceback": [
      "\u001b[1;31m---------------------------------------------------------------------------\u001b[0m",
      "\u001b[1;31mTypeError\u001b[0m                                 Traceback (most recent call last)",
      "Cell \u001b[1;32mIn[26], line 2\u001b[0m\n\u001b[0;32m      1\u001b[0m s \u001b[38;5;241m=\u001b[39m {\u001b[38;5;241m1\u001b[39m, \u001b[38;5;241m2\u001b[39m, \u001b[38;5;241m3\u001b[39m, \u001b[38;5;241m4\u001b[39m, \u001b[38;5;241m5\u001b[39m}\n\u001b[1;32m----> 2\u001b[0m \u001b[43ms\u001b[49m\u001b[43m[\u001b[49m\u001b[38;5;241;43m0\u001b[39;49m\u001b[43m]\u001b[49m\n",
      "\u001b[1;31mTypeError\u001b[0m: 'set' object is not subscriptable"
     ]
    }
   ],
   "source": [
    "s = {1, 2, 3, 4, 5}\n",
    "s[0]"
   ]
  },
  {
   "cell_type": "markdown",
   "id": "137bef0c-fcef-4e24-9544-9c8063a1313f",
   "metadata": {},
   "source": [
    "## Set'e Eleman Ekleme:"
   ]
  },
  {
   "cell_type": "markdown",
   "id": "12d68988-e261-45e5-9cc3-a55664fca488",
   "metadata": {},
   "source": [
    "<span style=\"font-family: 'Arial', sans-serif; font-size: 16px;\">Setlere eleman eklemek için `add()` metodunu kullanabiliriz. Eğer eklemek istediğimiz eleman zaten sette bulunuyorsa, set değişmez.</span>"
   ]
  },
  {
   "cell_type": "code",
   "execution_count": 28,
   "id": "d7c9eb03-e260-47da-992b-453bf763f295",
   "metadata": {},
   "outputs": [
    {
     "name": "stdout",
     "output_type": "stream",
     "text": [
      "{1, 2, 3, 4, 5, 6}\n"
     ]
    }
   ],
   "source": [
    "s = {1, 2, 3, 4, 5}\n",
    "s.add(6)  # Yeni eleman ekleyelim\n",
    "print(s)"
   ]
  },
  {
   "cell_type": "markdown",
   "id": "d11aec26-b079-40f7-a927-03668f007b49",
   "metadata": {},
   "source": [
    "<span style=\"font-family: 'Arial', sans-serif; font-size: 16px;\">Bu durumda, 6 elemanı sete eklenir ve set şu şekilde güncellenir: `{1, 2, 3, 4, 5, 6}`.</span>"
   ]
  },
  {
   "cell_type": "markdown",
   "id": "05cef072-bb76-46bb-80ab-9add9366e552",
   "metadata": {},
   "source": [
    "<span style=\"font-family: 'Arial', sans-serif; font-size: 16px;\">**Sette zaten bulunan bir elemanı eklemeye çalışırsak:**</span>"
   ]
  },
  {
   "cell_type": "code",
   "execution_count": 30,
   "id": "9a8e4dd2-0ca3-480c-a022-5000d6ee500d",
   "metadata": {},
   "outputs": [
    {
     "name": "stdout",
     "output_type": "stream",
     "text": [
      "{1, 2, 3, 4, 5}\n"
     ]
    }
   ],
   "source": [
    "s = {1, 2, 3, 4, 5}\n",
    "s.add(5)                          # Zaten var olan bir elemanı ekleyelim\n",
    "print(s)"
   ]
  },
  {
   "cell_type": "markdown",
   "id": "97f66ab3-7523-4d2d-a276-0a3cbfb488e8",
   "metadata": {},
   "source": [
    "<span style=\"font-family: 'Arial', sans-serif; font-size: 16px;\">Bu durumda, sette değişiklik olmaz çünkü setlerde her eleman yalnızca bir kez bulunabilir. Sonuç olarak, set aynı kalır: `{1, 2, 3 ,4, 5}`</span>"
   ]
  },
  {
   "cell_type": "markdown",
   "id": "4d1dffc4-cb80-4bac-b438-8a130c6cb44d",
   "metadata": {},
   "source": [
    "## Set'ten Eleman Silmek:"
   ]
  },
  {
   "cell_type": "markdown",
   "id": "06a5859c-e956-42ca-9cba-0c200339cf27",
   "metadata": {},
   "source": [
    "<span style=\"font-family: 'Arial', sans-serif; font-size: 16px;\">Setlerden eleman silmek için `remove()` veya `discard()` metodları kullanılır.</span>"
   ]
  },
  {
   "cell_type": "code",
   "execution_count": 32,
   "id": "d0f4ece8-e060-4c9e-8c5a-91065fb27d9d",
   "metadata": {},
   "outputs": [
    {
     "name": "stdout",
     "output_type": "stream",
     "text": [
      "{1, 3, 4, 5, 6}\n"
     ]
    }
   ],
   "source": [
    "s = {1, 2, 3, 4, 5, 6}\n",
    "s.remove(2)                               # Bir elemanı silme işlemi\n",
    "print(s)"
   ]
  },
  {
   "cell_type": "markdown",
   "id": "f153c4bb-a8b6-43f0-8bdc-971383a8e8a4",
   "metadata": {},
   "source": [
    "<span style=\"font-family: 'Arial', sans-serif; font-size: 16px;\">Burada, `s` adlı setten 2 elemanı silmeye çalışıyoruz. Bu işlem başarılı olur ve set şu şekilde güncellenir: `{1, 3, 4, 5, 6}`.</span>"
   ]
  },
  {
   "cell_type": "code",
   "execution_count": 34,
   "id": "cc6b89cc-12f2-41ea-8a09-86bae4d28b36",
   "metadata": {},
   "outputs": [
    {
     "ename": "KeyError",
     "evalue": "9",
     "output_type": "error",
     "traceback": [
      "\u001b[1;31m---------------------------------------------------------------------------\u001b[0m",
      "\u001b[1;31mKeyError\u001b[0m                                  Traceback (most recent call last)",
      "Cell \u001b[1;32mIn[34], line 2\u001b[0m\n\u001b[0;32m      1\u001b[0m s \u001b[38;5;241m=\u001b[39m {\u001b[38;5;241m1\u001b[39m, \u001b[38;5;241m2\u001b[39m, \u001b[38;5;241m3\u001b[39m, \u001b[38;5;241m4\u001b[39m, \u001b[38;5;241m5\u001b[39m, \u001b[38;5;241m6\u001b[39m}\n\u001b[1;32m----> 2\u001b[0m \u001b[43ms\u001b[49m\u001b[38;5;241;43m.\u001b[39;49m\u001b[43mremove\u001b[49m\u001b[43m(\u001b[49m\u001b[38;5;241;43m9\u001b[39;49m\u001b[43m)\u001b[49m            \u001b[38;5;66;03m# Sette olmayan bir elemanı silmeye çalışma\u001b[39;00m\n",
      "\u001b[1;31mKeyError\u001b[0m: 9"
     ]
    }
   ],
   "source": [
    "s = {1, 2, 3, 4, 5, 6}\n",
    "s.remove(9)            # Sette olmayan bir elemanı silmeye çalışma"
   ]
  },
  {
   "cell_type": "markdown",
   "id": "17f9880d-1e21-4c0d-ba2f-00075735ab20",
   "metadata": {},
   "source": [
    "<span style=\"font-family: 'Arial', sans-serif; font-size: 16px;\">Setten olmayan bir elemanı `remove()` metoduyla silmeye çalıştığımızda Python bir hata mesajı verir çünkü bu metod, silinmek istenen elemanın sette olup olmadığını kontrol etmez.</span>"
   ]
  },
  {
   "cell_type": "markdown",
   "id": "7f81b371-01dc-484c-9dfd-ea3336513244",
   "metadata": {},
   "source": [
    "## discard():"
   ]
  },
  {
   "cell_type": "code",
   "execution_count": 37,
   "id": "19979f66-17da-4836-880f-cfdc33809859",
   "metadata": {},
   "outputs": [
    {
     "name": "stdout",
     "output_type": "stream",
     "text": [
      "{1, 2, 3, 4, 5, 6}\n"
     ]
    }
   ],
   "source": [
    "s = {1, 2, 3, 4, 5, 6}\n",
    "s.discard(9)\n",
    "print(s)"
   ]
  },
  {
   "cell_type": "markdown",
   "id": "83da7cb8-d9c4-4388-9d86-440e783fc4db",
   "metadata": {},
   "source": [
    "<span style=\"font-family: 'Arial', sans-serif; font-size: 16px;\">`discard()` metodunu kullanarak bir setten eleman silerken, eğer silmek istediğimiz eleman sette bulunmazsa herhangi bir hata almayız ve set değişmez. Bu yöntem, silmek istediğimiz elemanın sette olup olmadığını kontrol etmeden elemanı silmeye çalışır. Bu sayede, sette bulunmayan bir elemanı silmeye çalışırken programın hata vermesini önler.</span>"
   ]
  },
  {
   "cell_type": "code",
   "execution_count": 43,
   "id": "bbd05ab3-f4b8-4d99-adda-2c91a722302f",
   "metadata": {},
   "outputs": [
    {
     "name": "stdout",
     "output_type": "stream",
     "text": [
      "{1, 3, 4, 5, 6}\n"
     ]
    }
   ],
   "source": [
    "s = {1, 3, 4, 5, 6}\n",
    "s.add(9)                         #  Sete 10 elemanı ekleyelim\n",
    "s = {1, 3, 4, 5, 6, 9}\n",
    "s.discard(9)                     #  Setten 9 elemanını silmeye çalışalım\n",
    "print(s)"
   ]
  },
  {
   "cell_type": "markdown",
   "id": "89b45cb8-8da0-4831-a972-58d1bffb35d2",
   "metadata": {},
   "source": [
    "<span style=\"font-family: 'Arial', sans-serif; font-size: 16px;\"></span>"
   ]
  },
  {
   "cell_type": "markdown",
   "id": "c0c1b170-e559-48dd-b69f-91d9b3b53e45",
   "metadata": {},
   "source": [
    "<span style=\"font-family: 'Arial', sans-serif; font-size: 16px;\"></span>"
   ]
  },
  {
   "cell_type": "markdown",
   "id": "a352679a-0f9e-4158-be0b-018b50c204e0",
   "metadata": {},
   "source": [
    "<span style=\"font-family: 'Arial', sans-serif; font-size: 16px;\"></span>"
   ]
  },
  {
   "cell_type": "markdown",
   "id": "99a84a36-0a1a-4470-9c2b-2721ae6d6ed0",
   "metadata": {},
   "source": [
    "## Kümeler Arasındaki Farkın Bulunması:"
   ]
  },
  {
   "cell_type": "markdown",
   "id": "0d05f6c7-3e13-40ca-be71-43bb94dab3d7",
   "metadata": {},
   "source": [
    "<span style=\"font-family: 'Arial', sans-serif; font-size: 16px;\">Kümeler arasındaki fark, iki küme arasındaki eleman farkını ifade eder. Özellikle Python'da, bu farkı bulmak için iki farklı yöntem kullanılır: `difference()` metodu ve `-` operatörü.</span>"
   ]
  },
  {
   "cell_type": "code",
   "execution_count": 2,
   "id": "83ded077-521a-424c-a686-5c1aa50dca3d",
   "metadata": {},
   "outputs": [],
   "source": [
    "s1 = set([1, 5, 10])\n",
    "s2 = set([2, 5, 3])"
   ]
  },
  {
   "cell_type": "markdown",
   "id": "c5c85a02-45a1-46d0-97fe-20bcc29fa6e2",
   "metadata": {},
   "source": [
    "<span style=\"font-family: 'Arial', sans-serif; font-size: 16px;\">**Şimdi, s1 kümesinin s2 kümesinden farkını bulalım:**</span>"
   ]
  },
  {
   "cell_type": "code",
   "execution_count": 3,
   "id": "75a2c4f1-b793-4ae5-91eb-104afd72c0c8",
   "metadata": {},
   "outputs": [
    {
     "data": {
      "text/plain": [
       "{1, 10}"
      ]
     },
     "execution_count": 3,
     "metadata": {},
     "output_type": "execute_result"
    }
   ],
   "source": [
    "s1.difference(s2)"
   ]
  },
  {
   "cell_type": "code",
   "execution_count": 4,
   "id": "96edd609-c872-4395-a355-af2cdfaf6b8c",
   "metadata": {},
   "outputs": [
    {
     "data": {
      "text/plain": [
       "{1, 10}"
      ]
     },
     "execution_count": 4,
     "metadata": {},
     "output_type": "execute_result"
    }
   ],
   "source": [
    "s1 - s2"
   ]
  },
  {
   "cell_type": "markdown",
   "id": "5784586f-6b8e-4a47-a657-05c0239a9b29",
   "metadata": {},
   "source": [
    "<span style=\"font-family: 'Arial', sans-serif; font-size: 16px;\">`difference()` metodu ve `-` operatörü, `s2` kümesinde olan ancak `s1` kümesinde olmayan elemanları bulmamızı sağlar</span>"
   ]
  },
  {
   "cell_type": "markdown",
   "id": "f0478466-b195-48a0-91fb-b9eda962ce4a",
   "metadata": {},
   "source": [
    "<span style=\"font-family: 'Arial', sans-serif; font-size: 16px;\">**Şimdi, s2 kümesinin s1 kümesinden farkını bulalım:**</span>"
   ]
  },
  {
   "cell_type": "code",
   "execution_count": 5,
   "id": "e0f72bd8-8308-419d-8359-d7851d2b6809",
   "metadata": {},
   "outputs": [
    {
     "data": {
      "text/plain": [
       "{2, 3}"
      ]
     },
     "execution_count": 5,
     "metadata": {},
     "output_type": "execute_result"
    }
   ],
   "source": [
    "s2.difference(s1)"
   ]
  },
  {
   "cell_type": "code",
   "execution_count": 6,
   "id": "18769591-c9a3-4675-a7b5-07e2572a47f5",
   "metadata": {},
   "outputs": [
    {
     "data": {
      "text/plain": [
       "{2, 3}"
      ]
     },
     "execution_count": 6,
     "metadata": {},
     "output_type": "execute_result"
    }
   ],
   "source": [
    "s2 - s1"
   ]
  },
  {
   "cell_type": "markdown",
   "id": "49105895-3caa-4a16-ab27-1c3613dfbfde",
   "metadata": {},
   "source": [
    "<span style=\"font-family: 'Arial', sans-serif; font-size: 16px;\">Özetle, kümeler arasındaki farkı bulmak, birinci kümenin tüm elemanlarından ikinci kümenin elemanlarını çıkarmak anlamına gelir. Bu işlem, iki kümenin kesişim değerini asıl kümesinden çıkarmak olarak da ifade edilir.</span>"
   ]
  },
  {
   "cell_type": "markdown",
   "id": "f15697b2-ac7a-4c0a-a4fe-600ee1f74711",
   "metadata": {},
   "source": [
    "## Symmetric Difference (Simetrik Fark):"
   ]
  },
  {
   "cell_type": "markdown",
   "id": "054a762c-53ca-4bf0-964c-8a487868dc2c",
   "metadata": {},
   "source": [
    "<span style=\"font-family: 'Arial', sans-serif; font-size: 16px;\">Simetrik fark, iki kümenin birbirinden farkını alıp bu farkları birleştirmek demektir. Yani, her iki kümede bulunmayan elemanların toplamını bulur. Matematiksel olarak ifade edilirse, \n",
    "`(s1∖s2)∪(s2∖s1)` şeklinde gösterilir.</span>"
   ]
  },
  {
   "cell_type": "code",
   "execution_count": null,
   "id": "cc63edb8-e299-43e6-90de-1a3c16253006",
   "metadata": {},
   "outputs": [],
   "source": [
    "s1={1,5,10}"
   ]
  },
  {
   "cell_type": "code",
   "execution_count": null,
   "id": "7c9852c2-ac65-4705-aaae-be5a3eb9d2a7",
   "metadata": {},
   "outputs": [],
   "source": [
    "s2={2,3,5}"
   ]
  },
  {
   "cell_type": "markdown",
   "id": "d08dc4ab-6278-465c-b403-d8ec17ece2ea",
   "metadata": {},
   "source": [
    "<span style=\"font-family: 'Arial', sans-serif; font-size: 16px;\">Bu kümelere simetrik fark uyguladığımızda, `(s1∖s2)∪(s2∖s1)` sonucunda elde edilen küme: `{1,2,3,10}`</span>"
   ]
  },
  {
   "cell_type": "markdown",
   "id": "798d5d57-444b-43dc-b68f-7d624735df72",
   "metadata": {},
   "source": [
    "<span style=\"font-family: 'Arial', sans-serif; font-size: 16px;\">Python'da, bu işlemi gerçekleştirmek için `symmetric_difference()` metodu kullanılır. Bu metod, iki kümenin simetrik farkını alır ve sonucu yeni bir küme olarak döndürür.</span>"
   ]
  },
  {
   "cell_type": "code",
   "execution_count": 9,
   "id": "25ac6337-7db8-442d-9eda-f9f51dab94d8",
   "metadata": {},
   "outputs": [
    {
     "name": "stdout",
     "output_type": "stream",
     "text": [
      "s1'in s2'den simetrik farkı: {1, 2, 3, 10}\n",
      "s2'nin s1'den simetrik farkı: {1, 2, 3, 10}\n"
     ]
    }
   ],
   "source": [
    "result1 = s1.symmetric_difference(s2)            # s1'in s2'den simetrik farkı\n",
    "result2 = s2.symmetric_difference(s1)            # s2'nin s1'den simetrik farkı\n",
    "\n",
    "print(\"s1'in s2'den simetrik farkı:\", result1)\n",
    "print(\"s2'nin s1'den simetrik farkı:\", result2)"
   ]
  },
  {
   "cell_type": "markdown",
   "id": "f9bf8f24-d4a0-4803-aab9-dc1705a8f651",
   "metadata": {},
   "source": [
    "<div style=\"float: right; background-color: #333; padding: 5px; border: 1px solid #ccc; height: 100x; width: 600px;\">\n",
    "    <h3 style=\"color: #c0c0c0;\">Not Kutusu</h3>\n",
    "    <p style=\"font-family: 'Arial' sans-serif; font-size: 14px; color: #ffffff;\"> <strong>(s2 \\ s1) U (s1 \\ s2) </strong> ile <strong> (s1 \\ s2) U (s2 \\ s1)</strong> aynıdır. Aynı şekilde,  <strong>s2.symmetric_difference(s1)</strong> ile <strong>s1.symmetric_difference(s2)</strong> de aynı sonucu verir.  Bu ifadeler, iki kümenin simetrik farkının sıralamasının önemli olmadığını ve simetrik fark işleminin iki küme arasında dönüşümlü olduğunu gösterir.\n",
    "    </p>\n",
    "</div>"
   ]
  },
  {
   "cell_type": "markdown",
   "id": "51c50528-e4d3-4cb3-9b2b-32b1aa0fd2eb",
   "metadata": {},
   "source": [
    "## Kesişim (Intersection):"
   ]
  },
  {
   "cell_type": "markdown",
   "id": "2c23c261-6407-429d-94fa-cd534b90abdb",
   "metadata": {},
   "source": [
    "<span style=\"font-family: 'Arial', sans-serif; font-size: 16px;\">Kesişim, iki kümenin ortak elemanlarını bulmak için kullanılan bir işlemdir. Yani, her iki kümede de bulunan elemanların kümesini oluşturur.</span>"
   ]
  },
  {
   "cell_type": "code",
   "execution_count": 10,
   "id": "1fdfd5cc-1505-4af1-8fe8-4f8d5f7dc244",
   "metadata": {},
   "outputs": [],
   "source": [
    "s1={1,5,10}\n",
    "s2={2,3,5}"
   ]
  },
  {
   "cell_type": "markdown",
   "id": "4f6ac594-d7c5-42cf-a9d6-0ec3d37ba740",
   "metadata": {},
   "source": [
    "<span style=\"font-family: 'Arial', sans-serif; font-size: 16px;\">Bu kümelere kesişim işlemi uyguladığımızda, `s1∩s2={5}` şeklinde bir sonuç elde ederiz.</span>"
   ]
  },
  {
   "cell_type": "markdown",
   "id": "28bf6ad4-91d1-46c0-b610-c74874a97e85",
   "metadata": {},
   "source": [
    "<span style=\"font-family: 'Arial', sans-serif; font-size: 16px;\">Python'da, bu işlemi gerçekleştirmek için `intersection()` metodu veya `&` operatörü kullanılır. Bu yöntemler, iki kümenin kesişimini bulur ve ortak elemanlardan oluşan yeni bir küme döndürür.</span>"
   ]
  },
  {
   "cell_type": "code",
   "execution_count": 13,
   "id": "e0d96b2e-8245-4108-8d67-201121316833",
   "metadata": {},
   "outputs": [
    {
     "name": "stdout",
     "output_type": "stream",
     "text": [
      "{5}\n",
      "{5}\n",
      "{5}\n"
     ]
    }
   ],
   "source": [
    "intersection_result_1 = s1.intersection(s2)\n",
    "\n",
    "intersection_result_2 = s1.intersection(s2)             # ifadenin sıralamasının bir önemi yok!\n",
    "\n",
    "intersection_result_3 = s1 & s2\n",
    "\n",
    "print(intersection_result_1)\n",
    "print(intersection_result_2)\n",
    "print(intersection_result_3)"
   ]
  },
  {
   "cell_type": "markdown",
   "id": "ff86f592-10a7-4b87-8e57-54105c9d4af5",
   "metadata": {},
   "source": [
    "<span style=\"font-family: 'Arial', sans-serif; font-size: 16px;\">**intersection_update() metodu:**</span>"
   ]
  },
  {
   "cell_type": "markdown",
   "id": "33a93801-58b6-4b4f-9d7b-ddd2c789bb77",
   "metadata": {},
   "source": [
    "<span style=\"font-family: 'Arial', sans-serif; font-size: 16px;\"> `intersection_update()` metodu, birinci kümenin diğer küme ile olan kesişimini bulur ve birinci kümenin içeriğini bu kesişimle günceller. Yani, birinci kümenin sadece diğer küme ile ortak olan elemanları içerecek şekilde değiştirir. Bu metod, birinci kümenin içeriğini doğrudan değiştirir, yeni bir küme döndürmez</span>"
   ]
  },
  {
   "cell_type": "code",
   "execution_count": 16,
   "id": "bb7048c3-6dc2-445e-8f2d-9299b02ef400",
   "metadata": {},
   "outputs": [
    {
     "name": "stdout",
     "output_type": "stream",
     "text": [
      "{5}\n"
     ]
    }
   ],
   "source": [
    "s2.intersection_update(s1)\n",
    "print(s2)"
   ]
  },
  {
   "cell_type": "code",
   "execution_count": 17,
   "id": "db3e806c-3bfb-47eb-b5e1-5314a6348e94",
   "metadata": {},
   "outputs": [
    {
     "name": "stdout",
     "output_type": "stream",
     "text": [
      "{1, 10, 5}\n"
     ]
    }
   ],
   "source": [
    "print(s1)"
   ]
  },
  {
   "cell_type": "markdown",
   "id": "17824b5c-4d1b-45d6-aaf2-85fc7813d85b",
   "metadata": {},
   "source": [
    "<span style=\"font-family: 'Arial', sans-serif; font-size: 16px;\"> Sonuç olarak, güncellenmiş s2 kümesi ekrana yazdırılır ve s1 'de herhangi bir değişiklik olmaz.</span>"
   ]
  },
  {
   "cell_type": "markdown",
   "id": "61527df4-c7c2-4714-923f-678b66105d4c",
   "metadata": {},
   "source": [
    "## Birleşim (Union):"
   ]
  },
  {
   "cell_type": "markdown",
   "id": "a0257e2c-728c-4874-ba56-aa9a62830b63",
   "metadata": {},
   "source": [
    "<span style=\"font-family: 'Arial', sans-serif; font-size: 16px;\">Birleşim (Union), iki kümenin tüm elemanlarını içeren yeni bir küme oluşturur. Her iki kümenin elemanlarını bir araya getirirken, tekrar eden elemanları sadece bir kez alır. </span>"
   ]
  },
  {
   "cell_type": "code",
   "execution_count": null,
   "id": "3ddc4203-0ed6-46f7-bfcb-e622ec56ff47",
   "metadata": {},
   "outputs": [],
   "source": [
    "s1={1,5,10}\n",
    "s2={2,3,5}"
   ]
  },
  {
   "cell_type": "markdown",
   "id": "6d704649-f518-4c5f-9731-dc8ad41e721a",
   "metadata": {},
   "source": [
    "<span style=\"font-family: 'Arial', sans-serif; font-size: 16px;\">Bu kümelere birleşim işlemi uyguladığımızda, `s1∪s2={1,2,3,5,10}` şeklinde bir sonuç elde ederiz. Görebileceğiniz gibi,`5` elemanı iki kere yazılmaz çünkü birleşimde her eleman sadece bir kez bulunur.</span>"
   ]
  },
  {
   "cell_type": "markdown",
   "id": "c76b89dc-d327-48fa-9610-dc32ee30c054",
   "metadata": {},
   "source": [
    "<span style=\"font-family: 'Arial', sans-serif; font-size: 16px;\">Python'da, bu işlemi gerçekleştirmek için `union()` metodu kullanılır. Bu metod, iki kümenin birleşimini oluşturur ve yeni bir küme olarak döndürür. Ayrıca, küme üzerinde yapılan birleşim işlemi, orijinal kümeyi değiştirmez, sadece yeni bir birleşim kümesi oluşturur.</span>"
   ]
  },
  {
   "cell_type": "code",
   "execution_count": 21,
   "id": "eee60146-b43c-4344-80fe-7458009a03ab",
   "metadata": {},
   "outputs": [
    {
     "name": "stdout",
     "output_type": "stream",
     "text": [
      "s1 ve s2 kümesinin birleşimi: {1, 2, 3, 5, 10}\n",
      "Orijinal s1 kümesi: {1, 10, 5}\n",
      "Orijinal s2 kümesi: {2, 3, 5}\n"
     ]
    }
   ],
   "source": [
    "s1={1,5,10}\n",
    "s2={2,3,5}\n",
    "\n",
    "union_result = s1.union(s2)\n",
    "\n",
    "print(\"s1 ve s2 kümesinin birleşimi:\", union_result)\n",
    "print(\"Orijinal s1 kümesi:\", s1)\n",
    "print(\"Orijinal s2 kümesi:\", s2)"
   ]
  },
  {
   "cell_type": "markdown",
   "id": "cdc60098-1721-4722-a856-e806824dd373",
   "metadata": {},
   "source": [
    "## Disjoint Sets (Ayrık Kümeler):"
   ]
  },
  {
   "cell_type": "markdown",
   "id": "a30d377d-39dd-4c1a-b95e-138693dbbd43",
   "metadata": {},
   "source": [
    "<span style=\"font-family: 'Arial', sans-serif; font-size: 16px;\">Ayrık kümeler, hiçbir ortak elemanı olmayan kümelerdir. Yani, iki kümenin kesişimi boş kümedir. </span>"
   ]
  },
  {
   "cell_type": "markdown",
   "id": "d05ebc4b-fdd9-4db1-b712-8a7db0c7110e",
   "metadata": {},
   "source": [
    "<span style=\"font-family: 'Arial', sans-serif; font-size: 16px;\">**Örnek:**</span>"
   ]
  },
  {
   "cell_type": "markdown",
   "id": "eeca5e55-b853-481b-a7e8-0b0f89299101",
   "metadata": {},
   "source": [
    "<span style=\"font-family: 'Arial', sans-serif; font-size: 16px;\">Diyelim ki bir sınıfta iki farklı ders alan öğrencilerin numaralarını temsil eden iki kümemiz var. Bir kümede Matematik dersi alan öğrencilerin numaraları, diğer kümede ise Fen Bilgisi dersi alan öğrencilerin numaraları bulunmaktadır.</span>"
   ]
  },
  {
   "cell_type": "code",
   "execution_count": 23,
   "id": "7c243a0b-3111-42c7-bc61-9c8df2b59730",
   "metadata": {},
   "outputs": [
    {
     "name": "stdout",
     "output_type": "stream",
     "text": [
      "s1 ve s2 kümeleri ayrık mı? False\n"
     ]
    }
   ],
   "source": [
    "s1={101,105,110}             # (Matematik dersi alan öğrencilerin numaraları)\n",
    "\n",
    "s2={102,103,105}             # (Fen Bilgisi dersi alan öğrencilerin numaraları)\n",
    "\n",
    "print(\"s1 ve s2 kümeleri ayrık mı?\", s1.isdisjoint(s2))"
   ]
  },
  {
   "cell_type": "markdown",
   "id": "58339810-74a3-4a2b-920b-ada511d79e96",
   "metadata": {},
   "source": [
    "<span style=\"font-family: 'Arial', sans-serif; font-size: 16px;\">Yani, 105 nuaralı öğrencinin hem Matamatik hem de Fen bigisi dersi aldığını gösterir. Kısaca, kesişim elemanları var ve ayrık değildir</span>"
   ]
  },
  {
   "cell_type": "markdown",
   "id": "00af0254-f110-4461-aabe-67606489a22c",
   "metadata": {},
   "source": [
    "<div style=\"float: right; background-color: #333; padding: 5px; border: 1px solid #ccc; height: 100x; width: 600px;\">\n",
    "    <h3 style=\"color: #c0c0c0;\">Not Kutusu</h3>\n",
    "    <p style=\"font-family: 'Arial' sans-serif; font-size: 14px; color: #ffffff;\">\n",
    "        <strong> s1.isdisjoint(s2)</strong> ifadesi,  <strong>s1</strong> ve  <strong>s2</strong> kümelerinin ayrık olup olmadığını kontrol eder. Bu ifade, eğer kümeler ayrıksa  <strong>True</strong> değerini, aksi halde False</strong> değerini döndürür.\n",
    "<br/>\n",
    " <strong>len(s1.intersection(s2)) == 0 </strong>ifadesi ise  <strong>s1</strong> ve  <strong>s2</strong> kümelerinin kesişimine bakar ve kesişim sonucunun boş küme olup olmadığını kontrol eder. Eğer kesişim boş ise, yani hiç ortak eleman yoksa, bu ifade  <strong>True</strong> değerini döndürür. Aksi halde, yani kümelerin ortak elemanları varsa, bu ifade  <strong>False</strong> değerini döndürür.\n",
    "<br/>\n",
    "Dolayısıyla, <strong>s1.isdisjoint(s2)</strong> ve <strong>len(s1.intersection(s2)) == 0 </strong>ifadeleri aynı sonucu verir. İkisi de <strong>s1</strong> ve <strong>s2</strong> kümelerinin ayrık olup olmadığını kontrol eder.\n",
    "    </p>\n",
    "</div>\n",
    "    </p>\n",
    "</div>"
   ]
  },
  {
   "cell_type": "markdown",
   "id": "7b4f4142-7d89-419d-9de1-545e5452a16a",
   "metadata": {},
   "source": [
    "## Alt küme (Subset):"
   ]
  },
  {
   "cell_type": "markdown",
   "id": "e6d1ae06-db41-4035-8373-bf0836185dcd",
   "metadata": {},
   "source": [
    "<span style=\"font-family: 'Arial', sans-serif; font-size: 16px;\">Alt küme (Subset) kavramı, bir kümenin başka bir kümenin içinde tamamen ya da kısmen bulunması durumunu ifade eder.</span>"
   ]
  },
  {
   "cell_type": "code",
   "execution_count": 26,
   "id": "1914ebdb-d831-41d1-b303-f1017f71abd1",
   "metadata": {},
   "outputs": [
    {
     "data": {
      "text/plain": [
       "False"
      ]
     },
     "execution_count": 26,
     "metadata": {},
     "output_type": "execute_result"
    }
   ],
   "source": [
    "s1={1,5,10}\n",
    "\n",
    "s2={2,3,5}\n",
    "\n",
    "s3={2,5}\n",
    "\n",
    "s1.issubset(s2) "
   ]
  },
  {
   "cell_type": "markdown",
   "id": "8935aec2-72cf-478f-9be3-d5bc56f3b2cf",
   "metadata": {},
   "source": [
    "<span style=\"font-family: 'Arial', sans-serif; font-size: 16px;\">Burada, \n",
    "`s1 ve 𝑠2`  kümesi elemanları birbirinden farklıdır.  Dolayısıyla, `s1` `s2` kümesinin alt kümesi değildir.  cevap : `False`</span>"
   ]
  },
  {
   "cell_type": "code",
   "execution_count": 27,
   "id": "1af0c478-5994-4cd4-9d29-1d77c83f2c7e",
   "metadata": {},
   "outputs": [
    {
     "data": {
      "text/plain": [
       "True"
      ]
     },
     "execution_count": 27,
     "metadata": {},
     "output_type": "execute_result"
    }
   ],
   "source": [
    "s3.issubset(s2) "
   ]
  },
  {
   "cell_type": "markdown",
   "id": "60f33758-aa7c-475d-a37f-2691e86d7c56",
   "metadata": {},
   "source": [
    "<span style=\"font-family: 'Arial', sans-serif; font-size: 16px;\">`s3` kümesi, `s2` kümesinin alt kümesidir çünkü `s3`, `s2` kümesinde tamamen yer almaktadır. cevap: True</span>"
   ]
  },
  {
   "cell_type": "markdown",
   "id": "b4b34598-5bbb-465c-98f0-7f3a79b74c60",
   "metadata": {},
   "source": [
    "## Superset (üst küme)"
   ]
  },
  {
   "cell_type": "markdown",
   "id": "de0fd5c0-5890-4662-86d4-37e8858e3229",
   "metadata": {},
   "source": [
    "<span style=\"font-family: 'Arial', sans-serif; font-size: 16px;\">Üst küme (Superset) kavramı, bir kümenin başka bir kümenin içinde tamamen ya da kısmen bulunması durumunu ifade eder</span>"
   ]
  },
  {
   "cell_type": "code",
   "execution_count": 29,
   "id": "786e0c9a-c015-41d2-aab7-1924e3f92502",
   "metadata": {},
   "outputs": [
    {
     "data": {
      "text/plain": [
       "True"
      ]
     },
     "execution_count": 29,
     "metadata": {},
     "output_type": "execute_result"
    }
   ],
   "source": [
    "s2={2,3,5}\n",
    "s3={2,5}\n",
    "\n",
    "s2.issuperset(s3) "
   ]
  },
  {
   "cell_type": "markdown",
   "id": "ab43e7ef-4f12-474a-8563-0c99c8acc8b7",
   "metadata": {},
   "source": [
    "<span style=\"font-family: 'Arial', sans-serif; font-size: 16px;\">Burada, `s2` kümesi, `s3` kümesinin üst kümesidir. Bu yüzden cevap: `True`</span>"
   ]
  }
 ],
 "metadata": {
  "kernelspec": {
   "display_name": "Python 3 (ipykernel)",
   "language": "python",
   "name": "python3"
  },
  "language_info": {
   "codemirror_mode": {
    "name": "ipython",
    "version": 3
   },
   "file_extension": ".py",
   "mimetype": "text/x-python",
   "name": "python",
   "nbconvert_exporter": "python",
   "pygments_lexer": "ipython3",
   "version": "3.12.3"
  }
 },
 "nbformat": 4,
 "nbformat_minor": 5
}
