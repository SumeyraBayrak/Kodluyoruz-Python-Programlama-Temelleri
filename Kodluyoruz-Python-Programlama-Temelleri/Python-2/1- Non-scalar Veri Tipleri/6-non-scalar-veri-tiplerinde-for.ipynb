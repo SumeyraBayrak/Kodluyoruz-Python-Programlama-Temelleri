{
 "cells": [
  {
   "cell_type": "markdown",
   "id": "d05baaa2-f9e1-4597-94e5-ebbc522cd965",
   "metadata": {},
   "source": [
    "# Non-Scalar Veri Tiplerinde (for) Döngüsü:"
   ]
  },
  {
   "cell_type": "markdown",
   "id": "e8f75d90-46fc-42ba-9b59-9a7bdd703f87",
   "metadata": {},
   "source": [
    "<span style=\"font-family: 'Arial', sans-serif; font-size: 16px;\">Python'da, `for` döngüsü kullanarak non-scalar veri tiplerinde, yani listelerde, tuple'larda ve sözlüklerde iterasyon yapabiliriz. Bu döngüler, veri yapısındaki her bir elemanı tek tek dolaşmamızı sağlar. </span>"
   ]
  },
  {
   "cell_type": "markdown",
   "id": "c0fb70c8-67e9-4166-9d03-d32d4863e640",
   "metadata": {},
   "source": [
    "## Listelerde İterasyon:"
   ]
  },
  {
   "cell_type": "markdown",
   "id": "46d56ffe-3da6-4922-bdbc-135cae676cb3",
   "metadata": {},
   "source": [
    "<span style=\"font-family: 'Arial', sans-serif; font-size: 16px;\">**1.Adım:**</span>"
   ]
  },
  {
   "cell_type": "markdown",
   "id": "8f322b65-d2ef-4a74-a468-4a15d1c3cd7f",
   "metadata": {},
   "source": [
    "<span style=\"font-family: 'Arial', sans-serif; font-size: 16px;\">İlk adımda, öğrencilerin notlarını bir liste içinde saklamak için notlar adında bir liste oluşturuyoruz.</span>"
   ]
  },
  {
   "cell_type": "code",
   "execution_count": 2,
   "id": "618271eb-995c-4b8b-b209-1bc80c93b75a",
   "metadata": {},
   "outputs": [],
   "source": [
    "notlar = [90, 72, 81, 77]"
   ]
  },
  {
   "cell_type": "markdown",
   "id": "7c2728e7-4644-4832-86f6-8a5bbe281c86",
   "metadata": {},
   "source": [
    "<span style=\"font-family: 'Arial', sans-serif; font-size: 16px;\">**2.Adım:**</span>"
   ]
  },
  {
   "cell_type": "markdown",
   "id": "b685b72e-dafb-4a82-bb1e-2b90264bfd92",
   "metadata": {},
   "source": [
    "<span style=\"font-family: 'Arial', sans-serif; font-size: 16px;\">Şimdi, `for` döngüsünü kullanarak her bir notu tek tek ekrana yazdıralım. `for e in notlar:` ifadesiyle, notlar listesindeki her eleman `e` değişkenine sırayla atanır.</span>"
   ]
  },
  {
   "cell_type": "code",
   "execution_count": 3,
   "id": "6e8f4d52-771c-4c20-9daa-3b617c643f8c",
   "metadata": {},
   "outputs": [
    {
     "name": "stdout",
     "output_type": "stream",
     "text": [
      "90\n",
      "72\n",
      "81\n",
      "77\n"
     ]
    }
   ],
   "source": [
    "for e in notlar:\n",
    "    print(e)"
   ]
  },
  {
   "cell_type": "markdown",
   "id": "6e66b641-f219-457b-add8-74872280bf6b",
   "metadata": {},
   "source": [
    "<span style=\"font-family: 'Arial', sans-serif; font-size: 16px;\">**3.Adım:**</span>"
   ]
  },
  {
   "cell_type": "markdown",
   "id": "6f9c7566-4e98-4a6b-8828-3cf83e8c470e",
   "metadata": {},
   "source": [
    "<span style=\"font-family: 'Arial', sans-serif; font-size: 16px;\">Sonrasında, notların toplamını hesaplayıp ortalamasını bulmak için bir döngü daha kullanıyoruz. Her bir notu toplam değişkenine ekleyip, toplamı listenin uzunluğuna bölerek ortalamayı buluyoruz.</span>"
   ]
  },
  {
   "cell_type": "code",
   "execution_count": 4,
   "id": "5c0784c1-e6ea-4343-880d-981ae6502262",
   "metadata": {},
   "outputs": [
    {
     "name": "stdout",
     "output_type": "stream",
     "text": [
      "Ortalama: 80.0\n"
     ]
    }
   ],
   "source": [
    "t = 0\n",
    "for e in notlar:\n",
    "    t += e                       # her iterate 'de toplam değerine e değişkeni eklenir \n",
    "\n",
    "ortalama = t / len(notlar)\n",
    "print(\"Ortalama:\", ortalama)"
   ]
  },
  {
   "cell_type": "markdown",
   "id": "4e324b9d-c57a-4c27-9d46-1e82cbe27069",
   "metadata": {},
   "source": [
    "<span style=\"font-family: 'Arial', sans-serif; font-size: 16px;\">**range() Fonksiyonu İle Iterasyon:**</span>"
   ]
  },
  {
   "cell_type": "markdown",
   "id": "510d45de-d4fd-4910-a5e0-32e3e75023f2",
   "metadata": {},
   "source": [
    "<span style=\"font-family: 'Arial', sans-serif; font-size: 16px;\">`range()` fonksiyonu, belirli bir aralıktaki sayılar üzerinde iterasyon yapmamızı sağlar.</span>"
   ]
  },
  {
   "cell_type": "code",
   "execution_count": 6,
   "id": "b0f229ce-d2f5-4c4f-8eba-278a41a6dea3",
   "metadata": {},
   "outputs": [
    {
     "name": "stdout",
     "output_type": "stream",
     "text": [
      "Iterasyon:  0\n",
      "Iterasyon:  1\n",
      "Iterasyon:  2\n",
      "Iterasyon:  3\n"
     ]
    }
   ],
   "source": [
    "for i in range(4):\n",
    "    print(\"Iterasyon: \", i)"
   ]
  },
  {
   "cell_type": "markdown",
   "id": "61194e97-7ce1-4947-bce5-946a3fb5dfce",
   "metadata": {},
   "source": [
    "<span style=\"font-family: 'Arial', sans-serif; font-size: 16px;\">Bu döngü, `0`'dan `3`'e kadar olan sayılar üzerinde iterasyon yapar ve her bir iterasyonda `i` değişkenine sıradaki sayı atanır.</span>"
   ]
  },
  {
   "cell_type": "markdown",
   "id": "2986939d-57dc-4787-85ab-87f866613ae4",
   "metadata": {},
   "source": [
    "<span style=\"font-family: 'Arial', sans-serif; font-size: 16px;\">**Indexleme ile Değerlere Ulaşma:**</span>"
   ]
  },
  {
   "cell_type": "markdown",
   "id": "054ddb70-72c4-4726-9996-00539691e716",
   "metadata": {},
   "source": [
    "<span style=\"font-family: 'Arial', sans-serif; font-size: 16px;\">`range(len(notlar))` ifadesi, `0`'dan `len(notlar) - 1` kadar olan sayılar arasında bir aralık oluşturur. Bu sayılar, listenin indexleriyle örtüşür. Dolayısıyla, bu indexler üzerinde iterasyon yaparak, listenin her bir elemanına erişebiliriz.</span>"
   ]
  },
  {
   "cell_type": "code",
   "execution_count": 8,
   "id": "75b1020b-80cf-4aa1-836a-bcffe1b074e1",
   "metadata": {},
   "outputs": [
    {
     "name": "stdout",
     "output_type": "stream",
     "text": [
      "Ortalama: 80.0\n"
     ]
    }
   ],
   "source": [
    "t = 0\n",
    "for i in range(len(notlar)):\n",
    "    t += notlar[i]                              # her iterate 'de notlar'ın elemanları sırasıyla toplam değeine atanır\n",
    "\n",
    "ortalama = t / len(notlar)\n",
    "\n",
    "print(\"Ortalama:\", ortalama)"
   ]
  },
  {
   "cell_type": "markdown",
   "id": "36745705-9f48-422f-9cde-a0b6d6b0a86b",
   "metadata": {},
   "source": [
    "<span style=\"font-family: 'Arial', sans-serif; font-size: 16px;\">Bu döngüde, her bir index değeri `ì` değişkenine atanır ve bu index üzerinden listenin elemanlarına erişilir. Her bir eleman toplam değişkenine eklenir ve sonra notların ortalaması hesaplanır.</span>"
   ]
  },
  {
   "cell_type": "markdown",
   "id": "5196ae7b-f109-4a7a-808b-25d47d6ad85b",
   "metadata": {},
   "source": [
    "## Hadi Örnek Yapalımmm:"
   ]
  },
  {
   "cell_type": "markdown",
   "id": "22f69805-57d7-4259-a6bf-f260f291c987",
   "metadata": {},
   "source": [
    "<span style=\"font-family: 'Arial', sans-serif; font-size: 16px;\">Diyelim ki öğretmen farketti ki herkese 5 puan az vermiş, herkesin puanını 5 arttırmak istiyor, bunu direkt listenin elemanlarında iterasyon yaparak yapamam. Listenin indexlerine erişip o değeri güncellemem lazım.</span>"
   ]
  },
  {
   "cell_type": "code",
   "execution_count": 10,
   "id": "5b5e7a7a-660f-41b0-b3d6-582d4cbeeba7",
   "metadata": {},
   "outputs": [
    {
     "name": "stdout",
     "output_type": "stream",
     "text": [
      "90\n",
      "72\n",
      "81\n",
      "77\n"
     ]
    }
   ],
   "source": [
    "notlar = [90, 72, 81, 77]\n",
    "\n",
    "for e in notlar:\n",
    "    print(e)"
   ]
  },
  {
   "cell_type": "markdown",
   "id": "b8838d5f-5350-4076-9fdc-a87f7f8c8f40",
   "metadata": {},
   "source": [
    "<span style=\"font-family: 'Arial', sans-serif; font-size: 16px;\">!! Bu ifade, döngü içindeki `e` değişkeninin sadece listenin o anki elemanını temsil ettiğini ve asıl listenin elemanlarını değiştirmediğini belirtir.</span>"
   ]
  },
  {
   "cell_type": "code",
   "execution_count": 11,
   "id": "72c5b2af-870d-4bed-b888-213d18e45407",
   "metadata": {},
   "outputs": [
    {
     "name": "stdout",
     "output_type": "stream",
     "text": [
      "90\n",
      "100\n",
      "[90, 72, 81, 77]\n",
      "--------------\n",
      "72\n",
      "82\n",
      "[90, 72, 81, 77]\n",
      "--------------\n",
      "81\n",
      "91\n",
      "[90, 72, 81, 77]\n",
      "--------------\n",
      "77\n",
      "87\n",
      "[90, 72, 81, 77]\n",
      "--------------\n"
     ]
    }
   ],
   "source": [
    "for e in notlar:\n",
    "    \n",
    "    print(e)                     # Bu satırda, o anki elemanın değerini ekrana yazdırıyoruz.\n",
    "    \n",
    "    e = e + 10                   # Bu satırda, o anki elemanın değerine 10 ekleyerek değişkeni güncelliyoruz.                      \n",
    "   \n",
    "    print(e)                     # Güncellenmiş e değerini ekrana yazdırıyoruz\n",
    "     \n",
    "    print(notlar)                #  Listenin tamamını ekrana yazdırıyoruz. Burada, listenin orijinal hali görünecektir çünkü e üzerinde yapılan değişiklikler asıl listenin elemanlarını etkilemez.\n",
    "    \n",
    "    print(\"--------------\")      # Her iterasyon arasında bir çizgi ekleyerek, iterasyonları birbirinden ayırıyoruz."
   ]
  },
  {
   "cell_type": "markdown",
   "id": "5ea7eb79-2a5e-4b8f-a61a-67390aa86df0",
   "metadata": {},
   "source": [
    "<span style=\"font-family: 'Arial', sans-serif; font-size: 16px;\">**!!Bu işlem, listenin her bir elemanının değerini 10 artırırken, asıl listenin elemanlarını değiştirmez. Değişiklikler sadece geçici bir değişken olan e üzerinde gerçekleşir.**</span>"
   ]
  },
  {
   "cell_type": "code",
   "execution_count": 12,
   "id": "cc8641d3-bf20-404a-8a7a-4c579b9d6c2a",
   "metadata": {},
   "outputs": [
    {
     "name": "stdout",
     "output_type": "stream",
     "text": [
      "[95, 77, 86, 82]\n"
     ]
    }
   ],
   "source": [
    "for i in range(len(notlar)):\n",
    "    notlar[i] += 5\n",
    "print(notlar)"
   ]
  },
  {
   "cell_type": "markdown",
   "id": "47fac5e4-48b3-49bd-94e5-01f879d828b5",
   "metadata": {},
   "source": [
    "<span style=\"font-family: 'Arial', sans-serif; font-size: 16px;\">Her iterasyonda, `notlar[i] += 5` ifadesi ile o anki index'teki öğrencinin not değerine `5` puan eklenir. Burada `notlar[i]`, listenin `i` index'indeki elemanını temsil eder ve bu elemanın değeri `5` artırılarak güncellenir.</span>"
   ]
  },
  {
   "cell_type": "markdown",
   "id": "83225e7e-5f39-485d-b9bc-813469a41a53",
   "metadata": {},
   "source": [
    "### continue ile Örnek:"
   ]
  },
  {
   "cell_type": "markdown",
   "id": "a153ccba-2042-4f43-bcd3-792a7da6e766",
   "metadata": {},
   "source": [
    "<span style=\"font-family: 'Arial', sans-serif; font-size: 16px;\">Hadi biraz da continue mantığının alıştırmasını yapmış olalım. Diyelim ki öğretmen 2. öğrencinin kağıdını doğru okumuş, 2. öğrenci (index 1'deki) hariç hepsinin değerini 5 arttıracak:</span>"
   ]
  },
  {
   "cell_type": "code",
   "execution_count": null,
   "id": "0394dcf3-92af-4c4a-9de2-d7d63942cd54",
   "metadata": {},
   "outputs": [],
   "source": [
    "for i in range(len(notlar)):\n",
    "    \n",
    "    if i == 1:                                  # 2. index'te alttaki cod blokları çalışmayacak direk bir sonraki iterasyona geçer\n",
    "        continue\n",
    "        \n",
    "    notlar[i] += 5\n",
    "\n",
    "print(notlar)"
   ]
  },
  {
   "cell_type": "markdown",
   "id": "b8eb6f9f-77f6-4ebb-b147-645c466dd7d9",
   "metadata": {},
   "source": [
    "<span style=\"font-family: 'Arial', sans-serif; font-size: 16px;\">`continue` ifadesi bir döngü içinde kullanıldığında, o anda çalışmakta olan iterasyonu durdurur ve döngünün bir sonraki iterasyonuna geçer. Yani, döngü bloğunun geri kalan kısmını atlar ve döngü başındaki kontrol ifadesine geri döner.</span>"
   ]
  },
  {
   "cell_type": "markdown",
   "id": "d2b33a43-3afb-47da-8d56-4aa0249acbcf",
   "metadata": {},
   "source": [
    "### break ile Örnek:"
   ]
  },
  {
   "cell_type": "markdown",
   "id": "1c8a8368-c35f-4f90-a1b8-96d148fe98b4",
   "metadata": {},
   "source": [
    "<span style=\"font-family: 'Arial', sans-serif; font-size: 16px;\">Diyelim ki bir listenin içinde belirli bir eleman var mı diye kontrol etmek istiyoruz. Bulunca aramaya devam etmeyeceğim. Devam etme mantığını break ile sağlayacağım</span>"
   ]
  },
  {
   "cell_type": "code",
   "execution_count": 19,
   "id": "e7069dc4-9d4f-4f80-b6bc-ccf535fc5993",
   "metadata": {},
   "outputs": [
    {
     "name": "stdin",
     "output_type": "stream",
     "text": [
      "Hangi sayıyı kontrol edeyim?: 40\n"
     ]
    },
    {
     "name": "stdout",
     "output_type": "stream",
     "text": [
      "2\n",
      "3\n",
      "40\n",
      "Buldum!!\n"
     ]
    }
   ],
   "source": [
    "x = int(input(\"Hangi sayıyı kontrol edeyim?:\"))         #  Kullanıcıdan bir sayı girmesini isteyen bir giriş alırız ve bu değeri x değişkenine atarız.\n",
    "\n",
    "l = [2,3,40,100,10,1]\n",
    " \n",
    "for e in l:                                                   \n",
    "    \n",
    "    print(e)                             # Her iterasyonda, döngüdeki mevcut elemanı ekrana yazdırırız.                                                   \n",
    "    if e == x:                           # Her iterasyonda, mevcut elemanın x ile aynı olup olmadığını kontrol ederiz\n",
    "        print(\"Buldum!!\")                # Eğer mevcut eleman x ile aynıysa, ekrana \"Buldum!!\"  \n",
    "        \n",
    "        break                            # Döngü burada durur "
   ]
  },
  {
   "cell_type": "code",
   "execution_count": 20,
   "id": "9d4f827d-2f71-451f-ab1a-23bd40669143",
   "metadata": {},
   "outputs": [
    {
     "name": "stdin",
     "output_type": "stream",
     "text": [
      "Hangi sayıyı kontrol edeyim?: 60\n"
     ]
    },
    {
     "name": "stdout",
     "output_type": "stream",
     "text": [
      "2\n",
      "3\n",
      "40\n",
      "100\n",
      "10\n",
      "1\n"
     ]
    }
   ],
   "source": [
    "x = int(input(\"Hangi sayıyı kontrol edeyim?:\"))         #  Kullanıcıdan bir sayı girmesini isteyen bir giriş alırız ve bu değeri x değişkenine atarız.\n",
    "\n",
    "l = [2,3,40,100,10,1]\n",
    " \n",
    "for e in l:                                                   \n",
    "    \n",
    "    print(e)                             # Her iterasyonda, döngüdeki mevcut elemanı ekrana yazdırırız.                                                   \n",
    "    if e == x:                           # Her iterasyonda, mevcut elemanın x ile aynı olup olmadığını kontrol ederiz\n",
    "        print(\"Buldum!!\")                # Eğer mevcut eleman x ile aynıysa, ekrana \"Buldum!!\"  \n",
    "        \n",
    "        break "
   ]
  },
  {
   "cell_type": "markdown",
   "id": "44f4d367-f335-438e-a9e6-cae403d57c5f",
   "metadata": {},
   "source": [
    "<span style=\"font-family: 'Arial', sans-serif; font-size: 16px;\">`l`'nin içinde 60 değeri olmadığı için tüm list elemanları ekrana yazılacaktır</span>"
   ]
  },
  {
   "cell_type": "markdown",
   "id": "9df9b1de-a6da-42de-a2f1-1f7bfe6ccf69",
   "metadata": {},
   "source": [
    "## Tuple'lerda İterasyon:"
   ]
  },
  {
   "cell_type": "markdown",
   "id": "fbf3fb9f-f6b7-406c-bb3b-0c08acb3e176",
   "metadata": {},
   "source": [
    "<span style=\"font-family: 'Arial', sans-serif; font-size: 16px;\">Tuple'lar, listenin değiştirilemez bir versiyonudur. Bu nedenle, tuple'ların elemanlarını güncelleyemezsiniz. Ancak, iterasyon işlemi listelerle aynı şekilde gerçekleşir. Örneğin, verilen bir tuple içindeki değerleri yazdırmak veya toplamını almak için aynı şekilde for döngüsü kullanabilirsiniz:</span>"
   ]
  },
  {
   "cell_type": "code",
   "execution_count": 21,
   "id": "9c2c5f26-0e78-4712-8a51-3dea21052d6e",
   "metadata": {},
   "outputs": [
    {
     "name": "stdout",
     "output_type": "stream",
     "text": [
      "1\n",
      "2\n",
      "3\n",
      "4\n"
     ]
    }
   ],
   "source": [
    "t = (1, 2, 3, 4)\n",
    "\n",
    "for e in t:\n",
    "    print(e)"
   ]
  },
  {
   "cell_type": "code",
   "execution_count": 22,
   "id": "67856660-0c28-4e9f-8ec7-4a4ca35d721d",
   "metadata": {},
   "outputs": [
    {
     "name": "stdout",
     "output_type": "stream",
     "text": [
      "10\n"
     ]
    }
   ],
   "source": [
    "toplam = 0\n",
    "\n",
    "for e in t:\n",
    "    toplam += e\n",
    "\n",
    "print(toplam)"
   ]
  },
  {
   "cell_type": "markdown",
   "id": "9fd79324-5cba-4fc0-bef9-c8a27c02497a",
   "metadata": {},
   "source": [
    "<span style=\"font-family: 'Arial', sans-serif; font-size: 16px;\">**tuple içindeki her bir elemanı sırasıyla ekrana yazdırma:**</span>"
   ]
  },
  {
   "cell_type": "code",
   "execution_count": 23,
   "id": "e0700ef2-6c25-4c68-a6c3-1d6eff035c90",
   "metadata": {},
   "outputs": [
    {
     "name": "stdout",
     "output_type": "stream",
     "text": [
      "1\n",
      "2\n",
      "3\n",
      "4\n"
     ]
    }
   ],
   "source": [
    "for i in range(len(t)):\n",
    "    print(t[i])"
   ]
  },
  {
   "cell_type": "markdown",
   "id": "ceaa1b99-c0cf-4c98-9e90-b23d833cfc91",
   "metadata": {},
   "source": [
    "<span style=\"font-family: 'Arial', sans-serif; font-size: 16px;\">Bu kod, tuple'ın her bir elemanına sırasıyla indeksler üzerinden erişerek yazdırır. Dolayısıyla çıktıda tuple'ın içindeki her bir elemanı görebiliriz.</span>"
   ]
  },
  {
   "cell_type": "markdown",
   "id": "d285761a-a96c-4e56-b166-9388cf37eee0",
   "metadata": {},
   "source": [
    "<span style=\"font-family: 'Arial', sans-serif; font-size: 16px;\">**!!! Tuple Elemanı Değiştirilme (immutable)**</span>"
   ]
  },
  {
   "cell_type": "code",
   "execution_count": 24,
   "id": "fc1e4114-bc3f-45ce-bfe3-c7510392d9b0",
   "metadata": {},
   "outputs": [
    {
     "ename": "TypeError",
     "evalue": "'tuple' object does not support item assignment",
     "output_type": "error",
     "traceback": [
      "\u001b[1;31m---------------------------------------------------------------------------\u001b[0m",
      "\u001b[1;31mTypeError\u001b[0m                                 Traceback (most recent call last)",
      "Cell \u001b[1;32mIn[24], line 2\u001b[0m\n\u001b[0;32m      1\u001b[0m \u001b[38;5;28;01mfor\u001b[39;00m i \u001b[38;5;129;01min\u001b[39;00m \u001b[38;5;28mrange\u001b[39m(\u001b[38;5;28mlen\u001b[39m(t)):\n\u001b[1;32m----> 2\u001b[0m     \u001b[43mt\u001b[49m\u001b[43m[\u001b[49m\u001b[43mi\u001b[49m\u001b[43m]\u001b[49m \u001b[38;5;241m+\u001b[39m\u001b[38;5;241m=\u001b[39m \u001b[38;5;241m2\u001b[39m\n",
      "\u001b[1;31mTypeError\u001b[0m: 'tuple' object does not support item assignment"
     ]
    }
   ],
   "source": [
    "for i in range(len(t)):\n",
    "    t[i] += 2"
   ]
  },
  {
   "cell_type": "markdown",
   "id": "e2954693-d339-4ca5-afad-227d515081b8",
   "metadata": {},
   "source": [
    "<span style=\"font-family: 'Arial', sans-serif; font-size: 16px;\">Bu döngüde, her bir elemana 2 eklemeye çalıştığımızda, TypeError hatası alırız. Çünkü tuple'lar değiştirilemezdir ve elemanlarını doğrudan güncelleyemeyiz. Bu nedenle, bu işlem geçersizdir ve hata alırız.</span>"
   ]
  },
  {
   "cell_type": "markdown",
   "id": "87cef8ce-3ba4-4225-ab6b-70bac3793473",
   "metadata": {},
   "source": [
    "## 3- Dictionary'lerde İterasyon:"
   ]
  },
  {
   "cell_type": "markdown",
   "id": "4ed27fea-3711-4c63-8b4a-54c7f184db1d",
   "metadata": {},
   "source": [
    "<span style=\"font-family: 'Arial', sans-serif; font-size: 16px;\">\n",
    "Dictionary'lerde iterasyon, genellikle anahtarlar(keys) üzerinde gerçekleşir. Bu, for döngüsü varsayılan olarak bir dictionary üzerinde dolaşırken anahtarları(keys) kullanır.</span>"
   ]
  },
  {
   "cell_type": "code",
   "execution_count": 26,
   "id": "507a36e0-089e-4a06-bfb9-e2a5ccf8804b",
   "metadata": {},
   "outputs": [
    {
     "name": "stdout",
     "output_type": "stream",
     "text": [
      "student_1\n",
      "student_2\n",
      "student_3\n"
     ]
    }
   ],
   "source": [
    "d = {\"student_1\": [90,89], \"student_2\": [80,83], \"student_3\": [72,71]}\n",
    "\n",
    "for k in d:\n",
    "    print(k)"
   ]
  },
  {
   "cell_type": "markdown",
   "id": "369f119c-ba45-484d-b448-231ccea1b24c",
   "metadata": {},
   "source": [
    "<span style=\"font-family: 'Arial', sans-serif; font-size: 16px;\">**Eğer değerlere ulaşmak istiyorsak, d.values() metodunu kullanabiliriz:**</span>"
   ]
  },
  {
   "cell_type": "code",
   "execution_count": 27,
   "id": "4102ad11-5b3c-4ec7-97d7-b6b9a2d956d7",
   "metadata": {},
   "outputs": [
    {
     "name": "stdout",
     "output_type": "stream",
     "text": [
      "[90, 89]\n",
      "[80, 83]\n",
      "[72, 71]\n"
     ]
    }
   ],
   "source": [
    "for v in d.values():\n",
    "    print(v)"
   ]
  },
  {
   "cell_type": "markdown",
   "id": "be34d69f-209c-451d-a336-538dd238d4b7",
   "metadata": {},
   "source": [
    "<span style=\"font-family: 'Arial', sans-serif; font-size: 16px;\">**Aynı şekilde, key ve value ikilileri üzerinde iterasyon yapmak istiyorsak, items() metodunu kullanabiliriz:**</span>"
   ]
  },
  {
   "cell_type": "code",
   "execution_count": 28,
   "id": "0edaf437-a8f7-4fd8-a728-cfed7dca6acc",
   "metadata": {},
   "outputs": [
    {
     "name": "stdout",
     "output_type": "stream",
     "text": [
      "key değeri: student_1 value değeri: [90, 89]\n",
      "key değeri: student_2 value değeri: [80, 83]\n",
      "key değeri: student_3 value değeri: [72, 71]\n"
     ]
    }
   ],
   "source": [
    "for k, v in d.items():\n",
    "    print(\"key değeri:\", k, \"value değeri:\", v)"
   ]
  }
 ],
 "metadata": {
  "kernelspec": {
   "display_name": "Python 3 (ipykernel)",
   "language": "python",
   "name": "python3"
  },
  "language_info": {
   "codemirror_mode": {
    "name": "ipython",
    "version": 3
   },
   "file_extension": ".py",
   "mimetype": "text/x-python",
   "name": "python",
   "nbconvert_exporter": "python",
   "pygments_lexer": "ipython3",
   "version": "3.12.3"
  }
 },
 "nbformat": 4,
 "nbformat_minor": 5
}
