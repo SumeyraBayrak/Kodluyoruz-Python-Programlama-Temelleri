{
 "cells": [
  {
   "cell_type": "markdown",
   "id": "3ab238af-296d-4cc3-810c-299733dd6f1b",
   "metadata": {},
   "source": [
    "# Split & Join"
   ]
  },
  {
   "cell_type": "markdown",
   "id": "445c8003-d949-4ef5-a296-2c61bf861fea",
   "metadata": {},
   "source": [
    "## 1-Split:"
   ]
  },
  {
   "cell_type": "markdown",
   "id": "5f91aa8f-a42a-4f47-b8b1-5e3ba9d28ab5",
   "metadata": {},
   "source": [
    " <span style=\"font-family: 'Arial', sans-serif; font-size: 16px;\">`split()` fonksiyonu, bir dizeyi belirli bir ayırıcıya göre böler ve sonuç olarak bir liste döndürür. Eğer ayırıcı belirtilmezse, varsayılan olarak boşluk karakteri (space) kullanılır. </span>"
   ]
  },
  {
   "cell_type": "code",
   "execution_count": 5,
   "id": "f1105b62-73c9-4e74-a50a-bfa27b3af14b",
   "metadata": {},
   "outputs": [
    {
     "data": {
      "text/plain": [
       "['merhaba', 'nasılsın', '?']"
      ]
     },
     "execution_count": 5,
     "metadata": {},
     "output_type": "execute_result"
    }
   ],
   "source": [
    "s = \"merhaba nasılsın ?\"\n",
    "s.split(\" \")                     # boşluk karakterine göre dizeyi böler"
   ]
  },
  {
   "cell_type": "code",
   "execution_count": 6,
   "id": "b9be5ea3-58d0-4429-b6cd-585b8d8b7999",
   "metadata": {},
   "outputs": [
    {
     "data": {
      "text/plain": [
       "['merhaba', 'nasılsın', '?']"
      ]
     },
     "execution_count": 6,
     "metadata": {},
     "output_type": "execute_result"
    }
   ],
   "source": [
    "s.split() "
   ]
  },
  {
   "cell_type": "markdown",
   "id": "4d4add00-43c2-44be-b9eb-325a3e2b0777",
   "metadata": {},
   "source": [
    " <span style=\"font-family: 'Arial', sans-serif; font-size: 16px;\">İkinci örnekte, `s.split()` ifadesinde ayırıcı belirtilmemiştir. Bu durumda varsayılan olarak boşluk karakteri kullanılır ve aynı sonuç elde edilir.</span>"
   ]
  },
  {
   "cell_type": "code",
   "execution_count": 8,
   "id": "f811ce3e-5208-4b3e-b7e5-0fc5687ad2c0",
   "metadata": {},
   "outputs": [
    {
     "data": {
      "text/plain": [
       "['limon', 'portakal', 'elma']"
      ]
     },
     "execution_count": 8,
     "metadata": {},
     "output_type": "execute_result"
    }
   ],
   "source": [
    "s2 = \"limon,portakal,elma\"\n",
    "\n",
    "s2.split(\",\")        # virgül karakterine göre ayırma"
   ]
  },
  {
   "cell_type": "markdown",
   "id": "938c69bc-1ca3-401c-9c36-20f138b80f54",
   "metadata": {},
   "source": [
    "## 2-join():"
   ]
  },
  {
   "cell_type": "markdown",
   "id": "0e26b2ff-166c-4a23-a636-22c14efae09b",
   "metadata": {},
   "source": [
    " <span style=\"font-family: 'Arial', sans-serif; font-size: 16px;\">`join()` fonksiyonu, bir listenin elemanlarını birleştirirken, aralarına belirli bir karakter veya dize yerleştirmenizi sağlar. Bu işlem sonucunda bir dize elde edilir. </span>"
   ]
  },
  {
   "cell_type": "code",
   "execution_count": 12,
   "id": "07204c6d-4370-4fcd-a18d-6baf29a54b09",
   "metadata": {},
   "outputs": [
    {
     "data": {
      "text/plain": [
       "'limon,portakal,elma'"
      ]
     },
     "execution_count": 12,
     "metadata": {},
     "output_type": "execute_result"
    }
   ],
   "source": [
    "m = ['limon', 'portakal', 'elma']\n",
    "\",\".join(m)                                # Bu ifade, listenin elemanları arasına virgül karakteri ekleyerek bir dize oluşturur."
   ]
  },
  {
   "cell_type": "code",
   "execution_count": 13,
   "id": "7ecdf203-2325-4131-9ba8-0f05acb44513",
   "metadata": {},
   "outputs": [
    {
     "data": {
      "text/plain": [
       "'limon-portakal-elma'"
      ]
     },
     "execution_count": 13,
     "metadata": {},
     "output_type": "execute_result"
    }
   ],
   "source": [
    "m = ['limon', 'portakal', 'elma']\n",
    "\"-\".join(m)     #  listenin elemanları arasına tire (\"-\") karakteri ekleyerek bir dize oluşturur"
   ]
  },
  {
   "cell_type": "code",
   "execution_count": 15,
   "id": "58194ff9-e2fb-4446-9e94-80a1f16aaace",
   "metadata": {},
   "outputs": [
    {
     "data": {
      "text/plain": [
       "'limon/portakal/elma'"
      ]
     },
     "execution_count": 15,
     "metadata": {},
     "output_type": "execute_result"
    }
   ],
   "source": [
    "m = ['limon', 'portakal', 'elma']\n",
    "\"/\".join(m)     # listenin elemanları arasına eğik çizgi (\"/\") karakteri ekleyerek bir dize oluşturur."
   ]
  },
  {
   "cell_type": "code",
   "execution_count": 17,
   "id": "d3c12f9e-4b9d-4b74-a910-f2c134699008",
   "metadata": {},
   "outputs": [
    {
     "data": {
      "text/plain": [
       "'limon portakal elma'"
      ]
     },
     "execution_count": 17,
     "metadata": {},
     "output_type": "execute_result"
    }
   ],
   "source": [
    "m = ['limon', 'portakal', 'elma']\n",
    "\" \".join(m)     # listenin elemanları arasına boşluk karakteri ekleyerek bir dize oluşturur."
   ]
  }
 ],
 "metadata": {
  "kernelspec": {
   "display_name": "Python 3 (ipykernel)",
   "language": "python",
   "name": "python3"
  },
  "language_info": {
   "codemirror_mode": {
    "name": "ipython",
    "version": 3
   },
   "file_extension": ".py",
   "mimetype": "text/x-python",
   "name": "python",
   "nbconvert_exporter": "python",
   "pygments_lexer": "ipython3",
   "version": "3.12.3"
  }
 },
 "nbformat": 4,
 "nbformat_minor": 5
}
