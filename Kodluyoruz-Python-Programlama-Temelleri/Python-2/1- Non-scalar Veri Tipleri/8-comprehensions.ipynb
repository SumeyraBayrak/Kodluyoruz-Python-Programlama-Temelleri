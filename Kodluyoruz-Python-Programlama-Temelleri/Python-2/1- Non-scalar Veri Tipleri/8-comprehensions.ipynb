{
 "cells": [
  {
   "cell_type": "markdown",
   "id": "03a714b3-efe9-4373-b6d4-3c01894dd001",
   "metadata": {},
   "source": [
    "# Comprehensions: Liste, Set ve Dictionary:"
   ]
  },
  {
   "cell_type": "markdown",
   "id": "b161fead-58aa-4d4f-8283-3a1869c2b3d4",
   "metadata": {},
   "source": [
    "<span style=\"font-family: 'Arial', sans-serif; font-size: 16px;\">Comprehensions, Python'da veri yapılarını `(liste, küme, sözlük)` hızlı ve kısa bir şekilde oluşturmanın etkili bir yoludur. Temelde, bir döngü ve bir koşul ifadesi içeren ifade şeklinde kullanılırlar. Üç farklı türü vardır.</span>"
   ]
  },
  {
   "cell_type": "markdown",
   "id": "98a77c15-52cd-4599-99b1-165b503c3a13",
   "metadata": {},
   "source": [
    "## 1.List Comprehension"
   ]
  },
  {
   "cell_type": "markdown",
   "id": "a21b00bf-5f9b-4776-8da8-68dfa7b6fc65",
   "metadata": {},
   "source": [
    "<span style=\"font-family: 'Arial', sans-serif; font-size: 16px;\">List comprehension, bir listenin elemanlarını oluşturmanın hızlı bir yoludur.</span>"
   ]
  },
  {
   "cell_type": "markdown",
   "id": "1561ada5-9a1c-4760-affd-a847d53a9e49",
   "metadata": {},
   "source": [
    "<span style=\"font-family: 'Arial', sans-serif; font-size: 16px;\">**Geleneksel Yöntemle Liste Oluşturma**</span>"
   ]
  },
  {
   "cell_type": "markdown",
   "id": "2cb153ef-70ef-4964-8076-48a729d50b2b",
   "metadata": {},
   "source": [
    "<span style=\"font-family: 'Arial', sans-serif; font-size: 16px;\">Öncelikle, geleneksel for döngüsü kullanarak 1'den 10'a kadar olan sayıların karelerinden bir liste oluşturalım:</span>"
   ]
  },
  {
   "cell_type": "code",
   "execution_count": 4,
   "id": "d909ab7a-428e-48f1-aa30-bd2bc2ebd195",
   "metadata": {},
   "outputs": [
    {
     "name": "stdout",
     "output_type": "stream",
     "text": [
      "[1, 4, 9, 16, 25, 36, 49, 64, 81, 100]\n"
     ]
    }
   ],
   "source": [
    "squares = []\n",
    "\n",
    "for i in range(1, 11):\n",
    "    squares.append(i * i)\n",
    "\n",
    "print(squares)"
   ]
  },
  {
   "cell_type": "markdown",
   "id": "002d802e-4f10-44ea-863e-dcd9731f0d16",
   "metadata": {},
   "source": [
    "<span style=\"font-family: 'Arial', sans-serif; font-size: 16px;\">**List Comprehension Kullanarak Liste Oluşturma**</span>"
   ]
  },
  {
   "cell_type": "code",
   "execution_count": 6,
   "id": "642c4b96-b043-4d8b-b639-1f62daa131e0",
   "metadata": {},
   "outputs": [
    {
     "name": "stdout",
     "output_type": "stream",
     "text": [
      "[1, 4, 9, 16, 25, 36, 49, 64, 81, 100]\n"
     ]
    }
   ],
   "source": [
    "squares = [i * i for i in range(1, 11)]\n",
    "\n",
    "print(squares)"
   ]
  },
  {
   "cell_type": "markdown",
   "id": "a00b9be6-958d-4f82-89fe-9251189afa97",
   "metadata": {},
   "source": [
    "<span style=\"font-family: 'Arial', sans-serif; font-size: 16px;\">Bu kod parçası, yukarıdaki geleneksel yöntemin aynısını yapar, ancak daha kısa ve okunabilir bir şekilde. </span>"
   ]
  },
  {
   "cell_type": "code",
   "execution_count": null,
   "id": "2d675b07-73fa-4484-829e-da2f90bfb9ce",
   "metadata": {},
   "outputs": [],
   "source": [
    "[ifade for eleman in iterable]"
   ]
  },
  {
   "cell_type": "markdown",
   "id": "088bdc8e-1555-47b0-8a93-2f373c0278e0",
   "metadata": {},
   "source": [
    "<h2>List comprehension yapısı şu şekildedir:</h2>\n",
    "<ul>\n",
    "    <li style=\"font-family: 'Arial', sans-serif; font-size: 16px;\">ifade: Listeye eklenecek öğe (burada i * i).</li>\n",
    "    <li style=\"font-family: 'Arial', sans-serif; font-size: 16px;\">eleman: iterable üzerindeki her bir öğeyi temsil eder (burada i).</li>\n",
    "    <li style=\"font-family: 'Arial', sans-serif; font-size: 16px;\">in iterable: Döngünün nerede döneceğini belirtir (burada range(1, 11))</li>\n",
    "</ul>"
   ]
  },
  {
   "cell_type": "markdown",
   "id": "2f146866-ff6e-47ea-84d0-706a5c52a08d",
   "metadata": {},
   "source": [
    "<span style=\"font-family: 'Arial', sans-serif; font-size: 16px;\">**Fonksiyon ve List Comprehension**</span>"
   ]
  },
  {
   "cell_type": "markdown",
   "id": "d58c46ab-0b0d-4430-86fc-53899fed468f",
   "metadata": {},
   "source": [
    "<span style=\"font-family: 'Arial', sans-serif; font-size: 16px;\">List comprehensions'ı fonksiyonlarla da kullanabiliriz. Örneğin, 1'den 10'a kadar olan sayıların küplerini hesaplayan bir fonksiyon yazalım ve bu fonksiyonu list comprehension ile birlikte kullanalım</span>"
   ]
  },
  {
   "cell_type": "code",
   "execution_count": 9,
   "id": "d9102f69-a2fd-4cb3-a4e6-9f8a00817462",
   "metadata": {},
   "outputs": [
    {
     "name": "stdout",
     "output_type": "stream",
     "text": [
      "[1, 8, 27, 64, 125, 216, 343, 512, 729, 1000]\n"
     ]
    }
   ],
   "source": [
    "def cube(x):\n",
    "    return x * x * x  # veya x ** 3\n",
    "\n",
    "cubes = [cube(x) for x in range(1, 11)]         # bu fonksiyonu list comprehension içinde kullandım\n",
    "\n",
    "print(cubes)"
   ]
  },
  {
   "cell_type": "markdown",
   "id": "fcf9908e-9a08-43c6-a812-9aa320a71056",
   "metadata": {},
   "source": [
    "<span style=\"font-family: 'Arial', sans-serif; font-size: 16px;\">**Koşullu List Comprehension**</span>"
   ]
  },
  {
   "cell_type": "markdown",
   "id": "15e9137a-14d2-4dce-b660-862306ddd90c",
   "metadata": {},
   "source": [
    "<span style=\"font-family: 'Arial', sans-serif; font-size: 16px;\">List comprehensions içine koşullar ekleyebiliriz. Örneğin, sadece çift sayıların karelerini almak istersek:</span>"
   ]
  },
  {
   "cell_type": "code",
   "execution_count": 11,
   "id": "48129b4c-ef71-4248-b0a6-6f73999ef0a6",
   "metadata": {},
   "outputs": [
    {
     "name": "stdout",
     "output_type": "stream",
     "text": [
      "[4, 16, 36, 64, 100]\n"
     ]
    }
   ],
   "source": [
    "even_squares = [i * i for i in range(1, 11) if i % 2 == 0]\n",
    "\n",
    "print(even_squares)"
   ]
  },
  {
   "cell_type": "markdown",
   "id": "f8301f6a-6700-4a11-9f5e-48e0202845ab",
   "metadata": {},
   "source": [
    "## 2.Set Comprehension"
   ]
  },
  {
   "cell_type": "markdown",
   "id": "95e11321-edd9-48e7-9656-482ae5f057bd",
   "metadata": {},
   "source": [
    "<span style=\"font-family: 'Arial', sans-serif; font-size: 16px;\">Set comprehension, bir küme oluşturmanın hızlı bir yoludur. </span>"
   ]
  },
  {
   "cell_type": "code",
   "execution_count": 13,
   "id": "6a61312a-7991-4f83-b0ca-431586cc27ed",
   "metadata": {},
   "outputs": [
    {
     "name": "stdout",
     "output_type": "stream",
     "text": [
      "{1, 2, 3, 4, 5, 6}\n"
     ]
    }
   ],
   "source": [
    "numbers = [1, 2, 3, 4, 5, 6, 7, 1, 2]\n",
    "\n",
    "set_numbers = {s for s in numbers if s in [1, 2, 3, 4, 5, 6, 1, 2]}\n",
    "\n",
    "print(set_numbers)"
   ]
  },
  {
   "cell_type": "markdown",
   "id": "93292d02-c3b7-48a1-909e-81a9c28e2716",
   "metadata": {},
   "source": [
    "<span style=\"font-family: 'Arial', sans-serif; font-size: 16px;\">Burada, `{}` içinde bir ifade görüyoruz. Bu ifade, bir küme oluşturulduğunu belirtir. Daha sonra for döngüsüyle numbers listesindeki her eleman `s` olarak alınır. if koşulu, elemanın numbers listesinde bulunan `[1, 2, 3, 4, 5, 6, 1, 2]` listesinde de bulunup bulunmadığını kontrol eder. Bu koşul sağlandığı takdirde, eleman kümenin içine eklenir. !!Dikkat set olduğu için elemanlar benzersizdir aynı eleman olamaz.</span>"
   ]
  },
  {
   "cell_type": "markdown",
   "id": "417f0c06-9859-4b77-b980-8d83de7fb240",
   "metadata": {},
   "source": [
    "## 3. Dictionary Comprehension"
   ]
  },
  {
   "cell_type": "markdown",
   "id": "1ce0efb4-2ff1-48b7-a9a1-37e9dd16ae8e",
   "metadata": {},
   "source": [
    "<span style=\"font-family: 'Arial', sans-serif; font-size: 16px;\">Dictionary comprehension, bir sözlük oluşturmak için kullanılır. Temel olarak, bir anahtar-değer çifti oluşturan bir döngü ve bir koşul ifadesi içerir.</span>"
   ]
  },
  {
   "cell_type": "code",
   "execution_count": 15,
   "id": "1a508b71-a320-4147-b8e9-b1d804a8c12b",
   "metadata": {},
   "outputs": [
    {
     "name": "stdout",
     "output_type": "stream",
     "text": [
      "{1: 1, 2: 4, 3: 9, 4: 16, 5: 25, 6: 36, 7: 49, 8: 64, 9: 81, 10: 100}\n"
     ]
    }
   ],
   "source": [
    "square_dict = {e: e * e for e in range(1, 11)}\n",
    "\n",
    "print(square_dict)"
   ]
  },
  {
   "cell_type": "markdown",
   "id": "765dfe40-5cef-40f1-bfaa-1800d9c8f400",
   "metadata": {},
   "source": [
    "## 4. Nested List Comprehension"
   ]
  },
  {
   "cell_type": "markdown",
   "id": "5e4aff67-a7da-449f-9a2c-e1f7c78b4abd",
   "metadata": {},
   "source": [
    "<span style=\"font-family: 'Arial', sans-serif; font-size: 16px;\">**İlk Olarak Geleneksel Yöntemi:**</span>"
   ]
  },
  {
   "cell_type": "code",
   "execution_count": 17,
   "id": "5f5dc87d-b647-4e49-aba6-5d591cf8341f",
   "metadata": {},
   "outputs": [
    {
     "name": "stdout",
     "output_type": "stream",
     "text": [
      "[[0, 1, 2, 3, 4, 5, 6], [0, 1, 2, 3, 4, 5, 6], [0, 1, 2, 3, 4, 5, 6], [0, 1, 2, 3, 4, 5, 6], [0, 1, 2, 3, 4, 5, 6]]\n"
     ]
    }
   ],
   "source": [
    "m = []\n",
    "for _ in range(5):\n",
    "    inner_list = []\n",
    "    for j in range(7):\n",
    "        inner_list.append(j)\n",
    "    m.append(inner_list)\n",
    "\n",
    "print(m)"
   ]
  },
  {
   "cell_type": "markdown",
   "id": "b14f9bfc-4834-4778-867a-cb92b6f15c67",
   "metadata": {},
   "source": [
    "<span style=\"font-family: 'Arial', sans-serif; font-size: 16px;\">Bu kod, iç içe geçmiş iki döngü kullanarak aynı çıktıyı üretir. İlk döngü, beş alt liste oluşturmak için dış döngüyü temsil eder. İkinci döngü, her bir alt liste için iç döngüyü temsil eder ve 0'dan 6'ya kadar olan sayıları bu alt liste içine ekler.</span>"
   ]
  },
  {
   "cell_type": "markdown",
   "id": "99bae94a-a779-4c14-9e19-2d700ded4154",
   "metadata": {},
   "source": [
    "<span style=\"font-family: 'Arial', sans-serif; font-size: 16px;\">**List comprehension kullanarak yapmak:**</span>"
   ]
  },
  {
   "cell_type": "code",
   "execution_count": 18,
   "id": "0ede900f-1fbf-4896-b64e-4e756a5f56b0",
   "metadata": {},
   "outputs": [
    {
     "name": "stdout",
     "output_type": "stream",
     "text": [
      "[[0, 1, 2, 3, 4, 5, 6], [0, 1, 2, 3, 4, 5, 6], [0, 1, 2, 3, 4, 5, 6], [0, 1, 2, 3, 4, 5, 6], [0, 1, 2, 3, 4, 5, 6]]\n"
     ]
    }
   ],
   "source": [
    "m = [[j for j in range(7)] for _ in range(5)]\n",
    "\n",
    "print(m)"
   ]
  },
  {
   "cell_type": "markdown",
   "id": "71d94ba8-5442-4f85-b292-eb997b733b3c",
   "metadata": {},
   "source": [
    "<span style=\"font-family: 'Arial', sans-serif; font-size: 16px;\">**İç içe geçmiş listelerden oluşan bu yapıyı düzleştirmek için ise:**</span>"
   ]
  },
  {
   "cell_type": "markdown",
   "id": "fbe6f3ca-8971-4bcd-8f2e-b1dcf82a0f93",
   "metadata": {},
   "source": [
    "<span style=\"font-family: 'Arial', sans-serif; font-size: 16px;\">ilk olarak geleneksel Yöntem:</span>"
   ]
  },
  {
   "cell_type": "code",
   "execution_count": 20,
   "id": "83470e06-9d48-4abf-85f5-fb683ccdc06e",
   "metadata": {},
   "outputs": [
    {
     "name": "stdout",
     "output_type": "stream",
     "text": [
      "[0, 1, 2, 3, 4, 5, 6, 0, 1, 2, 3, 4, 5, 6, 0, 1, 2, 3, 4, 5, 6, 0, 1, 2, 3, 4, 5, 6, 0, 1, 2, 3, 4, 5, 6]\n"
     ]
    }
   ],
   "source": [
    "flatten_m = []\n",
    "for l in m:\n",
    "    for e in l:\n",
    "        flatten_m.append(e)\n",
    "\n",
    "print(flatten_m)"
   ]
  },
  {
   "cell_type": "markdown",
   "id": "03303260-0fb7-4450-b1cb-e1c2dca961dd",
   "metadata": {},
   "source": [
    "<span style=\"font-family: 'Arial', sans-serif; font-size: 16px;\">List Comprehension ile:</span>"
   ]
  },
  {
   "cell_type": "code",
   "execution_count": 19,
   "id": "ef17c10e-2fa0-4141-999c-f19d3b07904d",
   "metadata": {},
   "outputs": [
    {
     "name": "stdout",
     "output_type": "stream",
     "text": [
      "[0, 1, 2, 3, 4, 5, 6, 0, 1, 2, 3, 4, 5, 6, 0, 1, 2, 3, 4, 5, 6, 0, 1, 2, 3, 4, 5, 6, 0, 1, 2, 3, 4, 5, 6]\n"
     ]
    }
   ],
   "source": [
    "flatten_m = [e for l in m for e in l]\n",
    "\n",
    "print(flatten_m)"
   ]
  },
  {
   "cell_type": "markdown",
   "id": "b85c076a-0af4-49eb-aba2-632fb626c07c",
   "metadata": {},
   "source": [
    "<span style=\"font-family: 'Arial', sans-serif; font-size: 16px;\">Bu kod, iç içe geçmiş listelerden oluşan m listesini düzleştirir. İlk döngü, her bir alt liste için dış döngüyü temsil eder. İkinci döngü, her bir alt liste içindeki elemanları dolaşır ve bunları düzleştirilmiş listeye ekler.</span>"
   ]
  },
  {
   "cell_type": "markdown",
   "id": "fa071c62-ebaf-4131-b52b-cd935bf5fd9d",
   "metadata": {},
   "source": [
    "<h3> Şaşırtıcı Soru !!! </h3>"
   ]
  },
  {
   "cell_type": "code",
   "execution_count": 25,
   "id": "daa51d5a-fd40-4227-91db-50970c72b1b3",
   "metadata": {},
   "outputs": [
    {
     "name": "stdout",
     "output_type": "stream",
     "text": [
      "[25, 36, 62, 28, 38, 64, 30, 40, 67, 1, 27, 56, 1, 25, 55, 2, 21, 51]\n"
     ]
    }
   ],
   "source": [
    "m=[[[ 25, 36, 62],[ 28, 38, 64],[ 30, 40, 67]],[[ 1, 27, 56],[ 1, 25, 55],[ 2, 21, 51]]]\n",
    "\n",
    "flatten_m = [i for l in m for e in l for i in e]\n",
    "\n",
    "print(flatten_m)"
   ]
  },
  {
   "cell_type": "markdown",
   "id": "b3c5f71b-87f8-481d-918d-bb15b7e7bf3c",
   "metadata": {},
   "source": [
    "<h2>Şimdi, her bir döngünün neyi temsil ettiğini açıklayalım:</h2>\n",
    "<ul>\n",
    "    <li style=\"font-family: 'Arial', sans-serif; font-size: 16px;\">İlk döngü for l in m iç içe geçmiş listelerin en dışındaki listenin her bir alt listesini temsil eder.</li>\n",
    "    <li style=\"font-family: 'Arial', sans-serif; font-size: 16px;\">İkinci döngü for e in l her bir iç içe geçmiş listenin alt listesindeki her bir elemanı (e) temsil eder.</li>\n",
    "    <li style=\"font-family: 'Arial', sans-serif; font-size: 16px;\">Üçüncü döngü for i in e her bir alt listedeki her bir elemanın alt elemanlarını (i) temsil eder.</li>\n",
    "</ul>"
   ]
  },
  {
   "cell_type": "code",
   "execution_count": 8,
   "id": "c1ab3ba9-b403-4efc-857f-dcf057bb8732",
   "metadata": {},
   "outputs": [
    {
     "name": "stdout",
     "output_type": "stream",
     "text": [
      "1 2\n"
     ]
    }
   ],
   "source": [
    "x = 1 \n",
    "y = 2 \n",
    "for  x in range(x, x+1):\n",
    "    for y in range(y, y+1):\n",
    "          print(x,y)"
   ]
  },
  {
   "cell_type": "code",
   "execution_count": null,
   "id": "6d1ab056-248f-4fd3-b6f7-ec11278eeaa6",
   "metadata": {},
   "outputs": [],
   "source": []
  }
 ],
 "metadata": {
  "kernelspec": {
   "display_name": "Python 3 (ipykernel)",
   "language": "python",
   "name": "python3"
  },
  "language_info": {
   "codemirror_mode": {
    "name": "ipython",
    "version": 3
   },
   "file_extension": ".py",
   "mimetype": "text/x-python",
   "name": "python",
   "nbconvert_exporter": "python",
   "pygments_lexer": "ipython3",
   "version": "3.12.3"
  }
 },
 "nbformat": 4,
 "nbformat_minor": 5
}
