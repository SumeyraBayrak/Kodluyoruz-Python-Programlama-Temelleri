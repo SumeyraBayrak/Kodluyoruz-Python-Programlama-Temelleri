{
 "cells": [
  {
   "cell_type": "code",
   "execution_count": null,
   "id": "0e458708-5229-4f4f-9a37-87370884ff99",
   "metadata": {},
   "outputs": [],
   "source": [
    "<span style=\"font-family: 'Arial', sans-serif; font-size: 16px;\"></span>"
   ]
  },
  {
   "cell_type": "code",
   "execution_count": null,
   "id": "c24d20ec-1200-4889-8694-655da0690e71",
   "metadata": {},
   "outputs": [],
   "source": [
    "<span style=\"font-family: 'Arial', sans-serif; font-size: 16px;\"></span>"
   ]
  },
  {
   "cell_type": "code",
   "execution_count": null,
   "id": "260c3ad9-0960-4ab5-8935-41eb40d3eecd",
   "metadata": {},
   "outputs": [],
   "source": [
    "<span style=\"font-family: 'Arial', sans-serif; font-size: 16px;\"></span>"
   ]
  },
  {
   "cell_type": "code",
   "execution_count": null,
   "id": "e117d6b0-2b95-4ee6-9563-4803c53219cc",
   "metadata": {},
   "outputs": [],
   "source": [
    "<span style=\"font-family: 'Arial', sans-serif; font-size: 16px;\">****</span>"
   ]
  },
  {
   "cell_type": "markdown",
   "id": "4ecff5e1-f18d-4424-ac3d-c0c0d9d7b95f",
   "metadata": {},
   "source": [
    "<div style=\"float: right; background-color: #333; padding: 5px; border: 1px solid #ccc; height: 150px; width: 600px;\">\n",
    "    <h3 style=\"color: #c0c0c0;\">Not Kutusu</h3>\n",
    "    <p style=\"font-family: 'Arial' sans-serif; font-size: 14px; color: #ffffff;\">\"'a' değişkeni zaten bir tam sayı olduğundan, doğrudan integer'a dönüştürülebilir. Ancak, 'b' değişkeni bir ondalık sayı olduğu için önce float'a dönüştürülmesi gerekir. Bu nedenle, int(float(b)) ifadesi ile 'b' değişkeni önce float'a dönüştürülür ve ardından integer'a dönüştürülür. Bu işlem sonucunda elde edilen değer 5 olur.</p>\n",
    "</div>"
   ]
  },
  {
   "cell_type": "markdown",
   "id": "a55a7411-4848-46f5-b565-dd7fc8ebfc12",
   "metadata": {},
   "source": [
    "<div style=\"float: right; background-color: #333; padding: 5px; border: 1px solid #ccc; height: 100x; width: 600px;\">\n",
    "    <h3 style=\"color: #c0c0c0;\">Hatalı İşlem!!!!</h3>\n",
    "    <p style=\"font-family: 'Arial' sans-serif; font-size: 14px; color: #ffffff;\">Kodunda hata aldığın yerde, \"Deniz\" stringinin sınırlarını aşmışsın. Python'da indeksler 0'dan başlar ve \"Deniz\" stringi 5 karakterden oluşur. Ancak, 5. indeksi (indeks 5) çağırdığında sınırları aştığın için hata alırsın. Bu yüzden isim[5] ifadesi hata veriyor.</p>\n",
    "</div>"
   ]
  },
  {
   "cell_type": "markdown",
   "id": "f5b34fcd-eb84-4e42-b48d-78f8dff79454",
   "metadata": {},
   "source": [
    "<img src=\"https://miro.medium.com/v2/resize:fit:1400/format:webp/1*La_PT2JXjHc3zD6aIsYqBA.png\" alt=\"python-keywords\" style=\"width:600px;height:300px; margin:auto;\">"
   ]
  },
  {
   "cell_type": "markdown",
   "id": "96d8e26b-1cb2-4aa6-98f2-d881b1b042f1",
   "metadata": {},
   "source": [
    "<h2>Başlıca Konular Şunlardır:</h2>\n",
    "<ul>\n",
    "    <li>if İfadesi</li>\n",
    "    <li>else İfadesi</li>\n",
    "    <li>elif İfadesi</li>\n",
    "    <li>İç İçe Geçmiş if Blokları</li>\n",
    "</ul>"
   ]
  },
  {
   "cell_type": "markdown",
   "id": "92170463-69ad-4bfe-b37d-85b88b5cf669",
   "metadata": {},
   "source": [
    "# Variable Unpacking"
   ]
  },
  {
   "cell_type": "markdown",
   "id": "a46a22c9-400a-4967-a5b6-ea37f570664a",
   "metadata": {},
   "source": [
    "<span style=\"font-family: 'Arial', sans-serif; font-size: 16px;\">Değişken açma (variable unpacking), birden çok değişkene tek bir adımda değer atamanıza olanak tanır. Örneğin, bir demet veya liste içindeki değerleri, aynı sırayla değişkenlere atayabilirsiniz. Bu, Python'daki birçok durumda oldukça kullanışlıdır.</span>"
   ]
  },
  {
   "cell_type": "code",
   "execution_count": 2,
   "id": "8ee2504e-931d-4093-99c1-8ab222ea7e89",
   "metadata": {},
   "outputs": [
    {
     "name": "stdout",
     "output_type": "stream",
     "text": [
      "x: 4\n",
      "y: 7\n"
     ]
    }
   ],
   "source": [
    "# Bir demet oluşturalım:\n",
    "coordinates = (4, 7)\n",
    "\n",
    "# Değişken açma işlemi ile demet içindeki değerler sırasıyla değişkenlere atanır:\n",
    "x, y = coordinates\n",
    "\n",
    "# Şimdi x ve y değişkenlerine atanmış değerleri yazdıralım\n",
    "print(\"x:\", x)  \n",
    "print(\"y:\", y)  "
   ]
  },
  {
   "cell_type": "markdown",
   "id": "80d86833-b697-437e-9378-0021bbdeb48e",
   "metadata": {},
   "source": [
    "<span style=\"font-family: 'Arial', sans-serif; font-size: 16px;\">Bu kod parçasında, `coordinates` adında bir demet oluşturulur. Sonra bu demetin değerleri, x ve y adlı değişkenlere sırasıyla atanır. Sonuç olarak, x 4'e ve y 7'ye eşitlenir.</span>"
   ]
  },
  {
   "cell_type": "markdown",
   "id": "ed18961d-17dd-474d-b260-6523b2aa7555",
   "metadata": {},
   "source": [
    "<span style=\"font-family: 'Arial', sans-serif; font-size: 16px;\">**2'den çok değere değer açma işlemi:**</span>"
   ]
  },
  {
   "cell_type": "code",
   "execution_count": 3,
   "id": "f4c22bdc-3733-47fc-aec7-d1ae7fcba065",
   "metadata": {},
   "outputs": [
    {
     "name": "stdout",
     "output_type": "stream",
     "text": [
      "x: 4\n",
      "y: 7\n",
      "z: 11\n"
     ]
    }
   ],
   "source": [
    "# Bir demet oluşturuyoruz ve içine üç farklı değer koyuyoruz\n",
    "coordinates = (4, 7, 11)\n",
    "\n",
    "# Değişken açma işlemi ile demet içindeki değerler sırasıyla değişkenlere atanır\n",
    "x, y, z = coordinates\n",
    "\n",
    "# Şimdi x, y ve z değişkenlerine atanmış değerleri yazdıralım\n",
    "print(\"x:\", x)  # Çıktı: x: 4\n",
    "print(\"y:\", y)  # Çıktı: y: 7\n",
    "print(\"z:\", z)  # Çıktı: z: 11"
   ]
  },
  {
   "cell_type": "markdown",
   "id": "64fa4097-1f1b-43ef-9628-0c691b82f209",
   "metadata": {},
   "source": [
    "<span style=\"font-family: 'Arial', sans-serif; font-size: 16px;\">Bu kod parçasında, `coordinates` adında bir demet oluşturulur ve içine üç farklı değer eklenir: `4`, `7` ve `11`. Sonra değişken açma işlemi kullanılarak, bu demetin değerleri sırasıyla `x`, `y` ve `z` değişkenlerine atanır.</span>"
   ]
  },
  {
   "cell_type": "markdown",
   "id": "18adcb64-9985-4061-b606-f1882ab7d7a8",
   "metadata": {},
   "source": [
    "## Bazı Değerlere İhtiyacım Yoksa:"
   ]
  },
  {
   "cell_type": "code",
   "execution_count": 6,
   "id": "420beee1-9277-4234-9cae-fcc217d6a31f",
   "metadata": {},
   "outputs": [
    {
     "name": "stdout",
     "output_type": "stream",
     "text": [
      "x: 4\n"
     ]
    }
   ],
   "source": [
    "# Bir demet oluşturalım\n",
    "coordinates = (4, 7)\n",
    "\n",
    "# Sadece ilk değeri alıyoruz ve diğerini kullanmayacağımızı belirtmek için önemsiz değişken kullanıyoruz\n",
    "x, _ = coordinates\n",
    "\n",
    "# Sadece x değişkenine atanmış değeri yazdıralım\n",
    "print(\"x:\", x)  "
   ]
  },
  {
   "cell_type": "markdown",
   "id": "e0d67deb-bd67-4a6c-9e21-e1c06ff99aaa",
   "metadata": {},
   "source": [
    "<span style=\"font-family: 'Arial', sans-serif; font-size: 16px;\">Bu kod parçasında, `coordinates` adında bir demet oluşturulur. Ardından, sadece ilk değer `4` alınır ve `_` işareti ile diğer değer kullanılmayacağı belirtilir. Sonuç olarak, sadece `x` değişkenine `4` değeri atanır.</span>"
   ]
  },
  {
   "cell_type": "markdown",
   "id": "6f3b47d0-e54d-4674-8e8f-c536d122b71f",
   "metadata": {},
   "source": [
    "### Fazla Değerlerin Varlığı Durumunda Değişken Açma:"
   ]
  },
  {
   "cell_type": "code",
   "execution_count": 8,
   "id": "1b82d3ef-d6a9-4a1f-b001-3dc40c36d538",
   "metadata": {},
   "outputs": [
    {
     "ename": "ValueError",
     "evalue": "too many values to unpack (expected 3)",
     "output_type": "error",
     "traceback": [
      "\u001b[1;31m---------------------------------------------------------------------------\u001b[0m",
      "\u001b[1;31mValueError\u001b[0m                                Traceback (most recent call last)",
      "Cell \u001b[1;32mIn[8], line 1\u001b[0m\n\u001b[1;32m----> 1\u001b[0m x, y, z \u001b[38;5;241m=\u001b[39m (\u001b[38;5;241m4\u001b[39m, \u001b[38;5;241m7\u001b[39m, \u001b[38;5;241m11\u001b[39m, \u001b[38;5;241m4\u001b[39m, \u001b[38;5;241m21\u001b[39m)\n",
      "\u001b[1;31mValueError\u001b[0m: too many values to unpack (expected 3)"
     ]
    }
   ],
   "source": [
    "x, y, z = (4, 7, 11, 4, 21)"
   ]
  },
  {
   "cell_type": "markdown",
   "id": "23fd1311-a06c-4c79-846b-41494d547f13",
   "metadata": {},
   "source": [
    "<span style=\"font-family: 'Arial', sans-serif; font-size: 16px;\">Bu kodda, `x`, `y` ve `z` değişkenlerine değer atamak için bir demet kullanılmıştır. Ancak sağ taraftaki demetin içindeki eleman sayısı, sol taraftaki değişken sayısından fazladır. Bu nedenle Python, fazla değerler olduğunu ve bu değerleri atayacak yeterli değişken olmadığını belirten bir hata mesajı verir.</span>"
   ]
  },
  {
   "cell_type": "markdown",
   "id": "deaafcda-f14e-49ca-80bf-ec2b92b20e72",
   "metadata": {},
   "source": [
    "<span style=\"font-family: 'Arial', sans-serif; font-size: 16px;\">**Bu hatayı gidermek için, fazla değerleri göz ardı etmek için `_` işaretini kullanabiliriz**</span>"
   ]
  },
  {
   "cell_type": "code",
   "execution_count": 9,
   "id": "080d10ce-7ceb-4957-bd9f-ae5f44cf354f",
   "metadata": {},
   "outputs": [],
   "source": [
    "x, y, z, _, _ = (4, 7, 11, 4, 21)"
   ]
  },
  {
   "cell_type": "code",
   "execution_count": 11,
   "id": "720e56e6-592a-4c13-8e16-efd9d07fb2d8",
   "metadata": {},
   "outputs": [],
   "source": [
    "x, y, z, *_ = (4, 7, 11, 4, 21)"
   ]
  },
  {
   "cell_type": "markdown",
   "id": "096abce6-714d-48b5-b04f-0b31623b6f9e",
   "metadata": {},
   "source": [
    "<span style=\"font-family: 'Arial', sans-serif; font-size: 16px;\">**İlk İki Değeri x ve y'ye Ata, Geri Kalanları z'ye Ata:**</span>"
   ]
  },
  {
   "cell_type": "code",
   "execution_count": 14,
   "id": "9fe81458-8c99-4735-8d7e-fec234907098",
   "metadata": {},
   "outputs": [
    {
     "name": "stdout",
     "output_type": "stream",
     "text": [
      "4\n",
      "7\n",
      "[11, 4, 21]\n"
     ]
    }
   ],
   "source": [
    "x, y, *z = (4, 7, 11, 4, 21)\n",
    "\n",
    "print(x)\n",
    "print(y)\n",
    "print(z)"
   ]
  },
  {
   "cell_type": "markdown",
   "id": "88a9e083-5e61-47ac-9e16-5a3f329de3e3",
   "metadata": {},
   "source": [
    "<span style=\"font-family: 'Arial', sans-serif; font-size: 16px;\">**İlk İki Değeri Ata, Geri Kalanları Görmezden Gel:**</span>"
   ]
  },
  {
   "cell_type": "code",
   "execution_count": 15,
   "id": "06358ab3-e20a-4b3a-b234-484e05d0801c",
   "metadata": {},
   "outputs": [
    {
     "name": "stdout",
     "output_type": "stream",
     "text": [
      "4\n",
      "7\n"
     ]
    }
   ],
   "source": [
    "x, y, *_ = (4, 7, 11, 12, 13)                              #  x ve y ilk iki değere atanırken, geri kalan değerler önemsiz kabul edilir\n",
    "\n",
    "print(x)\n",
    "print(y)"
   ]
  },
  {
   "cell_type": "markdown",
   "id": "bf614750-539a-4caa-8594-e3f8330c6106",
   "metadata": {},
   "source": [
    "### İlk İki ve Son Değeri Belirli Değişkenlere Ata, Aradakileri z'ye Ata:"
   ]
  },
  {
   "cell_type": "code",
   "execution_count": 1,
   "id": "ab920e26-6775-41e0-b9a5-7443d52074a7",
   "metadata": {},
   "outputs": [
    {
     "name": "stdout",
     "output_type": "stream",
     "text": [
      "4\n",
      "7\n",
      "[11, 4]\n",
      "21\n"
     ]
    }
   ],
   "source": [
    "x, y, *z, t = (4, 7, 11, 4, 21)\n",
    "\n",
    "print(x)\n",
    "print(y)\n",
    "print(z)\n",
    "print(t)"
   ]
  },
  {
   "cell_type": "markdown",
   "id": "66cbbbe4-a7bf-4f47-bc6e-aef1d7b5145a",
   "metadata": {},
   "source": [
    "<span style=\"font-family: 'Arial', sans-serif; font-size: 16px;\">**İlk İki ve Son İki Değeri Belirli Değişkenlere Ata, Aradakileri z'ye Ata:**</span>"
   ]
  },
  {
   "cell_type": "code",
   "execution_count": 19,
   "id": "c92c8ccd-1265-453d-9bef-0ec1a3565ac3",
   "metadata": {},
   "outputs": [
    {
     "name": "stdout",
     "output_type": "stream",
     "text": [
      "4\n",
      "7\n",
      "[11, 4, 21]\n"
     ]
    }
   ],
   "source": [
    "x, y, *z, t, u = (4, 7, 11, 4, 21, 32, 2)\n",
    "\n",
    "print(x)\n",
    "print(y)\n",
    "print(z)"
   ]
  },
  {
   "cell_type": "markdown",
   "id": "1213462a-1637-4f99-940d-27051a8b5d81",
   "metadata": {},
   "source": [
    "<span style=\"font-family: 'Arial', sans-serif; font-size: 16px;\">**!!! Kod Hatası**</span>"
   ]
  },
  {
   "cell_type": "markdown",
   "id": "380cbdd8-077d-496f-b2c1-06eb66288f4c",
   "metadata": {},
   "source": [
    "<span style=\"font-family: 'Arial', sans-serif; font-size: 16px;\">Python'da bir atamada yalnızca bir yıldızlı ifade kullanılabilir. İki yıldızlı ifadenin kullanılması, hangi değerlerin hangi değişkenlere atanacağını belirsiz hale getirir. Bu nedenle, Python bu durumu çözümlemekte zorlanır ve bir sözdizimi hatası verir.</span>"
   ]
  },
  {
   "cell_type": "code",
   "execution_count": 21,
   "id": "eec8372d-b415-4f86-b150-c7ba82a952a3",
   "metadata": {},
   "outputs": [
    {
     "ename": "SyntaxError",
     "evalue": "multiple starred expressions in assignment (2588496459.py, line 1)",
     "output_type": "error",
     "traceback": [
      "\u001b[1;36m  Cell \u001b[1;32mIn[21], line 1\u001b[1;36m\u001b[0m\n\u001b[1;33m    x, *y, *t = (4, 7, 11, 4)\u001b[0m\n\u001b[1;37m    ^\u001b[0m\n\u001b[1;31mSyntaxError\u001b[0m\u001b[1;31m:\u001b[0m multiple starred expressions in assignment\n"
     ]
    }
   ],
   "source": [
    "x, *y, *t = (4, 7, 11, 4)"
   ]
  },
  {
   "cell_type": "markdown",
   "id": "1a434265-a277-4c27-834a-81eefe07ac96",
   "metadata": {},
   "source": [
    "<span style=\"font-family: 'Arial', sans-serif; font-size: 16px;\">Bu kodda, *y ve *t ifadeleri aynı anda kullanıldığı için bir hata oluşur.</span>"
   ]
  },
  {
   "cell_type": "code",
   "execution_count": null,
   "id": "5aba239c-9d9e-4286-a099-00bf56052526",
   "metadata": {},
   "outputs": [],
   "source": []
  }
 ],
 "metadata": {
  "kernelspec": {
   "display_name": "Python 3 (ipykernel)",
   "language": "python",
   "name": "python3"
  },
  "language_info": {
   "codemirror_mode": {
    "name": "ipython",
    "version": 3
   },
   "file_extension": ".py",
   "mimetype": "text/x-python",
   "name": "python",
   "nbconvert_exporter": "python",
   "pygments_lexer": "ipython3",
   "version": "3.12.3"
  }
 },
 "nbformat": 4,
 "nbformat_minor": 5
}
