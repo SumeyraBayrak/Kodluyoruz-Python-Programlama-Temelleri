{
 "cells": [
  {
   "cell_type": "markdown",
   "id": "b05dce50-2c4d-4908-abd2-357674200c5c",
   "metadata": {},
   "source": [
    "# Fonksiyon Nedir?"
   ]
  },
  {
   "cell_type": "markdown",
   "id": "ef47fd6a-6354-4bd8-9a78-c3ff2f56c00e",
   "metadata": {},
   "source": [
    "<span style=\"font-family: 'Arial', sans-serif; font-size: 16px;\">Fonksiyonlar, belirli bir işlemi gerçekleştiren kod bloklarıdır. Bu işlemleri belirli bir yapı altında toplar ve ihtiyaç duyduğumuzda tekrar tekrar kullanabiliriz. Fonksiyonlar, yazılım geliştirmede `abstraction (soyutlama)` ve `decomposition (parçalama)` yapmamıza yardımcı olur.</span>"
   ]
  },
  {
   "cell_type": "markdown",
   "id": "e8b79b2c-382e-49f1-969d-79d1f46d5bea",
   "metadata": {},
   "source": [
    "## Abstraction (Soyutlama) Nedir?"
   ]
  },
  {
   "cell_type": "markdown",
   "id": "f6685c25-548a-4701-a882-f862dc9527ba",
   "metadata": {},
   "source": [
    "<span style=\"font-family: 'Arial', sans-serif; font-size: 16px;\">Abstraction, karmaşık sistemlerin detaylarından ziyade, bu sistemlerin genel işlevlerine odaklanmamızı sağlayan bir kavramdır. Bunu anlamak için `araba örneğini` inceleyelim:</span>"
   ]
  },
  {
   "cell_type": "markdown",
   "id": "642d8db6-ab0f-40f3-a243-5aab0b1c6973",
   "metadata": {},
   "source": [
    "<span style=\"font-family: 'Arial', sans-serif; font-size: 16px;\">`Araba Örneği:` Araba, bizi istediğimiz yere götüren bir araçtır. Ancak, arabanın bu hareketi sağlamak için arka planda çalışan pek çok mekanizma vardır: motor, yanma işlemi, vites kutusu vb. Ama biz arabayı kullanırken bu ayrıntılarla ilgilenmeyiz. Aracı kullanmak için sadece pedallara basar ve direksiyonu çeviririz.</span>"
   ]
  },
  {
   "cell_type": "markdown",
   "id": "905bdda2-dbcc-4a51-9d90-c89edfc19891",
   "metadata": {},
   "source": [
    "<span style=\"font-family: 'Arial', sans-serif; font-size: 16px;\">`Abstraction`, işte bu şekilde çalışır. Arabanın nasıl çalıştığını bilmemize gerek yoktur, sadece nasıl kullanılacağını bilmemiz yeterlidir. Bu durum yazılımda da geçerlidir. Bir fonksiyon yazarken, o fonksiyonun nasıl çalıştığı detaylarıyla ilgilenmek yerine, ne yaptığına odaklanırız.</span>"
   ]
  },
  {
   "cell_type": "markdown",
   "id": "f3bc8d30-bf10-4d3d-b0dc-9fb8482f7a72",
   "metadata": {},
   "source": [
    "<span style=\"font-family: 'Arial', sans-serif; font-size: 16px;\">`Örnek:` Bir fonksiyon düşünün, adı pedal. Bu fonksiyon, motoru ateşleme, yakıt aktarımı gibi işlemleri yapar. Biz bu fonksiyonu çağırdığımızda sadece `pedal()` deriz ve arka plandaki işlemlerle ilgilenmeyiz. Bu sayede daha karmaşık işlemlerden soyutlanmış oluruz.</span>"
   ]
  },
  {
   "cell_type": "markdown",
   "id": "05588468-9be0-47e8-9c1f-e0d4821acfcb",
   "metadata": {},
   "source": [
    "## Decomposition (Parçalama) Nedir? "
   ]
  },
  {
   "cell_type": "markdown",
   "id": "11d67732-a68c-40a5-96b0-5f9585ab1b51",
   "metadata": {},
   "source": [
    "<span style=\"font-family: 'Arial', sans-serif; font-size: 16px;\">`Decomposition`, karmaşık bir problemi daha küçük ve yönetilebilir parçalara bölmektir. Yine araba örneğinden devam edelim:</span>"
   ]
  },
  {
   "cell_type": "markdown",
   "id": "d32f9f5a-0dff-4db4-a8d0-ee93c76150cb",
   "metadata": {},
   "source": [
    "<span style=\"font-family: 'Arial', sans-serif; font-size: 16px;\">`Arabanın Çalışması:` Arabanın hareket etmesi, motorun ateşlenmesi, havanın motora alınması, yakıtın aktarılması gibi birçok alt işlem gerektirir. Bu işlemlerin her birini ayrı birer fonksiyon olarak düşünebiliriz. Motorun ateşlenmesi için bir fonksiyon, yakıtın aktarılması için başka bir fonksiyon gibi.</span>"
   ]
  },
  {
   "cell_type": "markdown",
   "id": "33cd1b60-f37c-4acb-81ad-1c8150663f30",
   "metadata": {},
   "source": [
    "<span style=\"font-family: 'Arial', sans-serif; font-size: 16px;\">`Decomposition sayesinde`, büyük ve karmaşık problemleri daha küçük ve yönetilebilir parçalara ayırırız. Bu küçük parçalar `(fonksiyonlar)`, bir araya geldiğinde büyük bir sistemi `(arabanın çalışması)` oluşturur.</span>"
   ]
  },
  {
   "cell_type": "markdown",
   "id": "2fc6d1c4-386c-4039-b8e1-6dda255ab121",
   "metadata": {},
   "source": [
    "### Fonksiyon Yapısı:"
   ]
  },
  {
   "cell_type": "code",
   "execution_count": null,
   "id": "a183ab61-469a-4dbc-91eb-7dc7d73d9b45",
   "metadata": {},
   "outputs": [],
   "source": [
    "def fonksiyon_adi(parametreler):\n",
    "    \"\"\"\n",
    "    Fonksiyonun ne yaptığını anlatan kısa açıklama (opsiyonel).\n",
    "    \"\"\"\n",
    "    # Fonksiyonun gerçekleştirdiği işlemler\n",
    "    kod_bloğu\n",
    "    \n",
    "    return dönüş_değeri"
   ]
  },
  {
   "cell_type": "markdown",
   "id": "535ecb38-ac7e-4ffd-b668-df398c8a70d9",
   "metadata": {},
   "source": [
    "<span style=\"font-family: 'Arial', sans-serif; font-size: 16px;\">**Örnek Fonksiyon: İki Sayının Toplamını Hesaplama:**</span>"
   ]
  },
  {
   "cell_type": "code",
   "execution_count": null,
   "id": "9ac22b04-c2d8-47a7-ba91-b16830f64ce2",
   "metadata": {},
   "outputs": [],
   "source": [
    "def toplama(sayi1, sayi2):\n",
    "    \"\"\"\n",
    "    İki sayının toplamını hesaplar.\n",
    "    \"\"\"\n",
    "    toplam = sayi1 + sayi2\n",
    "    return toplam"
   ]
  },
  {
   "cell_type": "markdown",
   "id": "1e853a1b-9176-425c-b9c6-b3f3a350ca8a",
   "metadata": {},
   "source": [
    "<h2>Bileşenler</h2>\n",
    "<ol>\n",
    "    <li style=\"font-family: 'Arial', sans-serif; font-size: 16px;\">Fonksiyon Adı: `toplama`</li>\n",
    "    <li style=\"font-family: 'Arial', sans-serif; font-size: 16px;\">Parametreler: `sayi1, sayi2`</li>\n",
    "    <li style=\"font-family: 'Arial', sans-serif; font-size: 16px;\">Açıklama: Fonksiyonun ne yaptığını kısaca açıklar (opsiyonel).</li>\n",
    "    <li style=\"font-family: 'Arial', sans-serif; font-size: 16px;\">Kod Bloğu: toplam = `sayi1 + sayi2`</li>\n",
    "    <li style=\"font-family: 'Arial', sans-serif; font-size: 16px;\">`Dönüş Değeri: `return toplam`</li>\n",
    "</ol>"
   ]
  }
 ],
 "metadata": {
  "kernelspec": {
   "display_name": "Python 3 (ipykernel)",
   "language": "python",
   "name": "python3"
  },
  "language_info": {
   "codemirror_mode": {
    "name": "ipython",
    "version": 3
   },
   "file_extension": ".py",
   "mimetype": "text/x-python",
   "name": "python",
   "nbconvert_exporter": "python",
   "pygments_lexer": "ipython3",
   "version": "3.12.3"
  }
 },
 "nbformat": 4,
 "nbformat_minor": 5
}
