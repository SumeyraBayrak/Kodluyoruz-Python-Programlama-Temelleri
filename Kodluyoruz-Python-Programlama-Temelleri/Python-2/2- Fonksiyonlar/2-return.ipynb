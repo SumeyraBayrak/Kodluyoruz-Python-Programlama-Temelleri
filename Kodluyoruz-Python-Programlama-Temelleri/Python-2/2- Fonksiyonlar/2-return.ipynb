{
 "cells": [
  {
   "cell_type": "markdown",
   "id": "8c1d92dd-97d8-457f-9c67-872eb2056093",
   "metadata": {},
   "source": [
    "# Python'da return İfadesi:"
   ]
  },
  {
   "cell_type": "markdown",
   "id": "496b99fd-3ee4-47d3-adfd-f6cfe918307c",
   "metadata": {},
   "source": [
    "<span style=\"font-family: 'Arial', sans-serif; font-size: 16px;\">Fonksiyonların sonuçlarını döndürmek için `return` anahtar kelimesini kullanırız. Bu, fonksiyonun içinde bir değeri belirli bir noktada geri döndürmek ve fonksiyonu sonlandırmak için kullanılır.</span>"
   ]
  },
  {
   "cell_type": "code",
   "execution_count": 2,
   "id": "813a3a01-11b1-4970-a90d-f00f58cb9a76",
   "metadata": {},
   "outputs": [],
   "source": [
    "def square(x):\n",
    "    return x * x"
   ]
  },
  {
   "cell_type": "code",
   "execution_count": 3,
   "id": "14441bb7-8a0b-442f-b784-71a670718abf",
   "metadata": {},
   "outputs": [
    {
     "data": {
      "text/plain": [
       "16"
      ]
     },
     "execution_count": 3,
     "metadata": {},
     "output_type": "execute_result"
    }
   ],
   "source": [
    "square(4)"
   ]
  },
  {
   "cell_type": "markdown",
   "id": "0b81a751-a531-4fc6-b4d0-78095b3a829f",
   "metadata": {},
   "source": [
    "<span style=\"font-family: 'Arial', sans-serif; font-size: 16px;\">Yukarıdaki örnekte, return anahtar kelimesi,` x * x ` işleminin sonucunu döndürür ve fonksiyonun çalışmasını sonlandırır.</span>"
   ]
  },
  {
   "cell_type": "markdown",
   "id": "eb2ba808-e0e1-4d92-a117-89678333d041",
   "metadata": {},
   "source": [
    "<span style=\"font-family: 'Arial', sans-serif; font-size: 16px;\">**`return` Kullanmadan Fonksiyon Tanımlama:**</span>"
   ]
  },
  {
   "cell_type": "code",
   "execution_count": 5,
   "id": "c808e164-97bb-4670-9762-2b61c8866755",
   "metadata": {},
   "outputs": [],
   "source": [
    "def square(x):\n",
    "    x * x"
   ]
  },
  {
   "cell_type": "code",
   "execution_count": 9,
   "id": "6f050eec-385f-44d0-85c4-1c81a620b800",
   "metadata": {},
   "outputs": [
    {
     "name": "stdout",
     "output_type": "stream",
     "text": [
      "None\n"
     ]
    },
    {
     "data": {
      "text/plain": [
       "NoneType"
      ]
     },
     "execution_count": 9,
     "metadata": {},
     "output_type": "execute_result"
    }
   ],
   "source": [
    "square(3)\n",
    "# fonksiyonda print veya return gibi anahtar kelimeler kullanmadığın için buradan sana hiç bir değer dönmez.\n",
    "\n",
    "a = square(3)\n",
    "print(a)\n",
    "type(a)"
   ]
  },
  {
   "cell_type": "markdown",
   "id": "dc67af50-18e8-4075-8392-2d8d3056e433",
   "metadata": {},
   "source": [
    "<span style=\"font-family: 'Arial', sans-serif; font-size: 16px;\">Bu kod, bir `\"square\"` fonksiyonu tanımlar. Bu fonksiyon, bir sayının karesini hesaplar ancak sonucu geri döndürmez, yalnızca ekrana yazdırır. Dolayısıyla, `a = square(3)` ifadesinde `a`'ya bir değer atanmaz. Bu yüzden,` print(a)` ifadesi `\"None\"` değerini yazdırır çünkü `a` hiçbir değere sahip değildir.</span>"
   ]
  },
  {
   "cell_type": "markdown",
   "id": "fd3b4c55-1f09-415b-a9c9-6031dfa59270",
   "metadata": {},
   "source": [
    "### \"return\" İfadesi ve Fonksiyonların Sonlanması:"
   ]
  },
  {
   "cell_type": "code",
   "execution_count": 13,
   "id": "1d0e2d9d-b2d2-4710-b931-450784cb3e57",
   "metadata": {},
   "outputs": [
    {
     "data": {
      "text/plain": [
       "16"
      ]
     },
     "execution_count": 13,
     "metadata": {},
     "output_type": "execute_result"
    }
   ],
   "source": [
    "def square(x):\n",
    "    res = x * x\n",
    "    return res\n",
    "    print(\"Square of \" + str(x) + \": \" + str(res))\n",
    "\n",
    "square(4)"
   ]
  },
  {
   "cell_type": "markdown",
   "id": "b0eec697-f993-4048-9a1d-c0081990f6c4",
   "metadata": {},
   "source": [
    "<span style=\"font-family: 'Arial', sans-serif; font-size: 16px;\">Yukarıdaki fonksiyonda,`return res` ifadesi fonksiyondan çıkışı sağlar. Bu nedenle, `print` ifadesi asla çalıştırılmaz. Fonksiyon çağrıldığında sadece `res` değeri döndürülür.</span>"
   ]
  },
  {
   "cell_type": "markdown",
   "id": "284c1a06-3547-4c26-9cb6-8c94a105e4ee",
   "metadata": {},
   "source": [
    "### \"return\" İfadesi Öncesinde Kodun Etkisi:"
   ]
  },
  {
   "cell_type": "code",
   "execution_count": 15,
   "id": "e9b6483b-e762-45b0-81ca-80b77d290471",
   "metadata": {},
   "outputs": [
    {
     "name": "stdout",
     "output_type": "stream",
     "text": [
      "Square of 4: 16\n"
     ]
    },
    {
     "data": {
      "text/plain": [
       "16"
      ]
     },
     "execution_count": 15,
     "metadata": {},
     "output_type": "execute_result"
    }
   ],
   "source": [
    "def square(x):\n",
    "    res = x * x\n",
    "    print(\"Square of \" + str(x) + \": \" + str(res))\n",
    "    return res\n",
    "\n",
    "square(4)"
   ]
  },
  {
   "cell_type": "markdown",
   "id": "52664805-80e4-4f43-b4c8-3459d1217ee5",
   "metadata": {},
   "source": [
    "<span style=\"font-family: 'Arial', sans-serif; font-size: 16px;\">Bu fonksiyonda, `print` ifadesi `return` ifadesinden önce geldiği için, fonksiyonun sona ermesinden önce çalıştırılır. Yani, fonksiyon sonuç döndürmeden önce belirli bir çıktı alırsınız.</span>"
   ]
  },
  {
   "cell_type": "markdown",
   "id": "0c5334ec-9a92-477d-8261-82e84c94e775",
   "metadata": {},
   "source": [
    "### Durumsal Fonksiyon Oluşturma:"
   ]
  },
  {
   "cell_type": "markdown",
   "id": "8a312fab-7c34-4fdd-8aa7-0e43c7c3b9de",
   "metadata": {},
   "source": [
    "<span style=\"font-family: 'Arial', sans-serif; font-size: 16px;\">`Durumsal fonksiyonlar`, girdiye bağlı olarak farklı işlemler yapabilen fonksiyonlardır. Bu tür fonksiyonlarda `if` ve `else` gibi kontrol yapıları kullanılarak farklı koşullar altında farklı çıktılar üretilir.</span>"
   ]
  },
  {
   "cell_type": "code",
   "execution_count": 22,
   "id": "f3547bf3-d883-49a7-8d2b-a7c46a4210db",
   "metadata": {},
   "outputs": [],
   "source": [
    "def f(x):\n",
    "    res = x * x\n",
    "    \n",
    "    if x % 2 == 0:\n",
    "        return res\n",
    "    else:\n",
    "        return res + 10"
   ]
  },
  {
   "cell_type": "markdown",
   "id": "a65b9914-80d8-4079-a0a1-c1a99f2ff192",
   "metadata": {},
   "source": [
    "<span style=\"font-family: 'Arial', sans-serif; font-size: 16px;\">Yukarıdaki fonksiyon, `girdiye (x)` bağlı olarak farklı bir işlem yapar. Eğer `x` çift bir sayı ise, `res değerini` doğrudan döndürür. Ancak `x` tek bir sayı ise, `res` değerine `10` ekleyerek döndürür.</span>"
   ]
  },
  {
   "cell_type": "code",
   "execution_count": 23,
   "id": "d9835c97-091e-4ef4-9a27-44ef492542cf",
   "metadata": {},
   "outputs": [
    {
     "name": "stdout",
     "output_type": "stream",
     "text": [
      "100\n",
      "179\n"
     ]
    }
   ],
   "source": [
    "def f(x):\n",
    "    res = x * x\n",
    "    \n",
    "    if x % 2 == 0:\n",
    "        return res\n",
    "    else:\n",
    "        return res + 10\n",
    "        \n",
    "print(f(10))  # 100\n",
    "print(f(13))  # 179"
   ]
  },
  {
   "cell_type": "markdown",
   "id": "7270a312-f652-4cca-925f-d4dd6d09f650",
   "metadata": {},
   "source": [
    "<span style=\"font-family: 'Arial', sans-serif; font-size: 16px;\">Bu çağrılar, fonksiyonun nasıl davrandığını gösterir. İlk çağrıda, `f(10)` fonksiyonu çift bir sayı olan `10` için `res` değerini döndürür, bu da `100` olur. İkinci çağrıda ise, `f(13)` fonksiyonu tek bir sayı olan `13` için `res + 10` değerini döndürür, bu da `179` olur.</span>"
   ]
  },
  {
   "cell_type": "markdown",
   "id": "1250362c-b932-401d-811a-6fab076440dc",
   "metadata": {},
   "source": [
    "### Fonksiyonlarda Döngü Kullanımı:"
   ]
  },
  {
   "cell_type": "markdown",
   "id": "d771339c-63ca-43b2-8438-6542de75f351",
   "metadata": {},
   "source": [
    "<span style=\"font-family: 'Arial', sans-serif; font-size: 16px;\">Fonksiyonlar içinde döngüler kullanarak tekrar eden işlemler gerçekleştirebiliriz</span>"
   ]
  },
  {
   "cell_type": "code",
   "execution_count": 25,
   "id": "0f34f3f6-405e-441d-b071-816300103cd2",
   "metadata": {},
   "outputs": [
    {
     "name": "stdout",
     "output_type": "stream",
     "text": [
      "300\n"
     ]
    }
   ],
   "source": [
    "def f(x):\n",
    "    res = x * x\n",
    "    for i in range(10):\n",
    "        res += 20\n",
    "    return res\n",
    "\n",
    "print(f(10))"
   ]
  },
  {
   "cell_type": "markdown",
   "id": "6bc85b1a-ef51-43ed-8449-63a97c704da9",
   "metadata": {},
   "source": [
    "### Döngü ile Liste Oluşturma:"
   ]
  },
  {
   "cell_type": "code",
   "execution_count": 29,
   "id": "70aa76db-d17e-43a0-8817-8346e30c607e",
   "metadata": {},
   "outputs": [
    {
     "name": "stdout",
     "output_type": "stream",
     "text": [
      "[120, 140, 160, 180, 200, 220, 240, 260, 280, 300]\n"
     ]
    }
   ],
   "source": [
    "def f(x):\n",
    "    l = []\n",
    "    res = x * x\n",
    "    for i in range(10):\n",
    "        res += 20\n",
    "        l.append(res)\n",
    "    return l\n",
    "\n",
    "print(f(10))"
   ]
  },
  {
   "cell_type": "markdown",
   "id": "c5820a94-f545-4abd-9710-6ff8eb8a859f",
   "metadata": {},
   "source": [
    "<span style=\"font-family: 'Arial', sans-serif; font-size: 16px;\">Fonksiyon, `x` 10 olduğunda, `x * x` işlemiyle `res` değerini 100 olarak belirler. Daha sonra, `for i in range(10)` döngüsü 10 kez tekrarlanır ve her tekrarda `res` değişkenine 20 eklenir. Bu işlem 10 kez yapıldığında, toplamda 200 eklenmiş olur ve `res` değeri 300 olarak döner.</span>"
   ]
  },
  {
   "cell_type": "markdown",
   "id": "25b2d2e5-7de3-43bd-a3a3-5132a7fafe89",
   "metadata": {},
   "source": [
    "<span style=\"font-family: 'Arial', sans-serif; font-size: 16px;\">**!! Hatalı Formatlama**</span>"
   ]
  },
  {
   "cell_type": "code",
   "execution_count": 31,
   "id": "6e003b29-3c60-4a69-87eb-48023122a7f1",
   "metadata": {},
   "outputs": [
    {
     "data": {
      "text/plain": [
       "300"
      ]
     },
     "execution_count": 31,
     "metadata": {},
     "output_type": "execute_result"
    }
   ],
   "source": [
    "def f(x):\n",
    "    res = x * x\n",
    "    for i in range(10):\n",
    "        res += 20\n",
    "    return res\n",
    "    print(\"hey\")\n",
    "\n",
    "f(10)"
   ]
  },
  {
   "cell_type": "markdown",
   "id": "5d9d658a-1cf4-4fb2-8f4c-ae7535ec7690",
   "metadata": {},
   "source": [
    "<span style=\"font-family: 'Arial', sans-serif; font-size: 16px;\">Bu fonksiyonda ` print(\"hey\")` ifadesi return'den sonra geldiği için çalışmaz. return fonksiyondan çıkışı sağlar.</span>"
   ]
  },
  {
   "cell_type": "markdown",
   "id": "bfcce06a-5da2-4625-b41a-48f3ad0f60c1",
   "metadata": {},
   "source": [
    "### Void Fonksiyonlar (Değer Döndürmeyen Fonksiyonlar):"
   ]
  },
  {
   "cell_type": "markdown",
   "id": "66eee922-9f39-4d32-9bff-19ca73a1381f",
   "metadata": {},
   "source": [
    "<span style=\"font-family: 'Arial', sans-serif; font-size: 16px;\">Void fonksiyonlar, işlem yapar ama bir değer döndürmezler. Bu tür fonksiyonların dönüş tipi `NoneType` olur.</span>"
   ]
  },
  {
   "cell_type": "code",
   "execution_count": 36,
   "id": "11d7e209-0004-4583-b296-3261a525bc77",
   "metadata": {},
   "outputs": [],
   "source": [
    "def f(x):\n",
    "    x = 2\n",
    "\n",
    "f(2)                    # Fonksiyonun çıktısı olmadığı için, None döner."
   ]
  },
  {
   "cell_type": "code",
   "execution_count": 37,
   "id": "cb17a136-0f11-453d-9236-73e1e908ab90",
   "metadata": {},
   "outputs": [
    {
     "ename": "TypeError",
     "evalue": "unsupported operand type(s) for +: 'NoneType' and 'int'",
     "output_type": "error",
     "traceback": [
      "\u001b[1;31m---------------------------------------------------------------------------\u001b[0m",
      "\u001b[1;31mTypeError\u001b[0m                                 Traceback (most recent call last)",
      "Cell \u001b[1;32mIn[37], line 4\u001b[0m\n\u001b[0;32m      1\u001b[0m \u001b[38;5;28;01mdef\u001b[39;00m \u001b[38;5;21mf\u001b[39m(x):\n\u001b[0;32m      2\u001b[0m     x \u001b[38;5;241m=\u001b[39m \u001b[38;5;241m2\u001b[39m\n\u001b[1;32m----> 4\u001b[0m \u001b[43mf\u001b[49m\u001b[43m(\u001b[49m\u001b[38;5;241;43m10\u001b[39;49m\u001b[43m)\u001b[49m\u001b[43m \u001b[49m\u001b[38;5;241;43m+\u001b[39;49m\u001b[43m \u001b[49m\u001b[38;5;241;43m4\u001b[39;49m\n",
      "\u001b[1;31mTypeError\u001b[0m: unsupported operand type(s) for +: 'NoneType' and 'int'"
     ]
    }
   ],
   "source": [
    "def f(x):\n",
    "    x = 2\n",
    "\n",
    "f(10) + 4"
   ]
  },
  {
   "cell_type": "markdown",
   "id": "6847d283-6a8e-4f03-9abb-8ba070eb4a13",
   "metadata": {},
   "source": [
    "<span style=\"font-family: 'Arial', sans-serif; font-size: 16px;\">Burada none ile bir int değeri toplamaya çalıştığımız için hata verdi.</span>"
   ]
  },
  {
   "cell_type": "code",
   "execution_count": 39,
   "id": "c75a1be6-f3a1-4dc5-b81e-82318d2c5691",
   "metadata": {},
   "outputs": [
    {
     "name": "stdout",
     "output_type": "stream",
     "text": [
      "None\n"
     ]
    },
    {
     "data": {
      "text/plain": [
       "NoneType"
      ]
     },
     "execution_count": 39,
     "metadata": {},
     "output_type": "execute_result"
    }
   ],
   "source": [
    "def f(x):\n",
    "    x = 2\n",
    "    \n",
    "print(f(3))\n",
    "type(f(3))  "
   ]
  },
  {
   "cell_type": "markdown",
   "id": "913a9e18-70c0-45a6-8045-70128f9017f4",
   "metadata": {},
   "source": [
    "<span style=\"font-family: 'Arial', sans-serif; font-size: 16px;\">**Ekrana Yazdıran Fonksiyon:**</span>"
   ]
  },
  {
   "cell_type": "markdown",
   "id": "afddf4f7-8c6a-4fa9-928c-81b2156dc2bd",
   "metadata": {},
   "source": [
    "<span style=\"font-family: 'Arial', sans-serif; font-size: 16px;\">Bu fonksiyon, x'in karesini hesaplar ve sonucu ekrana yazdırır ama bir değer döndürmez.</span>"
   ]
  },
  {
   "cell_type": "code",
   "execution_count": 45,
   "id": "94e6f678-246c-47ee-b02c-2edca5675053",
   "metadata": {},
   "outputs": [
    {
     "name": "stdout",
     "output_type": "stream",
     "text": [
      "3 in/ün/un karesi: 9\n",
      "4 in/ün/un karesi: 16\n",
      "<class 'NoneType'>\n",
      "4 in/ün/un karesi: 16\n",
      "None\n"
     ]
    },
    {
     "data": {
      "text/plain": [
       "NoneType"
      ]
     },
     "execution_count": 45,
     "metadata": {},
     "output_type": "execute_result"
    }
   ],
   "source": [
    "def square(x):\n",
    "    print(x, \"in/ün/un karesi:\", x * x)\n",
    "\n",
    "square(3)                          # 3 in/ün/un karesi: 9\n",
    "print(type(square(4)))             # NoneType\n",
    "\n",
    "a = square(4)\n",
    "print(a)\n",
    "type(a)"
   ]
  },
  {
   "cell_type": "markdown",
   "id": "d2659c0c-4be2-4f14-abee-a309df14376a",
   "metadata": {},
   "source": [
    "<span style=\"font-family: 'Arial', sans-serif; font-size: 16px;\">Bir değer yazırır ama bir değer döndürmez!!!! Bu yüzden bir değişkene atadığımızda elde ettiğimiz çıktı: \"None\" a eşittir </span>"
   ]
  },
  {
   "cell_type": "markdown",
   "id": "883660fb-7fcc-4113-97ae-8c1be195152c",
   "metadata": {},
   "source": [
    "<span style=\"font-family: 'Arial', sans-serif; font-size: 16px;\">**Hem Yazdıran Hem Değer Döndüren Fonksiyon:**</span>"
   ]
  },
  {
   "cell_type": "code",
   "execution_count": 49,
   "id": "89195520-2947-4c6c-861a-5623d1f777e1",
   "metadata": {},
   "outputs": [
    {
     "name": "stdout",
     "output_type": "stream",
     "text": [
      "7 in/ün/un karesi: 49\n",
      "4 in/ün/un karesi: 16\n",
      "49\n",
      "18\n"
     ]
    }
   ],
   "source": [
    "def square(x):\n",
    "    res = x * x\n",
    "    print(x, \"in/ün/un karesi:\", res)\n",
    "    return res\n",
    "\n",
    "a = square(7) \n",
    "\n",
    "b = square(4) + 2\n",
    "\n",
    "print(a)\n",
    "print(b)"
   ]
  },
  {
   "cell_type": "markdown",
   "id": "8778006b-1223-4947-9abc-de672aa9fd9e",
   "metadata": {},
   "source": [
    "<span style=\"font-family: 'Arial', sans-serif; font-size: 16px;\">Bu fonksiyon, hem ekrana yazdırma hem de işlem sonucunu döndürme yeteneğine sahiptir.</span>"
   ]
  }
 ],
 "metadata": {
  "kernelspec": {
   "display_name": "Python 3 (ipykernel)",
   "language": "python",
   "name": "python3"
  },
  "language_info": {
   "codemirror_mode": {
    "name": "ipython",
    "version": 3
   },
   "file_extension": ".py",
   "mimetype": "text/x-python",
   "name": "python",
   "nbconvert_exporter": "python",
   "pygments_lexer": "ipython3",
   "version": "3.12.3"
  }
 },
 "nbformat": 4,
 "nbformat_minor": 5
}
