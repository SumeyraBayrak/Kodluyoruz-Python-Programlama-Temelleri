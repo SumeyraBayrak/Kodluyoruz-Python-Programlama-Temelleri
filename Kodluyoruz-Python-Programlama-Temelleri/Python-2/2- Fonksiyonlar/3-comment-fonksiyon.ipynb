{
 "cells": [
  {
   "cell_type": "markdown",
   "id": "6b9af239-7bff-47e5-b71b-4f7b1aaafb80",
   "metadata": {},
   "source": [
    "# Fonksiyonlara Açıklama Yazmak:"
   ]
  },
  {
   "cell_type": "markdown",
   "id": "2e123bc3-3ded-4b93-9a95-b94709837341",
   "metadata": {},
   "source": [
    "<span style=\"font-family: 'Arial', sans-serif; font-size: 16px;\">Python'da fonksiyonlara açıklama `(docstring)` eklemek, fonksiyonun ne yaptığını, hangi parametreleri aldığını ve ne döndürdüğünü belirtir. Bu, kodun daha okunabilir olmasını sağlar. Docstring'ler `üç tırnak işareti (\"\"\")` ile yazılır ve fonksiyonun hemen altında yer alır.</span>"
   ]
  },
  {
   "cell_type": "code",
   "execution_count": null,
   "id": "976ec81d-c147-4dd6-a220-45e1c35193d3",
   "metadata": {},
   "outputs": [],
   "source": [
    "#"
   ]
  },
  {
   "cell_type": "markdown",
   "id": "15632a9e-c1f9-44d0-b0e1-fdba01b2d797",
   "metadata": {},
   "source": [
    "<span style=\"font-family: 'Arial', sans-serif; font-size: 16px;\">**Açıklamasız Fonksiyon:**</span>"
   ]
  },
  {
   "cell_type": "code",
   "execution_count": 2,
   "id": "dcfb8717-09c9-412d-8c98-d21ace558f89",
   "metadata": {},
   "outputs": [],
   "source": [
    "def square(x):\n",
    "    res = x * x\n",
    "    return res"
   ]
  },
  {
   "cell_type": "markdown",
   "id": "ac44bd43-2959-4b03-ae85-ba9e0ae03730",
   "metadata": {},
   "source": [
    "<span style=\"font-family: 'Arial', sans-serif; font-size: 16px;\">Bu fonksiyon, `x`'in karesini hesaplar ve sonucu döndürür. Ancak, fonksiyonun ne yaptığına dair açıklama yoktur.</span>"
   ]
  },
  {
   "cell_type": "code",
   "execution_count": 3,
   "id": "3031dee7-e2aa-4f91-96fa-8fcf7707b0a3",
   "metadata": {},
   "outputs": [],
   "source": [
    "def square(x):\n",
    "    \"\"\"x'in karesini hesaplar ve döndürür.\n",
    "\n",
    "    Args:\n",
    "        x (int or float): Karesi alınacak sayı.\n",
    "\n",
    "    Returns:\n",
    "        int or float: x'in karesi.\n",
    "    \"\"\"\n",
    "    return x * x"
   ]
  },
  {
   "cell_type": "markdown",
   "id": "28adf814-5545-4432-9d72-96c3a1d06ffa",
   "metadata": {},
   "source": [
    "<h2>Docstring Bölümleri</h2>\n",
    "<ul>\n",
    "    <li style=\"font-family: 'Arial', sans-serif; font-size: 16px;\"><strong>Kısa Açıklama:</strong> Fonksiyonun amacını belirtir.</li>\n",
    "    <li style=\"font-family: 'Arial', sans-serif; font-size: 16px;\"><strong>Args (Arguments):</strong> Parametreleri ve türlerini açıklar.</li>\n",
    "    <li style=\"font-family: 'Arial', sans-serif; font-size: 16px;\"><strong>Returns:</strong> Dönen değeri ve türünü açıklar.</li>\n",
    "</ul>"
   ]
  },
  {
   "cell_type": "markdown",
   "id": "c46f9189-3f3d-474f-b859-b6cfd177062c",
   "metadata": {},
   "source": [
    "<h2>Neden Önemli?</h2>\n",
    "<ul>\n",
    "    <li style=\"font-family: 'Arial', sans-serif; font-size: 16px;\"><strong>Okunabilirlik:</strong> Kodun anlaşılmasını kolaylaştırır.</li>\n",
    "    <li style=\"font-family: 'Arial', sans-serif; font-size: 16px;\"><strong>Dökümantasyon:</strong> Otomatik dökümantasyon araçları tarafından kullanılır.</li>\n",
    "    <li style=\"font-family: 'Arial', sans-serif; font-size: 16px;\"><strong>Bakım Kolaylığı:</strong> Fonksiyonun amacını ve kullanımını açıkça belirtir.</li>\n",
    "</ul>"
   ]
  }
 ],
 "metadata": {
  "kernelspec": {
   "display_name": "Python 3 (ipykernel)",
   "language": "python",
   "name": "python3"
  },
  "language_info": {
   "codemirror_mode": {
    "name": "ipython",
    "version": 3
   },
   "file_extension": ".py",
   "mimetype": "text/x-python",
   "name": "python",
   "nbconvert_exporter": "python",
   "pygments_lexer": "ipython3",
   "version": "3.12.3"
  }
 },
 "nbformat": 4,
 "nbformat_minor": 5
}
