{
 "cells": [
  {
   "cell_type": "markdown",
   "id": "557f0a83-a80a-461f-81d5-eedcb2b7b687",
   "metadata": {},
   "source": [
    "# Birden Çok Parametre Alan Fonksiyonlar"
   ]
  },
  {
   "cell_type": "markdown",
   "id": "9551afe1-d036-4677-80c8-f4c35fc8c2e3",
   "metadata": {},
   "source": [
    "<span style=\"font-family: 'Arial', sans-serif; font-size: 16px;\">Python'da fonksiyonlar birden fazla parametre alabilir. Parametreler, fonksiyonun çalışması için gereken değerlerdir.</span>"
   ]
  },
  {
   "cell_type": "markdown",
   "id": "9927c89f-97d4-4828-adbc-8ec0808ca2df",
   "metadata": {},
   "source": [
    "<span style=\"font-family: 'Arial', sans-serif; font-size: 16px;\">**1- Tek Parametreli Fonksiyon:**</span>"
   ]
  },
  {
   "cell_type": "code",
   "execution_count": 4,
   "id": "c3c3e9a3-10a5-4bd6-8f1d-c09f44109d6e",
   "metadata": {},
   "outputs": [
    {
     "data": {
      "text/plain": [
       "9"
      ]
     },
     "execution_count": 4,
     "metadata": {},
     "output_type": "execute_result"
    }
   ],
   "source": [
    "def square(x):\n",
    "    return x * x\n",
    "    \n",
    "square(3)"
   ]
  },
  {
   "cell_type": "markdown",
   "id": "d5b1b8dd-36f7-4954-9aec-e841e64bbd8a",
   "metadata": {},
   "source": [
    "<span style=\"font-family: 'Arial', sans-serif; font-size: 16px;\">Bu fonksiyon, tek bir parametre alır `(x)` ve bu parametrenin karesini döner. `square(3)` çağrısı  9 sonucunu verir, çünkü 3 üssü 2, 9 sonucunu verir</span>"
   ]
  },
  {
   "cell_type": "markdown",
   "id": "a83065f2-2c55-469e-8093-b91b76796ec9",
   "metadata": {},
   "source": [
    "<span style=\"font-family: 'Arial', sans-serif; font-size: 16px;\">**2- İki Parametreli Fonksiyon:**</span>"
   ]
  },
  {
   "cell_type": "code",
   "execution_count": 6,
   "id": "605e3f1e-efc3-4fbb-9363-0d142b171d81",
   "metadata": {},
   "outputs": [
    {
     "data": {
      "text/plain": [
       "8"
      ]
     },
     "execution_count": 6,
     "metadata": {},
     "output_type": "execute_result"
    }
   ],
   "source": [
    "def power(x, y):\n",
    "    return x ** y\n",
    "\n",
    "power(2, 3)"
   ]
  },
  {
   "cell_type": "markdown",
   "id": "25ad6647-d3a0-49a1-9953-dc4c2349be50",
   "metadata": {},
   "source": [
    "<span style=\"font-family: 'Arial', sans-serif; font-size: 16px;\">Bu fonksiyon, iki parametre alır `(x ve y)` ve `x`'in `y` kuvvetini döner. `power(2, 3)` çağrısı 8 sonucunu verir</span>"
   ]
  },
  {
   "cell_type": "markdown",
   "id": "f9fd5481-c729-4a39-ad22-10b716964ee6",
   "metadata": {},
   "source": [
    "# Birden Çok Değer Döndüren Fonksiyonlar"
   ]
  },
  {
   "cell_type": "markdown",
   "id": "3159141f-5600-4f08-b8e8-0af49c356c7f",
   "metadata": {},
   "source": [
    "<span style=\"font-family: 'Arial', sans-serif; font-size: 16px;\">Python'da bir fonksiyon, birden fazla değer döndürebilir. Bu değerler bir `tuple` olarak döner.</span>"
   ]
  },
  {
   "cell_type": "markdown",
   "id": "632576ad-0d7c-44cb-8b76-f7f24a36c2bb",
   "metadata": {},
   "source": [
    "<span style=\"font-family: 'Arial', sans-serif; font-size: 16px;\">**Tek Parametreli ve Çok Değer Döndüren Fonksiyon:**</span>"
   ]
  },
  {
   "cell_type": "code",
   "execution_count": 8,
   "id": "9f8834ab-414f-4fd8-92c1-5c91f1a2d5c0",
   "metadata": {},
   "outputs": [
    {
     "data": {
      "text/plain": [
       "(20, 100)"
      ]
     },
     "execution_count": 8,
     "metadata": {},
     "output_type": "execute_result"
    }
   ],
   "source": [
    "def f(x):\n",
    "    return 2 * x, 10 * x\n",
    "    \n",
    "f(10)"
   ]
  },
  {
   "cell_type": "markdown",
   "id": "d30eb800-e6f3-47c4-89a1-1e120b533fd4",
   "metadata": {},
   "source": [
    "<span style=\"font-family: 'Arial', sans-serif; font-size: 16px;\">Bu fonksiyon, `x` parametresini alır ve iki değer döner: `2*x` ve `10*x`. `f(10)` çağrısı `(20,100)` sonucunu verir çünkü; `2×10=20 ve 10×10=100`.</span>"
   ]
  },
  {
   "cell_type": "markdown",
   "id": "eae6d85a-46af-4e15-9a83-490a764eeeb6",
   "metadata": {},
   "source": [
    "<span style=\"font-family: 'Arial', sans-serif; font-size: 16px;\">**Bu dönen değerleri tuple olarak alırız. Eğer bu iki değeri ayrı ayrı değişkenlere atamak istersek, şöyle yaparız:**</span>"
   ]
  },
  {
   "cell_type": "code",
   "execution_count": 11,
   "id": "2e3ae252-b28c-4cdc-81d5-d74005289fb8",
   "metadata": {},
   "outputs": [
    {
     "name": "stdout",
     "output_type": "stream",
     "text": [
      "20\n",
      "100\n"
     ]
    }
   ],
   "source": [
    "def f(x):\n",
    "    return 2 * x, 10 * x\n",
    "    \n",
    "a, b = f(10) \n",
    "print(a)\n",
    "print(b)"
   ]
  },
  {
   "cell_type": "markdown",
   "id": "82ef2346-a2da-4b8b-ab49-ba13b5a6000e",
   "metadata": {},
   "source": [
    "# Birden Çok Parametreli ve Çok Değer Döndüren Fonksiyon"
   ]
  },
  {
   "cell_type": "markdown",
   "id": "2b74c36d-d07e-4ac9-a011-06cbd592a8b6",
   "metadata": {},
   "source": [
    "<span style=\"font-family: 'Arial', sans-serif; font-size: 16px;\">Bir fonksiyon hem birden çok parametre alabilir hem de birden çok değer döndürebilir.</span>"
   ]
  },
  {
   "cell_type": "code",
   "execution_count": 13,
   "id": "5bc4a830-a780-4335-8806-1b0a02d4dd41",
   "metadata": {},
   "outputs": [
    {
     "data": {
      "text/plain": [
       "(40, 10000)"
      ]
     },
     "execution_count": 13,
     "metadata": {},
     "output_type": "execute_result"
    }
   ],
   "source": [
    "def f(x, y):                                         # x ve y parametrelerini almış\n",
    "    return 2 * x * y, (10 * x) ** y                  # burada iki çıktı dönecek\n",
    "\n",
    "f(10, 2)                                             # (40, 10000)"
   ]
  }
 ],
 "metadata": {
  "kernelspec": {
   "display_name": "Python 3 (ipykernel)",
   "language": "python",
   "name": "python3"
  },
  "language_info": {
   "codemirror_mode": {
    "name": "ipython",
    "version": 3
   },
   "file_extension": ".py",
   "mimetype": "text/x-python",
   "name": "python",
   "nbconvert_exporter": "python",
   "pygments_lexer": "ipython3",
   "version": "3.12.3"
  }
 },
 "nbformat": 4,
 "nbformat_minor": 5
}
