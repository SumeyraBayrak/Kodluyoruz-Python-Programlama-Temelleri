{
 "cells": [
  {
   "cell_type": "markdown",
   "id": "3a43d05a-2562-4c59-99d0-bb2bbe35f5e3",
   "metadata": {},
   "source": [
    "# Default Parameters"
   ]
  },
  {
   "cell_type": "markdown",
   "id": "3b792de8-52ba-402b-8f6b-b5520183e201",
   "metadata": {},
   "source": [
    "<span style=\"font-family: 'Arial', sans-serif; font-size: 16px;\">`Default Parameters(Varsayılan Parametreler)` kavramı, bir fonksiyonun tanımlanmasında belirli parametrelere varsayılan değerler atanmasını ifade eder. Bu, fonksiyon çağrıldığında belirtilmeyen parametreler için kullanılır ve fonksiyon, varsayılan değerleri kullanarak çalışır.</span>"
   ]
  },
  {
   "cell_type": "markdown",
   "id": "079c5ee4-bd32-410b-a2da-80d9803de655",
   "metadata": {},
   "source": [
    "<span style=\"font-family: 'Arial', sans-serif; font-size: 16px;\">**Örneğin, aşağıdaki `Hello` fonksiyonu, `start` parametresine `Hello` adlı bir varsayılan değer atamıştır:**</span>"
   ]
  },
  {
   "cell_type": "code",
   "execution_count": 3,
   "id": "c2ad104e-7359-472f-a077-b17b97b72c10",
   "metadata": {},
   "outputs": [],
   "source": [
    "def hello(end, start=\"Hello\"):\n",
    "    print(start + \" \" + end)"
   ]
  },
  {
   "cell_type": "markdown",
   "id": "3065ab76-5bf5-463a-8405-f80d9019eff6",
   "metadata": {},
   "source": [
    "<span style=\"font-family: 'Arial', sans-serif; font-size: 16px;\">**Bu durumda, `start` parametresi fonksiyon çağrısında belirtilmezse, `Hello` değeri otomatik olarak kullanılır:**</span>"
   ]
  },
  {
   "cell_type": "code",
   "execution_count": 4,
   "id": "11300f0e-23e4-4941-9aba-9aa7a553d4dc",
   "metadata": {},
   "outputs": [
    {
     "name": "stdout",
     "output_type": "stream",
     "text": [
      "Hello Denis\n"
     ]
    }
   ],
   "source": [
    "hello(\"Denis\")"
   ]
  },
  {
   "cell_type": "markdown",
   "id": "b2bc7105-1e5e-4f20-ae31-73adb7533d50",
   "metadata": {},
   "source": [
    "<span style=\"font-family: 'Arial', sans-serif; font-size: 16px;\">**Ancak, bir değer belirtilirse, bu değer varsayılan değeri geçersiz kılar:**</span>"
   ]
  },
  {
   "cell_type": "code",
   "execution_count": 5,
   "id": "8fddf34e-e182-425c-8d1b-d8b0e8618550",
   "metadata": {},
   "outputs": [
    {
     "name": "stdout",
     "output_type": "stream",
     "text": [
      "Hey Denis\n"
     ]
    }
   ],
   "source": [
    "hello(\"Denis\", start=\"Hey\")                                # start adındaki default parametresine farklı bir değer bellirtiyoruz"
   ]
  },
  {
   "cell_type": "code",
   "execution_count": 6,
   "id": "2d65f53e-f0c6-4a9d-a322-cc914fd4b5f9",
   "metadata": {},
   "outputs": [
    {
     "name": "stdout",
     "output_type": "stream",
     "text": [
      "Hey Denis\n"
     ]
    }
   ],
   "source": [
    "hello(\"Denis\",\"Hey\")                                       # default değerini key değerini kullanmadan da değiştirebiliriz"
   ]
  },
  {
   "cell_type": "code",
   "execution_count": 7,
   "id": "13a80f63-0934-401a-9545-93e77e027aab",
   "metadata": {},
   "outputs": [
    {
     "name": "stdout",
     "output_type": "stream",
     "text": [
      "Hello Denis\n"
     ]
    }
   ],
   "source": [
    "hello(\"Denis\")                                             # zorunlu paremetre \"Denis\" varsayılan parametre \"Hello\""
   ]
  },
  {
   "cell_type": "code",
   "execution_count": 8,
   "id": "eac7beef-7f36-4d16-88dd-85bc8933f2dd",
   "metadata": {},
   "outputs": [
    {
     "data": {
      "text/plain": [
       "3"
      ]
     },
     "execution_count": 8,
     "metadata": {},
     "output_type": "execute_result"
    }
   ],
   "source": [
    "def power(x, y=1):\n",
    "    return x ** y\n",
    "\n",
    "power(3)"
   ]
  },
  {
   "cell_type": "markdown",
   "id": "682cee0b-e6f6-43be-b920-9b9af8392657",
   "metadata": {},
   "source": [
    "<span style=\"font-family: 'Arial', sans-serif; font-size: 16px;\">`power(3)` çağrısında, `x` değeri `3` ve `y` değeri belirtilmediği için varsayılan değer olan `1` kullanılır. Yani, fonksiyon `3`'ün 1. üssünü hesaplar ve sonuç olarak `3` döndürür.</span>"
   ]
  },
  {
   "cell_type": "code",
   "execution_count": 9,
   "id": "1c8d8697-acd9-47b0-aedb-699a9342dc53",
   "metadata": {},
   "outputs": [
    {
     "data": {
      "text/plain": [
       "16"
      ]
     },
     "execution_count": 9,
     "metadata": {},
     "output_type": "execute_result"
    }
   ],
   "source": [
    "power(4, 2)"
   ]
  },
  {
   "cell_type": "markdown",
   "id": "5ba3981e-9961-4c38-b7c3-2f51e57045b5",
   "metadata": {},
   "source": [
    "<span style=\"font-family: 'Arial', sans-serif; font-size: 16px;\">`power(4, 2)` çağrısında ise `x` değeri `4` ve `y` değeri `2` olarak belirtilir. Yani, fonksiyon `4`'ün 2. üssünü hesaplar ve sonuç olarak `16` döndürür.</span>"
   ]
  },
  {
   "cell_type": "markdown",
   "id": "a3deb230-064b-44e7-9f4b-6e7c7193da35",
   "metadata": {},
   "source": [
    "<span style=\"font-family: 'Arial', sans-serif; font-size: 16px;\">**!!! default parametrelerini en sona yazmalıyız yoksa hata alırız**</span>"
   ]
  },
  {
   "cell_type": "code",
   "execution_count": 10,
   "id": "5593b10b-723d-4557-a106-84e4eee0a832",
   "metadata": {},
   "outputs": [
    {
     "ename": "SyntaxError",
     "evalue": "parameter without a default follows parameter with a default (4103187003.py, line 1)",
     "output_type": "error",
     "traceback": [
      "\u001b[1;36m  Cell \u001b[1;32mIn[10], line 1\u001b[1;36m\u001b[0m\n\u001b[1;33m    def hello(start=\"Hello\", end):\u001b[0m\n\u001b[1;37m                             ^\u001b[0m\n\u001b[1;31mSyntaxError\u001b[0m\u001b[1;31m:\u001b[0m parameter without a default follows parameter with a default\n"
     ]
    }
   ],
   "source": [
    "def hello(start=\"Hello\", end):\n",
    "    print(start + end)"
   ]
  },
  {
   "cell_type": "markdown",
   "id": "a081ba43-b68a-4c1f-93dc-8804895cc4ec",
   "metadata": {},
   "source": [
    "<span style=\"font-family: 'Arial', sans-serif; font-size: 16px;\">Yukarıdaki fonksiyon tanımı hatalıdır. Çünkü `end` parametresi zorunlu bir parametre iken, `start` parametresi önce gelmiş en sona yazılması gerekirdi.</span>"
   ]
  },
  {
   "cell_type": "code",
   "execution_count": 11,
   "id": "6fd31932-eb32-4ba0-a5f6-e7ed02da7d5a",
   "metadata": {},
   "outputs": [],
   "source": [
    "def f(x, y=1, z=2):\n",
    "    \n",
    "    return x + y + z"
   ]
  },
  {
   "cell_type": "code",
   "execution_count": 12,
   "id": "d7ae4c56-5872-476c-a3ad-548836c3c615",
   "metadata": {},
   "outputs": [
    {
     "data": {
      "text/plain": [
       "5"
      ]
     },
     "execution_count": 12,
     "metadata": {},
     "output_type": "execute_result"
    }
   ],
   "source": [
    "f(2)"
   ]
  },
  {
   "cell_type": "markdown",
   "id": "520d3d0c-3c33-42e5-9cc9-03c0af53c19c",
   "metadata": {},
   "source": [
    "<span style=\"font-family: 'Arial', sans-serif; font-size: 16px;\">`f(2)` çağrısında, `x` değeri `2` olarak belirtilir. Ancak `y` ve `z` parametreleri belirtilmez, dolayısıyla varsayılan değerler kullanılır (sırasıyla 1 ve 2). Sonuç olarak,` 2 + 1 + 2 = 5` olur.</span>"
   ]
  },
  {
   "cell_type": "code",
   "execution_count": 13,
   "id": "9407f823-91f4-400a-8f8d-81f58454b67f",
   "metadata": {},
   "outputs": [
    {
     "data": {
      "text/plain": [
       "9"
      ]
     },
     "execution_count": 13,
     "metadata": {},
     "output_type": "execute_result"
    }
   ],
   "source": [
    "f(2,5)"
   ]
  },
  {
   "cell_type": "markdown",
   "id": "8081445c-b4df-4175-b5ba-dcbd78611d06",
   "metadata": {},
   "source": [
    "<span style=\"font-family: 'Arial', sans-serif; font-size: 16px;\">`f(2, 5)` çağrısında, `x` değeri `2`, `y` değeri `5` olarak belirtilir. Ancak `z` parametresi belirtilmez, dolayısıyla varsayılan değer olan 2 kullanılır. Sonuç olarak, `2 + 5 + 2 = 9` olur.</span>"
   ]
  },
  {
   "cell_type": "code",
   "execution_count": 14,
   "id": "b0516525-dbd6-4677-a567-083c8307d82b",
   "metadata": {},
   "outputs": [
    {
     "data": {
      "text/plain": [
       "13"
      ]
     },
     "execution_count": 14,
     "metadata": {},
     "output_type": "execute_result"
    }
   ],
   "source": [
    "f(2,5,6)"
   ]
  },
  {
   "cell_type": "markdown",
   "id": "3ada18bb-377e-412a-be54-dcb1f4672e42",
   "metadata": {},
   "source": [
    "<span style=\"font-family: 'Arial', sans-serif; font-size: 16px;\">`f(2, 5, 6)`çağrısında ise, `x, y ve z` parametreleri sırasıyla `2, 5 ve 6` olarak belirtilir. Dolayısıyla, fonksiyon bu değerleri toplayarak `2 + 5 + 6 = 13` sonucunu verir.</span>"
   ]
  }
 ],
 "metadata": {
  "kernelspec": {
   "display_name": "Python 3 (ipykernel)",
   "language": "python",
   "name": "python3"
  },
  "language_info": {
   "codemirror_mode": {
    "name": "ipython",
    "version": 3
   },
   "file_extension": ".py",
   "mimetype": "text/x-python",
   "name": "python",
   "nbconvert_exporter": "python",
   "pygments_lexer": "ipython3",
   "version": "3.12.3"
  }
 },
 "nbformat": 4,
 "nbformat_minor": 5
}
