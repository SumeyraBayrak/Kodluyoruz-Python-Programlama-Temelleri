{
 "cells": [
  {
   "cell_type": "markdown",
   "id": "82b410d6-9640-4e33-8528-c6ea41a878cd",
   "metadata": {},
   "source": [
    "# Argümanların Değerlerinin Güncellenip Güncellenmediği Durumlar:"
   ]
  },
  {
   "cell_type": "markdown",
   "id": "ced652ab-e486-46cd-b134-0eff60933ca5",
   "metadata": {},
   "source": [
    "<span style=\"font-family: 'Arial', sans-serif; font-size: 16px;\">Python'da `integer (tam sayı)` ve `float (ondalık sayı)` gibi değişmez `(immutable)` veri tipleri fonksiyonlara argüman olarak geçildiğinde, fonksiyon sadece bu değerlerin kopyaları ile çalışır. Bu nedenle, fonksiyon içinde yapılan değişiklikler, dışarıdaki orijinal değişkenleri etkilemez.</span>"
   ]
  },
  {
   "cell_type": "markdown",
   "id": "36be8694-f15a-4bb9-beeb-e9544f1b1c82",
   "metadata": {},
   "source": [
    "<span style=\"font-family: 'Arial', sans-serif; font-size: 16px;\">**Örnek Üzerinden Açıklama:**</span>"
   ]
  },
  {
   "cell_type": "code",
   "execution_count": 4,
   "id": "ed5bf4e6-b909-489c-829a-aaf9e89787c5",
   "metadata": {},
   "outputs": [
    {
     "name": "stdout",
     "output_type": "stream",
     "text": [
      "2\n"
     ]
    }
   ],
   "source": [
    "a = 2                         # a değişkenine 2 değeri atanır.\n",
    "\n",
    "def f(x):                     # Fonksiyonun içinde x değişkenine 4 değeri atanır. Bu sadece x'i etkiler.\n",
    "    x = 4                     # Fonksiyon, x'in yeni değerini (4) döner.\n",
    "    return x\n",
    " \n",
    "f(a)                          # a değeri 2 olarak f fonksiyonuna geçer. Fonksiyon içindeki x 4 olur, ancak bu a'yı etkilemez.\n",
    "print(a)                      # a hala 2'dir, çünkü fonksiyon a'yı değiştirmemiştir."
   ]
  },
  {
   "cell_type": "code",
   "execution_count": null,
   "id": "45fa21ff-a420-4afd-958e-36afd10c19d2",
   "metadata": {},
   "outputs": [],
   "source": [
    "b = 3.4                       # b değişkenine 3.4 değeri atanır.\n",
    "\n",
    "f(b)                          # b değeri 3.4 olarak f fonksiyonuna geçer. Fonksiyon içindeki x 4 olur, ancak bu b'yi etkilemez.\n",
    "print(b)                      # b hala 3.4'tür, çünkü fonksiyon b'yi değiştirmemiştir."
   ]
  },
  {
   "cell_type": "markdown",
   "id": "4b775c96-d16f-4def-9dfd-f50ea392b452",
   "metadata": {},
   "source": [
    "<span style=\"font-family: 'Arial', sans-serif; font-size: 16px;\">Fonksiyonlar, `integer` ve `float` gibi değişmez veri tipleri ile çalışırken, sadece argümanların kopyaları üzerinde işlem yapar. Bu nedenle, fonksiyon içindeki değişiklikler dışarıdaki değişkenlerin değerlerini etkilemez. `f(a)` ve `f(b)` çağrıları sonucunda `a` hala `2`, `b` hala `3.4` olarak kalır</span>"
   ]
  },
  {
   "cell_type": "markdown",
   "id": "3f5f0fe4-fe03-4da4-963d-f3e63429fb8e",
   "metadata": {},
   "source": [
    "## Listeler Üzerinde Fonksiyon İşlemleri:"
   ]
  },
  {
   "cell_type": "markdown",
   "id": "4cfa5d53-eb9e-4b24-ac8b-5278bbee1296",
   "metadata": {},
   "source": [
    "<span style=\"font-family: 'Arial', sans-serif; font-size: 16px;\">Python'da, listeler değiştirilebilir (mutable) bir veri tipidir. Bu nedenle, bir fonksiyon içinde bir listenin değerlerini değiştirdiğimizde, bu değişiklikler orijinal listeyi etkiler.</span>"
   ]
  },
  {
   "cell_type": "markdown",
   "id": "01efa608-f431-4ba6-9467-fc04dbfe5719",
   "metadata": {},
   "source": [
    "#### Listenin İlk Elemanını \"a\" Olarak Değiştiren Fonksiyon:"
   ]
  },
  {
   "cell_type": "code",
   "execution_count": 13,
   "id": "2d4c6530-01d0-41e0-9612-2025f573868d",
   "metadata": {},
   "outputs": [
    {
     "name": "stdout",
     "output_type": "stream",
     "text": [
      "['a', 2, 3]\n",
      "['a', 2, 3]\n"
     ]
    }
   ],
   "source": [
    "def f(l):\n",
    "    l[0] = \"a\"\n",
    "    return l\n",
    "\n",
    "l = [1, 2, 3]\n",
    "\n",
    "print(f(l))                      # Çıktı: ['a', 2, 3]\n",
    "\n",
    "print(l)                         "
   ]
  },
  {
   "cell_type": "markdown",
   "id": "fdff55f7-a75d-464f-99dc-4a2158ad14f7",
   "metadata": {},
   "source": [
    "<span style=\"font-family: 'Arial', sans-serif; font-size: 16px;\">Fonksiyon `f` içinde, `l` listesinin ilk elemanı `a` olarak değiştirilir. Fonksiyonu çağırdıktan sonra, `l` listesi değişir ve artık ` ['a', 2, 3]` olarak görünür.</span>"
   ]
  },
  {
   "cell_type": "markdown",
   "id": "42002491-7e61-4f6a-85f0-737587a4a0d1",
   "metadata": {},
   "source": [
    "#### Listenin İlk Elemanını 2 Olarak Değiştiren Fonksiyon:"
   ]
  },
  {
   "cell_type": "code",
   "execution_count": 16,
   "id": "79b088b1-6df7-4736-8a9f-f47d0fab2346",
   "metadata": {},
   "outputs": [
    {
     "name": "stdout",
     "output_type": "stream",
     "text": [
      "[2, 2, 3]\n",
      "[2, 2, 3]\n"
     ]
    }
   ],
   "source": [
    "def f(x):\n",
    "    x[0] = 2\n",
    "    return x\n",
    "\n",
    "l = [1, 2, 3]\n",
    "\n",
    "print(f(l))\n",
    "# Çıktı: [2, 2, 3]\n",
    "print(l)\n",
    "# Çıktı: [2, 2, 3]"
   ]
  },
  {
   "cell_type": "markdown",
   "id": "4006e806-15d8-4e77-a04d-24372f0a9cbd",
   "metadata": {},
   "source": [
    "<span style=\"font-family: 'Arial', sans-serif; font-size: 16px;\">Fonksiyon `f` içinde, `x` listesinin ilk elemanı `2` olarak değiştirilir. Fonksiyonu çağırdıktan sonra, `l` listesi değişir ve artık `[2, 2, 3]` olarak görünür.</span>"
   ]
  },
  {
   "cell_type": "markdown",
   "id": "c80704b1-90b0-4aa8-a595-2d7f9e4003a1",
   "metadata": {},
   "source": [
    "<span style=\"font-family: 'Arial', sans-serif; font-size: 16px;\">**Listenin Kopyasını Alıp Kopya Üzerinde Değişiklik Yapan Fonksiyon:**</span>"
   ]
  },
  {
   "cell_type": "code",
   "execution_count": 18,
   "id": "4ec859af-7c85-4963-b5e7-00050bd14281",
   "metadata": {},
   "outputs": [
    {
     "name": "stdout",
     "output_type": "stream",
     "text": [
      "[2, 2, 3]\n",
      "[1, 2, 3]\n"
     ]
    }
   ],
   "source": [
    "def f(x):\n",
    "    l2 = x.copy()\n",
    "    l2[0] = 2\n",
    "    return l2\n",
    "\n",
    "l = [1, 2, 3]\n",
    "print(f(l))                                # Çıktı: [2, 2, 3]\n",
    "print(l)                                   # Çıktı: [1, 2, 3]"
   ]
  },
  {
   "cell_type": "markdown",
   "id": "0e0906df-2dda-4062-9cee-c2d7eb659f34",
   "metadata": {},
   "source": [
    "<span style=\"font-family: 'Arial', sans-serif; font-size: 16px;\">Fonksiyon `f` içinde, `orijinal listenin (x)` bir kopyası `(l2)` oluşturulur. Bu kopya üzerinde yapılan değişiklikler, orijinal listeyi `(l)` etkilemez. Dolayısıyla, fonksiyon çağrısı sonrasında, `l` değişmemiş olarak kalırken, `l2` değişir.</span>"
   ]
  }
 ],
 "metadata": {
  "kernelspec": {
   "display_name": "Python 3 (ipykernel)",
   "language": "python",
   "name": "python3"
  },
  "language_info": {
   "codemirror_mode": {
    "name": "ipython",
    "version": 3
   },
   "file_extension": ".py",
   "mimetype": "text/x-python",
   "name": "python",
   "nbconvert_exporter": "python",
   "pygments_lexer": "ipython3",
   "version": "3.12.3"
  }
 },
 "nbformat": 4,
 "nbformat_minor": 5
}
