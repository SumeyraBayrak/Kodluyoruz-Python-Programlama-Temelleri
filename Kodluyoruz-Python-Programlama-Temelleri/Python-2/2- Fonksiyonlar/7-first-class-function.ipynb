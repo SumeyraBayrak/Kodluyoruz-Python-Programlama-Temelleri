{
 "cells": [
  {
   "cell_type": "markdown",
   "id": "d70c75c1-984c-4630-868e-8277d2a21c2b",
   "metadata": {},
   "source": [
    "# First Class Function"
   ]
  },
  {
   "cell_type": "markdown",
   "id": "b0806978-2f89-49b8-80de-6d1a3548b31f",
   "metadata": {},
   "source": [
    "<span style=\"font-family: 'Arial', sans-serif; font-size: 16px;\">Python'da fonksiyonlar first class function olarak değerlendirilir. Bunun anlamı, fonksiyonların diğer veri tipleri gibi manipüle edilebilir ve başka fonksiyonlara argüman olarak verilebilir.</span>"
   ]
  },
  {
   "cell_type": "markdown",
   "id": "db002e9d-ce94-4974-b190-799aeef186f7",
   "metadata": {},
   "source": [
    "<span style=\"font-family: 'Arial', sans-serif; font-size: 16px;\">**Fonksiyon Tanımlama ve Değişkene Atama:**</span>"
   ]
  },
  {
   "cell_type": "code",
   "execution_count": 4,
   "id": "3d4006bb-1443-4df3-8d37-534a466f541f",
   "metadata": {},
   "outputs": [],
   "source": [
    "def kare(x):\n",
    "    return x**2\n",
    "\n",
    "a = kare"
   ]
  },
  {
   "cell_type": "markdown",
   "id": "af3ebb43-0dfd-45ca-8c5a-51d2e33a8e93",
   "metadata": {},
   "source": [
    "<span style=\"font-family: 'Arial', sans-serif; font-size: 16px;\">Fonksiyon `kare` tanımlandı ve bir değişkene `a`ya atandı. Bu, fonksiyonların diğer değişkenler gibi kullanılabileceğini gösterir.</span>"
   ]
  },
  {
   "cell_type": "markdown",
   "id": "c380f76b-4277-435a-8135-ef65bd8fc7a9",
   "metadata": {},
   "source": [
    "<span style=\"font-family: 'Arial', sans-serif; font-size: 16px;\">**Bu Şekilde:**</span>"
   ]
  },
  {
   "cell_type": "code",
   "execution_count": 7,
   "id": "518a665f-514a-40a6-911d-84f900d20295",
   "metadata": {},
   "outputs": [
    {
     "name": "stdout",
     "output_type": "stream",
     "text": [
      "25\n",
      "25\n"
     ]
    }
   ],
   "source": [
    "print(kare(5))\n",
    "\n",
    "print(a(5))\n"
   ]
  },
  {
   "cell_type": "markdown",
   "id": "f1b325ff-1532-49ce-ad51-f90346deccd5",
   "metadata": {},
   "source": [
    "<span style=\"font-family: 'Arial', sans-serif; font-size: 16px;\">Hem `kare` fonksiyonu doğrudan çağrıldığında hem de `a` değişkeni fonksiyon olarak çağrıldığında, 5'in karesi olan 25 elde edilir.</span>"
   ]
  },
  {
   "cell_type": "markdown",
   "id": "5c3612f6-0b7c-4ff8-89ee-495a4d22baea",
   "metadata": {},
   "source": [
    "## Fonksiyonu Başka Bir Fonksiyona Argüman Olarak Vermek:"
   ]
  },
  {
   "cell_type": "code",
   "execution_count": 14,
   "id": "cf017edc-37e0-4152-b478-032c9e444493",
   "metadata": {},
   "outputs": [
    {
     "name": "stdout",
     "output_type": "stream",
     "text": [
      "13\n",
      "36\n"
     ]
    }
   ],
   "source": [
    "# f2 Fonksiyonunun Tanımlanması:\n",
    "def f2(x, f):\n",
    "    return f(x) + 4\n",
    "\n",
    "# f3 Fonksiyonunun Tanımlanması:\n",
    "def f3(x): \n",
    "    return x**5                        # f3 fonksiyonu bir sayının beşinci kuvvetini hesaplar.\n",
    "\n",
    "# f2 Fonksiyonunun Çağrılması:\n",
    "print(f2(3, kare))                          # 9(3'ün karesi) + 4 = 13\n",
    "\n",
    "print(f2(2, f3))                           # f3(2) + 4 = 32 + 4 = 36"
   ]
  },
  {
   "cell_type": "markdown",
   "id": "654dd0c7-ec8b-47a4-ad10-a000fdac14b5",
   "metadata": {},
   "source": [
    "<span style=\"font-family: 'Arial', sans-serif; font-size: 16px;\">`f2` fonksiyonuna `3` ve `kare` fonksiyonu argüman olarak verilir. `kare(3)` işlemi sonucunda `9` elde edilir ve `9 + 4` işlemi sonucunda `13` döner.</span>"
   ]
  },
  {
   "cell_type": "markdown",
   "id": "d635fa3a-f1fa-40ed-b0d8-f71234b966b1",
   "metadata": {},
   "source": [
    "<span style=\"font-family: 'Arial', sans-serif; font-size: 16px;\">`f2` fonksiyonuna `2` ve `f3` fonksiyonu argüman olarak verilir. `f3(2)` işlemi sonucunda `32` elde edilir ve `32 + 4` işlemi sonucunda `36` döner.</span>"
   ]
  }
 ],
 "metadata": {
  "kernelspec": {
   "display_name": "Python 3 (ipykernel)",
   "language": "python",
   "name": "python3"
  },
  "language_info": {
   "codemirror_mode": {
    "name": "ipython",
    "version": 3
   },
   "file_extension": ".py",
   "mimetype": "text/x-python",
   "name": "python",
   "nbconvert_exporter": "python",
   "pygments_lexer": "ipython3",
   "version": "3.12.3"
  }
 },
 "nbformat": 4,
 "nbformat_minor": 5
}
