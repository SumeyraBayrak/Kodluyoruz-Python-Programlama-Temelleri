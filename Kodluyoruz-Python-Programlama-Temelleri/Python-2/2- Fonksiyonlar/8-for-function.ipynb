{
 "cells": [
  {
   "cell_type": "markdown",
   "id": "edb24a32-04c0-4c8d-b5ba-32a578fb9a54",
   "metadata": {},
   "source": [
    "# Python'da Fonksiyonları Obje Olarak Kullanmak"
   ]
  },
  {
   "cell_type": "markdown",
   "id": "697479f6-9465-4af6-bd61-409e65817d95",
   "metadata": {},
   "source": [
    "<span style=\"font-family: 'Arial', sans-serif; font-size: 16px;\">Python'da fonksiyonlar birinci sınıf (first class) objelerdir, yani diğer veri tipleri gibi fonksiyonlara parametre olarak geçilebilir, geri döndürülebilir ve değişkenlere atanabilirler. Bu özellikleri kullanarak, belirli fonksiyonları bir listenin elemanlarına uygulayabiliriz.</span>"
   ]
  },
  {
   "cell_type": "code",
   "execution_count": 2,
   "id": "ec313a47-925a-4f92-b169-4fc43dee0951",
   "metadata": {
    "scrolled": true
   },
   "outputs": [
    {
     "name": "stdout",
     "output_type": "stream",
     "text": [
      "[1, 4, 9, 16]\n"
     ]
    }
   ],
   "source": [
    "# Bir liste tanımlayalım\n",
    "l = [1, 2, 3, 4]\n",
    "\n",
    "# Liste elemanlarına uygulanacak fonksiyonu tanımlayalım\n",
    "def apply(l, f):\n",
    "    \"\"\"\n",
    "    l bir liste, f ise listenin tüm elemanlarına uygulanacak fonksiyon.\n",
    "    Bu fonksiyon, sonunda listenin orijinal elemanlarını güncellenmiş haliyle değiştirir.\n",
    "    \"\"\"\n",
    "    n = len(l)  # Listenin uzunluğunu belirler\n",
    "\n",
    "    for i in range(n):  # Listenin her elemanı için\n",
    "        l[i] = f(l[i])  # Fonksiyonu uygular ve sonucu aynı indekse yazar\n",
    "\n",
    "# Elemanların karesini alan bir fonksiyon tanımlayalım\n",
    "def kare(x):\n",
    "    return x ** 2\n",
    "\n",
    "# apply fonksiyonunu kullanarak kare fonksiyonunu listenin her elemanına uygulayalım\n",
    "apply(l, kare)\n",
    "\n",
    "# Sonuç olarak, liste elemanlarının karelerini içeren yeni bir liste elde ederiz\n",
    "print(l)  # Çıktı: [1, 4, 9, 16]"
   ]
  },
  {
   "cell_type": "markdown",
   "id": "bb4cad0f-9b3b-4fc2-a6ff-5fd3ef9a7719",
   "metadata": {},
   "source": [
    "<span style=\"font-family: 'Arial', sans-serif; font-size: 16px;\">**Küp Fonksiyonu Üzerinde İşlem Yapma:**</span>"
   ]
  },
  {
   "cell_type": "code",
   "execution_count": 3,
   "id": "67ae0b45-9270-4ee3-a94e-1a5678716d04",
   "metadata": {},
   "outputs": [
    {
     "name": "stdout",
     "output_type": "stream",
     "text": [
      "[1, 8, 27, 64]\n"
     ]
    }
   ],
   "source": [
    "l = [1,2,3,4]\n",
    "\n",
    "def kup(x):\n",
    "    return x**3\n",
    "    \n",
    "apply(l, kup)\n",
    "\n",
    "print(l)"
   ]
  },
  {
   "cell_type": "markdown",
   "id": "d1659926-aec2-48b9-9e62-5d66e85b68cc",
   "metadata": {},
   "source": [
    "<span style=\"font-family: 'Arial', sans-serif; font-size: 16px;\">Buradada bir list'i altık elemanları tek tek değiştirip yeni bir liste döndük.</span>"
   ]
  },
  {
   "cell_type": "code",
   "execution_count": 4,
   "id": "aabac84a-d702-4d79-b927-1560457be0f9",
   "metadata": {},
   "outputs": [
    {
     "name": "stdout",
     "output_type": "stream",
     "text": [
      "[25, 125]\n"
     ]
    }
   ],
   "source": [
    "# Fonksiyonları içeren bir listeyi belirli bir değere uygular\n",
    "def apply_funcs(f_list, x):\n",
    "    # Sonuçları saklayacağımız bir liste oluşturuyoruz\n",
    "    results = []\n",
    "    # Fonksiyon listesindeki her bir fonksiyonu sırayla x değerine uygulayıp sonuçları listeye ekliyoruz\n",
    "    for f in f_list:\n",
    "        results.append(f(x))\n",
    "    # Sonuç listesini geri döndürüyoruz\n",
    "    return results\n",
    "\n",
    "# Kare ve küp alma fonksiyonları\n",
    "def kare(y):\n",
    "    return y ** 2\n",
    "\n",
    "def kup(y):\n",
    "    return y ** 3\n",
    "\n",
    "# Fonksiyonları içeren listeyi ve uygulanacak değeri tanımlayıp fonksiyonu çağırıyoruz\n",
    "result = apply_funcs([kare, kup], 5)\n",
    "print(result)  # Çıktı: [25, 125]"
   ]
  },
  {
   "cell_type": "markdown",
   "id": "b80eaad7-d5ce-4428-a28b-fbb2de256dc0",
   "metadata": {},
   "source": [
    "<span style=\"font-family: 'Arial', sans-serif; font-size: 16px;\">`apply_funcs` fonksiyonu, bir fonksiyon listesini `(f_list)` ve bir değeri `(x)` alır ve bu değeri listedeki her bir fonksiyona uygular. kare ve kup fonksiyonları sırasıyla bir sayının karesini ve küpünü hesaplar. Örneğin, `apply_funcs([kare, kup], 5)` çağrıldığında, 5 değeri önce kare fonksiyonuna uygulanarak 25, ardından kup fonksiyonuna uygulanarak 125 elde edilir. Bu sonuçlar bir liste olarak döndürülür: `[25, 125]`.</span>"
   ]
  }
 ],
 "metadata": {
  "kernelspec": {
   "display_name": "Python 3 (ipykernel)",
   "language": "python",
   "name": "python3"
  },
  "language_info": {
   "codemirror_mode": {
    "name": "ipython",
    "version": 3
   },
   "file_extension": ".py",
   "mimetype": "text/x-python",
   "name": "python",
   "nbconvert_exporter": "python",
   "pygments_lexer": "ipython3",
   "version": "3.12.3"
  }
 },
 "nbformat": 4,
 "nbformat_minor": 5
}
