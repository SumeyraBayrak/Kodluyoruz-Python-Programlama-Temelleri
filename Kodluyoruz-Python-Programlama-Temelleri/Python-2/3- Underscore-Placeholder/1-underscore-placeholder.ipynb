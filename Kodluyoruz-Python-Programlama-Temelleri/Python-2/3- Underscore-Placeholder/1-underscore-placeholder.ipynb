{
 "cells": [
  {
   "cell_type": "markdown",
   "id": "9a247987-72a5-45c6-941a-5b16778c42a8",
   "metadata": {},
   "source": [
    "## Sayıların Okunabilirliğini Artırmak İçin Alt Çizgi Kullanımı"
   ]
  },
  {
   "cell_type": "markdown",
   "id": "8e9b9414-34d4-498e-8d76-698f8ddb3446",
   "metadata": {},
   "source": [
    "<span style=\"font-family: 'Arial', sans-serif; font-size: 16px;\">Büyük sayıları okumak ve yazmak bazen zor olabilir. Bu sorunu çözmek için Python, sayıları daha okunabilir hale getirmek amacıyla alt çizgi `(_)`  kullanımına izin verir. Alt çizgiler, bilgisayar tarafından tamamen göz ardı edilir ve sayının değerini değiştirmez. Bu sayede, sayılar daha düzenli ve okunabilir hale gelir.</span>"
   ]
  },
  {
   "cell_type": "code",
   "execution_count": 1,
   "id": "7fde4d52-71e8-4bca-9e2f-0a10e55c88b8",
   "metadata": {},
   "outputs": [],
   "source": [
    "num_1 = 90000000000                                  # Bu sayı 90 milyar\n",
    "num_2 = 90_000_000_000                               # Bu da 90 milyar, fakat alt çizgi kullanılarak daha okunabilir hale getirilmiş"
   ]
  },
  {
   "cell_type": "code",
   "execution_count": 2,
   "id": "d616cd58-e362-463d-ba9a-bd2040c108e1",
   "metadata": {},
   "outputs": [
    {
     "name": "stdout",
     "output_type": "stream",
     "text": [
      "90000000000\n",
      "90000000000\n",
      "<class 'int'>\n",
      "<class 'int'>\n",
      "0\n"
     ]
    }
   ],
   "source": [
    "print(num_1)                                         # 90000000000\n",
    "print(num_2)                                         # 90000000000\n",
    "print(type(num_1))                                   # <class 'int'>\n",
    "print(type(num_2))                                   # <class 'int'>\n",
    "print(num_1 - num_2)                                 # 0"
   ]
  },
  {
   "cell_type": "markdown",
   "id": "3dfd40a9-eead-4d82-9ad1-2a57be6af56f",
   "metadata": {},
   "source": [
    "<span style=\"font-family: 'Arial', sans-serif; font-size: 16px;\">`num_1 ve num_2` değişkenlerinin çıktılarının aynı olduğunu görürüz: `90000000000`. Her iki değişken de `int` tipindedir, yani Python için tamsayı olarak kabul edilirler. `num_1 ve num_2` arasındaki fark `0`'dır, bu da iki sayının birbirine eşit olduğunu gösterir.</span>"
   ]
  },
  {
   "cell_type": "markdown",
   "id": "7ff71b29-66a3-4683-8fba-06e7a892fd23",
   "metadata": {},
   "source": [
    "## Float Veri Tiplerinde Alt Çizgi Kullanımı"
   ]
  },
  {
   "cell_type": "markdown",
   "id": "f44d27b0-4446-430e-a96d-29af13d9c227",
   "metadata": {},
   "source": [
    "<span style=\"font-family: 'Arial', sans-serif; font-size: 16px;\">Alt çizgi `(_)` kullanımı, sadece `tamsayılar (integers)` için değil, aynı zamanda `ondalıklı sayılar (floats)` için de geçerlidir. Bu sayede, ondalıklı sayılar da daha okunabilir hale getirilebilir.</span>"
   ]
  },
  {
   "cell_type": "code",
   "execution_count": 4,
   "id": "3b4ce0b7-2be7-4de9-adc0-175b0613057e",
   "metadata": {},
   "outputs": [],
   "source": [
    "num_3 = 0.12_11_12"
   ]
  },
  {
   "cell_type": "code",
   "execution_count": 5,
   "id": "22936890-f796-4f28-a7e5-8de8fd47109f",
   "metadata": {},
   "outputs": [
    {
     "name": "stdout",
     "output_type": "stream",
     "text": [
      "0.121112\n",
      "<class 'float'>\n"
     ]
    }
   ],
   "source": [
    "num_3 = 0.12_11_12\n",
    "print(num_3)                                        # 0.121112\n",
    "print(type(num_3))                                  # <class 'float'>"
   ]
  },
  {
   "cell_type": "markdown",
   "id": "aa55a88f-ceb6-4557-b521-aa14de5023da",
   "metadata": {},
   "source": [
    "<span style=\"font-family: 'Arial', sans-serif; font-size: 16px;\">Alt çizgi kullanarak daha okunabilir hale getirdiğimiz `num_3` değişkeninin çıktısı `0.121112`'dir. Bu değişkenin tipi ise float'tır. Python, sayının içinde yer alan alt çizgileri tamamen göz ardı eder ve sayıyı `0.121112` olarak işler. </span>"
   ]
  }
 ],
 "metadata": {
  "kernelspec": {
   "display_name": "Python 3 (ipykernel)",
   "language": "python",
   "name": "python3"
  },
  "language_info": {
   "codemirror_mode": {
    "name": "ipython",
    "version": 3
   },
   "file_extension": ".py",
   "mimetype": "text/x-python",
   "name": "python",
   "nbconvert_exporter": "python",
   "pygments_lexer": "ipython3",
   "version": "3.12.3"
  }
 },
 "nbformat": 4,
 "nbformat_minor": 5
}
