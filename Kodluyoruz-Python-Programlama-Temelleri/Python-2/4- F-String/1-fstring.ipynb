{
 "cells": [
  {
   "cell_type": "markdown",
   "id": "93d06fa6-2e35-4eb6-a5eb-9d915ef956a9",
   "metadata": {},
   "source": [
    "## F-Strings ile Değişken Değerlerini String İçine Gömme"
   ]
  },
  {
   "cell_type": "markdown",
   "id": "48ff436b-f345-4c74-b106-289ff18cd40a",
   "metadata": {},
   "source": [
    "<span style=\"font-family: 'Arial', sans-serif; font-size: 16px;\">Python'da değişkenlerin ve ifadelerin değerlerini doğrudan bir string'in içine eklemek için `f-string` adı verilen bir özellik kullanılır.` F-string`'ler, string interpolation adıyla da bilinir ve stringlerin içinde değişkenlerin veya hesaplamaların sonucunu kolayca kullanmamızı sağlar.</span>"
   ]
  },
  {
   "cell_type": "markdown",
   "id": "2592fc5b-313c-408d-9f6b-1f9523b721fc",
   "metadata": {},
   "source": [
    "<span style=\"font-family: 'Arial', sans-serif; font-size: 16px;\">**Temel Kullanım**</span>"
   ]
  },
  {
   "cell_type": "code",
   "execution_count": 2,
   "id": "02bdec81-7484-4858-a8e8-e3cf1af5ae5f",
   "metadata": {},
   "outputs": [
    {
     "name": "stdout",
     "output_type": "stream",
     "text": [
      "x'in değeri 2\n"
     ]
    }
   ],
   "source": [
    "x = 2\n",
    "print(f\"x'in değeri {x}\")"
   ]
  },
  {
   "cell_type": "markdown",
   "id": "1c4df6ec-dd5c-4937-a42a-de395167f1f0",
   "metadata": {},
   "source": [
    "<span style=\"font-family: 'Arial', sans-serif; font-size: 16px;\">Bu kod, `\"x'in değeri 2\"` çıktısını verir. Burada `f\"...\"` yapısının içinde süslü parantez `{}` kullanarak `x`değişkeninin değerini string'in içine gömdük.</span>"
   ]
  },
  {
   "cell_type": "code",
   "execution_count": null,
   "id": "4ce88ab0-608b-4eab-9b4c-a40725c10144",
   "metadata": {},
   "outputs": [],
   "source": []
  },
  {
   "cell_type": "markdown",
   "id": "fb686d62-9dcc-4c74-b046-baa095af387f",
   "metadata": {},
   "source": [
    "<span style=\"font-family: 'Arial', sans-serif; font-size: 16px;\">**Eski Yöntemle Karşılaştırma:**</span>"
   ]
  },
  {
   "cell_type": "code",
   "execution_count": 4,
   "id": "95010a5c-f027-4c71-9542-32f9ddff41a3",
   "metadata": {},
   "outputs": [
    {
     "name": "stdout",
     "output_type": "stream",
     "text": [
      "x'in değeri 2\n"
     ]
    }
   ],
   "source": [
    "x = 2\n",
    "print(\"x'in değeri \" + str(x))"
   ]
  },
  {
   "cell_type": "markdown",
   "id": "1e243007-4cce-4332-ba3f-cad061302e3d",
   "metadata": {},
   "source": [
    "<span style=\"font-family: 'Arial', sans-serif; font-size: 16px;\">Bu yöntemde, string'leri birleştirmek ve `x` değişkeninin değerini `string`'e dönüştürmek zorundaydık. `F-string` kullanımı bu işlemi çok daha basit hale getirir.</span>"
   ]
  },
  {
   "cell_type": "markdown",
   "id": "08004cdf-6e34-4853-b4e5-2f94c776a982",
   "metadata": {},
   "source": [
    "<span style=\"font-family: 'Arial', sans-serif; font-size: 16px;\">**Birden Çok Değişken**</span>"
   ]
  },
  {
   "cell_type": "code",
   "execution_count": 6,
   "id": "a67e33b4-67e6-4879-b9b7-51c95717b3b1",
   "metadata": {},
   "outputs": [
    {
     "name": "stdout",
     "output_type": "stream",
     "text": [
      "x'in değeri 2, y'nin değeri 3\n"
     ]
    }
   ],
   "source": [
    "x = 2\n",
    "y = 3\n",
    "print(f\"x'in değeri {x}, y'nin değeri {y}\")"
   ]
  },
  {
   "cell_type": "markdown",
   "id": "aa8d25f0-3875-4939-97fd-b4eb0c0ed103",
   "metadata": {},
   "source": [
    "<span style=\"font-family: 'Arial', sans-serif; font-size: 16px;\">Bu kod, `\"x'in değeri 2, y'nin değeri 3\"` çıktısını verir</span>"
   ]
  },
  {
   "cell_type": "markdown",
   "id": "cd79dffb-beda-4803-8513-7cf9ca63e7b4",
   "metadata": {},
   "source": [
    "<span style=\"font-family: 'Arial', sans-serif; font-size: 16px;\">**Hesaplamalar ve Fonksiyon Çağrıları**</span>"
   ]
  },
  {
   "cell_type": "code",
   "execution_count": 8,
   "id": "6f8f6f22-8ad7-46b4-8d4b-5a385734dfbe",
   "metadata": {},
   "outputs": [
    {
     "name": "stdout",
     "output_type": "stream",
     "text": [
      "x'in değerinin iki fazlası 4\n"
     ]
    }
   ],
   "source": [
    "x = 2\n",
    "print(f\"x'in değerinin iki fazlası {x + 2}\")"
   ]
  },
  {
   "cell_type": "markdown",
   "id": "d4653eb1-0b25-4745-8ec2-17d22a7c112d",
   "metadata": {},
   "source": [
    "<span style=\"font-family: 'Arial', sans-serif; font-size: 16px;\">Bu kod, ` x + 2` işlemini yapar ve sonucu string'in içine gömer, böylece çıktı ` \"x'in değerinin iki fazlası 4\"` olur.</span>"
   ]
  },
  {
   "cell_type": "code",
   "execution_count": 9,
   "id": "1626b708-e1c2-4f56-935c-3174f1271a9a",
   "metadata": {},
   "outputs": [
    {
     "name": "stdout",
     "output_type": "stream",
     "text": [
      "10 sayısının karesi 100\n"
     ]
    }
   ],
   "source": [
    "def kare(x):\n",
    "    return x ** 2\n",
    "\n",
    "x = 10\n",
    "print(f\"{x} sayısının karesi {kare(x)}\")"
   ]
  },
  {
   "cell_type": "markdown",
   "id": "7926ebff-5ebb-4354-bf52-5f8f4ffecdb1",
   "metadata": {},
   "source": [
    "<span style=\"font-family: 'Arial', sans-serif; font-size: 16px;\">Bu örnekte,` kare(x)` fonksiyonu çağrılır ve sonucu string'in içine gömülür, yani çıktı `\"10 sayısının karesi 100\"` olur.</span>"
   ]
  },
  {
   "cell_type": "markdown",
   "id": "53c0fe47-6240-4c8e-85b6-daf3a4a53ed0",
   "metadata": {},
   "source": [
    "## Kullanım Örnekleri:"
   ]
  },
  {
   "cell_type": "markdown",
   "id": "0b50e3f2-91b2-4444-b2bc-c2b8f503067b",
   "metadata": {},
   "source": [
    "### 1. Değişken Değeri Gömmek:"
   ]
  },
  {
   "cell_type": "code",
   "execution_count": 11,
   "id": "d1d71213-1d1b-47c9-94f5-e89cda951c9b",
   "metadata": {},
   "outputs": [
    {
     "name": "stdin",
     "output_type": "stream",
     "text": [
      "İsim:  Sümeyra\n"
     ]
    },
    {
     "name": "stdout",
     "output_type": "stream",
     "text": [
      "verilen isim Sümeyra\n"
     ]
    }
   ],
   "source": [
    "isim = input(\"İsim: \")\n",
    "print(f\"verilen isim {isim}\")"
   ]
  },
  {
   "cell_type": "markdown",
   "id": "ffe336d4-a03b-4c50-9028-330378177014",
   "metadata": {},
   "source": [
    "<span style=\"font-family: 'Arial', sans-serif; font-size: 16px;\">Kullanıcıdan alınan ismi string'in içine gömer ve örneğin `\"verilen isim Sümeyra\"` çıktısını verir.</span>"
   ]
  },
  {
   "cell_type": "markdown",
   "id": "267dbef9-2bb4-41d8-ba22-ef1694aa894b",
   "metadata": {},
   "source": [
    "### 2- Liste Gömmek:"
   ]
  },
  {
   "cell_type": "code",
   "execution_count": 13,
   "id": "52eb743e-113c-458d-b8b1-71dc8dd4ccec",
   "metadata": {},
   "outputs": [
    {
     "name": "stdout",
     "output_type": "stream",
     "text": [
      "verilen liste [1, 2, 3, 4]\n"
     ]
    }
   ],
   "source": [
    "l = [1, 2, 3, 4]\n",
    "print(f\"verilen liste {l}\")"
   ]
  },
  {
   "cell_type": "markdown",
   "id": "d4edd14b-f814-4fb1-af79-1d8cf478fced",
   "metadata": {},
   "source": [
    "<span style=\"font-family: 'Arial', sans-serif; font-size: 16px;\">isteyi string'in içine gömer ve çıktı `\"verilen liste [1, 2, 3, 4]\"` olur.</span>"
   ]
  },
  {
   "cell_type": "markdown",
   "id": "9d049d71-e965-4c1a-aed4-00fda17e31d0",
   "metadata": {},
   "source": [
    "### 3- Fonksiyon Kullanmak:"
   ]
  },
  {
   "cell_type": "code",
   "execution_count": 17,
   "id": "44a3e1ae-63b5-4c2f-bdbb-ddc4860c0d3e",
   "metadata": {},
   "outputs": [
    {
     "name": "stdout",
     "output_type": "stream",
     "text": [
      "verilen isim Sümeyra\n"
     ]
    }
   ],
   "source": [
    "isim = \"sümeyra\"\n",
    "print(f\"verilen isim {isim.capitalize()}\")"
   ]
  },
  {
   "cell_type": "markdown",
   "id": "5354d268-84aa-432e-a0d3-8451e62bc602",
   "metadata": {},
   "source": [
    "<span style=\"font-family: 'Arial', sans-serif; font-size: 16px;\">Burada `capitalize()` fonksiyonu çağrılarak ismin ilk harfi büyük yapılır ve çıktı `\"verilen isim Sümeyra\"` olur.</span>"
   ]
  }
 ],
 "metadata": {
  "kernelspec": {
   "display_name": "Python 3 (ipykernel)",
   "language": "python",
   "name": "python3"
  },
  "language_info": {
   "codemirror_mode": {
    "name": "ipython",
    "version": 3
   },
   "file_extension": ".py",
   "mimetype": "text/x-python",
   "name": "python",
   "nbconvert_exporter": "python",
   "pygments_lexer": "ipython3",
   "version": "3.11.7"
  }
 },
 "nbformat": 4,
 "nbformat_minor": 5
}
