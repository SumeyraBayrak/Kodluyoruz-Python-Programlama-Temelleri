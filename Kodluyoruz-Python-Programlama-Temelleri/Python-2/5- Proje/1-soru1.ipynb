{
 "cells": [
  {
   "cell_type": "markdown",
   "id": "40cec6a3-a20c-402c-8805-2033ae4a4f1f",
   "metadata": {},
   "source": [
    "# Soru 1:"
   ]
  },
  {
   "cell_type": "markdown",
   "id": "866504a4-2b00-4af1-906a-54a272a0bc9f",
   "metadata": {},
   "source": [
    "<span style=\"font-family: 'Arial', sans-serif; font-size: 16px;\">1- Bir listeyi düzleştiren `flatten` fonksiyon yazın. Elemanları birden çok katmanlı listelerden `([[3],2])` şeklinde oluşabileceği gibi, non-scalar verilerden(sözlük, tuple vb.) gibi iç içe geçmiş verilerden de oluşabilir.</span>\n",
    "<br><br>\n",
    "<span style=\"font-family: 'Arial', sans-serif; font-size: 16px;\"><strong>Örnek Olarak:</strong></span>\n",
    "<br>\n",
    "<span style=\"font-family: 'Arial', sans-serif; font-size: 16px;\">input: <strong> [[1,'a',['cat'],2],[[[3]],'dog'],4,5] </strong></span>\n",
    "<br>\n",
    "<span style=\"font-family: 'Arial', sans-serif; font-size: 16px;\">output: <strong>  [1,'a','cat',2,3,'dog',4,5] </strong></span>"
   ]
  },
  {
   "cell_type": "markdown",
   "id": "8ce87c46-7957-42d7-92ea-aaca65453c49",
   "metadata": {},
   "source": [
    "##  \"flatten\" Fonksiyonu:"
   ]
  },
  {
   "cell_type": "code",
   "execution_count": 2,
   "id": "223c0e61-7858-43ff-84bf-579a948a83e5",
   "metadata": {},
   "outputs": [],
   "source": [
    "\n",
    "def flatten(obj, parent_key='', sep='_'):\n",
    "    if isinstance(obj, list):\n",
    "        flat_list = []\n",
    "        for item in obj:\n",
    "            if isinstance(item, list):\n",
    "                flat_list.extend(flatten(item))\n",
    "            else:\n",
    "                flat_list.append(item)\n",
    "        return flat_list\n",
    "    elif isinstance(obj, dict):\n",
    "        flat_dict = []    \n",
    "        for k, v in obj.items():\n",
    "            new_key = parent_key + sep + k if parent_key else k\n",
    "            if isinstance(v, dict):\n",
    "                flat_dict.extend(flatten(v, new_key, sep=sep).items())\n",
    "            else:\n",
    "                flat_dict.append((new_key, v))\n",
    "        return dict(flat_dict)\n",
    "    elif isinstance(obj, tuple):\n",
    "        flat_tuple = []\n",
    "        for item in obj:\n",
    "            if isinstance(item, tuple):\n",
    "                flat_tuple.extend(flatten(item))\n",
    "            else:\n",
    "                flat_tuple.append(item)\n",
    "        return tuple(flat_tuple)\n",
    "        "
   ]
  },
  {
   "cell_type": "markdown",
   "id": "07250fc8-65af-4d91-9528-22ad6563eb3e",
   "metadata": {},
   "source": [
    "<span style=\"font-family: 'Arial', sans-serif; font-size: 16px;\">**Liste için:**</span>"
   ]
  },
  {
   "cell_type": "code",
   "execution_count": 5,
   "id": "2dc2891a-2a22-4cab-b424-3da09131f032",
   "metadata": {},
   "outputs": [
    {
     "name": "stdout",
     "output_type": "stream",
     "text": [
      "[1, 2, 3, 4, 5, 6, 7]\n"
     ]
    }
   ],
   "source": [
    "input_list = [[1, 2], [3, 4], [5, 6, 7]]\n",
    "output_list = flatten(input_list)\n",
    "print(output_list)"
   ]
  },
  {
   "cell_type": "markdown",
   "id": "e9bf4b58-3d80-44d0-bd53-3afce1bb8d33",
   "metadata": {},
   "source": [
    "<span style=\"font-family: 'Arial', sans-serif; font-size: 16px;\">**Sözlük(Dictionary) için:**</span>"
   ]
  },
  {
   "cell_type": "code",
   "execution_count": 7,
   "id": "31e8d26b-eeaf-4ebb-8b00-2ef725a92286",
   "metadata": {},
   "outputs": [
    {
     "name": "stdout",
     "output_type": "stream",
     "text": [
      "{'a': 1, 'b_c': 2, 'd_e': 3, 'd_f': 4, 'd_p_l': 10, 'd_p_k': 50}\n"
     ]
    }
   ],
   "source": [
    "input_dict = {'a': 1, 'b': {'c': 2}, 'd': {'e': 3, 'f': 4, \"p\": {\"l\": 10, \"k\": 50}}}\n",
    "output_dict = flatten(input_dict)\n",
    "print(output_dict)"
   ]
  },
  {
   "cell_type": "markdown",
   "id": "411d18ec-cf1c-4b50-9a25-d10c48532f19",
   "metadata": {},
   "source": [
    "<span style=\"font-family: 'Arial', sans-serif; font-size: 16px;\">**Tuple için():**</span>"
   ]
  },
  {
   "cell_type": "code",
   "execution_count": 8,
   "id": "86ef5aae-6d77-4f5a-83d2-3393c9ff4d75",
   "metadata": {},
   "outputs": [
    {
     "name": "stdout",
     "output_type": "stream",
     "text": [
      "(1, 2, 3, 4, 5, 6, 7, 8, 9)\n"
     ]
    }
   ],
   "source": [
    "input_tuple = ((1, 2), (3, (4, 5)), ((6, 7), 8), 9)\n",
    "output_tuple = flatten(input_tuple)\n",
    "print(output_tuple)"
   ]
  },
  {
   "cell_type": "markdown",
   "id": "abbedaad-6e9a-40e5-851b-068c09f7980e",
   "metadata": {},
   "source": [
    "# Fonksiyonun Genel Yapısı:"
   ]
  },
  {
   "cell_type": "markdown",
   "id": "65aa4b42-2521-4347-9807-a456b3213982",
   "metadata": {},
   "source": [
    "<span style=\"font-family: 'Arial', sans-serif; font-size: 16px;\">`flatten` fonksiyonu, non-scalar veri tiplerini (liste, sözlük, tuple vb.) iç içe geçmiş hallerinden tek bir seviyede olacak şekilde düzleştirir. Bu fonksiyon, verilen nesnenin türüne (liste, sözlük veya tuple) göre farklı işlemler yapar ve bu işlemler sonucunda:</span>\n",
    "<br>\n",
    "<ul>\n",
    "    <li style=\"font-family: 'Arial', sans-serif; font-size: 16px;\">İç içe geçmiş listeleri tek bir düz listeye dönüştürür.</li>\n",
    "    <li style=\"font-family: 'Arial', sans-serif; font-size: 16px;\">İç içe geçmiş sözlükleri düzleştirilmiş bir sözlüğe çevirir.</li>\n",
    "    <li style=\"font-family: 'Arial', sans-serif; font-size: 16px;\">İç içe geçmiş tuple'ları düzleştirilmiş bir tuple'a dönüştürür.</li>\n",
    "</ul>"
   ]
  },
  {
   "cell_type": "markdown",
   "id": "6f4d3705-a5f6-4127-a72f-394b3b844cdb",
   "metadata": {},
   "source": [
    "<span style=\"font-family: 'Arial', sans-serif; font-size: 16px;\">**1-Liste İçin Çalışma Mantığı:**</span>"
   ]
  },
  {
   "cell_type": "markdown",
   "id": "be9a136f-d05d-4662-9c6e-4ebcc9e821f3",
   "metadata": {},
   "source": [
    "<span style=\"font-family: 'Arial', sans-serif; font-size: 16px;\">Fonksiyon, verilen nesnenin bir liste olup olmadığını kontrol eder. Eğer nesne bir liste ise, bu listeyi düzleştirir. İç içe geçmiş listelerdeki tüm öğeleri tek bir seviyede toplar.</span>"
   ]
  },
  {
   "cell_type": "code",
   "execution_count": null,
   "id": "179b6b1a-f0bd-4ee6-b999-ea44f7af2666",
   "metadata": {},
   "outputs": [],
   "source": [
    "def flatten(obj, parent_key='', sep='_'):                                                     \n",
    "\n",
    "    if isinstance(obj, list):                                                                  # Eğer obj bir liste ise\n",
    "        \n",
    "        flat_list = []                                                                         # Düzleştirilmiş listeyi tutmak için boş bir liste oluştur\n",
    "        \n",
    "        for item in obj:                                                                       # Listenin her bir öğesi üzerinde döngü yap\n",
    "            \n",
    "            if isinstance(item, list)                                                          # obj elemanlarının içinde list elemanı varsa\n",
    "            \n",
    "                flat_list.extend(flatten(item))                                                # Bu öğeyi düzleştir ve sonuçları flat_list'e ekle flatten([[3,4,5]6,7]) => output [3,4,5,6,7]\n",
    "            else:\n",
    "                flat_list.append(item)                                                         # Değilse, öğeyi doğrudan flat_list'e ekle\n",
    "            \n",
    "        return flat_list                                                                       # Düzleştirilmiş listeyi döndür"
   ]
  },
  {
   "cell_type": "markdown",
   "id": "30aae4aa-12e1-4833-b4aa-6e17bc16dfa7",
   "metadata": {},
   "source": [
    "<span style=\"font-family: 'Arial', sans-serif; font-size: 16px;\"> \n",
    "<strong>Örnek:</strong></span>\n",
    "<br><br>\n",
    "<span style=\"font-family: 'Arial', sans-serif; font-size: 16px;\"> \n",
    "<strong>Verilen liste:</strong> [[1, 2], [3, 4], [5, 6, 7]]</span>\n",
    "<br><br>\n",
    "<span style=\"font-family: 'Arial', sans-serif; font-size: 16px;\"> \n",
    "<strong>Fonksiyon çağrısı: </strong>flatten(input_list)</span>\n",
    "<br><br>\n",
    "<span style=\"font-family: 'Arial', sans-serif; font-size: 16px;\"> \n",
    "<strong>Bu işlem sonucunda:</strong></span>\n",
    "<br>\n",
    "<span style=\"font-family: 'Arial', sans-serif; font-size: 16px;\"> Girdi olarak verilen iç içe geçmiş liste,\n",
    "<strong> [1, 2, 3, 4, 5, 6, 7]</strong> şeklinde tek bir düz listeye dönüştürülür.</span>"
   ]
  },
  {
   "cell_type": "markdown",
   "id": "16541cbf-c7b8-4c80-9c41-adafc3fbdd54",
   "metadata": {},
   "source": [
    "<span style=\"font-family: 'Arial', sans-serif; font-size: 16px;\">**2-Sözlük İçin Çalışma Mantığı:**</span>"
   ]
  },
  {
   "cell_type": "markdown",
   "id": "dd40c7bd-b936-4436-abd6-84de02d0a1f5",
   "metadata": {},
   "source": [
    "<span style=\"font-family: 'Arial', sans-serif; font-size: 16px;\">Fonksiyon, verilen nesnenin bir sözlük olup olmadığını kontrol eder. Eğer nesne bir sözlük ise, bu sözlüğü düzleştirir. İç içe geçmiş sözlüklerdeki anahtarları birleştirerek tek bir seviyede toplar.</span>"
   ]
  },
  {
   "cell_type": "code",
   "execution_count": null,
   "id": "668c601b-e5d5-4d41-9a83-2545106c739c",
   "metadata": {},
   "outputs": [],
   "source": [
    "def flatten(obj, parent_key='', sep='_'):\n",
    "    \n",
    "    if isinstance(obj, dict):                                                         # Eğer obj bir sözlük ise\n",
    "        \n",
    "        flat_dict = []                                                                # Düzleştirilmiş sözlüğü tutmak için boş bir liste oluştur\n",
    "        \n",
    "        for k, v in obj.items():                                                      # Sözlüğün her bir anahtar-değer çifti üzerinde döngü yap\n",
    "            \n",
    "            new_key = parent_key + sep + k if parent_key else k                       # Yeni anahtar oluştur\n",
    "            \n",
    "            if isinstance(v, dict):                                                   # Eğer değer başka bir sözlük ise\n",
    "                \n",
    "                flat_dict.extend(flatten(v, new_key, sep=sep).items())                # Değeri düzleştir ve sonuçları flat_dict'e ekle flatten({\"a\": 10, \"b\": 20 \"c\": {\"d\": 30, \"e\":40}) => [\"a\": 10, \"b\": 20, \"c_d\": 30, \"c_e\": 40]\n",
    "                \n",
    "            else:\n",
    "                flat_dict.append((new_key, v))                                        # Değilse, anahtar ve değeri flat_dict'e ekle\n",
    "                \n",
    "        return dict(flat_dict)                                                        # Düzleştirilmiş sözlüğü döndür"
   ]
  },
  {
   "cell_type": "markdown",
   "id": "4ecff5e1-f18d-4424-ac3d-c0c0d9d7b95f",
   "metadata": {},
   "source": [
    "<div style=\"float: right; background-color: #333; padding: 5px; border: 1px solid #ccc; height: 350px; width: 900px;\">\n",
    "    <h3 style=\"color: #c0c0c0;\">Not Kutusu</h3>\n",
    "    <span style=\"font-family: 'Arial', sans-serif; font-size: 16px;\"> \n",
    "    <strong>items()</strong> Metodu</span>\n",
    "    <br><br>\n",
    "    <span style=\"font-family: 'Arial', sans-serif; font-size: 16px;\"> \n",
    "    <strong>items() metodu,</strong> bir sözlüğün içindeki anahtar-değer çiftlerini döndüren bir görünüm nesnesi oluşturur. Bu görünüm nesnesi, sözlüğün anahtar-değer çiftlerini içeren bir liste görünümü sunar. Bu metot, genellikle bir sözlüğün hem anahtarlarını hem de değerlerini aynı anda işlemek istediğinizde kullanılır.</span>\n",
    "    <br><br>\n",
    "    <span style=\"font-family: 'Arial', sans-serif; font-size: 16px;\"> \n",
    "    <strong>Kullanımı: </strong></span>\n",
    "    <br>\n",
    "    <span style=\"font-family: 'Arial', sans-serif; font-size: 16px;\"> \n",
    "    <strong>my_dict =</strong> {'a': 1, 'b': 2, 'c': 3}</span>\n",
    "    <br>\n",
    "    <span style=\"font-family: 'Arial', sans-serif; font-size: 16px;\"> \n",
    "    <strong>items_list =</strong> list(my_dict.items())</span>\n",
    "    <br>\n",
    "    <span style=\"font-family: 'Arial', sans-serif; font-size: 16px;\"> Bu kod, sözlüğün içindeki anahtar-değer çiftlerini bir liste içinde yazdırır.</span>\n",
    "    <br><br>\n",
    "    <span style=\"font-family: 'Arial', sans-serif; font-size: 16px;\"><strong> Örnek Çıktı:</strong> [('a', 1), ('b', 2), ('c', 3)]</span>\n",
    "</div>"
   ]
  },
  {
   "cell_type": "markdown",
   "id": "a1f75a47-a32a-4213-b84b-19cca7c4d1e2",
   "metadata": {},
   "source": [
    "<span style=\"font-family: 'Arial', sans-serif; font-size: 16px;\"> \n",
    "<strong>Örnek:</strong></span>\n",
    "<br><br>\n",
    "<span style=\"font-family: 'Arial', sans-serif; font-size: 16px;\"> \n",
    "<strong>Verilen sözlük:</strong> {'a': 1, 'b': {'c': 2}, 'd': {'e': 3, 'f': 4, \"p\": {\"l\": 10, \"k\": 50}}}</span>\n",
    "<br><br>\n",
    "<span style=\"font-family: 'Arial', sans-serif; font-size: 16px;\"> \n",
    "<strong>Fonksiyon çağrısı: </strong>flatten(input_dict)</span>\n",
    "<br><br>\n",
    "<span style=\"font-family: 'Arial', sans-serif; font-size: 16px;\"> \n",
    "<strong>Bu işlem sonucunda:</strong></span>\n",
    "<br>\n",
    "<span style=\"font-family: 'Arial', sans-serif; font-size: 16px;\"> Girdi olarak verilen iç içe geçmiş sözlük,\n",
    "<strong> {'a': 1, 'b_c': 2, 'd_e': 3, 'd_f': 4, 'd_p_l': 10, 'd_p_k': 50}</strong> eklinde düzleştirilmiş bir sözlüğe dönüştürülür.</span>"
   ]
  },
  {
   "cell_type": "markdown",
   "id": "83ddd34c-9972-4db9-9154-7d920bfa436d",
   "metadata": {},
   "source": [
    "<span style=\"font-family: 'Arial', sans-serif; font-size: 16px;\">**3-Tuple İçin Çalışma Mantığı**</span>"
   ]
  },
  {
   "cell_type": "markdown",
   "id": "a281f1da-211a-48c8-9f2a-4c6f2fa010e9",
   "metadata": {},
   "source": [
    "<span style=\"font-family: 'Arial', sans-serif; font-size: 16px;\">Fonksiyon, verilen nesnenin bir tuple olup olmadığını kontrol eder. Eğer nesne bir tuple ise, bu tuple'ı düzleştirir. İç içe geçmiş tuple'lardaki tüm öğeleri tek bir seviyede toplar.</span>"
   ]
  },
  {
   "cell_type": "code",
   "execution_count": null,
   "id": "87226ddd-d36e-4681-8b33-4ea015e54a4f",
   "metadata": {},
   "outputs": [],
   "source": [
    "<span style=\"font-family: 'Arial', sans-serif; font-size: 16px;\">def flatten(obj, parent_key='', sep='_'):\n",
    "\n",
    "    if isinstance(obj, tuple):                                                                              # Eğer obj bir tuple ise \n",
    "        \n",
    "        flat_tuple = []                                                                                     # Düzleştirilmiş tuple'ı tutmak için boş bir liste oluştur\n",
    "        \n",
    "        for item in obj:                                                                                    # Tuple'ın her bir öğesi üzerinde döngü yap\n",
    "            \n",
    "            if isinstance(item, tuple):                                                                     # obj elemanlarının tuple olup olmadığı controlü\n",
    "                \n",
    "                flat_tuple.extend(flatten(item))                                                            # Öğeyi düzleştir ve sonuçları flat_tuple'a ekle\n",
    "            else:\n",
    "                flat_tuple.append(item)                                                                     # Değilse, öğeyi doğrudan flat_tuple'a ekle\n",
    "                \n",
    "        return tuple(flat_tuple)                                                                            # Düzleştirilmiş tuple'ı döndür</span>"
   ]
  },
  {
   "cell_type": "markdown",
   "id": "dca5b30e-1ac6-44ae-9731-b44c2e38eb67",
   "metadata": {},
   "source": [
    "<span style=\"font-family: 'Arial', sans-serif; font-size: 16px;\"><span style=\"font-family: 'Arial', sans-serif; font-size: 16px;\"> \n",
    "<strong>Örnek:</strong></span>\n",
    "<br><br>\n",
    "<span style=\"font-family: 'Arial', sans-serif; font-size: 16px;\"> \n",
    "<strong>Verilen tuple:</strong> ((1, 2), (3, (4, 5)), ((6, 7), 8), 9)</span>\n",
    "<br><br>\n",
    "<span style=\"font-family: 'Arial', sans-serif; font-size: 16px;\"> \n",
    "<strong>Fonksiyon çağrısı: </strong>flatten(input_tuple)</span>\n",
    "<br><br>\n",
    "<span style=\"font-family: 'Arial', sans-serif; font-size: 16px;\"> \n",
    "<strong>Bu işlem sonucunda:</strong></span>\n",
    "<br>\n",
    "<span style=\"font-family: 'Arial', sans-serif; font-size: 16px;\"> Girdi olarak verilen iç içe geçmiş tuple,\n",
    "<strong> (1, 2, 3, 4, 5, 6, 7, 8, 9)</strong> şeklinde tek bir düz tuple'a dönüştürülür.</span></span>"
   ]
  }
 ],
 "metadata": {
  "kernelspec": {
   "display_name": "Python 3 (ipykernel)",
   "language": "python",
   "name": "python3"
  },
  "language_info": {
   "codemirror_mode": {
    "name": "ipython",
    "version": 3
   },
   "file_extension": ".py",
   "mimetype": "text/x-python",
   "name": "python",
   "nbconvert_exporter": "python",
   "pygments_lexer": "ipython3",
   "version": "3.12.3"
  }
 },
 "nbformat": 4,
 "nbformat_minor": 5
}
