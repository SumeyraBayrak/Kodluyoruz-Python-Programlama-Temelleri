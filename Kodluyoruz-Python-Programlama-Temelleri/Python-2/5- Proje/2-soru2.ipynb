{
 "cells": [
  {
   "cell_type": "markdown",
   "id": "a7599897-c61a-418d-b8e9-e26054929f8f",
   "metadata": {},
   "source": [
    "# Liste Elemanlarını Tersine Çeviren Fonksiyon"
   ]
  },
  {
   "cell_type": "code",
   "execution_count": 7,
   "id": "d0f02831-bb00-48e6-b370-778dacc93dd9",
   "metadata": {},
   "outputs": [],
   "source": [
    "def reverse_list(lst):\n",
    "    \n",
    "    reversed_list = []                            # Tersine çevrilmiş öğelerin depolanacağı liste     \n",
    "    \n",
    "    for elem in lst[::-1]:                        # Listenin tersinden başlayarak elemanları döngüye al\n",
    "        \n",
    "        if isinstance(elem, list):                # Eğer eleman bir liste ise\n",
    "            \n",
    "            reversed_list.append(reverse_list(elem))             # İç içe geçmiş listeyi tersine çevirip reversed_list'e ekle\n",
    "            \n",
    "        else:                                                     \n",
    "            reversed_list.append(elem)                           # Eleman bir liste değilse doğrudan reversed_list'e ekle\n",
    "    \n",
    "    return reversed_list\n"
   ]
  },
  {
   "cell_type": "code",
   "execution_count": 9,
   "id": "0b981a34-91e1-4cbd-9ed8-12f4fd11e3ca",
   "metadata": {},
   "outputs": [
    {
     "name": "stdout",
     "output_type": "stream",
     "text": [
      "[7, [7, 6, 5], [4, 3], [2, 1]]\n"
     ]
    }
   ],
   "source": [
    "original_list = [[1, 2], [3, 4], [5, 6, 7], 7] \n",
    "reversed_result = reverse_list(original_list)\n",
    "print(reversed_result)"
   ]
  },
  {
   "cell_type": "markdown",
   "id": "e4035ffe-2282-4962-9df3-b4a68f1c7886",
   "metadata": {},
   "source": [
    "## `reverse_list` Foksiyonunun Genel Yapısı"
   ]
  },
  {
   "cell_type": "markdown",
   "id": "2bf13c48-bfea-4269-aea4-a5b0e5286fa9",
   "metadata": {},
   "source": [
    "<p style=\"font-family: 'Arial', sans-serif; font-size: 16px;\">Bu Python kodunda, bir liste verildiğinde, bu listenin elemanlarını tersine çeviren bir fonksiyon tanımladık. Fonksiyon, iç içe geçmiş listeleri de dikkate alarak tüm listeyi tersine çevirir.</p>\n",
    "\n",
    "<ol style=\"font-family: 'Arial', sans-serif; font-size: 16px;\">\n",
    "    <li><strong>Fonksiyon Tanımlama:</strong> İlk olarak, <code>reverse_list</code> adında bir fonksiyon tanımladık. Bu fonksiyon, bir liste alacak şekilde oluşturuldu.</li>\n",
    "    <li><strong>Tersine Çevrilen Liste:</strong> Listenin elemanlarını tersine çevirmek için bir boş liste (<code>reversed_list</code>) oluşturduk. Bu liste, sonuçları depolamak için kullanılacak.</li>\n",
    "    <li><strong>Elemanların Tersine Çevrilmesi:</strong> Listenin her elemanını tersine çevirmek için bir döngü oluşturduk. Bu döngü, listenin son elemanından başlayarak ilk elemanına kadar geriye doğru ilerler.</li>\n",
    "    <li><strong>Alt Listelerin İşlenmesi:</strong> Eğer eleman bir liste ise, bu alt listeyi de tersine çevirmek için aynı fonksiyonu tekrar çağırdık. Bu işlem, iç içe geçmiş listelerin düzgün bir şekilde tersine çevrilmesini sağlar.</li>\n",
    "    <li><strong>Elemanların Eklenmesi:</strong> Eleman bir liste değilse, doğrudan tersine çevrilen liste (<code>reversed_list</code>) listesine eklenir.</li>\n",
    "    <li><strong>Sonuç Döndürme:</strong> Tüm elemanlar tersine çevrildikten sonra, tersine çevrilen liste (<code>reversed_list</code>) fonksiyon tarafından döndürülür.</li>\n",
    "</ol>\n",
    "\n",
    "<p style=\"font-family: 'Arial', sans-serif; font-size: 16px;\">Ayrıca, kodun her adımında anlaşılır olması için uygun açıklamalar ekledik. Bu sayede, kodun ne yaptığı daha net bir şekilde anlaşılabilir hale getirilmiştir.</p>\n",
    "\n",
    "<p style=\"font-family: 'Arial', sans-serif; font-size: 16px;\">Örnek kullanımda, orijinal bir liste oluşturduk ve bu listenin tersine çevrilmesi için fonksiyonu kullandık. Böylelikle, fonksiyonun doğru çalıştığını ve istenen sonucu verdiğini gösterdik.</p>\n",
    "\n",
    "<p style=\"font-family: 'Arial', sans-serif; font-size: 16px;\">Sonuç olarak, bu fonksiyon, bir listenin elemanlarını iç içe geçmiş listeleri de dikkate alarak tersine çevirmek için kullanışlı bir araçtır.</p>"
   ]
  }
 ],
 "metadata": {
  "kernelspec": {
   "display_name": "Python 3 (ipykernel)",
   "language": "python",
   "name": "python3"
  },
  "language_info": {
   "codemirror_mode": {
    "name": "ipython",
    "version": 3
   },
   "file_extension": ".py",
   "mimetype": "text/x-python",
   "name": "python",
   "nbconvert_exporter": "python",
   "pygments_lexer": "ipython3",
   "version": "3.12.3"
  }
 },
 "nbformat": 4,
 "nbformat_minor": 5
}
